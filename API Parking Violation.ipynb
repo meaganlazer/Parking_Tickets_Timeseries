{
 "cells": [
  {
   "cell_type": "markdown",
   "metadata": {},
   "source": [
    "# Imports"
   ]
  },
  {
   "cell_type": "code",
   "execution_count": 3,
   "metadata": {},
   "outputs": [],
   "source": [
    "# Import standard libraries\n",
    "import pandas as pd\n",
    "import seaborn as sns\n",
    "import numpy as np\n",
    "import matplotlib.pyplot as plt\n",
    "%matplotlib inline\n",
    "\n",
    "# API\n",
    "import requests\n",
    "import json\n",
    "import os\n",
    "\n",
    "# Date\n",
    "import datetime as datetime\n",
    "from sodapy import Socrata"
   ]
  },
  {
   "cell_type": "markdown",
   "metadata": {},
   "source": [
    "## API Call: NYC Parking Tickets"
   ]
  },
  {
   "cell_type": "code",
   "execution_count": 4,
   "metadata": {},
   "outputs": [],
   "source": [
    "# Export sodapy token\n",
    "\n",
    "socrata_domain = 'data.cityofnewyork.us'\n",
    "socrata_dataset_identifier = 'nc67-uf89'\n",
    "socrata_token = os.environ.get(\"SODAPY_APPTOKEN\")"
   ]
  },
  {
   "cell_type": "code",
   "execution_count": 5,
   "metadata": {
    "scrolled": true
   },
   "outputs": [
    {
     "name": "stderr",
     "output_type": "stream",
     "text": [
      "WARNING:root:Requests made without an app_token will be subject to strict throttling limits.\n"
     ]
    },
    {
     "name": "stdout",
     "output_type": "stream",
     "text": [
      "Domain: {domain:}\n",
      "Session: {session:}\n",
      "URI Prefix: {uri_prefix:}\n"
     ]
    }
   ],
   "source": [
    "client = Socrata(socrata_domain, socrata_token)\n",
    "print(\"Domain: {domain:}\\nSession: {session:}\\nURI Prefix: {uri_prefix:}\")\n",
    "# .format(**client.__dict__)"
   ]
  },
  {
   "cell_type": "code",
   "execution_count": 6,
   "metadata": {},
   "outputs": [
    {
     "data": {
      "text/plain": [
       "['Plate',\n",
       " 'State',\n",
       " 'License Type',\n",
       " 'Summons Number',\n",
       " 'Issue Date',\n",
       " 'Violation Time',\n",
       " 'Violation',\n",
       " 'Judgment Entry Date',\n",
       " 'Fine Amount',\n",
       " 'Penalty Amount',\n",
       " 'Interest Amount',\n",
       " 'Reduction Amount',\n",
       " 'Payment Amount',\n",
       " 'Amount Due',\n",
       " 'Precinct',\n",
       " 'County',\n",
       " 'Issuing Agency',\n",
       " 'Violation Status',\n",
       " 'Summons Image']"
      ]
     },
     "execution_count": 6,
     "metadata": {},
     "output_type": "execute_result"
    }
   ],
   "source": [
    "#Identify all columns available in dataset\n",
    "\n",
    "metadata = client.get_metadata(socrata_dataset_identifier)\n",
    "[x['name'] for x in metadata['columns']]"
   ]
  },
  {
   "cell_type": "code",
   "execution_count": 7,
   "metadata": {},
   "outputs": [
    {
     "data": {
      "text/html": [
       "<div>\n",
       "<style scoped>\n",
       "    .dataframe tbody tr th:only-of-type {\n",
       "        vertical-align: middle;\n",
       "    }\n",
       "\n",
       "    .dataframe tbody tr th {\n",
       "        vertical-align: top;\n",
       "    }\n",
       "\n",
       "    .dataframe thead th {\n",
       "        text-align: right;\n",
       "    }\n",
       "</style>\n",
       "<table border=\"1\" class=\"dataframe\">\n",
       "  <thead>\n",
       "    <tr style=\"text-align: right;\">\n",
       "      <th></th>\n",
       "      <th>Plate</th>\n",
       "      <th>State</th>\n",
       "      <th>Issue_Date</th>\n",
       "      <th>Violation_Time</th>\n",
       "      <th>Fine_Amount</th>\n",
       "      <th>Amount_Due</th>\n",
       "      <th>Payment_Amount</th>\n",
       "      <th>Precinct</th>\n",
       "      <th>County</th>\n",
       "    </tr>\n",
       "  </thead>\n",
       "  <tbody>\n",
       "    <tr>\n",
       "      <th>0</th>\n",
       "      <td>HTE1892</td>\n",
       "      <td>NY</td>\n",
       "      <td>03/06/2020</td>\n",
       "      <td>09:13A</td>\n",
       "      <td>65</td>\n",
       "      <td>65</td>\n",
       "      <td>0</td>\n",
       "      <td>044</td>\n",
       "      <td>BX</td>\n",
       "    </tr>\n",
       "    <tr>\n",
       "      <th>1</th>\n",
       "      <td>556749R</td>\n",
       "      <td>NJ</td>\n",
       "      <td>03/06/2020</td>\n",
       "      <td>09:11A</td>\n",
       "      <td>65</td>\n",
       "      <td>65</td>\n",
       "      <td>0</td>\n",
       "      <td>044</td>\n",
       "      <td>BX</td>\n",
       "    </tr>\n",
       "    <tr>\n",
       "      <th>2</th>\n",
       "      <td>99940ML</td>\n",
       "      <td>NY</td>\n",
       "      <td>03/06/2020</td>\n",
       "      <td>09:09A</td>\n",
       "      <td>65</td>\n",
       "      <td>65</td>\n",
       "      <td>0</td>\n",
       "      <td>044</td>\n",
       "      <td>BX</td>\n",
       "    </tr>\n",
       "    <tr>\n",
       "      <th>3</th>\n",
       "      <td>99867ML</td>\n",
       "      <td>NY</td>\n",
       "      <td>03/06/2020</td>\n",
       "      <td>09:08A</td>\n",
       "      <td>65</td>\n",
       "      <td>65</td>\n",
       "      <td>0</td>\n",
       "      <td>044</td>\n",
       "      <td>BX</td>\n",
       "    </tr>\n",
       "    <tr>\n",
       "      <th>4</th>\n",
       "      <td>JNR5500</td>\n",
       "      <td>NY</td>\n",
       "      <td>03/06/2020</td>\n",
       "      <td>08:27A</td>\n",
       "      <td>65</td>\n",
       "      <td>65</td>\n",
       "      <td>0</td>\n",
       "      <td>044</td>\n",
       "      <td>BX</td>\n",
       "    </tr>\n",
       "  </tbody>\n",
       "</table>\n",
       "</div>"
      ],
      "text/plain": [
       "     Plate State  Issue_Date Violation_Time Fine_Amount Amount_Due  \\\n",
       "0  HTE1892    NY  03/06/2020         09:13A          65         65   \n",
       "1  556749R    NJ  03/06/2020         09:11A          65         65   \n",
       "2  99940ML    NY  03/06/2020         09:09A          65         65   \n",
       "3  99867ML    NY  03/06/2020         09:08A          65         65   \n",
       "4  JNR5500    NY  03/06/2020         08:27A          65         65   \n",
       "\n",
       "  Payment_Amount Precinct County  \n",
       "0              0      044     BX  \n",
       "1              0      044     BX  \n",
       "2              0      044     BX  \n",
       "3              0      044     BX  \n",
       "4              0      044     BX  "
      ]
     },
     "execution_count": 7,
     "metadata": {},
     "output_type": "execute_result"
    }
   ],
   "source": [
    "#Pull API. Limit number is based on previously identified as the number of street parking violations from the total 50m rows of data\n",
    "\n",
    "results = client.get(socrata_dataset_identifier,\\\n",
    "                     select=('Plate, State,Issue_Date,Violation_Time,Fine_Amount,Amount_Due,Payment_Amount,\\\n",
    "                     Precinct,County'),\\\n",
    "                     where =\"(violation='NO PARKING-STREET CLEANING')\",\\\n",
    "#                     limit=10000)\n",
    "                     limit=6766400)\n",
    "results_df = pd.DataFrame.from_dict(results)\n",
    "results_df.head()"
   ]
  },
  {
   "cell_type": "code",
   "execution_count": 8,
   "metadata": {
    "scrolled": true
   },
   "outputs": [
    {
     "data": {
      "text/plain": [
       "(6766400, 9)"
      ]
     },
     "execution_count": 8,
     "metadata": {},
     "output_type": "execute_result"
    }
   ],
   "source": [
    "results_df.shape"
   ]
  },
  {
   "cell_type": "markdown",
   "metadata": {},
   "source": [
    "# Data Analysis"
   ]
  },
  {
   "cell_type": "code",
   "execution_count": 9,
   "metadata": {},
   "outputs": [],
   "source": [
    "violation_df = results_df.copy()"
   ]
  },
  {
   "cell_type": "markdown",
   "metadata": {},
   "source": [
    "## Data Cleaning"
   ]
  },
  {
   "cell_type": "code",
   "execution_count": 10,
   "metadata": {},
   "outputs": [
    {
     "data": {
      "text/html": [
       "<div>\n",
       "<style scoped>\n",
       "    .dataframe tbody tr th:only-of-type {\n",
       "        vertical-align: middle;\n",
       "    }\n",
       "\n",
       "    .dataframe tbody tr th {\n",
       "        vertical-align: top;\n",
       "    }\n",
       "\n",
       "    .dataframe thead th {\n",
       "        text-align: right;\n",
       "    }\n",
       "</style>\n",
       "<table border=\"1\" class=\"dataframe\">\n",
       "  <thead>\n",
       "    <tr style=\"text-align: right;\">\n",
       "      <th></th>\n",
       "      <th>Plate</th>\n",
       "      <th>State</th>\n",
       "      <th>Issue_Date</th>\n",
       "      <th>Violation_Time</th>\n",
       "      <th>Fine_Amount</th>\n",
       "      <th>Amount_Due</th>\n",
       "      <th>Payment_Amount</th>\n",
       "      <th>Precinct</th>\n",
       "      <th>County</th>\n",
       "    </tr>\n",
       "  </thead>\n",
       "  <tbody>\n",
       "    <tr>\n",
       "      <th>0</th>\n",
       "      <td>HTE1892</td>\n",
       "      <td>NY</td>\n",
       "      <td>03/06/2020</td>\n",
       "      <td>09:13A</td>\n",
       "      <td>65</td>\n",
       "      <td>65</td>\n",
       "      <td>0</td>\n",
       "      <td>044</td>\n",
       "      <td>BX</td>\n",
       "    </tr>\n",
       "    <tr>\n",
       "      <th>1</th>\n",
       "      <td>556749R</td>\n",
       "      <td>NJ</td>\n",
       "      <td>03/06/2020</td>\n",
       "      <td>09:11A</td>\n",
       "      <td>65</td>\n",
       "      <td>65</td>\n",
       "      <td>0</td>\n",
       "      <td>044</td>\n",
       "      <td>BX</td>\n",
       "    </tr>\n",
       "    <tr>\n",
       "      <th>2</th>\n",
       "      <td>99940ML</td>\n",
       "      <td>NY</td>\n",
       "      <td>03/06/2020</td>\n",
       "      <td>09:09A</td>\n",
       "      <td>65</td>\n",
       "      <td>65</td>\n",
       "      <td>0</td>\n",
       "      <td>044</td>\n",
       "      <td>BX</td>\n",
       "    </tr>\n",
       "    <tr>\n",
       "      <th>3</th>\n",
       "      <td>99867ML</td>\n",
       "      <td>NY</td>\n",
       "      <td>03/06/2020</td>\n",
       "      <td>09:08A</td>\n",
       "      <td>65</td>\n",
       "      <td>65</td>\n",
       "      <td>0</td>\n",
       "      <td>044</td>\n",
       "      <td>BX</td>\n",
       "    </tr>\n",
       "    <tr>\n",
       "      <th>4</th>\n",
       "      <td>JNR5500</td>\n",
       "      <td>NY</td>\n",
       "      <td>03/06/2020</td>\n",
       "      <td>08:27A</td>\n",
       "      <td>65</td>\n",
       "      <td>65</td>\n",
       "      <td>0</td>\n",
       "      <td>044</td>\n",
       "      <td>BX</td>\n",
       "    </tr>\n",
       "  </tbody>\n",
       "</table>\n",
       "</div>"
      ],
      "text/plain": [
       "     Plate State  Issue_Date Violation_Time Fine_Amount Amount_Due  \\\n",
       "0  HTE1892    NY  03/06/2020         09:13A          65         65   \n",
       "1  556749R    NJ  03/06/2020         09:11A          65         65   \n",
       "2  99940ML    NY  03/06/2020         09:09A          65         65   \n",
       "3  99867ML    NY  03/06/2020         09:08A          65         65   \n",
       "4  JNR5500    NY  03/06/2020         08:27A          65         65   \n",
       "\n",
       "  Payment_Amount Precinct County  \n",
       "0              0      044     BX  \n",
       "1              0      044     BX  \n",
       "2              0      044     BX  \n",
       "3              0      044     BX  \n",
       "4              0      044     BX  "
      ]
     },
     "execution_count": 10,
     "metadata": {},
     "output_type": "execute_result"
    }
   ],
   "source": [
    "violation_df.head()"
   ]
  },
  {
   "cell_type": "code",
   "execution_count": 11,
   "metadata": {
    "scrolled": true
   },
   "outputs": [
    {
     "data": {
      "text/html": [
       "<div>\n",
       "<style scoped>\n",
       "    .dataframe tbody tr th:only-of-type {\n",
       "        vertical-align: middle;\n",
       "    }\n",
       "\n",
       "    .dataframe tbody tr th {\n",
       "        vertical-align: top;\n",
       "    }\n",
       "\n",
       "    .dataframe thead th {\n",
       "        text-align: right;\n",
       "    }\n",
       "</style>\n",
       "<table border=\"1\" class=\"dataframe\">\n",
       "  <thead>\n",
       "    <tr style=\"text-align: right;\">\n",
       "      <th></th>\n",
       "      <th>Plate</th>\n",
       "      <th>State</th>\n",
       "      <th>Issue_Date</th>\n",
       "      <th>Violation_Time</th>\n",
       "      <th>Fine_Amount</th>\n",
       "      <th>Amount_Due</th>\n",
       "      <th>Payment_Amount</th>\n",
       "      <th>Precinct</th>\n",
       "      <th>County</th>\n",
       "      <th>time_issued</th>\n",
       "    </tr>\n",
       "  </thead>\n",
       "  <tbody>\n",
       "    <tr>\n",
       "      <th>0</th>\n",
       "      <td>HTE1892</td>\n",
       "      <td>NY</td>\n",
       "      <td>03/06/2020</td>\n",
       "      <td>09:13A</td>\n",
       "      <td>65</td>\n",
       "      <td>65</td>\n",
       "      <td>0</td>\n",
       "      <td>044</td>\n",
       "      <td>BX</td>\n",
       "      <td>03/06/2020 09:13A</td>\n",
       "    </tr>\n",
       "    <tr>\n",
       "      <th>1</th>\n",
       "      <td>556749R</td>\n",
       "      <td>NJ</td>\n",
       "      <td>03/06/2020</td>\n",
       "      <td>09:11A</td>\n",
       "      <td>65</td>\n",
       "      <td>65</td>\n",
       "      <td>0</td>\n",
       "      <td>044</td>\n",
       "      <td>BX</td>\n",
       "      <td>03/06/2020 09:11A</td>\n",
       "    </tr>\n",
       "    <tr>\n",
       "      <th>2</th>\n",
       "      <td>99940ML</td>\n",
       "      <td>NY</td>\n",
       "      <td>03/06/2020</td>\n",
       "      <td>09:09A</td>\n",
       "      <td>65</td>\n",
       "      <td>65</td>\n",
       "      <td>0</td>\n",
       "      <td>044</td>\n",
       "      <td>BX</td>\n",
       "      <td>03/06/2020 09:09A</td>\n",
       "    </tr>\n",
       "    <tr>\n",
       "      <th>3</th>\n",
       "      <td>99867ML</td>\n",
       "      <td>NY</td>\n",
       "      <td>03/06/2020</td>\n",
       "      <td>09:08A</td>\n",
       "      <td>65</td>\n",
       "      <td>65</td>\n",
       "      <td>0</td>\n",
       "      <td>044</td>\n",
       "      <td>BX</td>\n",
       "      <td>03/06/2020 09:08A</td>\n",
       "    </tr>\n",
       "    <tr>\n",
       "      <th>4</th>\n",
       "      <td>JNR5500</td>\n",
       "      <td>NY</td>\n",
       "      <td>03/06/2020</td>\n",
       "      <td>08:27A</td>\n",
       "      <td>65</td>\n",
       "      <td>65</td>\n",
       "      <td>0</td>\n",
       "      <td>044</td>\n",
       "      <td>BX</td>\n",
       "      <td>03/06/2020 08:27A</td>\n",
       "    </tr>\n",
       "  </tbody>\n",
       "</table>\n",
       "</div>"
      ],
      "text/plain": [
       "     Plate State  Issue_Date Violation_Time Fine_Amount Amount_Due  \\\n",
       "0  HTE1892    NY  03/06/2020         09:13A          65         65   \n",
       "1  556749R    NJ  03/06/2020         09:11A          65         65   \n",
       "2  99940ML    NY  03/06/2020         09:09A          65         65   \n",
       "3  99867ML    NY  03/06/2020         09:08A          65         65   \n",
       "4  JNR5500    NY  03/06/2020         08:27A          65         65   \n",
       "\n",
       "  Payment_Amount Precinct County        time_issued  \n",
       "0              0      044     BX  03/06/2020 09:13A  \n",
       "1              0      044     BX  03/06/2020 09:11A  \n",
       "2              0      044     BX  03/06/2020 09:09A  \n",
       "3              0      044     BX  03/06/2020 09:08A  \n",
       "4              0      044     BX  03/06/2020 08:27A  "
      ]
     },
     "execution_count": 11,
     "metadata": {},
     "output_type": "execute_result"
    }
   ],
   "source": [
    "violation_df['time_issued'] = (violation_df['Issue_Date'] + ' ' + violation_df['Violation_Time'])\n",
    "violation_df.head()"
   ]
  },
  {
   "cell_type": "code",
   "execution_count": null,
   "metadata": {},
   "outputs": [],
   "source": [
    "violation_df['time_issued']=pd.to_datetime(violation_df['time_issued'], errors='coerce')\n",
    "violation_df.head(10)"
   ]
  },
  {
   "cell_type": "code",
   "execution_count": null,
   "metadata": {},
   "outputs": [],
   "source": [
    "violation_df.drop(['Violation_Time', 'Issue_Date'], axis=1, inplace=True)\n",
    "violation_df.loc[violation_df['time_issued']=='NaT', 'time_issued']= np.nan \n",
    "violation_df.dropna(inplace = True)"
   ]
  },
  {
   "cell_type": "code",
   "execution_count": null,
   "metadata": {},
   "outputs": [],
   "source": [
    "violation_df['Precinct'] = violation_df['Precinct'].astype(float)\n",
    "violation_df['Fine_Amount'] = violation_df['Fine_Amount'].astype(float)\n",
    "violation_df['Amount_Due'] = violation_df['Amount_Due'].astype(float)\n",
    "violation_df['Payment_Amount'] = violation_df['Amount_Due'].astype(float)"
   ]
  },
  {
   "cell_type": "code",
   "execution_count": null,
   "metadata": {},
   "outputs": [],
   "source": [
    "violation_df.loc[violation_df['Precinct']>123, 'Precinct']= np.nan \n",
    "violation_df.dropna(inplace = True)"
   ]
  },
  {
   "cell_type": "code",
   "execution_count": null,
   "metadata": {},
   "outputs": [],
   "source": [
    "violation_df.shape"
   ]
  },
  {
   "cell_type": "code",
   "execution_count": null,
   "metadata": {},
   "outputs": [],
   "source": [
    "violation_df.info()"
   ]
  },
  {
   "cell_type": "code",
   "execution_count": null,
   "metadata": {},
   "outputs": [],
   "source": [
    "violation_df.loc[violation_df['time_issued']>'2019-12-31 12:00:00', 'time_issued']= np.nan\n",
    "violation_df.loc[violation_df['time_issued']<'2017-01-01 12:00:00', 'time_issued']= np.nan\n",
    "violation_df.dropna(inplace = True)"
   ]
  },
  {
   "cell_type": "code",
   "execution_count": null,
   "metadata": {},
   "outputs": [],
   "source": [
    "min(violation_df['time_issued'])"
   ]
  },
  {
   "cell_type": "code",
   "execution_count": null,
   "metadata": {},
   "outputs": [],
   "source": [
    "max(violation_df['time_issued'])"
   ]
  },
  {
   "cell_type": "code",
   "execution_count": null,
   "metadata": {},
   "outputs": [],
   "source": [
    "violation_df.shape"
   ]
  },
  {
   "cell_type": "code",
   "execution_count": null,
   "metadata": {},
   "outputs": [],
   "source": [
    "# move cols\n",
    "\n",
    "violation_df = violation_df[[ 'Plate','time_issued', 'Fine_Amount', 'Amount_Due', 'Payment_Amount',\n",
    "       'Precinct', 'County', 'State']]\n",
    "violation_df.head()"
   ]
  },
  {
   "cell_type": "code",
   "execution_count": null,
   "metadata": {},
   "outputs": [],
   "source": [
    "violation_df['weekday'] = violation_df['time_issued'].dt.weekday\n",
    "county_dummies = pd.get_dummies(violation_df['County'], prefix='County')\n",
    "weekday_dummies = pd.get_dummies(violation_df['weekday'], prefix='weekday')\n",
    "violation_df = pd.concat([violation_df, county_dummies, weekday_dummies], axis=1)\n",
    "violation_df.drop(columns =['County','weekday'], inplace=True)\n",
    "violation_df.columns"
   ]
  },
  {
   "cell_type": "code",
   "execution_count": null,
   "metadata": {},
   "outputs": [],
   "source": [
    "violation_df.rename(columns={'County_BX':'Bronx', 'County_K':'Brooklyn', \\\n",
    "                             'County_NY':'Manhattan', 'County_Q':'Queens', \\\n",
    "                             'County_R':'Staten_Island'}, inplace=True)"
   ]
  },
  {
   "cell_type": "code",
   "execution_count": null,
   "metadata": {},
   "outputs": [],
   "source": [
    "#Clean this up later\n",
    "\n",
    "violation_df.loc[violation_df['State'] =='NY', 'State']= 1\n",
    "\n",
    "out_of_state = {'FL':0, 'NJ':0, 'MI':0, 'RI':0, 'PA':0, 'VA':0, 'ME':0, 'CT':0, 'NC':0, 'AL':0,\n",
    "       'TX':0, 'IL':0, 'MA':0, 'WI':0, 'IN':0, 'GV':0, 'NH':0, 'OH':0, '99':0, 'AZ':0, 'CA':0,\n",
    "       'SC':0, 'LA':0, 'GA':0, 'VT':0, 'OR':0, 'MD':0, 'SD':0, 'MO':0, 'DE':0, 'WV':0, 'OK':0,\n",
    "       'ON':0, 'CO':0, 'AR':0, 'AK':0, 'QB':0, 'WA':0, 'MT':0, 'NV':0, 'UT':0, 'TN':0, 'DC':0, 'YT':0,\n",
    "       'NE':0, 'KY':0, 'IA':0, 'MN':0, 'ID':0, 'KS':0, 'ND':0, 'MS':0, 'NM':0, 'WY':0, 'HI':0, 'NF':0,\n",
    "       'MX':0, 'DP':0, 'AB':0, 'NS':0, 'BC':0, 'PR':0, 'NB':0, 'FO':0, 'MB':0, 'PE':0, 'SK':0, 'NT':0}\n",
    "\n",
    "violation_df['State'].replace(out_of_state, inplace = True)\n",
    "violation_df['State'].value_counts()"
   ]
  },
  {
   "cell_type": "code",
   "execution_count": null,
   "metadata": {},
   "outputs": [],
   "source": [
    "violation_df.rename(columns={'Precinct':'precinct'}, inplace=True)\n",
    "violation_df.head()"
   ]
  },
  {
   "cell_type": "code",
   "execution_count": null,
   "metadata": {},
   "outputs": [],
   "source": [
    "zero_dict = {0: np.nan}\n",
    "violation_df['precinct'].replace(zero_dict, inplace = True)\n",
    "violation_df.dropna(inplace = True)\n",
    "\n",
    "violation_df.info()"
   ]
  },
  {
   "cell_type": "code",
   "execution_count": null,
   "metadata": {},
   "outputs": [],
   "source": [
    "sns.heatmap(violation_df.isnull(), cbar=False)"
   ]
  },
  {
   "cell_type": "code",
   "execution_count": null,
   "metadata": {},
   "outputs": [],
   "source": [
    "violation_df.head()"
   ]
  },
  {
   "cell_type": "code",
   "execution_count": null,
   "metadata": {},
   "outputs": [],
   "source": [
    "violation_df.to_csv('ParkingTickets_Data_Raw.csv')"
   ]
  }
 ],
 "metadata": {
  "kernelspec": {
   "display_name": "Python 3",
   "language": "python",
   "name": "python3"
  },
  "language_info": {
   "codemirror_mode": {
    "name": "ipython",
    "version": 3
   },
   "file_extension": ".py",
   "mimetype": "text/x-python",
   "name": "python",
   "nbconvert_exporter": "python",
   "pygments_lexer": "ipython3",
   "version": "3.8.2"
  },
  "toc": {
   "base_numbering": 1,
   "nav_menu": {},
   "number_sections": true,
   "sideBar": true,
   "skip_h1_title": false,
   "title_cell": "Table of Contents",
   "title_sidebar": "Contents",
   "toc_cell": false,
   "toc_position": {
    "height": "calc(100% - 180px)",
    "left": "10px",
    "top": "150px",
    "width": "235.764px"
   },
   "toc_section_display": true,
   "toc_window_display": true
  }
 },
 "nbformat": 4,
 "nbformat_minor": 2
}
