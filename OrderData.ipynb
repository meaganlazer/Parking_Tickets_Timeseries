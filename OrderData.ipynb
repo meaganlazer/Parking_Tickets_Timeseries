{
 "cells": [
  {
   "cell_type": "markdown",
   "metadata": {},
   "source": [
    "# Imports"
   ]
  },
  {
   "cell_type": "code",
   "execution_count": 1,
   "metadata": {},
   "outputs": [],
   "source": [
    "# Import standard libraries\n",
    "import pandas as pd\n",
    "import seaborn as sns\n",
    "import numpy as np\n",
    "import matplotlib.pyplot as plt\n",
    "%matplotlib inline\n",
    "\n",
    "# API\n",
    "import requests\n",
    "import json\n",
    "import os\n",
    "# from sodapy import Socrata\n",
    "\n",
    "# Datetime\n",
    "import datetime as datetime\n",
    "\n",
    "import snowflake.connector\n",
    "# Date\n",
    "import datetime as dt\n",
    "import time\n",
    "from datetime import timedelta\n",
    "\n",
    "#Math\n",
    "from math import exp"
   ]
  },
  {
   "cell_type": "code",
   "execution_count": 2,
   "metadata": {},
   "outputs": [],
   "source": [
    "# # Gets the cursor\n",
    "# con = snowflake.connector.connect(\n",
    "#     user='meagan',\n",
    "#     password='',\n",
    "#     account='hu40871.us-east-1',\n",
    "#     warehouse='ANALYSIS'\n",
    "#     )\n",
    "# cur = con.cursor()\n",
    "\n",
    "# # insert query here\n",
    "# cur.execute('''\n",
    "#     SELECT  * \n",
    "#     FROM    \"WAREHOUSE\".\"GOLD\".\"SUBSCRIPTION_RETENTION\"\n",
    "#            ''')"
   ]
  },
  {
   "cell_type": "markdown",
   "metadata": {},
   "source": [
    "## Acuity"
   ]
  },
  {
   "cell_type": "code",
   "execution_count": 8,
   "metadata": {},
   "outputs": [
    {
     "data": {
      "text/html": [
       "<div>\n",
       "<style scoped>\n",
       "    .dataframe tbody tr th:only-of-type {\n",
       "        vertical-align: middle;\n",
       "    }\n",
       "\n",
       "    .dataframe tbody tr th {\n",
       "        vertical-align: top;\n",
       "    }\n",
       "\n",
       "    .dataframe thead th {\n",
       "        text-align: right;\n",
       "    }\n",
       "</style>\n",
       "<table border=\"1\" class=\"dataframe\">\n",
       "  <thead>\n",
       "    <tr style=\"text-align: right;\">\n",
       "      <th></th>\n",
       "      <th>EVENT_TS</th>\n",
       "      <th>EVENT_TS_UTC</th>\n",
       "      <th>ANONYMOUS_ID</th>\n",
       "      <th>EVENT</th>\n",
       "      <th>APPOINTMENT_BODY_CALENDAR</th>\n",
       "      <th>APPOINTMENT_BODY_FIRST_NAME</th>\n",
       "      <th>APPOINTMENT_BODY_DATETIME_CREATED</th>\n",
       "      <th>APPOINTMENT_BODY_CALENDAR_ID</th>\n",
       "      <th>APPOINTMENT_BODY_CALENDAR_TIMEZONE</th>\n",
       "      <th>EMAIL</th>\n",
       "      <th>APPOINTMENT_BODY_DATE</th>\n",
       "      <th>APPOINTMENT_BODY_DURATION</th>\n",
       "      <th>APPOINTMENT_BODY_TIMEZONE</th>\n",
       "      <th>APPOINTMENT_DATE_TIME</th>\n",
       "      <th>APPOINTMENT_BODY_LAST_NAME</th>\n",
       "      <th>APPOINTMENT_BODY_TYPE</th>\n",
       "      <th>APPOINTMENT_BODY_ID</th>\n",
       "      <th>APPOINTMENT_TYPE_ID</th>\n",
       "      <th>APPOINTMENT_BODY_CANCELED</th>\n",
       "      <th>APPOINTMENT_BODY_NO_SHOW</th>\n",
       "    </tr>\n",
       "  </thead>\n",
       "  <tbody>\n",
       "    <tr>\n",
       "      <th>0</th>\n",
       "      <td>2020-10-25 08:37:35.955</td>\n",
       "      <td>2020-10-25 15:37:35.955</td>\n",
       "      <td>464303198</td>\n",
       "      <td>appointment_scheduled</td>\n",
       "      <td>Dr. Anya Arthen, ND</td>\n",
       "      <td>Ginger</td>\n",
       "      <td>2020-10-25 10:37:32.000</td>\n",
       "      <td>3513713.0</td>\n",
       "      <td>America/New_York</td>\n",
       "      <td>ginger.deshotels@icloud.com</td>\n",
       "      <td>November 4, 2020</td>\n",
       "      <td>20.0</td>\n",
       "      <td>America/Chicago</td>\n",
       "      <td>2020-11-04 12:50:00.000</td>\n",
       "      <td>Deshotels</td>\n",
       "      <td>Hair Consultation</td>\n",
       "      <td>464303198.0</td>\n",
       "      <td>12799707.0</td>\n",
       "      <td>False</td>\n",
       "      <td>NaN</td>\n",
       "    </tr>\n",
       "    <tr>\n",
       "      <th>1</th>\n",
       "      <td>2020-10-06 16:33:10.415</td>\n",
       "      <td>2020-10-06 23:33:10.415</td>\n",
       "      <td>454504090</td>\n",
       "      <td>appointment_scheduled</td>\n",
       "      <td>Dr. Ariana Zastrow, ND</td>\n",
       "      <td>Vivian</td>\n",
       "      <td>2020-10-06 18:33:07.000</td>\n",
       "      <td>3684820.0</td>\n",
       "      <td>America/New_York</td>\n",
       "      <td>vburgess53@icloud.com</td>\n",
       "      <td>October 8, 2020</td>\n",
       "      <td>15.0</td>\n",
       "      <td>America/New_York</td>\n",
       "      <td>2020-10-08 17:30:00.000</td>\n",
       "      <td>Burgess</td>\n",
       "      <td>Follow Up Consultation</td>\n",
       "      <td>454504090.0</td>\n",
       "      <td>16040988.0</td>\n",
       "      <td>False</td>\n",
       "      <td>NaN</td>\n",
       "    </tr>\n",
       "    <tr>\n",
       "      <th>2</th>\n",
       "      <td>2020-12-12 06:29:43.878</td>\n",
       "      <td>2020-12-12 14:29:43.878</td>\n",
       "      <td>489836193</td>\n",
       "      <td>appointment_scheduled</td>\n",
       "      <td>Dr. Katelyn Cloyd, ND</td>\n",
       "      <td>Giovanni</td>\n",
       "      <td>2020-12-12 08:29:41.000</td>\n",
       "      <td>3508236.0</td>\n",
       "      <td>America/New_York</td>\n",
       "      <td>ruciglione@gmail.com</td>\n",
       "      <td>January 7, 2021</td>\n",
       "      <td>20.0</td>\n",
       "      <td>America/New_York</td>\n",
       "      <td>2021-01-07 17:05:00.000</td>\n",
       "      <td>Turi</td>\n",
       "      <td>Hair Consultation</td>\n",
       "      <td>489836193.0</td>\n",
       "      <td>12799707.0</td>\n",
       "      <td>False</td>\n",
       "      <td>NaN</td>\n",
       "    </tr>\n",
       "    <tr>\n",
       "      <th>3</th>\n",
       "      <td>2020-12-05 17:46:52.374</td>\n",
       "      <td>2020-12-06 01:46:52.374</td>\n",
       "      <td>486300624</td>\n",
       "      <td>appointment_scheduled</td>\n",
       "      <td>Dr. Katelyn Cloyd, ND</td>\n",
       "      <td>Nancy</td>\n",
       "      <td>2020-12-05 19:46:49.000</td>\n",
       "      <td>3508236.0</td>\n",
       "      <td>America/New_York</td>\n",
       "      <td>njoymann50@aol.com</td>\n",
       "      <td>December 22, 2020</td>\n",
       "      <td>20.0</td>\n",
       "      <td>America/New_York</td>\n",
       "      <td>2020-12-22 13:00:00.000</td>\n",
       "      <td>Mann</td>\n",
       "      <td>Hair Consultation</td>\n",
       "      <td>486300624.0</td>\n",
       "      <td>12799707.0</td>\n",
       "      <td>False</td>\n",
       "      <td>NaN</td>\n",
       "    </tr>\n",
       "    <tr>\n",
       "      <th>4</th>\n",
       "      <td>2021-01-06 01:34:32.789</td>\n",
       "      <td>2021-01-06 09:34:32.789</td>\n",
       "      <td>502063803</td>\n",
       "      <td>appointment_scheduled</td>\n",
       "      <td>Dr. Anya Arthen, ND</td>\n",
       "      <td>kendra</td>\n",
       "      <td>2021-01-06 03:34:29.000</td>\n",
       "      <td>3513713.0</td>\n",
       "      <td>America/New_York</td>\n",
       "      <td>kendralinde@gmail.com</td>\n",
       "      <td>January 22, 2021</td>\n",
       "      <td>20.0</td>\n",
       "      <td>America/New_York</td>\n",
       "      <td>2021-01-22 13:15:00.000</td>\n",
       "      <td>Linde</td>\n",
       "      <td>Hair Consultation</td>\n",
       "      <td>502063803.0</td>\n",
       "      <td>12047150.0</td>\n",
       "      <td>False</td>\n",
       "      <td>NaN</td>\n",
       "    </tr>\n",
       "  </tbody>\n",
       "</table>\n",
       "</div>"
      ],
      "text/plain": [
       "                  EVENT_TS             EVENT_TS_UTC  ANONYMOUS_ID  \\\n",
       "0  2020-10-25 08:37:35.955  2020-10-25 15:37:35.955     464303198   \n",
       "1  2020-10-06 16:33:10.415  2020-10-06 23:33:10.415     454504090   \n",
       "2  2020-12-12 06:29:43.878  2020-12-12 14:29:43.878     489836193   \n",
       "3  2020-12-05 17:46:52.374  2020-12-06 01:46:52.374     486300624   \n",
       "4  2021-01-06 01:34:32.789  2021-01-06 09:34:32.789     502063803   \n",
       "\n",
       "                   EVENT APPOINTMENT_BODY_CALENDAR  \\\n",
       "0  appointment_scheduled       Dr. Anya Arthen, ND   \n",
       "1  appointment_scheduled   Dr. Ariana Zastrow, ND    \n",
       "2  appointment_scheduled     Dr. Katelyn Cloyd, ND   \n",
       "3  appointment_scheduled     Dr. Katelyn Cloyd, ND   \n",
       "4  appointment_scheduled       Dr. Anya Arthen, ND   \n",
       "\n",
       "  APPOINTMENT_BODY_FIRST_NAME APPOINTMENT_BODY_DATETIME_CREATED  \\\n",
       "0                      Ginger           2020-10-25 10:37:32.000   \n",
       "1                      Vivian           2020-10-06 18:33:07.000   \n",
       "2                    Giovanni           2020-12-12 08:29:41.000   \n",
       "3                       Nancy           2020-12-05 19:46:49.000   \n",
       "4                      kendra           2021-01-06 03:34:29.000   \n",
       "\n",
       "   APPOINTMENT_BODY_CALENDAR_ID APPOINTMENT_BODY_CALENDAR_TIMEZONE  \\\n",
       "0                     3513713.0                   America/New_York   \n",
       "1                     3684820.0                   America/New_York   \n",
       "2                     3508236.0                   America/New_York   \n",
       "3                     3508236.0                   America/New_York   \n",
       "4                     3513713.0                   America/New_York   \n",
       "\n",
       "                         EMAIL APPOINTMENT_BODY_DATE  \\\n",
       "0  ginger.deshotels@icloud.com      November 4, 2020   \n",
       "1        vburgess53@icloud.com       October 8, 2020   \n",
       "2         ruciglione@gmail.com       January 7, 2021   \n",
       "3           njoymann50@aol.com     December 22, 2020   \n",
       "4        kendralinde@gmail.com      January 22, 2021   \n",
       "\n",
       "   APPOINTMENT_BODY_DURATION APPOINTMENT_BODY_TIMEZONE  \\\n",
       "0                       20.0           America/Chicago   \n",
       "1                       15.0          America/New_York   \n",
       "2                       20.0          America/New_York   \n",
       "3                       20.0          America/New_York   \n",
       "4                       20.0          America/New_York   \n",
       "\n",
       "     APPOINTMENT_DATE_TIME APPOINTMENT_BODY_LAST_NAME   APPOINTMENT_BODY_TYPE  \\\n",
       "0  2020-11-04 12:50:00.000                  Deshotels       Hair Consultation   \n",
       "1  2020-10-08 17:30:00.000                    Burgess  Follow Up Consultation   \n",
       "2  2021-01-07 17:05:00.000                       Turi       Hair Consultation   \n",
       "3  2020-12-22 13:00:00.000                       Mann       Hair Consultation   \n",
       "4  2021-01-22 13:15:00.000                      Linde       Hair Consultation   \n",
       "\n",
       "   APPOINTMENT_BODY_ID  APPOINTMENT_TYPE_ID APPOINTMENT_BODY_CANCELED  \\\n",
       "0          464303198.0           12799707.0                     False   \n",
       "1          454504090.0           16040988.0                     False   \n",
       "2          489836193.0           12799707.0                     False   \n",
       "3          486300624.0           12799707.0                     False   \n",
       "4          502063803.0           12047150.0                     False   \n",
       "\n",
       "  APPOINTMENT_BODY_NO_SHOW  \n",
       "0                      NaN  \n",
       "1                      NaN  \n",
       "2                      NaN  \n",
       "3                      NaN  \n",
       "4                      NaN  "
      ]
     },
     "execution_count": 8,
     "metadata": {},
     "output_type": "execute_result"
    }
   ],
   "source": [
    "silver = pd.read_csv('SILVER_FACT.ACUITY_ND_CONSULT_EVENTS.csv')\n",
    "silver.head()"
   ]
  },
  {
   "cell_type": "code",
   "execution_count": 10,
   "metadata": {},
   "outputs": [
    {
     "data": {
      "text/plain": [
       "(19861, 20)"
      ]
     },
     "execution_count": 10,
     "metadata": {},
     "output_type": "execute_result"
    }
   ],
   "source": [
    "# Create a copy of the DB\n",
    "silver_acuity = silver.copy()\n",
    "silver_acuity.shape"
   ]
  },
  {
   "cell_type": "code",
   "execution_count": 11,
   "metadata": {},
   "outputs": [],
   "source": [
    "# Change dates to datetime Dtype\n",
    "silver_acuity['APPOINTMENT_BODY_DATE'] = pd.to_datetime(silver_acuity['APPOINTMENT_BODY_DATE'])\n",
    "# silver_acuity.columns\n",
    "\n",
    "# Drop unneeded columns\n",
    "silver_acuity.drop(columns=['EVENT_TS', 'EVENT_TS_UTC', 'ANONYMOUS_ID','APPOINTMENT_BODY_FIRST_NAME',\n",
    "       'APPOINTMENT_BODY_DATETIME_CREATED', 'APPOINTMENT_BODY_CALENDAR_ID','APPOINTMENT_BODY_CALENDAR_TIMEZONE',\\\n",
    "                    'APPOINTMENT_BODY_TIMEZONE', 'APPOINTMENT_BODY_LAST_NAME', 'APPOINTMENT_BODY_ID',\\\n",
    "                    'APPOINTMENT_BODY_NO_SHOW', \\\n",
    "                    'APPOINTMENT_TYPE_ID'], inplace=True)"
   ]
  },
  {
   "cell_type": "code",
   "execution_count": 12,
   "metadata": {},
   "outputs": [
    {
     "data": {
      "text/plain": [
       "<matplotlib.axes._subplots.AxesSubplot at 0x7ff677c95790>"
      ]
     },
     "execution_count": 12,
     "metadata": {},
     "output_type": "execute_result"
    },
    {
     "data": {
      "image/png": "[encoded data removed]",
      "text/plain": [
       "<Figure size 432x288 with 1 Axes>"
      ]
     },
     "metadata": {
      "needs_background": "light"
     },
     "output_type": "display_data"
    }
   ],
   "source": [
    "# Check for null values\n",
    "sns.heatmap(silver_acuity.isnull(), cbar=False)"
   ]
  },
  {
   "cell_type": "code",
   "execution_count": 13,
   "metadata": {
    "scrolled": true
   },
   "outputs": [
    {
     "data": {
      "text/plain": [
       "appointment_changed        14845\n",
       "appointment_scheduled       4119\n",
       "appointment_rescheduled      551\n",
       "appointment_canceled         346\n",
       "Name: EVENT, dtype: int64"
      ]
     },
     "execution_count": 13,
     "metadata": {},
     "output_type": "execute_result"
    }
   ],
   "source": [
    "silver_acuity['EVENT'].value_counts()"
   ]
  },
  {
   "cell_type": "code",
   "execution_count": 14,
   "metadata": {},
   "outputs": [
    {
     "data": {
      "text/plain": [
       "Hair Consultation                      16420\n",
       "Hair Mineral Analysis Appointment       2498\n",
       "Follow Up Consultation                   489\n",
       "Customer consultation                    133\n",
       "Case Study                                28\n",
       "Hair Mineral Analysis - Acquisition       15\n",
       "Name: APPOINTMENT_BODY_TYPE, dtype: int64"
      ]
     },
     "execution_count": 14,
     "metadata": {},
     "output_type": "execute_result"
    }
   ],
   "source": [
    "silver_acuity['APPOINTMENT_BODY_TYPE'].value_counts()"
   ]
  },
  {
   "cell_type": "code",
   "execution_count": 16,
   "metadata": {},
   "outputs": [
    {
     "data": {
      "text/plain": [
       "appointment_scheduled    4006\n",
       "Name: EVENT, dtype: int64"
      ]
     },
     "execution_count": 16,
     "metadata": {},
     "output_type": "execute_result"
    }
   ],
   "source": [
    "# drop irrelevant appointments\n",
    "na_dict= {'appointment_canceled' : np.nan,\n",
    "'appointment_changed' : np.nan,\n",
    "'appointment_rescheduled' : np.nan}\n",
    "\n",
    "silver_acuity['EVENT'].replace(na_dict, inplace = True)\n",
    "silver_acuity.dropna(inplace = True)\n",
    "silver_acuity['EVENT'].value_counts()"
   ]
  },
  {
   "cell_type": "code",
   "execution_count": 17,
   "metadata": {},
   "outputs": [
    {
     "data": {
      "text/plain": [
       "True     3643\n",
       "False     363\n",
       "Name: Complete, dtype: int64"
      ]
     },
     "execution_count": 17,
     "metadata": {},
     "output_type": "execute_result"
    }
   ],
   "source": [
    "#Round to the day\n",
    "silver_acuity['APPOINTMENT_BODY_DATE'] = silver_acuity['APPOINTMENT_BODY_DATE'].dt.round('D')\n",
    "\n",
    "silver_acuity['Today'] = pd.Timestamp('today')\n",
    "silver_acuity['Today'] = silver_acuity['Today'].dt.round('D')\n",
    "\n",
    "silver_acuity['Complete'] = (silver_acuity['Today']>silver_acuity['APPOINTMENT_BODY_DATE'])\n",
    "silver_acuity['Complete'].value_counts()"
   ]
  },
  {
   "cell_type": "code",
   "execution_count": 18,
   "metadata": {
    "scrolled": true
   },
   "outputs": [
    {
     "data": {
      "text/plain": [
       "True    3643\n",
       "Name: Complete, dtype: int64"
      ]
     },
     "execution_count": 18,
     "metadata": {},
     "output_type": "execute_result"
    }
   ],
   "source": [
    "# Remove appointments in the future\n",
    "silver_acuity['Complete'] = silver_acuity['Complete'].astype('str')\n",
    "\n",
    "# drop irrelevant appointments\n",
    "na_dict= {'False' : np.nan}\n",
    "\n",
    "silver_acuity['Complete'].replace(na_dict, inplace = True)\n",
    "silver_acuity.dropna(inplace = True)\n",
    "silver_acuity['Complete'].value_counts()"
   ]
  },
  {
   "cell_type": "code",
   "execution_count": 20,
   "metadata": {},
   "outputs": [
    {
     "data": {
      "image/png": "[encoded data removed]",
      "text/plain": [
       "<Figure size 1440x432 with 1 Axes>"
      ]
     },
     "metadata": {
      "needs_background": "light"
     },
     "output_type": "display_data"
    }
   ],
   "source": [
    "# Group by event, for a visual only \n",
    "chart = silver_acuity.groupby([\"APPOINTMENT_BODY_DATE\"]).agg({'EVENT':'count'})\n",
    "chart.isna().sum()\n",
    "\n",
    "chart.plot(kind='bar',figsize=(20,6))\n",
    "plt.title(\"Appointment Date\", size= 24)\n",
    "plt.show()"
   ]
  },
  {
   "cell_type": "code",
   "execution_count": 21,
   "metadata": {},
   "outputs": [
    {
     "data": {
      "text/plain": [
       "<matplotlib.legend.Legend at 0x7ff677c367d0>"
      ]
     },
     "execution_count": 21,
     "metadata": {},
     "output_type": "execute_result"
    },
    {
     "data": {
      "image/png": "[encoded data removed]",
      "text/plain": [
       "<Figure size 432x288 with 1 Axes>"
      ]
     },
     "metadata": {
      "needs_background": "light"
     },
     "output_type": "display_data"
    }
   ],
   "source": [
    "(silver_acuity.groupby([silver_acuity['APPOINTMENT_BODY_DATE'].dt.dayofweek,\\\n",
    "                       silver_acuity['APPOINTMENT_BODY_DATE'].dt.month])\\\n",
    " ['EVENT'].count()).unstack().plot(kind='line')\n",
    "plt.legend(loc='center left', bbox_to_anchor=(1.0, 0.5))"
   ]
  },
  {
   "cell_type": "code",
   "execution_count": 22,
   "metadata": {},
   "outputs": [
    {
     "data": {
      "text/plain": [
       "Timestamp('2020-09-29 00:00:00')"
      ]
     },
     "execution_count": 22,
     "metadata": {},
     "output_type": "execute_result"
    }
   ],
   "source": [
    "min(silver_acuity['APPOINTMENT_BODY_DATE'])"
   ]
  },
  {
   "cell_type": "code",
   "execution_count": 23,
   "metadata": {},
   "outputs": [
    {
     "data": {
      "text/plain": [
       "Timestamp('2021-01-13 00:00:00')"
      ]
     },
     "execution_count": 23,
     "metadata": {},
     "output_type": "execute_result"
    }
   ],
   "source": [
    "max(silver_acuity['APPOINTMENT_BODY_DATE'])"
   ]
  },
  {
   "cell_type": "code",
   "execution_count": 24,
   "metadata": {
    "scrolled": true
   },
   "outputs": [
    {
     "data": {
      "text/plain": [
       "20.0    3103\n",
       "30.0     439\n",
       "15.0     101\n",
       "Name: APPOINTMENT_BODY_DURATION, dtype: int64"
      ]
     },
     "execution_count": 24,
     "metadata": {},
     "output_type": "execute_result"
    }
   ],
   "source": [
    "silver_acuity['APPOINTMENT_BODY_DURATION'].value_counts()"
   ]
  },
  {
   "cell_type": "code",
   "execution_count": 26,
   "metadata": {},
   "outputs": [],
   "source": [
    "# silver_acuity.loc[silver_acuity['EMAIL']=='XXXX@yahoo.com']"
   ]
  },
  {
   "cell_type": "markdown",
   "metadata": {},
   "source": [
    "## SUB"
   ]
  },
  {
   "cell_type": "code",
   "execution_count": 28,
   "metadata": {},
   "outputs": [],
   "source": [
    "gold_sub = pd.read_csv('GOLD.csv')\n",
    "# gold_sub.head()"
   ]
  },
  {
   "cell_type": "code",
   "execution_count": 33,
   "metadata": {},
   "outputs": [
    {
     "data": {
      "text/plain": [
       "Index(['SUBSCRIPTION_ID', 'CUSTOMER_ID', 'EMAIL', 'STATUS', 'ITEM_NAME',\n",
       "       'ITEM_GENDER', 'TOTAL_ITEMS', 'FIRST_ORDER_AT', 'GROSS_ORDER_VALUE',\n",
       "       'TOTAL_ORDERS', 'TOTAL_ORDER_VALUE'],\n",
       "      dtype='object')"
      ]
     },
     "execution_count": 33,
     "metadata": {},
     "output_type": "execute_result"
    }
   ],
   "source": [
    "# Create a copy of the dataframe\n",
    "gold = gold_sub.copy()\n",
    "gold.columns\n",
    "\n",
    "# # Drop unneeded columns\n",
    "# gold.drop(columns=['SUBSCRIPTION_ID', 'CUSTOMER_ID', 'COHORT_PERIOD_KEY',\n",
    "#        'COHORT_START', 'COHORT_START_PST', 'PERIOD', 'PERIOD_START',\n",
    "#        'PERIOD_END', 'PERIOD_HAS_ORDER', 'STATUS_CHANGED_AT',\n",
    "#        'COUNT_BILLED_IN_PERIOD', 'FIRST_COUPON_CODE', 'CUSTOMER_STORE_CREDIT',\n",
    "#        'FIRST_COUPON_TS', 'FIRST_COUPON_DISCOUNT',\n",
    "#        'FIRST_COUPON_FINANCE_GROUPING', 'FIRST_COUPON_MARKETING_INITIATIVE',\n",
    "#        'FIRST_COUPON_MARKETING_INITIATIVE_CHANNEL',\n",
    "#        'FIRST_COUPON_PURCHASE_TYPE', 'ALL_COUPONS',\n",
    "#        'PREVIOUS_RETENTION_STATUS', 'CURRENT_RETENTION_STATUS',\n",
    "#        'RETENTION_STATUS', 'SUBSCRIPTION_RECONCILE_END', 'CREATED_AT',\n",
    "#        'ORDER_TYPE', 'ITEM_SKU', 'ITEM_GROUP',\n",
    "#        'TOTAL_ITEMS', 'ITEM_SUB_TYPE', 'ITEM_SKU_TYPE',\n",
    "#        'ITEM_PRODUCT_CORE_CATEGORY', 'ITEM_PRODUCT_ID', 'ITEM_BILLING_INTERVAL',\\\n",
    "#        'ITEM_SHIPPING_INTERVAL', 'FIRST_MAGENTO_COUPON_DISCOUNT', 'TOTAL_ORDERS', 'TOTAL_ORDER_VALUE'], inplace=True)"
   ]
  },
  {
   "cell_type": "code",
   "execution_count": 32,
   "metadata": {},
   "outputs": [
    {
     "name": "stdout",
     "output_type": "stream",
     "text": [
      "<class 'pandas.core.frame.DataFrame'>\n",
      "RangeIndex: 161570 entries, 0 to 161569\n",
      "Data columns (total 11 columns):\n",
      " #   Column             Non-Null Count   Dtype         \n",
      "---  ------             --------------   -----         \n",
      " 0   SUBSCRIPTION_ID    161570 non-null  int64         \n",
      " 1   CUSTOMER_ID        161570 non-null  int64         \n",
      " 2   EMAIL              161570 non-null  object        \n",
      " 3   STATUS             113040 non-null  object        \n",
      " 4   ITEM_NAME          161543 non-null  object        \n",
      " 5   ITEM_GENDER        161543 non-null  object        \n",
      " 6   TOTAL_ITEMS        161543 non-null  float64       \n",
      " 7   FIRST_ORDER_AT     161570 non-null  datetime64[ns]\n",
      " 8   GROSS_ORDER_VALUE  161543 non-null  float64       \n",
      " 9   TOTAL_ORDERS       161517 non-null  float64       \n",
      " 10  TOTAL_ORDER_VALUE  161517 non-null  float64       \n",
      "dtypes: datetime64[ns](1), float64(4), int64(2), object(4)\n",
      "memory usage: 13.6+ MB\n"
     ]
    }
   ],
   "source": [
    "# Change dates to datetime \n",
    "gold['FIRST_ORDER_AT'] = pd.to_datetime(gold['FIRST_ORDER_AT'])\n",
    "gold.info()"
   ]
  },
  {
   "cell_type": "code",
   "execution_count": 34,
   "metadata": {},
   "outputs": [
    {
     "data": {
      "text/plain": [
       "'2020-08-01 00:09:46.000'"
      ]
     },
     "execution_count": 34,
     "metadata": {},
     "output_type": "execute_result"
    }
   ],
   "source": [
    "min(gold['FIRST_ORDER_AT'])"
   ]
  },
  {
   "cell_type": "code",
   "execution_count": 35,
   "metadata": {},
   "outputs": [
    {
     "data": {
      "text/plain": [
       "'2021-01-13 00:11:14.000'"
      ]
     },
     "execution_count": 35,
     "metadata": {},
     "output_type": "execute_result"
    }
   ],
   "source": [
    "max(gold['FIRST_ORDER_AT'])"
   ]
  },
  {
   "cell_type": "code",
   "execution_count": 39,
   "metadata": {},
   "outputs": [
    {
     "data": {
      "text/html": [
       "<div>\n",
       "<style scoped>\n",
       "    .dataframe tbody tr th:only-of-type {\n",
       "        vertical-align: middle;\n",
       "    }\n",
       "\n",
       "    .dataframe tbody tr th {\n",
       "        vertical-align: top;\n",
       "    }\n",
       "\n",
       "    .dataframe thead th {\n",
       "        text-align: right;\n",
       "    }\n",
       "</style>\n",
       "<table border=\"1\" class=\"dataframe\">\n",
       "  <thead>\n",
       "    <tr style=\"text-align: right;\">\n",
       "      <th></th>\n",
       "      <th>SUBSCRIPTION_ID</th>\n",
       "      <th>CUSTOMER_ID</th>\n",
       "      <th>EMAIL</th>\n",
       "      <th>STATUS</th>\n",
       "      <th>ITEM_NAME</th>\n",
       "      <th>ITEM_GENDER</th>\n",
       "      <th>TOTAL_ITEMS</th>\n",
       "      <th>FIRST_ORDER_AT</th>\n",
       "      <th>GROSS_ORDER_VALUE</th>\n",
       "      <th>TOTAL_ORDERS</th>\n",
       "      <th>TOTAL_ORDER_VALUE</th>\n",
       "    </tr>\n",
       "  </thead>\n",
       "  <tbody>\n",
       "    <tr>\n",
       "      <th>0</th>\n",
       "      <td>631396</td>\n",
       "      <td>455068</td>\n",
       "      <td>nangaj@gmail.com</td>\n",
       "      <td>started</td>\n",
       "      <td>Nutrafol for Women</td>\n",
       "      <td>Women</td>\n",
       "      <td>1.0</td>\n",
       "      <td>2020-09-25 19:54:53.000</td>\n",
       "      <td>79.0</td>\n",
       "      <td>4.0</td>\n",
       "      <td>296.0</td>\n",
       "    </tr>\n",
       "    <tr>\n",
       "      <th>1</th>\n",
       "      <td>540514</td>\n",
       "      <td>420891</td>\n",
       "      <td>lfveldhuisx4@yahoo.com</td>\n",
       "      <td>active</td>\n",
       "      <td>Nutrafol for Women's Balance + Stress Adaptogen</td>\n",
       "      <td>Women</td>\n",
       "      <td>1.0</td>\n",
       "      <td>2020-08-15 07:55:01.000</td>\n",
       "      <td>89.0</td>\n",
       "      <td>8.0</td>\n",
       "      <td>593.0</td>\n",
       "    </tr>\n",
       "    <tr>\n",
       "      <th>2</th>\n",
       "      <td>540514</td>\n",
       "      <td>420891</td>\n",
       "      <td>lfveldhuisx4@yahoo.com</td>\n",
       "      <td>billed</td>\n",
       "      <td>Nutrafol for Women's Balance + Stress Adaptogen</td>\n",
       "      <td>Women</td>\n",
       "      <td>1.0</td>\n",
       "      <td>2020-08-15 07:55:01.000</td>\n",
       "      <td>89.0</td>\n",
       "      <td>8.0</td>\n",
       "      <td>593.0</td>\n",
       "    </tr>\n",
       "    <tr>\n",
       "      <th>3</th>\n",
       "      <td>540514</td>\n",
       "      <td>420891</td>\n",
       "      <td>lfveldhuisx4@yahoo.com</td>\n",
       "      <td>billed</td>\n",
       "      <td>Nutrafol for Women's Balance + Stress Adaptogen</td>\n",
       "      <td>Women</td>\n",
       "      <td>1.0</td>\n",
       "      <td>2020-08-15 07:55:01.000</td>\n",
       "      <td>89.0</td>\n",
       "      <td>8.0</td>\n",
       "      <td>593.0</td>\n",
       "    </tr>\n",
       "    <tr>\n",
       "      <th>4</th>\n",
       "      <td>540514</td>\n",
       "      <td>420891</td>\n",
       "      <td>lfveldhuisx4@yahoo.com</td>\n",
       "      <td>NaN</td>\n",
       "      <td>Nutrafol for Women's Balance + Stress Adaptogen</td>\n",
       "      <td>Women</td>\n",
       "      <td>1.0</td>\n",
       "      <td>2020-08-15 07:55:01.000</td>\n",
       "      <td>89.0</td>\n",
       "      <td>8.0</td>\n",
       "      <td>593.0</td>\n",
       "    </tr>\n",
       "  </tbody>\n",
       "</table>\n",
       "</div>"
      ],
      "text/plain": [
       "   SUBSCRIPTION_ID  CUSTOMER_ID                   EMAIL   STATUS  \\\n",
       "0           631396       455068        nangaj@gmail.com  started   \n",
       "1           540514       420891  lfveldhuisx4@yahoo.com   active   \n",
       "2           540514       420891  lfveldhuisx4@yahoo.com   billed   \n",
       "3           540514       420891  lfveldhuisx4@yahoo.com   billed   \n",
       "4           540514       420891  lfveldhuisx4@yahoo.com      NaN   \n",
       "\n",
       "                                         ITEM_NAME ITEM_GENDER  TOTAL_ITEMS  \\\n",
       "0                               Nutrafol for Women       Women          1.0   \n",
       "1  Nutrafol for Women's Balance + Stress Adaptogen       Women          1.0   \n",
       "2  Nutrafol for Women's Balance + Stress Adaptogen       Women          1.0   \n",
       "3  Nutrafol for Women's Balance + Stress Adaptogen       Women          1.0   \n",
       "4  Nutrafol for Women's Balance + Stress Adaptogen       Women          1.0   \n",
       "\n",
       "            FIRST_ORDER_AT  GROSS_ORDER_VALUE  TOTAL_ORDERS  TOTAL_ORDER_VALUE  \n",
       "0  2020-09-25 19:54:53.000               79.0           4.0              296.0  \n",
       "1  2020-08-15 07:55:01.000               89.0           8.0              593.0  \n",
       "2  2020-08-15 07:55:01.000               89.0           8.0              593.0  \n",
       "3  2020-08-15 07:55:01.000               89.0           8.0              593.0  \n",
       "4  2020-08-15 07:55:01.000               89.0           8.0              593.0  "
      ]
     },
     "execution_count": 39,
     "metadata": {},
     "output_type": "execute_result"
    }
   ],
   "source": [
    "gold.head()"
   ]
  },
  {
   "cell_type": "code",
   "execution_count": 40,
   "metadata": {},
   "outputs": [
    {
     "ename": "ValueError",
     "evalue": "invalid literal for int() with base 10: '0127351@gmail.com'",
     "output_type": "error",
     "traceback": [
      "\u001b[0;31m---------------------------------------------------------------------------\u001b[0m",
      "\u001b[0;31mValueError\u001b[0m                                Traceback (most recent call last)",
      "\u001b[0;32m<ipython-input-40-326258460813>\u001b[0m in \u001b[0;36m<module>\u001b[0;34m\u001b[0m\n\u001b[1;32m      1\u001b[0m \u001b[0;31m# AGG\u001b[0m\u001b[0;34m\u001b[0m\u001b[0;34m\u001b[0m\u001b[0;34m\u001b[0m\u001b[0m\n\u001b[0;32m----> 2\u001b[0;31m \u001b[0mdf\u001b[0m \u001b[0;34m=\u001b[0m \u001b[0mgold\u001b[0m\u001b[0;34m.\u001b[0m\u001b[0miloc\u001b[0m\u001b[0;34m[\u001b[0m\u001b[0mgold\u001b[0m\u001b[0;34m.\u001b[0m\u001b[0mgroupby\u001b[0m\u001b[0;34m(\u001b[0m\u001b[0;34m'EMAIL'\u001b[0m\u001b[0;34m)\u001b[0m\u001b[0;34m[\u001b[0m\u001b[0;34m'FIRST_ORDER_AT'\u001b[0m\u001b[0;34m]\u001b[0m\u001b[0;34m]\u001b[0m\u001b[0;34m\u001b[0m\u001b[0;34m\u001b[0m\u001b[0m\n\u001b[0m\u001b[1;32m      3\u001b[0m \u001b[0mdf\u001b[0m\u001b[0;34m.\u001b[0m\u001b[0mshape\u001b[0m\u001b[0;34m\u001b[0m\u001b[0;34m\u001b[0m\u001b[0m\n",
      "\u001b[0;32m/opt/anaconda3/lib/python3.7/site-packages/pandas/core/indexing.py\u001b[0m in \u001b[0;36m__getitem__\u001b[0;34m(self, key)\u001b[0m\n\u001b[1;32m   1766\u001b[0m \u001b[0;34m\u001b[0m\u001b[0m\n\u001b[1;32m   1767\u001b[0m             \u001b[0mmaybe_callable\u001b[0m \u001b[0;34m=\u001b[0m \u001b[0mcom\u001b[0m\u001b[0;34m.\u001b[0m\u001b[0mapply_if_callable\u001b[0m\u001b[0;34m(\u001b[0m\u001b[0mkey\u001b[0m\u001b[0;34m,\u001b[0m \u001b[0mself\u001b[0m\u001b[0;34m.\u001b[0m\u001b[0mobj\u001b[0m\u001b[0;34m)\u001b[0m\u001b[0;34m\u001b[0m\u001b[0;34m\u001b[0m\u001b[0m\n\u001b[0;32m-> 1768\u001b[0;31m             \u001b[0;32mreturn\u001b[0m \u001b[0mself\u001b[0m\u001b[0;34m.\u001b[0m\u001b[0m_getitem_axis\u001b[0m\u001b[0;34m(\u001b[0m\u001b[0mmaybe_callable\u001b[0m\u001b[0;34m,\u001b[0m \u001b[0maxis\u001b[0m\u001b[0;34m=\u001b[0m\u001b[0maxis\u001b[0m\u001b[0;34m)\u001b[0m\u001b[0;34m\u001b[0m\u001b[0;34m\u001b[0m\u001b[0m\n\u001b[0m\u001b[1;32m   1769\u001b[0m \u001b[0;34m\u001b[0m\u001b[0m\n\u001b[1;32m   1770\u001b[0m     \u001b[0;32mdef\u001b[0m \u001b[0m_is_scalar_access\u001b[0m\u001b[0;34m(\u001b[0m\u001b[0mself\u001b[0m\u001b[0;34m,\u001b[0m \u001b[0mkey\u001b[0m\u001b[0;34m:\u001b[0m \u001b[0mTuple\u001b[0m\u001b[0;34m)\u001b[0m\u001b[0;34m:\u001b[0m\u001b[0;34m\u001b[0m\u001b[0;34m\u001b[0m\u001b[0m\n",
      "\u001b[0;32m/opt/anaconda3/lib/python3.7/site-packages/pandas/core/indexing.py\u001b[0m in \u001b[0;36m_getitem_axis\u001b[0;34m(self, key, axis)\u001b[0m\n\u001b[1;32m   2127\u001b[0m         \u001b[0;31m# a list of integers\u001b[0m\u001b[0;34m\u001b[0m\u001b[0;34m\u001b[0m\u001b[0;34m\u001b[0m\u001b[0m\n\u001b[1;32m   2128\u001b[0m         \u001b[0;32melif\u001b[0m \u001b[0mis_list_like_indexer\u001b[0m\u001b[0;34m(\u001b[0m\u001b[0mkey\u001b[0m\u001b[0;34m)\u001b[0m\u001b[0;34m:\u001b[0m\u001b[0;34m\u001b[0m\u001b[0;34m\u001b[0m\u001b[0m\n\u001b[0;32m-> 2129\u001b[0;31m             \u001b[0;32mreturn\u001b[0m \u001b[0mself\u001b[0m\u001b[0;34m.\u001b[0m\u001b[0m_get_list_axis\u001b[0m\u001b[0;34m(\u001b[0m\u001b[0mkey\u001b[0m\u001b[0;34m,\u001b[0m \u001b[0maxis\u001b[0m\u001b[0;34m=\u001b[0m\u001b[0maxis\u001b[0m\u001b[0;34m)\u001b[0m\u001b[0;34m\u001b[0m\u001b[0;34m\u001b[0m\u001b[0m\n\u001b[0m\u001b[1;32m   2130\u001b[0m \u001b[0;34m\u001b[0m\u001b[0m\n\u001b[1;32m   2131\u001b[0m         \u001b[0;31m# a single integer\u001b[0m\u001b[0;34m\u001b[0m\u001b[0;34m\u001b[0m\u001b[0;34m\u001b[0m\u001b[0m\n",
      "\u001b[0;32m/opt/anaconda3/lib/python3.7/site-packages/pandas/core/indexing.py\u001b[0m in \u001b[0;36m_get_list_axis\u001b[0;34m(self, key, axis)\u001b[0m\n\u001b[1;32m   2109\u001b[0m         \"\"\"\n\u001b[1;32m   2110\u001b[0m         \u001b[0;32mtry\u001b[0m\u001b[0;34m:\u001b[0m\u001b[0;34m\u001b[0m\u001b[0;34m\u001b[0m\u001b[0m\n\u001b[0;32m-> 2111\u001b[0;31m             \u001b[0;32mreturn\u001b[0m \u001b[0mself\u001b[0m\u001b[0;34m.\u001b[0m\u001b[0mobj\u001b[0m\u001b[0;34m.\u001b[0m\u001b[0m_take_with_is_copy\u001b[0m\u001b[0;34m(\u001b[0m\u001b[0mkey\u001b[0m\u001b[0;34m,\u001b[0m \u001b[0maxis\u001b[0m\u001b[0;34m=\u001b[0m\u001b[0maxis\u001b[0m\u001b[0;34m)\u001b[0m\u001b[0;34m\u001b[0m\u001b[0;34m\u001b[0m\u001b[0m\n\u001b[0m\u001b[1;32m   2112\u001b[0m         \u001b[0;32mexcept\u001b[0m \u001b[0mIndexError\u001b[0m\u001b[0;34m:\u001b[0m\u001b[0;34m\u001b[0m\u001b[0;34m\u001b[0m\u001b[0m\n\u001b[1;32m   2113\u001b[0m             \u001b[0;31m# re-raise with different error message\u001b[0m\u001b[0;34m\u001b[0m\u001b[0;34m\u001b[0m\u001b[0;34m\u001b[0m\u001b[0m\n",
      "\u001b[0;32m/opt/anaconda3/lib/python3.7/site-packages/pandas/core/generic.py\u001b[0m in \u001b[0;36m_take_with_is_copy\u001b[0;34m(self, indices, axis, **kwargs)\u001b[0m\n\u001b[1;32m   3407\u001b[0m         \u001b[0mSee\u001b[0m \u001b[0mthe\u001b[0m \u001b[0mdocstring\u001b[0m \u001b[0mof\u001b[0m\u001b[0;31m \u001b[0m\u001b[0;31m`\u001b[0m\u001b[0mtake\u001b[0m\u001b[0;31m`\u001b[0m \u001b[0;32mfor\u001b[0m \u001b[0mfull\u001b[0m \u001b[0mexplanation\u001b[0m \u001b[0mof\u001b[0m \u001b[0mthe\u001b[0m \u001b[0mparameters\u001b[0m\u001b[0;34m.\u001b[0m\u001b[0;34m\u001b[0m\u001b[0;34m\u001b[0m\u001b[0m\n\u001b[1;32m   3408\u001b[0m         \"\"\"\n\u001b[0;32m-> 3409\u001b[0;31m         \u001b[0mresult\u001b[0m \u001b[0;34m=\u001b[0m \u001b[0mself\u001b[0m\u001b[0;34m.\u001b[0m\u001b[0mtake\u001b[0m\u001b[0;34m(\u001b[0m\u001b[0mindices\u001b[0m\u001b[0;34m=\u001b[0m\u001b[0mindices\u001b[0m\u001b[0;34m,\u001b[0m \u001b[0maxis\u001b[0m\u001b[0;34m=\u001b[0m\u001b[0maxis\u001b[0m\u001b[0;34m,\u001b[0m \u001b[0;34m**\u001b[0m\u001b[0mkwargs\u001b[0m\u001b[0;34m)\u001b[0m\u001b[0;34m\u001b[0m\u001b[0;34m\u001b[0m\u001b[0m\n\u001b[0m\u001b[1;32m   3410\u001b[0m         \u001b[0;31m# Maybe set copy if we didn't actually change the index.\u001b[0m\u001b[0;34m\u001b[0m\u001b[0;34m\u001b[0m\u001b[0;34m\u001b[0m\u001b[0m\n\u001b[1;32m   3411\u001b[0m         \u001b[0;32mif\u001b[0m \u001b[0;32mnot\u001b[0m \u001b[0mresult\u001b[0m\u001b[0;34m.\u001b[0m\u001b[0m_get_axis\u001b[0m\u001b[0;34m(\u001b[0m\u001b[0maxis\u001b[0m\u001b[0;34m)\u001b[0m\u001b[0;34m.\u001b[0m\u001b[0mequals\u001b[0m\u001b[0;34m(\u001b[0m\u001b[0mself\u001b[0m\u001b[0;34m.\u001b[0m\u001b[0m_get_axis\u001b[0m\u001b[0;34m(\u001b[0m\u001b[0maxis\u001b[0m\u001b[0;34m)\u001b[0m\u001b[0;34m)\u001b[0m\u001b[0;34m:\u001b[0m\u001b[0;34m\u001b[0m\u001b[0;34m\u001b[0m\u001b[0m\n",
      "\u001b[0;32m/opt/anaconda3/lib/python3.7/site-packages/pandas/core/generic.py\u001b[0m in \u001b[0;36mtake\u001b[0;34m(self, indices, axis, is_copy, **kwargs)\u001b[0m\n\u001b[1;32m   3393\u001b[0m \u001b[0;34m\u001b[0m\u001b[0m\n\u001b[1;32m   3394\u001b[0m         new_data = self._data.take(\n\u001b[0;32m-> 3395\u001b[0;31m             \u001b[0mindices\u001b[0m\u001b[0;34m,\u001b[0m \u001b[0maxis\u001b[0m\u001b[0;34m=\u001b[0m\u001b[0mself\u001b[0m\u001b[0;34m.\u001b[0m\u001b[0m_get_block_manager_axis\u001b[0m\u001b[0;34m(\u001b[0m\u001b[0maxis\u001b[0m\u001b[0;34m)\u001b[0m\u001b[0;34m,\u001b[0m \u001b[0mverify\u001b[0m\u001b[0;34m=\u001b[0m\u001b[0;32mTrue\u001b[0m\u001b[0;34m\u001b[0m\u001b[0;34m\u001b[0m\u001b[0m\n\u001b[0m\u001b[1;32m   3396\u001b[0m         )\n\u001b[1;32m   3397\u001b[0m         \u001b[0;32mreturn\u001b[0m \u001b[0mself\u001b[0m\u001b[0;34m.\u001b[0m\u001b[0m_constructor\u001b[0m\u001b[0;34m(\u001b[0m\u001b[0mnew_data\u001b[0m\u001b[0;34m)\u001b[0m\u001b[0;34m.\u001b[0m\u001b[0m__finalize__\u001b[0m\u001b[0;34m(\u001b[0m\u001b[0mself\u001b[0m\u001b[0;34m)\u001b[0m\u001b[0;34m\u001b[0m\u001b[0;34m\u001b[0m\u001b[0m\n",
      "\u001b[0;32m/opt/anaconda3/lib/python3.7/site-packages/pandas/core/internals/managers.py\u001b[0m in \u001b[0;36mtake\u001b[0;34m(self, indexer, axis, verify, convert)\u001b[0m\n\u001b[1;32m   1379\u001b[0m             \u001b[0mnp\u001b[0m\u001b[0;34m.\u001b[0m\u001b[0marange\u001b[0m\u001b[0;34m(\u001b[0m\u001b[0mindexer\u001b[0m\u001b[0;34m.\u001b[0m\u001b[0mstart\u001b[0m\u001b[0;34m,\u001b[0m \u001b[0mindexer\u001b[0m\u001b[0;34m.\u001b[0m\u001b[0mstop\u001b[0m\u001b[0;34m,\u001b[0m \u001b[0mindexer\u001b[0m\u001b[0;34m.\u001b[0m\u001b[0mstep\u001b[0m\u001b[0;34m,\u001b[0m \u001b[0mdtype\u001b[0m\u001b[0;34m=\u001b[0m\u001b[0;34m\"int64\"\u001b[0m\u001b[0;34m)\u001b[0m\u001b[0;34m\u001b[0m\u001b[0;34m\u001b[0m\u001b[0m\n\u001b[1;32m   1380\u001b[0m             \u001b[0;32mif\u001b[0m \u001b[0misinstance\u001b[0m\u001b[0;34m(\u001b[0m\u001b[0mindexer\u001b[0m\u001b[0;34m,\u001b[0m \u001b[0mslice\u001b[0m\u001b[0;34m)\u001b[0m\u001b[0;34m\u001b[0m\u001b[0;34m\u001b[0m\u001b[0m\n\u001b[0;32m-> 1381\u001b[0;31m             \u001b[0;32melse\u001b[0m \u001b[0mnp\u001b[0m\u001b[0;34m.\u001b[0m\u001b[0masanyarray\u001b[0m\u001b[0;34m(\u001b[0m\u001b[0mindexer\u001b[0m\u001b[0;34m,\u001b[0m \u001b[0mdtype\u001b[0m\u001b[0;34m=\u001b[0m\u001b[0;34m\"int64\"\u001b[0m\u001b[0;34m)\u001b[0m\u001b[0;34m\u001b[0m\u001b[0;34m\u001b[0m\u001b[0m\n\u001b[0m\u001b[1;32m   1382\u001b[0m         )\n\u001b[1;32m   1383\u001b[0m \u001b[0;34m\u001b[0m\u001b[0m\n",
      "\u001b[0;32m/opt/anaconda3/lib/python3.7/site-packages/numpy/core/_asarray.py\u001b[0m in \u001b[0;36masanyarray\u001b[0;34m(a, dtype, order)\u001b[0m\n\u001b[1;32m    136\u001b[0m \u001b[0;34m\u001b[0m\u001b[0m\n\u001b[1;32m    137\u001b[0m     \"\"\"\n\u001b[0;32m--> 138\u001b[0;31m     \u001b[0;32mreturn\u001b[0m \u001b[0marray\u001b[0m\u001b[0;34m(\u001b[0m\u001b[0ma\u001b[0m\u001b[0;34m,\u001b[0m \u001b[0mdtype\u001b[0m\u001b[0;34m,\u001b[0m \u001b[0mcopy\u001b[0m\u001b[0;34m=\u001b[0m\u001b[0;32mFalse\u001b[0m\u001b[0;34m,\u001b[0m \u001b[0morder\u001b[0m\u001b[0;34m=\u001b[0m\u001b[0morder\u001b[0m\u001b[0;34m,\u001b[0m \u001b[0msubok\u001b[0m\u001b[0;34m=\u001b[0m\u001b[0;32mTrue\u001b[0m\u001b[0;34m)\u001b[0m\u001b[0;34m\u001b[0m\u001b[0;34m\u001b[0m\u001b[0m\n\u001b[0m\u001b[1;32m    139\u001b[0m \u001b[0;34m\u001b[0m\u001b[0m\n\u001b[1;32m    140\u001b[0m \u001b[0;34m\u001b[0m\u001b[0m\n",
      "\u001b[0;31mValueError\u001b[0m: invalid literal for int() with base 10: '0127351@gmail.com'"
     ]
    }
   ],
   "source": [
    "# AGG\n",
    "df = gold.iloc[gold.groupby('EMAIL')['FIRST_ORDER_AT'].idxmin()]\n",
    "df.shape"
   ]
  },
  {
   "cell_type": "code",
   "execution_count": 109,
   "metadata": {},
   "outputs": [
    {
     "data": {
      "text/plain": [
       "Timestamp('2020-09-28 00:43:09')"
      ]
     },
     "execution_count": 109,
     "metadata": {},
     "output_type": "execute_result"
    }
   ],
   "source": [
    "min(df['FIRST_ORDER_AT'])"
   ]
  },
  {
   "cell_type": "markdown",
   "metadata": {},
   "source": [
    "## Merge"
   ]
  },
  {
   "cell_type": "code",
   "execution_count": 110,
   "metadata": {},
   "outputs": [],
   "source": [
    "sub1 = pd.merge(silver_acuity,df,how='left',on='EMAIL')"
   ]
  },
  {
   "cell_type": "code",
   "execution_count": 111,
   "metadata": {},
   "outputs": [
    {
     "name": "stdout",
     "output_type": "stream",
     "text": [
      "<class 'pandas.core.frame.DataFrame'>\n",
      "Int64Index: 3459 entries, 0 to 3458\n",
      "Data columns (total 7 columns):\n",
      " #   Column                 Non-Null Count  Dtype         \n",
      "---  ------                 --------------  -----         \n",
      " 0   EMAIL                  3459 non-null   object        \n",
      " 1   APPOINTMENT_BODY_DATE  3459 non-null   datetime64[ns]\n",
      " 2   FIRST_ORDER_AT         1220 non-null   datetime64[ns]\n",
      " 3   LAST_QUIZ_TS           695 non-null    datetime64[ns]\n",
      " 4   ITEM_NAME              1218 non-null   object        \n",
      " 5   ITEM_GENDER            1218 non-null   object        \n",
      " 6   GROSS_ORDER_VALUE      1218 non-null   float64       \n",
      "dtypes: datetime64[ns](3), float64(1), object(3)\n",
      "memory usage: 216.2+ KB\n"
     ]
    }
   ],
   "source": [
    "# Create a copy of the dataframe\n",
    "sub = sub1.copy()\n",
    "\n",
    "sub = sub[[ 'EMAIL','APPOINTMENT_BODY_DATE', 'FIRST_ORDER_AT', 'LAST_QUIZ_TS',\\\n",
    "           'ITEM_NAME', 'ITEM_GENDER', 'GROSS_ORDER_VALUE']]\n",
    "sub.info()"
   ]
  },
  {
   "cell_type": "code",
   "execution_count": 113,
   "metadata": {},
   "outputs": [
    {
     "data": {
      "text/plain": [
       "NaT"
      ]
     },
     "execution_count": 113,
     "metadata": {},
     "output_type": "execute_result"
    }
   ],
   "source": [
    "max(sub['FIRST_ORDER_AT'])"
   ]
  },
  {
   "cell_type": "code",
   "execution_count": 93,
   "metadata": {},
   "outputs": [],
   "source": [
    "#Round to the day\n",
    "# sub['APPOINTMENT_BODY_DATE'] = sub['APPOINTMENT_BODY_DATE'].dt.round('D')\n",
    "# sub['FIRST_ORDER_AT'] = sub['FIRST_ORDER_AT'].dt.round('D')\n",
    "# sub['LAST_QUIZ_TS'] = sub['LAST_QUIZ_TS'].dt.round('D')\n",
    "\n",
    "# # create start year column to be able to make years_working column\n",
    "# df['start_year'] = df['Agency Start Date'].apply(lambda x: int(x[6:]))\n",
    "# df['years_with_city'] = df[['Fiscal Year']].sub(df['start_year'], axis=0)\n",
    "\n",
    "# sub.loc[sub['FIRST_ORDER_AT']=='NaT', 'FIRST_ORDER_AT']= np.nan \n",
    "# sub.dropna(inplace = True)\n",
    "# sub.info()"
   ]
  },
  {
   "cell_type": "code",
   "execution_count": 114,
   "metadata": {},
   "outputs": [
    {
     "data": {
      "text/html": [
       "<div>\n",
       "<style scoped>\n",
       "    .dataframe tbody tr th:only-of-type {\n",
       "        vertical-align: middle;\n",
       "    }\n",
       "\n",
       "    .dataframe tbody tr th {\n",
       "        vertical-align: top;\n",
       "    }\n",
       "\n",
       "    .dataframe thead th {\n",
       "        text-align: right;\n",
       "    }\n",
       "</style>\n",
       "<table border=\"1\" class=\"dataframe\">\n",
       "  <thead>\n",
       "    <tr style=\"text-align: right;\">\n",
       "      <th></th>\n",
       "      <th>EMAIL</th>\n",
       "      <th>APPOINTMENT_BODY_DATE</th>\n",
       "      <th>FIRST_ORDER_AT</th>\n",
       "      <th>LAST_QUIZ_TS</th>\n",
       "      <th>ITEM_NAME</th>\n",
       "      <th>ITEM_GENDER</th>\n",
       "      <th>GROSS_ORDER_VALUE</th>\n",
       "      <th>TimeDifference</th>\n",
       "    </tr>\n",
       "  </thead>\n",
       "  <tbody>\n",
       "    <tr>\n",
       "      <th>0</th>\n",
       "      <td>hunterelliott510@gmail.com</td>\n",
       "      <td>2020-12-29</td>\n",
       "      <td>NaT</td>\n",
       "      <td>NaT</td>\n",
       "      <td>NaN</td>\n",
       "      <td>NaN</td>\n",
       "      <td>NaN</td>\n",
       "      <td>NaT</td>\n",
       "    </tr>\n",
       "    <tr>\n",
       "      <th>1</th>\n",
       "      <td>ashleynizzle@yahoo.com</td>\n",
       "      <td>2021-01-06</td>\n",
       "      <td>2020-12-07 18:53:45</td>\n",
       "      <td>NaT</td>\n",
       "      <td>Nutrafol for Women + Hairbiotic + Stress Adapt...</td>\n",
       "      <td>Women</td>\n",
       "      <td>99.0</td>\n",
       "      <td>-30 days +18:53:45</td>\n",
       "    </tr>\n",
       "    <tr>\n",
       "      <th>2</th>\n",
       "      <td>foxbody1986@hotmail.com</td>\n",
       "      <td>2020-12-07</td>\n",
       "      <td>2020-11-30 21:25:18</td>\n",
       "      <td>NaT</td>\n",
       "      <td>Nutrafol for Women's Balance + Hairbiotic + St...</td>\n",
       "      <td>Women</td>\n",
       "      <td>99.0</td>\n",
       "      <td>-7 days +21:25:18</td>\n",
       "    </tr>\n",
       "    <tr>\n",
       "      <th>3</th>\n",
       "      <td>anbavitz@gmail.com</td>\n",
       "      <td>2020-12-22</td>\n",
       "      <td>2020-11-19 16:52:59</td>\n",
       "      <td>NaT</td>\n",
       "      <td>Nutrafol for Women's Balance</td>\n",
       "      <td>Women</td>\n",
       "      <td>79.0</td>\n",
       "      <td>-33 days +16:52:59</td>\n",
       "    </tr>\n",
       "    <tr>\n",
       "      <th>4</th>\n",
       "      <td>jsw107@georgetown.edu</td>\n",
       "      <td>2020-10-30</td>\n",
       "      <td>NaT</td>\n",
       "      <td>NaT</td>\n",
       "      <td>NaN</td>\n",
       "      <td>NaN</td>\n",
       "      <td>NaN</td>\n",
       "      <td>NaT</td>\n",
       "    </tr>\n",
       "  </tbody>\n",
       "</table>\n",
       "</div>"
      ],
      "text/plain": [
       "                        EMAIL APPOINTMENT_BODY_DATE      FIRST_ORDER_AT  \\\n",
       "0  hunterelliott510@gmail.com            2020-12-29                 NaT   \n",
       "1      ashleynizzle@yahoo.com            2021-01-06 2020-12-07 18:53:45   \n",
       "2     foxbody1986@hotmail.com            2020-12-07 2020-11-30 21:25:18   \n",
       "3          anbavitz@gmail.com            2020-12-22 2020-11-19 16:52:59   \n",
       "4       jsw107@georgetown.edu            2020-10-30                 NaT   \n",
       "\n",
       "  LAST_QUIZ_TS                                          ITEM_NAME ITEM_GENDER  \\\n",
       "0          NaT                                                NaN         NaN   \n",
       "1          NaT  Nutrafol for Women + Hairbiotic + Stress Adapt...       Women   \n",
       "2          NaT  Nutrafol for Women's Balance + Hairbiotic + St...       Women   \n",
       "3          NaT                       Nutrafol for Women's Balance       Women   \n",
       "4          NaT                                                NaN         NaN   \n",
       "\n",
       "   GROSS_ORDER_VALUE     TimeDifference  \n",
       "0                NaN                NaT  \n",
       "1               99.0 -30 days +18:53:45  \n",
       "2               99.0  -7 days +21:25:18  \n",
       "3               79.0 -33 days +16:52:59  \n",
       "4                NaN                NaT  "
      ]
     },
     "execution_count": 114,
     "metadata": {},
     "output_type": "execute_result"
    }
   ],
   "source": [
    "sub['TimeDifference'] = \\\n",
    "(((sub['FIRST_ORDER_AT']))-(sub['APPOINTMENT_BODY_DATE']))\n",
    "sub.head()"
   ]
  },
  {
   "cell_type": "code",
   "execution_count": 115,
   "metadata": {},
   "outputs": [
    {
     "name": "stdout",
     "output_type": "stream",
     "text": [
      "<class 'pandas.core.frame.DataFrame'>\n",
      "Int64Index: 3459 entries, 0 to 3458\n",
      "Data columns (total 8 columns):\n",
      " #   Column                 Non-Null Count  Dtype          \n",
      "---  ------                 --------------  -----          \n",
      " 0   EMAIL                  3459 non-null   object         \n",
      " 1   APPOINTMENT_BODY_DATE  3459 non-null   datetime64[ns] \n",
      " 2   FIRST_ORDER_AT         1220 non-null   datetime64[ns] \n",
      " 3   LAST_QUIZ_TS           695 non-null    datetime64[ns] \n",
      " 4   ITEM_NAME              1218 non-null   object         \n",
      " 5   ITEM_GENDER            1218 non-null   object         \n",
      " 6   GROSS_ORDER_VALUE      1218 non-null   float64        \n",
      " 7   TimeDifference         1220 non-null   timedelta64[ns]\n",
      "dtypes: datetime64[ns](3), float64(1), object(3), timedelta64[ns](1)\n",
      "memory usage: 243.2+ KB\n"
     ]
    }
   ],
   "source": [
    "sub.info()"
   ]
  },
  {
   "cell_type": "code",
   "execution_count": null,
   "metadata": {},
   "outputs": [],
   "source": []
  },
  {
   "cell_type": "code",
   "execution_count": null,
   "metadata": {},
   "outputs": [],
   "source": []
  },
  {
   "cell_type": "code",
   "execution_count": null,
   "metadata": {},
   "outputs": [],
   "source": []
  },
  {
   "cell_type": "code",
   "execution_count": null,
   "metadata": {},
   "outputs": [],
   "source": []
  },
  {
   "cell_type": "code",
   "execution_count": null,
   "metadata": {},
   "outputs": [],
   "source": []
  },
  {
   "cell_type": "code",
   "execution_count": 31,
   "metadata": {},
   "outputs": [
    {
     "ename": "NameError",
     "evalue": "name 'stop' is not defined",
     "output_type": "error",
     "traceback": [
      "\u001b[0;31m---------------------------------------------------------------------------\u001b[0m",
      "\u001b[0;31mNameError\u001b[0m                                 Traceback (most recent call last)",
      "\u001b[0;32m<ipython-input-31-4f76a9dad686>\u001b[0m in \u001b[0;36m<module>\u001b[0;34m\u001b[0m\n\u001b[0;32m----> 1\u001b[0;31m \u001b[0mstop\u001b[0m\u001b[0;34m\u001b[0m\u001b[0;34m\u001b[0m\u001b[0m\n\u001b[0m",
      "\u001b[0;31mNameError\u001b[0m: name 'stop' is not defined"
     ]
    }
   ],
   "source": [
    "stop"
   ]
  },
  {
   "cell_type": "code",
   "execution_count": null,
   "metadata": {},
   "outputs": [],
   "source": [
    "# # Group by email \n",
    "# chart = silver_acuity.groupby([\"APPOINTMENT_BODY_DATE\"]).agg({'time difference':'count'})\n",
    "# chart.isna().sum()"
   ]
  },
  {
   "cell_type": "code",
   "execution_count": 117,
   "metadata": {},
   "outputs": [],
   "source": [
    "# Export data\n",
    "sub.to_csv('sub.csv')"
   ]
  },
  {
   "cell_type": "code",
   "execution_count": null,
   "metadata": {},
   "outputs": [],
   "source": []
  }
 ],
 "metadata": {
  "kernelspec": {
   "display_name": "Python 3",
   "language": "python",
   "name": "python3"
  },
  "language_info": {
   "codemirror_mode": {
    "name": "ipython",
    "version": 3
   },
   "file_extension": ".py",
   "mimetype": "text/x-python",
   "name": "python",
   "nbconvert_exporter": "python",
   "pygments_lexer": "ipython3",
   "version": "3.7.7"
  },
  "toc": {
   "base_numbering": 1,
   "nav_menu": {},
   "number_sections": true,
   "sideBar": true,
   "skip_h1_title": false,
   "title_cell": "Table of Contents",
   "title_sidebar": "Contents",
   "toc_cell": false,
   "toc_position": {
    "height": "calc(100% - 180px)",
    "left": "10px",
    "top": "150px",
    "width": "235.75px"
   },
   "toc_section_display": true,
   "toc_window_display": true
  }
 },
 "nbformat": 4,
 "nbformat_minor": 2
}
