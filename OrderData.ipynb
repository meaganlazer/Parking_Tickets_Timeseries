{
 "cells": [
  {
   "cell_type": "markdown",
   "metadata": {},
   "source": [
    "# Imports"
   ]
  },
  {
   "cell_type": "code",
   "execution_count": 1,
   "metadata": {},
   "outputs": [],
   "source": [
    "# Import standard libraries\n",
    "import pandas as pd\n",
    "import seaborn as sns\n",
    "import numpy as np\n",
    "import matplotlib.pyplot as plt\n",
    "%matplotlib inline\n",
    "\n",
    "# API\n",
    "import requests\n",
    "import json\n",
    "import os\n",
    "# from sodapy import Socrata\n",
    "\n",
    "# Datetime\n",
    "import datetime as datetime"
   ]
  },
  {
   "cell_type": "code",
   "execution_count": 3,
   "metadata": {},
   "outputs": [],
   "source": [
    "import snowflake.connector\n",
    "import pandas as pd\n",
    "# Gets the cursor\n",
    "con = snowflake.connector.connect(\n",
    "    user='meagan',\n",
    "    password='Neutron123$%^',\n",
    "    account='hu40871.us-east-1',\n",
    "    warehouse='ANALYSIS'\n",
    "    )\n",
    "cur = con.cursor()"
   ]
  },
  {
   "cell_type": "code",
   "execution_count": 4,
   "metadata": {},
   "outputs": [
    {
     "data": {
      "text/plain": [
       "<snowflake.connector.cursor.SnowflakeCursor at 0x7fe21bd55350>"
      ]
     },
     "execution_count": 4,
     "metadata": {},
     "output_type": "execute_result"
    }
   ],
   "source": [
    "# insert query here\n",
    "cur.execute('''\n",
    "    SELECT  * \n",
    "    FROM    \"WAREHOUSE\".\"GOLD\".\"SUBSCRIPTION_RETENTION\"\n",
    "           ''')"
   ]
  },
  {
   "cell_type": "code",
   "execution_count": 5,
   "metadata": {},
   "outputs": [
    {
     "ename": "NotSupportedError",
     "evalue": "Unknown error",
     "output_type": "error",
     "traceback": [
      "\u001b[0;31m---------------------------------------------------------------------------\u001b[0m",
      "\u001b[0;31mNotSupportedError\u001b[0m                         Traceback (most recent call last)",
      "\u001b[0;32m<ipython-input-5-126e6212412a>\u001b[0m in \u001b[0;36m<module>\u001b[0;34m\u001b[0m\n\u001b[1;32m      1\u001b[0m \u001b[0;31m# reads data into pandas\u001b[0m\u001b[0;34m\u001b[0m\u001b[0;34m\u001b[0m\u001b[0;34m\u001b[0m\u001b[0m\n\u001b[0;32m----> 2\u001b[0;31m \u001b[0mdf\u001b[0m \u001b[0;34m=\u001b[0m \u001b[0mcur\u001b[0m\u001b[0;34m.\u001b[0m\u001b[0mfetch_pandas_all\u001b[0m\u001b[0;34m(\u001b[0m\u001b[0;34m)\u001b[0m\u001b[0;34m\u001b[0m\u001b[0;34m\u001b[0m\u001b[0m\n\u001b[0m\u001b[1;32m      3\u001b[0m \u001b[0mdf\u001b[0m\u001b[0;34m.\u001b[0m\u001b[0mhead\u001b[0m\u001b[0;34m(\u001b[0m\u001b[0;34m)\u001b[0m\u001b[0;34m\u001b[0m\u001b[0;34m\u001b[0m\u001b[0m\n",
      "\u001b[0;32m/opt/anaconda3/lib/python3.7/site-packages/snowflake/connector/cursor.py\u001b[0m in \u001b[0;36mfetch_pandas_all\u001b[0;34m(self, **kwargs)\u001b[0m\n\u001b[1;32m    738\u001b[0m         \u001b[0mself\u001b[0m\u001b[0;34m.\u001b[0m\u001b[0mcheck_can_use_pandas\u001b[0m\u001b[0;34m(\u001b[0m\u001b[0;34m)\u001b[0m\u001b[0;34m\u001b[0m\u001b[0;34m\u001b[0m\u001b[0m\n\u001b[1;32m    739\u001b[0m         \u001b[0;32mif\u001b[0m \u001b[0mself\u001b[0m\u001b[0;34m.\u001b[0m\u001b[0m_query_result_format\u001b[0m \u001b[0;34m!=\u001b[0m \u001b[0;34m'arrow'\u001b[0m\u001b[0;34m:\u001b[0m\u001b[0;34m\u001b[0m\u001b[0;34m\u001b[0m\u001b[0m\n\u001b[0;32m--> 740\u001b[0;31m             \u001b[0;32mraise\u001b[0m \u001b[0mNotSupportedError\u001b[0m\u001b[0;34m\u001b[0m\u001b[0;34m\u001b[0m\u001b[0m\n\u001b[0m\u001b[1;32m    741\u001b[0m         \u001b[0;32mreturn\u001b[0m \u001b[0mself\u001b[0m\u001b[0;34m.\u001b[0m\u001b[0m_result\u001b[0m\u001b[0;34m.\u001b[0m\u001b[0m_fetch_pandas_all\u001b[0m\u001b[0;34m(\u001b[0m\u001b[0;34m**\u001b[0m\u001b[0mkwargs\u001b[0m\u001b[0;34m)\u001b[0m\u001b[0;34m\u001b[0m\u001b[0;34m\u001b[0m\u001b[0m\n\u001b[1;32m    742\u001b[0m \u001b[0;34m\u001b[0m\u001b[0m\n",
      "\u001b[0;31mNotSupportedError\u001b[0m: Unknown error"
     ]
    }
   ],
   "source": [
    "# reads data into pandas\n",
    "df = cur.fetch_pandas_all()\n",
    "df.head()"
   ]
  },
  {
   "cell_type": "code",
   "execution_count": null,
   "metadata": {},
   "outputs": [],
   "source": []
  },
  {
   "cell_type": "code",
   "execution_count": 30,
   "metadata": {},
   "outputs": [],
   "source": [
    "# import pyvenv\n",
    "# import snowflake.connector as snow\n",
    "# from snowflake.connector.pandas_tools import write_pandas\n",
    "# import pyarrow"
   ]
  },
  {
   "cell_type": "code",
   "execution_count": 9,
   "metadata": {},
   "outputs": [],
   "source": [
    "# # Gets the version\n",
    "# conn = snow.connect(\n",
    "#     user='meagan',\n",
    "#     password='Neutron123$%^',\n",
    "#     account='hu40871.us-east-1',\n",
    "#     warehouse=\"ANALYSIS\",\n",
    "#     database=\"WAREHOUSE\",\n",
    "# #     schema=\"SUBSCRIPTION_RETENTION\"\n",
    "#     )\n",
    "# cur = conn.cursor()\n",
    "# print(conn)\n",
    "\n",
    "# cur.execute(\"SHOW DATABASES\")\n",
    "\n",
    "# for db in cur:\n",
    "#     print(db)"
   ]
  },
  {
   "cell_type": "code",
   "execution_count": 10,
   "metadata": {},
   "outputs": [],
   "source": [
    "# Execute a statement that will generate a result set WAREHOUSE.GOLD.SUBSCRIPTION_RETENTION\n",
    "# sql = \"select * from GOLD.SUBSCRIPTION_RETENTION\"\n",
    "# cur.execute(sql)"
   ]
  },
  {
   "cell_type": "markdown",
   "metadata": {},
   "source": [
    "## Acuity"
   ]
  },
  {
   "cell_type": "code",
   "execution_count": 8,
   "metadata": {},
   "outputs": [
    {
     "data": {
      "text/html": [
       "<div>\n",
       "<style scoped>\n",
       "    .dataframe tbody tr th:only-of-type {\n",
       "        vertical-align: middle;\n",
       "    }\n",
       "\n",
       "    .dataframe tbody tr th {\n",
       "        vertical-align: top;\n",
       "    }\n",
       "\n",
       "    .dataframe thead th {\n",
       "        text-align: right;\n",
       "    }\n",
       "</style>\n",
       "<table border=\"1\" class=\"dataframe\">\n",
       "  <thead>\n",
       "    <tr style=\"text-align: right;\">\n",
       "      <th></th>\n",
       "      <th>EVENT_TS</th>\n",
       "      <th>EVENT_TS_UTC</th>\n",
       "      <th>ANONYMOUS_ID</th>\n",
       "      <th>EVENT</th>\n",
       "      <th>APPOINTMENT_BODY_CALENDAR</th>\n",
       "      <th>APPOINTMENT_BODY_FIRST_NAME</th>\n",
       "      <th>APPOINTMENT_BODY_DATETIME_CREATED</th>\n",
       "      <th>APPOINTMENT_BODY_CALENDAR_ID</th>\n",
       "      <th>APPOINTMENT_BODY_CALENDAR_TIMEZONE</th>\n",
       "      <th>EMAIL</th>\n",
       "      <th>APPOINTMENT_BODY_DATE</th>\n",
       "      <th>APPOINTMENT_BODY_DURATION</th>\n",
       "      <th>APPOINTMENT_BODY_TIMEZONE</th>\n",
       "      <th>APPOINTMENT_DATE_TIME</th>\n",
       "      <th>APPOINTMENT_BODY_LAST_NAME</th>\n",
       "      <th>APPOINTMENT_BODY_TYPE</th>\n",
       "      <th>APPOINTMENT_BODY_ID</th>\n",
       "      <th>APPOINTMENT_TYPE_ID</th>\n",
       "      <th>APPOINTMENT_BODY_CANCELED</th>\n",
       "      <th>APPOINTMENT_BODY_NO_SHOW</th>\n",
       "    </tr>\n",
       "  </thead>\n",
       "  <tbody>\n",
       "    <tr>\n",
       "      <th>0</th>\n",
       "      <td>2020-12-23 23:45:03.646</td>\n",
       "      <td>2020-12-24 07:45:03.646</td>\n",
       "      <td>495876669</td>\n",
       "      <td>appointment_scheduled</td>\n",
       "      <td>Dr. Anya Arthen, ND</td>\n",
       "      <td>Hunter</td>\n",
       "      <td>2020-12-24 01:45:00.000</td>\n",
       "      <td>3513713.0</td>\n",
       "      <td>America/New_York</td>\n",
       "      <td>hunterelliott510@gmail.com</td>\n",
       "      <td>December 29, 2020</td>\n",
       "      <td>20.0</td>\n",
       "      <td>America/Los_Angeles</td>\n",
       "      <td>2020-12-29 14:25:00.000</td>\n",
       "      <td>Elliott</td>\n",
       "      <td>Hair Consultation</td>\n",
       "      <td>495876669.0</td>\n",
       "      <td>12047150.0</td>\n",
       "      <td>False</td>\n",
       "      <td>NaN</td>\n",
       "    </tr>\n",
       "    <tr>\n",
       "      <th>1</th>\n",
       "      <td>2021-01-03 00:03:41.860</td>\n",
       "      <td>2021-01-03 08:03:41.860</td>\n",
       "      <td>499867827</td>\n",
       "      <td>appointment_scheduled</td>\n",
       "      <td>Dr. Nicole Klughers, ND</td>\n",
       "      <td>Kathleen</td>\n",
       "      <td>2021-01-03 02:03:40.000</td>\n",
       "      <td>3513704.0</td>\n",
       "      <td>America/New_York</td>\n",
       "      <td>katmc@sbcglobal.net</td>\n",
       "      <td>January 21, 2021</td>\n",
       "      <td>20.0</td>\n",
       "      <td>America/Los_Angeles</td>\n",
       "      <td>2021-01-21 17:00:00.000</td>\n",
       "      <td>McElhinney</td>\n",
       "      <td>Hair Consultation</td>\n",
       "      <td>499867827.0</td>\n",
       "      <td>12799707.0</td>\n",
       "      <td>False</td>\n",
       "      <td>NaN</td>\n",
       "    </tr>\n",
       "    <tr>\n",
       "      <th>2</th>\n",
       "      <td>2020-12-27 21:34:32.762</td>\n",
       "      <td>2020-12-28 05:34:32.762</td>\n",
       "      <td>496859072</td>\n",
       "      <td>appointment_scheduled</td>\n",
       "      <td>Dr. Nadia Musavvir, ND</td>\n",
       "      <td>ashley</td>\n",
       "      <td>2020-12-27 23:34:29.000</td>\n",
       "      <td>3513708.0</td>\n",
       "      <td>America/Chicago</td>\n",
       "      <td>ashleynizzle@yahoo.com</td>\n",
       "      <td>January 6, 2021</td>\n",
       "      <td>20.0</td>\n",
       "      <td>America/Chicago</td>\n",
       "      <td>2021-01-06 12:30:00.000</td>\n",
       "      <td>patkovic</td>\n",
       "      <td>Hair Consultation</td>\n",
       "      <td>496859072.0</td>\n",
       "      <td>12799707.0</td>\n",
       "      <td>False</td>\n",
       "      <td>NaN</td>\n",
       "    </tr>\n",
       "    <tr>\n",
       "      <th>3</th>\n",
       "      <td>2020-11-27 03:05:47.644</td>\n",
       "      <td>2020-11-27 11:05:47.644</td>\n",
       "      <td>481523073</td>\n",
       "      <td>appointment_scheduled</td>\n",
       "      <td>Dr. Ariana Zastrow, ND</td>\n",
       "      <td>Rose</td>\n",
       "      <td>2020-11-27 05:05:44.000</td>\n",
       "      <td>3684820.0</td>\n",
       "      <td>America/New_York</td>\n",
       "      <td>foxbody1986@hotmail.com</td>\n",
       "      <td>December 7, 2020</td>\n",
       "      <td>20.0</td>\n",
       "      <td>America/New_York</td>\n",
       "      <td>2020-12-07 16:55:00.000</td>\n",
       "      <td>DeLaRosa</td>\n",
       "      <td>Hair Consultation</td>\n",
       "      <td>481523073.0</td>\n",
       "      <td>12047150.0</td>\n",
       "      <td>False</td>\n",
       "      <td>NaN</td>\n",
       "    </tr>\n",
       "    <tr>\n",
       "      <th>4</th>\n",
       "      <td>2020-12-08 03:30:31.906</td>\n",
       "      <td>2020-12-08 11:30:31.906</td>\n",
       "      <td>487457386</td>\n",
       "      <td>appointment_scheduled</td>\n",
       "      <td>Dr. Ariana Zastrow, ND</td>\n",
       "      <td>Anita</td>\n",
       "      <td>2020-12-08 05:30:28.000</td>\n",
       "      <td>3684820.0</td>\n",
       "      <td>America/New_York</td>\n",
       "      <td>anbavitz@gmail.com</td>\n",
       "      <td>December 22, 2020</td>\n",
       "      <td>20.0</td>\n",
       "      <td>America/New_York</td>\n",
       "      <td>2020-12-22 12:25:00.000</td>\n",
       "      <td>Bavitz</td>\n",
       "      <td>Hair Consultation</td>\n",
       "      <td>487457386.0</td>\n",
       "      <td>12047150.0</td>\n",
       "      <td>False</td>\n",
       "      <td>NaN</td>\n",
       "    </tr>\n",
       "  </tbody>\n",
       "</table>\n",
       "</div>"
      ],
      "text/plain": [
       "                  EVENT_TS             EVENT_TS_UTC  ANONYMOUS_ID  \\\n",
       "0  2020-12-23 23:45:03.646  2020-12-24 07:45:03.646     495876669   \n",
       "1  2021-01-03 00:03:41.860  2021-01-03 08:03:41.860     499867827   \n",
       "2  2020-12-27 21:34:32.762  2020-12-28 05:34:32.762     496859072   \n",
       "3  2020-11-27 03:05:47.644  2020-11-27 11:05:47.644     481523073   \n",
       "4  2020-12-08 03:30:31.906  2020-12-08 11:30:31.906     487457386   \n",
       "\n",
       "                   EVENT APPOINTMENT_BODY_CALENDAR  \\\n",
       "0  appointment_scheduled       Dr. Anya Arthen, ND   \n",
       "1  appointment_scheduled   Dr. Nicole Klughers, ND   \n",
       "2  appointment_scheduled    Dr. Nadia Musavvir, ND   \n",
       "3  appointment_scheduled   Dr. Ariana Zastrow, ND    \n",
       "4  appointment_scheduled   Dr. Ariana Zastrow, ND    \n",
       "\n",
       "  APPOINTMENT_BODY_FIRST_NAME APPOINTMENT_BODY_DATETIME_CREATED  \\\n",
       "0                      Hunter           2020-12-24 01:45:00.000   \n",
       "1                    Kathleen           2021-01-03 02:03:40.000   \n",
       "2                      ashley           2020-12-27 23:34:29.000   \n",
       "3                        Rose           2020-11-27 05:05:44.000   \n",
       "4                       Anita           2020-12-08 05:30:28.000   \n",
       "\n",
       "   APPOINTMENT_BODY_CALENDAR_ID APPOINTMENT_BODY_CALENDAR_TIMEZONE  \\\n",
       "0                     3513713.0                   America/New_York   \n",
       "1                     3513704.0                   America/New_York   \n",
       "2                     3513708.0                    America/Chicago   \n",
       "3                     3684820.0                   America/New_York   \n",
       "4                     3684820.0                   America/New_York   \n",
       "\n",
       "                        EMAIL APPOINTMENT_BODY_DATE  \\\n",
       "0  hunterelliott510@gmail.com     December 29, 2020   \n",
       "1         katmc@sbcglobal.net      January 21, 2021   \n",
       "2      ashleynizzle@yahoo.com       January 6, 2021   \n",
       "3     foxbody1986@hotmail.com      December 7, 2020   \n",
       "4          anbavitz@gmail.com     December 22, 2020   \n",
       "\n",
       "   APPOINTMENT_BODY_DURATION APPOINTMENT_BODY_TIMEZONE  \\\n",
       "0                       20.0       America/Los_Angeles   \n",
       "1                       20.0       America/Los_Angeles   \n",
       "2                       20.0           America/Chicago   \n",
       "3                       20.0          America/New_York   \n",
       "4                       20.0          America/New_York   \n",
       "\n",
       "     APPOINTMENT_DATE_TIME APPOINTMENT_BODY_LAST_NAME APPOINTMENT_BODY_TYPE  \\\n",
       "0  2020-12-29 14:25:00.000                    Elliott     Hair Consultation   \n",
       "1  2021-01-21 17:00:00.000                 McElhinney     Hair Consultation   \n",
       "2  2021-01-06 12:30:00.000                   patkovic     Hair Consultation   \n",
       "3  2020-12-07 16:55:00.000                   DeLaRosa     Hair Consultation   \n",
       "4  2020-12-22 12:25:00.000                     Bavitz     Hair Consultation   \n",
       "\n",
       "   APPOINTMENT_BODY_ID  APPOINTMENT_TYPE_ID APPOINTMENT_BODY_CANCELED  \\\n",
       "0          495876669.0           12047150.0                     False   \n",
       "1          499867827.0           12799707.0                     False   \n",
       "2          496859072.0           12799707.0                     False   \n",
       "3          481523073.0           12047150.0                     False   \n",
       "4          487457386.0           12047150.0                     False   \n",
       "\n",
       "  APPOINTMENT_BODY_NO_SHOW  \n",
       "0                      NaN  \n",
       "1                      NaN  \n",
       "2                      NaN  \n",
       "3                      NaN  \n",
       "4                      NaN  "
      ]
     },
     "execution_count": 8,
     "metadata": {},
     "output_type": "execute_result"
    }
   ],
   "source": [
    "silver = pd.read_csv('SILVER_FACT.ACUITY_ND_CONSULT_EVENTS.csv')\n",
    "silver.head()"
   ]
  },
  {
   "cell_type": "code",
   "execution_count": 38,
   "metadata": {},
   "outputs": [
    {
     "name": "stdout",
     "output_type": "stream",
     "text": [
      "<class 'pandas.core.frame.DataFrame'>\n",
      "RangeIndex: 18257 entries, 0 to 18256\n",
      "Data columns (total 20 columns):\n",
      " #   Column                              Non-Null Count  Dtype  \n",
      "---  ------                              --------------  -----  \n",
      " 0   EVENT_TS                            18257 non-null  object \n",
      " 1   EVENT_TS_UTC                        18257 non-null  object \n",
      " 2   ANONYMOUS_ID                        18257 non-null  int64  \n",
      " 3   EVENT                               18257 non-null  object \n",
      " 4   APPOINTMENT_BODY_CALENDAR           17979 non-null  object \n",
      " 5   APPOINTMENT_BODY_FIRST_NAME         17979 non-null  object \n",
      " 6   APPOINTMENT_BODY_DATETIME_CREATED   17979 non-null  object \n",
      " 7   APPOINTMENT_BODY_CALENDAR_ID        17979 non-null  float64\n",
      " 8   APPOINTMENT_BODY_CALENDAR_TIMEZONE  17979 non-null  object \n",
      " 9   EMAIL                               17921 non-null  object \n",
      " 10  APPOINTMENT_BODY_DATE               17979 non-null  object \n",
      " 11  APPOINTMENT_BODY_DURATION           17979 non-null  float64\n",
      " 12  APPOINTMENT_BODY_TIMEZONE           17979 non-null  object \n",
      " 13  APPOINTMENT_DATE_TIME               17979 non-null  object \n",
      " 14  APPOINTMENT_BODY_LAST_NAME          17979 non-null  object \n",
      " 15  APPOINTMENT_BODY_TYPE               17979 non-null  object \n",
      " 16  APPOINTMENT_BODY_ID                 17979 non-null  float64\n",
      " 17  APPOINTMENT_TYPE_ID                 17979 non-null  float64\n",
      " 18  APPOINTMENT_BODY_CANCELED           17979 non-null  object \n",
      " 19  APPOINTMENT_BODY_NO_SHOW            639 non-null    object \n",
      "dtypes: float64(4), int64(1), object(15)\n",
      "memory usage: 2.8+ MB\n"
     ]
    }
   ],
   "source": [
    "# Create a copy of the dataframe to preserve the content of the API export during cleaning\n",
    "silver_acuity = silver.copy()\n",
    "silver_acuity.info()\n"
   ]
  },
  {
   "cell_type": "code",
   "execution_count": 39,
   "metadata": {
    "scrolled": true
   },
   "outputs": [],
   "source": [
    "# Change dates to datetime Dtype\n",
    "silver_acuity['APPOINTMENT_BODY_DATE'] = pd.to_datetime(silver_acuity['APPOINTMENT_BODY_DATE'])\n",
    "# silver_acuity.columns"
   ]
  },
  {
   "cell_type": "code",
   "execution_count": 45,
   "metadata": {},
   "outputs": [],
   "source": [
    "# Drop unneeded columns\n",
    "silver_acuity.drop(columns=['EVENT_TS', 'EVENT_TS_UTC', 'ANONYMOUS_ID','APPOINTMENT_BODY_FIRST_NAME',\n",
    "       'APPOINTMENT_BODY_DATETIME_CREATED', 'APPOINTMENT_BODY_CALENDAR_ID','APPOINTMENT_BODY_CALENDAR_TIMEZONE',\\\n",
    "                    'APPOINTMENT_BODY_TIMEZONE', 'APPOINTMENT_BODY_LAST_NAME', 'APPOINTMENT_BODY_ID',\\\n",
    "                    'APPOINTMENT_BODY_NO_SHOW', \\\n",
    "                    'APPOINTMENT_TYPE_ID'], inplace=True)"
   ]
  },
  {
   "cell_type": "code",
   "execution_count": 46,
   "metadata": {},
   "outputs": [
    {
     "data": {
      "text/plain": [
       "<matplotlib.axes._subplots.AxesSubplot at 0x7fe215453310>"
      ]
     },
     "execution_count": 46,
     "metadata": {},
     "output_type": "execute_result"
    },
    {
     "data": {
      "image/png": "[encoded data removed]",
      "text/plain": [
       "<Figure size 432x288 with 1 Axes>"
      ]
     },
     "metadata": {
      "needs_background": "light"
     },
     "output_type": "display_data"
    }
   ],
   "source": [
    "# Check for null values\n",
    "sns.heatmap(silver_acuity.isnull(), cbar=False)"
   ]
  },
  {
   "cell_type": "code",
   "execution_count": null,
   "metadata": {},
   "outputs": [],
   "source": [
    "silver_acuity['EVENT'].value_counts()"
   ]
  },
  {
   "cell_type": "code",
   "execution_count": 48,
   "metadata": {},
   "outputs": [
    {
     "data": {
      "text/plain": [
       "appointment_scheduled    3729\n",
       "Name: EVENT, dtype: int64"
      ]
     },
     "execution_count": 48,
     "metadata": {},
     "output_type": "execute_result"
    }
   ],
   "source": [
    "# drop irrelevant appointments\n",
    "\n",
    "na_dict= {'appointment_canceled' : np.nan,\n",
    "'appointment_changed' : np.nan,\n",
    "'appointment_rescheduled' : np.nan}\n",
    "\n",
    "silver_acuity['EVENT'].replace(na_dict, inplace = True)\n",
    "silver_acuity.dropna(inplace = True)\n",
    "silver_acuity['EVENT'].value_counts()"
   ]
  },
  {
   "cell_type": "code",
   "execution_count": null,
   "metadata": {},
   "outputs": [],
   "source": []
  },
  {
   "cell_type": "code",
   "execution_count": null,
   "metadata": {},
   "outputs": [],
   "source": []
  },
  {
   "cell_type": "code",
   "execution_count": 49,
   "metadata": {},
   "outputs": [],
   "source": [
    "# Rearrange columns for easier data visualization\n",
    "\n",
    "# violation_df = violation_df[[ 'Plate','time_issued', 'Fine_Amount', 'Amount_Due', 'Payment_Amount',\n",
    "#        'Precinct', 'County', 'State']]\n",
    "# violation_df.head()\n",
    "\n",
    "# Rename counties to be more recognizable\n",
    "\n",
    "# violation_df.rename(columns={'County_BX':'Bronx', 'County_K':'Brooklyn', \\\n",
    "#                              'County_NY':'Manhattan', 'County_Q':'Queens', \\\n",
    "#                              'County_R':'Staten_Island'}, inplace=True)"
   ]
  },
  {
   "cell_type": "code",
   "execution_count": 50,
   "metadata": {},
   "outputs": [],
   "source": [
    "# Rename Precint column\n",
    "# violation_df.rename(columns={'Precinct':'precinct'}, inplace=True)\n",
    "# violation_df.head()\n",
    "\n",
    "# Remove null values\n",
    "# zero_dict = {0: np.nan}\n",
    "# violation_df['precinct'].replace(zero_dict, inplace = True)\n",
    "# violation_df.dropna(inplace = True)"
   ]
  },
  {
   "cell_type": "code",
   "execution_count": null,
   "metadata": {},
   "outputs": [],
   "source": []
  },
  {
   "cell_type": "code",
   "execution_count": null,
   "metadata": {},
   "outputs": [],
   "source": []
  },
  {
   "cell_type": "code",
   "execution_count": null,
   "metadata": {},
   "outputs": [],
   "source": []
  },
  {
   "cell_type": "code",
   "execution_count": null,
   "metadata": {},
   "outputs": [],
   "source": []
  },
  {
   "cell_type": "code",
   "execution_count": null,
   "metadata": {},
   "outputs": [],
   "source": []
  },
  {
   "cell_type": "code",
   "execution_count": null,
   "metadata": {},
   "outputs": [],
   "source": []
  },
  {
   "cell_type": "code",
   "execution_count": null,
   "metadata": {},
   "outputs": [],
   "source": []
  },
  {
   "cell_type": "code",
   "execution_count": null,
   "metadata": {},
   "outputs": [],
   "source": []
  },
  {
   "cell_type": "code",
   "execution_count": null,
   "metadata": {},
   "outputs": [],
   "source": []
  },
  {
   "cell_type": "code",
   "execution_count": null,
   "metadata": {},
   "outputs": [],
   "source": []
  },
  {
   "cell_type": "code",
   "execution_count": null,
   "metadata": {},
   "outputs": [],
   "source": []
  },
  {
   "cell_type": "code",
   "execution_count": null,
   "metadata": {},
   "outputs": [],
   "source": []
  },
  {
   "cell_type": "code",
   "execution_count": null,
   "metadata": {},
   "outputs": [],
   "source": []
  },
  {
   "cell_type": "code",
   "execution_count": null,
   "metadata": {},
   "outputs": [],
   "source": []
  },
  {
   "cell_type": "code",
   "execution_count": null,
   "metadata": {},
   "outputs": [],
   "source": []
  },
  {
   "cell_type": "code",
   "execution_count": null,
   "metadata": {},
   "outputs": [],
   "source": []
  },
  {
   "cell_type": "code",
   "execution_count": null,
   "metadata": {},
   "outputs": [],
   "source": []
  },
  {
   "cell_type": "code",
   "execution_count": null,
   "metadata": {},
   "outputs": [],
   "source": []
  },
  {
   "cell_type": "code",
   "execution_count": 26,
   "metadata": {},
   "outputs": [],
   "source": [
    "# Export data\n",
    "# violation_df.to_csv('Tickets_Data.csv')"
   ]
  }
 ],
 "metadata": {
  "kernelspec": {
   "display_name": "Python 3",
   "language": "python",
   "name": "python3"
  },
  "language_info": {
   "codemirror_mode": {
    "name": "ipython",
    "version": 3
   },
   "file_extension": ".py",
   "mimetype": "text/x-python",
   "name": "python",
   "nbconvert_exporter": "python",
   "pygments_lexer": "ipython3",
   "version": "3.7.7"
  },
  "toc": {
   "base_numbering": 1,
   "nav_menu": {},
   "number_sections": true,
   "sideBar": true,
   "skip_h1_title": false,
   "title_cell": "Table of Contents",
   "title_sidebar": "Contents",
   "toc_cell": false,
   "toc_position": {
    "height": "calc(100% - 180px)",
    "left": "10px",
    "top": "150px",
    "width": "235.764px"
   },
   "toc_section_display": true,
   "toc_window_display": true
  }
 },
 "nbformat": 4,
 "nbformat_minor": 2
}
