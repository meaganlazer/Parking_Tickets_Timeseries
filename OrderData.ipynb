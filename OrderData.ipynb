{
 "cells": [
  {
   "cell_type": "markdown",
   "metadata": {},
   "source": [
    "# Imports"
   ]
  },
  {
   "cell_type": "code",
   "execution_count": 1,
   "metadata": {},
   "outputs": [],
   "source": [
    "# Import standard libraries\n",
    "import pandas as pd\n",
    "import seaborn as sns\n",
    "import numpy as np\n",
    "import matplotlib.pyplot as plt\n",
    "%matplotlib inline\n",
    "\n",
    "# API\n",
    "import requests\n",
    "import snowflake.connector\n",
    "\n",
    "# Date\n",
    "import datetime as dt\n",
    "import time\n",
    "from datetime import timedelta"
   ]
  },
  {
   "cell_type": "code",
   "execution_count": 2,
   "metadata": {},
   "outputs": [],
   "source": [
    "# # # Gets the cursor\n",
    "# con = snowflake.connector.connect(\n",
    "#     user='meagan',\n",
    "#     password='',\n",
    "#     account='hu40871.us-east-1',\n",
    "#     warehouse='ANALYSIS'\n",
    "#     )\n",
    "\n",
    "# cur = con.cursor()\n",
    "\n",
    "# # insert query here\n",
    "# cur.execute('''\n",
    "#     SELECT  * \n",
    "#     FROM    \"WAREHOUSE\".\"GOLD\".\"SUBSCRIPTION_RETENTION\"\n",
    "#            ''')\n",
    "\n",
    "# df=cur.fetch_pandas_all()\n",
    "# df.head()"
   ]
  },
  {
   "cell_type": "code",
   "execution_count": 39,
   "metadata": {},
   "outputs": [],
   "source": [
    "silver = pd.read_csv('Acuity.csv')\n",
    "gold_sub = pd.read_csv('GOLD.csv')"
   ]
  },
  {
   "cell_type": "markdown",
   "metadata": {},
   "source": [
    "## Acuity"
   ]
  },
  {
   "cell_type": "code",
   "execution_count": 47,
   "metadata": {},
   "outputs": [
    {
     "data": {
      "text/plain": [
       "(23910, 20)"
      ]
     },
     "execution_count": 47,
     "metadata": {},
     "output_type": "execute_result"
    }
   ],
   "source": [
    "# Create a copy of the DB\n",
    "silver_acuity = silver.copy()\n",
    "silver_acuity.shape"
   ]
  },
  {
   "cell_type": "code",
   "execution_count": 48,
   "metadata": {},
   "outputs": [],
   "source": [
    "# Change dates to datetime Dtype\n",
    "silver_acuity['APPOINTMENT_BODY_DATE'] = pd.to_datetime(silver_acuity['APPOINTMENT_BODY_DATE'])\n",
    "\n",
    "# Drop unneeded columns\n",
    "silver_acuity.drop(columns=['EVENT_TS', 'EVENT_TS_UTC', 'ANONYMOUS_ID','APPOINTMENT_BODY_FIRST_NAME',\n",
    "       'APPOINTMENT_BODY_DATETIME_CREATED', 'APPOINTMENT_BODY_CALENDAR_ID','APPOINTMENT_BODY_CALENDAR_TIMEZONE',\\\n",
    "                    'APPOINTMENT_BODY_TIMEZONE', 'APPOINTMENT_BODY_LAST_NAME', 'APPOINTMENT_BODY_ID',\\\n",
    "                    'APPOINTMENT_BODY_NO_SHOW', \\\n",
    "                    'APPOINTMENT_TYPE_ID'], inplace=True)\n",
    "\n",
    "# Check for null values\n",
    "# sns.heatmap(silver_acuity.isnull(), cbar=False)\n",
    "# silver_acuity.isnull().sum()"
   ]
  },
  {
   "cell_type": "code",
   "execution_count": 49,
   "metadata": {},
   "outputs": [
    {
     "data": {
      "text/plain": [
       "(23910, 8)"
      ]
     },
     "execution_count": 49,
     "metadata": {},
     "output_type": "execute_result"
    }
   ],
   "source": [
    "silver_acuity.shape"
   ]
  },
  {
   "cell_type": "code",
   "execution_count": 50,
   "metadata": {},
   "outputs": [
    {
     "data": {
      "text/plain": [
       "Hair Consultation                      19845\n",
       "Hair Mineral Analysis Appointment       2982\n",
       "Follow Up Consultation                   544\n",
       "Customer consultation                    201\n",
       "Case Study                                41\n",
       "Hair Mineral Analysis - Acquisition       19\n",
       "Name: APPOINTMENT_BODY_TYPE, dtype: int64"
      ]
     },
     "execution_count": 50,
     "metadata": {},
     "output_type": "execute_result"
    }
   ],
   "source": [
    "silver_acuity['APPOINTMENT_BODY_TYPE'].value_counts()"
   ]
  },
  {
   "cell_type": "code",
   "execution_count": 51,
   "metadata": {
    "scrolled": true
   },
   "outputs": [
    {
     "data": {
      "text/plain": [
       "appointment_scheduled    4959\n",
       "Name: EVENT, dtype: int64"
      ]
     },
     "execution_count": 51,
     "metadata": {},
     "output_type": "execute_result"
    }
   ],
   "source": [
    "# drop irrelevant appointments\n",
    "na_dict= {'appointment_canceled' : np.nan,\n",
    "'appointment_changed' : np.nan,\n",
    "'appointment_rescheduled' : np.nan}\n",
    "\n",
    "silver_acuity['EVENT'].replace(na_dict, inplace = True)\n",
    "silver_acuity.dropna(inplace = True)\n",
    "silver_acuity['EVENT'].value_counts()"
   ]
  },
  {
   "cell_type": "code",
   "execution_count": 52,
   "metadata": {},
   "outputs": [
    {
     "data": {
      "text/plain": [
       "False    4958\n",
       "True        1\n",
       "Name: APPOINTMENT_BODY_CANCELED, dtype: int64"
      ]
     },
     "execution_count": 52,
     "metadata": {},
     "output_type": "execute_result"
    }
   ],
   "source": [
    "# # drop irrelevant appointments\n",
    "# na_dict= {'True' : np.nan}\n",
    "\n",
    "# silver_acuity['APPOINTMENT_BODY_CANCELED'].replace(na_dict, inplace = True)\n",
    "# silver_acuity.dropna(inplace = True)\n",
    "# # silver_acuity['APPOINTMENT_BODY_CANCELED'].value_counts()\n",
    "\n",
    "silver_acuity['APPOINTMENT_BODY_CANCELED'].value_counts()"
   ]
  },
  {
   "cell_type": "code",
   "execution_count": 53,
   "metadata": {},
   "outputs": [
    {
     "data": {
      "text/plain": [
       "Hair Consultation                    4183\n",
       "Hair Mineral Analysis Appointment     595\n",
       "Name: APPOINTMENT_BODY_TYPE, dtype: int64"
      ]
     },
     "execution_count": 53,
     "metadata": {},
     "output_type": "execute_result"
    }
   ],
   "source": [
    "# drop irrelevant appointments\n",
    "na_dict= {'Hair Mineral Analysis - Acquisition':np.nan,\n",
    "          'Follow Up Consultation':np.nan,\n",
    "          'Customer consultation':np.nan,\n",
    "          'Case Study':np.nan}\n",
    "\n",
    "silver_acuity['APPOINTMENT_BODY_TYPE'].replace(na_dict, inplace = True)\n",
    "silver_acuity.dropna(inplace = True)\n",
    "silver_acuity['APPOINTMENT_BODY_TYPE'].value_counts()"
   ]
  },
  {
   "cell_type": "code",
   "execution_count": 54,
   "metadata": {},
   "outputs": [
    {
     "data": {
      "text/plain": [
       "True     4154\n",
       "False     624\n",
       "Name: Complete, dtype: int64"
      ]
     },
     "execution_count": 54,
     "metadata": {},
     "output_type": "execute_result"
    }
   ],
   "source": [
    "#Round to the day\n",
    "silver_acuity['APPOINTMENT_BODY_DATE'] = silver_acuity['APPOINTMENT_BODY_DATE'].dt.round('D')\n",
    "\n",
    "silver_acuity['Today'] = pd.Timestamp('today')\n",
    "silver_acuity['Today'] = silver_acuity['Today'].dt.round('D')\n",
    "\n",
    "silver_acuity['Complete'] = (silver_acuity['Today']>silver_acuity['APPOINTMENT_BODY_DATE'])\n",
    "silver_acuity['Complete'].value_counts()"
   ]
  },
  {
   "cell_type": "code",
   "execution_count": 55,
   "metadata": {
    "scrolled": true
   },
   "outputs": [
    {
     "data": {
      "text/plain": [
       "True    4154\n",
       "Name: Complete, dtype: int64"
      ]
     },
     "execution_count": 55,
     "metadata": {},
     "output_type": "execute_result"
    }
   ],
   "source": [
    "# Remove appointments in the future\n",
    "silver_acuity['Complete'] = silver_acuity['Complete'].astype('str')\n",
    "\n",
    "# drop irrelevant appointments\n",
    "na_dict= {'False' : np.nan}\n",
    "\n",
    "silver_acuity['Complete'].replace(na_dict, inplace = True)\n",
    "silver_acuity.dropna(inplace = True)\n",
    "silver_acuity['Complete'].value_counts()"
   ]
  },
  {
   "cell_type": "code",
   "execution_count": 56,
   "metadata": {},
   "outputs": [
    {
     "data": {
      "image/png": "[encoded data removed]",
      "text/plain": [
       "<Figure size 1440x432 with 1 Axes>"
      ]
     },
     "metadata": {
      "needs_background": "light"
     },
     "output_type": "display_data"
    }
   ],
   "source": [
    "# Group by event, for a visual only \n",
    "chart = silver_acuity.groupby([\"APPOINTMENT_BODY_DATE\"]).agg({'EVENT':'count'})\n",
    "chart.isna().sum()\n",
    "\n",
    "chart.plot(kind='bar',figsize=(20,6))\n",
    "plt.title(\"Appointment Date\", size= 24)\n",
    "plt.show()"
   ]
  },
  {
   "cell_type": "code",
   "execution_count": 57,
   "metadata": {},
   "outputs": [
    {
     "data": {
      "text/plain": [
       "<matplotlib.legend.Legend at 0x7fc88a69f050>"
      ]
     },
     "execution_count": 57,
     "metadata": {},
     "output_type": "execute_result"
    },
    {
     "data": {
      "image/png": "[encoded data removed]",
      "text/plain": [
       "<Figure size 432x288 with 1 Axes>"
      ]
     },
     "metadata": {
      "needs_background": "light"
     },
     "output_type": "display_data"
    }
   ],
   "source": [
    "(silver_acuity.groupby([silver_acuity['APPOINTMENT_BODY_DATE'].dt.dayofweek,\\\n",
    "                       silver_acuity['APPOINTMENT_BODY_DATE'].dt.month])\\\n",
    " ['EVENT'].count()).unstack().plot(kind='line')\n",
    "plt.legend(loc='center left', bbox_to_anchor=(1.0, 0.5))"
   ]
  },
  {
   "cell_type": "code",
   "execution_count": 58,
   "metadata": {},
   "outputs": [
    {
     "data": {
      "text/plain": [
       "Timestamp('2020-01-26 00:00:00')"
      ]
     },
     "execution_count": 58,
     "metadata": {},
     "output_type": "execute_result"
    }
   ],
   "source": [
    "min(silver_acuity['APPOINTMENT_BODY_DATE'])"
   ]
  },
  {
   "cell_type": "code",
   "execution_count": 59,
   "metadata": {},
   "outputs": [
    {
     "data": {
      "text/plain": [
       "(3596, 10)"
      ]
     },
     "execution_count": 59,
     "metadata": {},
     "output_type": "execute_result"
    }
   ],
   "source": [
    "# min(silver_acuity['APPOINTMENT_BODY_DATE'])\n",
    "# max(silver_acuity['APPOINTMENT_BODY_DATE'])\n",
    "\n",
    "# Looking at specific email addresses\n",
    "# silver_acuity.loc[silver_acuity['EMAIL']=='XXXX@yahoo.com']\n",
    "\n",
    "# AGG\n",
    "clean_acuity = silver_acuity.loc[silver_acuity.groupby('EMAIL')['APPOINTMENT_BODY_DATE'].idxmin()]\n",
    "clean_acuity.shape"
   ]
  },
  {
   "cell_type": "code",
   "execution_count": 60,
   "metadata": {},
   "outputs": [
    {
     "data": {
      "text/plain": [
       "Hair Consultation                    3238\n",
       "Hair Mineral Analysis Appointment     358\n",
       "Name: APPOINTMENT_BODY_TYPE, dtype: int64"
      ]
     },
     "execution_count": 60,
     "metadata": {},
     "output_type": "execute_result"
    }
   ],
   "source": [
    "clean_acuity['APPOINTMENT_BODY_TYPE'].value_counts()"
   ]
  },
  {
   "cell_type": "code",
   "execution_count": 61,
   "metadata": {
    "scrolled": true
   },
   "outputs": [
    {
     "name": "stdout",
     "output_type": "stream",
     "text": [
      "unique emails =  3596\n"
     ]
    }
   ],
   "source": [
    "#QA instances\n",
    "smail = clean_acuity['EMAIL'].nunique()\n",
    "print ('unique emails = ',smail)"
   ]
  },
  {
   "cell_type": "markdown",
   "metadata": {},
   "source": [
    "## SUB"
   ]
  },
  {
   "cell_type": "code",
   "execution_count": 62,
   "metadata": {},
   "outputs": [
    {
     "data": {
      "text/plain": [
       "Index(['EMAIL', 'ITEM_GENDER', 'ITEM_SUB_TYPE', 'ITEM_PRODUCT_CORE_CATEGORY',\n",
       "       'FIRST_ORDER_AT', 'TOTAL_ORDERS', 'TOTAL_ORDER_VALUE',\n",
       "       'GROSS_ORDER_VALUE'],\n",
       "      dtype='object')"
      ]
     },
     "execution_count": 62,
     "metadata": {},
     "output_type": "execute_result"
    }
   ],
   "source": [
    "# Create a copy of the dataframe\n",
    "gold = gold_sub.copy()\n",
    "gold.columns"
   ]
  },
  {
   "cell_type": "code",
   "execution_count": 63,
   "metadata": {},
   "outputs": [
    {
     "name": "stdout",
     "output_type": "stream",
     "text": [
      "<class 'pandas.core.frame.DataFrame'>\n",
      "RangeIndex: 754615 entries, 0 to 754614\n",
      "Data columns (total 8 columns):\n",
      " #   Column                      Non-Null Count   Dtype         \n",
      "---  ------                      --------------   -----         \n",
      " 0   EMAIL                       754615 non-null  object        \n",
      " 1   ITEM_GENDER                 754573 non-null  object        \n",
      " 2   ITEM_SUB_TYPE               754573 non-null  object        \n",
      " 3   ITEM_PRODUCT_CORE_CATEGORY  754573 non-null  object        \n",
      " 4   FIRST_ORDER_AT              754615 non-null  datetime64[ns]\n",
      " 5   TOTAL_ORDERS                754382 non-null  float64       \n",
      " 6   TOTAL_ORDER_VALUE           754382 non-null  float64       \n",
      " 7   GROSS_ORDER_VALUE           754587 non-null  float64       \n",
      "dtypes: datetime64[ns](1), float64(3), object(4)\n",
      "memory usage: 46.1+ MB\n"
     ]
    }
   ],
   "source": [
    "# Change dates to datetime \n",
    "gold['FIRST_ORDER_AT'] = pd.to_datetime(gold['FIRST_ORDER_AT'])\n",
    "gold.info()"
   ]
  },
  {
   "cell_type": "code",
   "execution_count": 64,
   "metadata": {},
   "outputs": [
    {
     "name": "stdout",
     "output_type": "stream",
     "text": [
      "shape =  (754615, 8)\n",
      "unique emails =  96057\n"
     ]
    }
   ],
   "source": [
    "# min(gold['FIRST_ORDER_AT'])\n",
    "# max(gold['FIRST_ORDER_AT'])\n",
    "\n",
    "yyy = gold.shape\n",
    "gemail = gold['EMAIL'].nunique()\n",
    "print ('shape = ',yyy)\n",
    "print ('unique emails = ',gemail)"
   ]
  },
  {
   "cell_type": "code",
   "execution_count": 65,
   "metadata": {},
   "outputs": [
    {
     "data": {
      "text/plain": [
       "(96057, 8)"
      ]
     },
     "execution_count": 65,
     "metadata": {},
     "output_type": "execute_result"
    }
   ],
   "source": [
    "# AGG\n",
    "\n",
    "df = gold.loc[gold.groupby('EMAIL')['GROSS_ORDER_VALUE'].idxmin()]\n",
    "df.shape"
   ]
  },
  {
   "cell_type": "code",
   "execution_count": 66,
   "metadata": {},
   "outputs": [
    {
     "name": "stdout",
     "output_type": "stream",
     "text": [
      "Subscription Total Order Value =  325.65437181110286\n",
      "Subscription Total Orders =  3.9346925175451384\n",
      "Subscription Total Orders =  3.9346925175451384\n"
     ]
    }
   ],
   "source": [
    "df_total = df['TOTAL_ORDER_VALUE'].mean()\n",
    "print('Subscription Total Order Value = ',df_total)\n",
    "\n",
    "df_items  = df['TOTAL_ORDERS'].mean()\n",
    "print('Subscription Total Orders = ',df_items)\n",
    "\n",
    "df_orders = df['TOTAL_ORDERS'].mean()\n",
    "print('Subscription Total Orders = ',df_orders)"
   ]
  },
  {
   "cell_type": "markdown",
   "metadata": {},
   "source": [
    "## Merge"
   ]
  },
  {
   "cell_type": "code",
   "execution_count": 67,
   "metadata": {},
   "outputs": [
    {
     "data": {
      "text/plain": [
       "(3596, 17)"
      ]
     },
     "execution_count": 67,
     "metadata": {},
     "output_type": "execute_result"
    }
   ],
   "source": [
    "sub1 = pd.merge(clean_acuity,df,how='left',on='EMAIL')\n",
    "sub1.shape"
   ]
  },
  {
   "cell_type": "code",
   "execution_count": 68,
   "metadata": {},
   "outputs": [],
   "source": [
    "# Create a copy of the dataframe\n",
    "sub = sub1.copy()\n",
    "\n",
    "# sub = sub[[ 'EMAIL','APPOINTMENT_BODY_DATE', 'FIRST_ORDER_AT',\\\n",
    "#            'ITEM_PRODUCT_CORE_CATEGORY', 'ITEM_SUB_TYPE','TOTAL_ITEMS','TOTAL_ORDERS',\n",
    "#            'ITEM_NAME', 'ITEM_GENDER', 'GROSS_ORDER_VALUE','TOTAL_ORDER_VALUE','SUBSCRIPTION_ID']]"
   ]
  },
  {
   "cell_type": "code",
   "execution_count": 69,
   "metadata": {},
   "outputs": [
    {
     "name": "stdout",
     "output_type": "stream",
     "text": [
      "Subscription Total Order Value =  325.65437181110286\n",
      "Sub + Consult Total Order Value =  354.1359966287379\n",
      "Subscription Total Orders =  3.9346925175451384\n",
      "Sub + Consult Total Orders =  4.33164770332912\n",
      "Subscription Total Orders =  3.9346925175451384\n",
      "Sub + Consult Total Orders =  4.33164770332912\n"
     ]
    }
   ],
   "source": [
    "df_total = df['TOTAL_ORDER_VALUE'].mean()\n",
    "sub_total = sub['TOTAL_ORDER_VALUE'].mean()\n",
    "print('Subscription Total Order Value = ',df_total)\n",
    "print('Sub + Consult Total Order Value = ',sub_total)\n",
    "\n",
    "df_items = df['TOTAL_ORDERS'].mean()\n",
    "sub_items = sub['TOTAL_ORDERS'].mean()\n",
    "print('Subscription Total Orders = ',df_items)\n",
    "print('Sub + Consult Total Orders = ',sub_items)\n",
    "\n",
    "df_orders = df['TOTAL_ORDERS'].mean()\n",
    "sub_total = sub['TOTAL_ORDERS'].mean()\n",
    "print('Subscription Total Orders = ',df_orders)\n",
    "print('Sub + Consult Total Orders = ',sub_total)"
   ]
  },
  {
   "cell_type": "code",
   "execution_count": 70,
   "metadata": {
    "scrolled": true
   },
   "outputs": [
    {
     "name": "stdout",
     "output_type": "stream",
     "text": [
      "unique emails =  3596\n"
     ]
    }
   ],
   "source": [
    "sub['FIRST_ORDER_AT']=pd.to_datetime(sub['FIRST_ORDER_AT'])\n",
    "\n",
    "sub['TimeDifference'] = \\\n",
    "(((sub['APPOINTMENT_BODY_DATE']))-(sub['FIRST_ORDER_AT']))\n",
    "\n",
    "submail = sub['EMAIL'].nunique()\n",
    "print ('unique emails = ',submail)"
   ]
  },
  {
   "cell_type": "code",
   "execution_count": 71,
   "metadata": {},
   "outputs": [],
   "source": [
    "# Shouldn't need this\n",
    "# df['GROSS_ORDER_VALUE']=df['GROSS_ORDER_VALUE'].astype(float, errors='ignore')\n",
    "# sub['GROSS_ORDER_VALUE'] = sub['GROSS_ORDER_VALUE'].astype(float, errors='ignore')\n",
    "# df['TOTAL_ORDER_VALUE'] = df['TOTAL_ORDER_VALUE'].astype(float, errors='ignore')\n",
    "# sub['TOTAL_ORDER_VALUE'] = sub['TOTAL_ORDER_VALUE'].astype(float, errors='ignore')\n",
    "# df['TOTAL_ITEMS']  = df['TOTAL_ITEMS'].astype(float, errors='ignore')\n",
    "# df['TOTAL_ORDERS'] = df['TOTAL_ORDERS'].astype(float, errors='ignore')"
   ]
  },
  {
   "cell_type": "code",
   "execution_count": 72,
   "metadata": {},
   "outputs": [
    {
     "data": {
      "text/plain": [
       "GrowthPlan      1040\n",
       "GrowthPlan 3     816\n",
       "GrowthPlan 2     498\n",
       "Combination       19\n",
       "Name: ITEM_SUB_TYPE, dtype: int64"
      ]
     },
     "execution_count": 72,
     "metadata": {},
     "output_type": "execute_result"
    }
   ],
   "source": [
    "# clean up item sub\n",
    "sub.loc[sub['ITEM_SUB_TYPE'] =='GrowthPlan,GrowthPlan 2']= 'Combination'\n",
    "sub.loc[sub['ITEM_SUB_TYPE'] =='Non-Sub,GrowthPlan 3', 'ITEM_SUB_TYPE']= 'Combination'\n",
    "sub.loc[sub['ITEM_SUB_TYPE'] =='GrowthPlan,Non-Sub', 'ITEM_SUB_TYPE']= 'Combination'\n",
    "sub.loc[sub['ITEM_SUB_TYPE'] =='GrowthPlan 3,GrowthPlan', 'ITEM_SUB_TYPE']= 'Combination'\n",
    "sub.loc[sub['ITEM_SUB_TYPE'] =='GrowthPlan,GrowthPlan', 'ITEM_SUB_TYPE']= 'Combination'\n",
    "sub.loc[sub['ITEM_SUB_TYPE'] =='GrowthPlan 3,GrowthPlan 3', 'ITEM_SUB_TYPE']= 'Combination'\n",
    "sub.loc[sub['ITEM_SUB_TYPE'] =='GrowthPlan,GrowthPlan 3', 'ITEM_SUB_TYPE']= 'Combination'\n",
    "sub.loc[sub['ITEM_SUB_TYPE'] =='GrowthPlan,GrowthPlan,GrowthPlan 3,GrowthPlan 3', 'ITEM_SUB_TYPE']= 'Combination'\n",
    "sub.loc[sub['ITEM_SUB_TYPE'] =='GrowthPlan 3,GrowthPlan 2,GrowthPlan 3,GrowthPlan 3']= 'Combination'\n",
    "sub.loc[sub['ITEM_SUB_TYPE'] =='Non-Sub,GrowthPlan 3,Non-Sub', 'ITEM_SUB_TYPE']= 'Combination'\n",
    "sub.loc[sub['ITEM_SUB_TYPE'] =='GrowthPlan 3,Non-Sub', 'ITEM_SUB_TYPE']= 'Combination'\n",
    "sub.loc[sub['ITEM_SUB_TYPE'] =='Prepay 6', 'ITEM_SUB_TYPE']= 'Combination'\n",
    "sub.loc[sub['ITEM_SUB_TYPE'] =='GrowthPlan 3,GrowthPlan', 'ITEM_SUB_TYPE']= 'Combination'\n",
    "sub.loc[sub['ITEM_SUB_TYPE'] =='GrowthPlan 3,GrowthPlan,GrowthPlan', 'ITEM_SUB_TYPE']= 'Combination'\n",
    "sub.loc[sub['ITEM_SUB_TYPE'] =='Non-Sub,GrowthPlan 3,GrowthPlan 3,GrowthPlan 2,GrowthPlan 3,GrowthPlan 3,GrowthPlan 3,GrowthPlan 2', 'ITEM_SUB_TYPE']= 'Combination'\n",
    "sub.loc[sub['ITEM_SUB_TYPE'] =='GrowthPlan 3,GrowthPlan 3,GrowthPlan 2,GrowthPlan 3', 'ITEM_SUB_TYPE']= 'Combination'\n",
    "sub.loc[sub['ITEM_SUB_TYPE'] =='GrowthPlan 2,GrowthPlan 2', 'ITEM_SUB_TYPE']= 'Combination'\n",
    "sub.loc[sub['ITEM_SUB_TYPE'] =='GrowthPlan 2,GrowthPlan ', 'ITEM_SUB_TYPE']= 'Combination'\n",
    "sub.loc[sub['ITEM_SUB_TYPE'] =='GrowthPlan 3,GrowthPlan 2', 'ITEM_SUB_TYPE']= 'Combination'\n",
    "sub.loc[sub['ITEM_SUB_TYPE'] =='GrowthPlan 2,GrowthPlan 3']= 'Combination'\n",
    "sub.loc[sub['ITEM_SUB_TYPE'] =='GrowthPlan,GrowthPlan,GrowthPlan', 'ITEM_SUB_TYPE']= 'Combination'\n",
    "sub.loc[sub['ITEM_SUB_TYPE'] =='GrowthPlan 2,Non-Sub', 'ITEM_SUB_TYPE']= 'Combination'\n",
    "sub.loc[sub['ITEM_SUB_TYPE'] =='Non-Sub,GrowthPlan']= 'Combination'\n",
    "sub.loc[sub['ITEM_SUB_TYPE'] =='GrowthPlan 2,GrowthPlan,GrowthPlan 3', 'ITEM_SUB_TYPE']= 'Combination'\n",
    "sub.loc[sub['ITEM_SUB_TYPE'] =='GrowthPlan 3,GrowthPlan 3,Non-Sub']= 'Combination'\n",
    "sub.loc[sub['ITEM_SUB_TYPE'] =='Non-Sub,GrowthPlan 2']= 'Combination'\n",
    "sub.loc[sub['ITEM_SUB_TYPE'] =='GrowthPlan 2,GrowthPlan']= 'Combination'\n",
    "\n",
    "sub['ITEM_SUB_TYPE'].value_counts()"
   ]
  },
  {
   "cell_type": "code",
   "execution_count": 73,
   "metadata": {},
   "outputs": [
    {
     "data": {
      "text/plain": [
       "Women              1195\n",
       "Balance             799\n",
       "Men                 372\n",
       "Men,Women             3\n",
       "Women,Women           2\n",
       "Men,Balance           1\n",
       "Balance,Balance       1\n",
       "Name: ITEM_PRODUCT_CORE_CATEGORY, dtype: int64"
      ]
     },
     "execution_count": 73,
     "metadata": {},
     "output_type": "execute_result"
    }
   ],
   "source": [
    "sub.loc[sub['ITEM_PRODUCT_CORE_CATEGORY'] =='Women,Men']= 'Women'\n",
    "sub.loc[sub['ITEM_PRODUCT_CORE_CATEGORY'] =='Combination']= 'Balance'\n",
    "sub.loc[sub['ITEM_PRODUCT_CORE_CATEGORY'] =='Women,Balance']= 'Balance'\n",
    "sub.loc[sub['ITEM_PRODUCT_CORE_CATEGORY'] =='Men,Men']= 'Men'\n",
    "sub.loc[sub['ITEM_PRODUCT_CORE_CATEGORY'] =='Balance,Men']= 'Balance'\n",
    "sub.loc[sub['ITEM_PRODUCT_CORE_CATEGORY'] =='Men,Women,Women']= 'Women'\n",
    "\n",
    "sub['ITEM_PRODUCT_CORE_CATEGORY'].value_counts()"
   ]
  },
  {
   "cell_type": "code",
   "execution_count": 74,
   "metadata": {},
   "outputs": [
    {
     "data": {
      "text/plain": [
       "Women          1986\n",
       "Men             372\n",
       "Balance           8\n",
       "Men,Women         4\n",
       "Women,Women       3\n",
       "Name: ITEM_GENDER, dtype: int64"
      ]
     },
     "execution_count": 74,
     "metadata": {},
     "output_type": "execute_result"
    }
   ],
   "source": [
    "# # clean up item gender\n",
    "# gold.loc[gold['ITEM_GENDER'] =='Men,Women', 'ITEM_GENDER']= 'Combination'\n",
    "# gold.loc[gold['ITEM_GENDER'] =='Women,Men,Women', 'ITEM_GENDER']= 'Combination'\n",
    "# gold.loc[gold['ITEM_GENDER'] =='Men,Women,Men,Women,Women,Women,Men,Men', 'ITEM_GENDER']= 'Combination'\n",
    "# gold.loc[gold['ITEM_GENDER'] =='Men,Women,Women', 'ITEM_GENDER']= 'Combination'\n",
    "# gold.loc[gold['ITEM_GENDER'] =='Women,Women,Men', 'ITEM_GENDER']= 'Combination'\n",
    "# gold.loc[gold['ITEM_GENDER'] =='Women,Men,Women,Women', 'ITEM_GENDER']= 'Combination'\n",
    "# gold.loc[gold['ITEM_GENDER'] =='Women,Men', 'ITEM_GENDER']= 'Combination'\n",
    "# gold.loc[gold['ITEM_GENDER'] =='Women,All', 'ITEM_GENDER']= 'Women'\n",
    "# gold.loc[gold['ITEM_GENDER'] =='Women,Women,Women,Women', 'ITEM_GENDER']= 'Women'\n",
    "# gold.loc[gold['ITEM_GENDER'] =='Women,Women', 'ITEM_GENDER']= 'Women'\n",
    "# gold.loc[gold['ITEM_GENDER'] =='Men,Men', 'ITEM_GENDER']= 'Men'\n",
    "# gold.loc[gold['ITEM_GENDER'] =='Women,Women,Men,Women,Men,Men,Men,Women', 'ITEM_GENDER']= 'Combination'\n",
    "# gold.loc[gold['ITEM_GENDER'] =='Women,Women,Women,Men']= 'Women'\n",
    "\n",
    "sub['ITEM_GENDER'].value_counts()"
   ]
  },
  {
   "cell_type": "code",
   "execution_count": 75,
   "metadata": {},
   "outputs": [],
   "source": [
    "# Export data\n",
    "sub.to_csv('sub.csv')"
   ]
  },
  {
   "cell_type": "code",
   "execution_count": null,
   "metadata": {},
   "outputs": [],
   "source": []
  },
  {
   "cell_type": "code",
   "execution_count": null,
   "metadata": {},
   "outputs": [],
   "source": []
  },
  {
   "cell_type": "code",
   "execution_count": null,
   "metadata": {},
   "outputs": [],
   "source": []
  },
  {
   "cell_type": "code",
   "execution_count": null,
   "metadata": {},
   "outputs": [],
   "source": []
  },
  {
   "cell_type": "code",
   "execution_count": null,
   "metadata": {},
   "outputs": [],
   "source": []
  },
  {
   "cell_type": "code",
   "execution_count": null,
   "metadata": {},
   "outputs": [],
   "source": []
  }
 ],
 "metadata": {
  "kernelspec": {
   "display_name": "Python 3",
   "language": "python",
   "name": "python3"
  },
  "language_info": {
   "codemirror_mode": {
    "name": "ipython",
    "version": 3
   },
   "file_extension": ".py",
   "mimetype": "text/x-python",
   "name": "python",
   "nbconvert_exporter": "python",
   "pygments_lexer": "ipython3",
   "version": "3.7.9"
  },
  "toc": {
   "base_numbering": 1,
   "nav_menu": {},
   "number_sections": true,
   "sideBar": true,
   "skip_h1_title": false,
   "title_cell": "Table of Contents",
   "title_sidebar": "Contents",
   "toc_cell": false,
   "toc_position": {
    "height": "calc(100% - 180px)",
    "left": "10px",
    "top": "150px",
    "width": "235.75px"
   },
   "toc_section_display": true,
   "toc_window_display": true
  }
 },
 "nbformat": 4,
 "nbformat_minor": 2
}
