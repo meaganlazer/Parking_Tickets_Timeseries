{
 "cells": [
  {
   "cell_type": "markdown",
   "metadata": {},
   "source": [
    "# Imports"
   ]
  },
  {
   "cell_type": "code",
   "execution_count": 1,
   "metadata": {},
   "outputs": [],
   "source": [
    "# Import standard libraries\n",
    "import pandas as pd\n",
    "import seaborn as sns\n",
    "import numpy as np\n",
    "import matplotlib.pyplot as plt\n",
    "%matplotlib inline\n",
    "\n",
    "# API\n",
    "import requests\n",
    "import json\n",
    "import os\n",
    "# from sodapy import Socrata\n",
    "\n",
    "# Datetime\n",
    "import datetime as datetime\n",
    "\n",
    "import snowflake.connector\n",
    "# Date\n",
    "import datetime as dt\n",
    "import time\n",
    "from datetime import timedelta\n",
    "\n",
    "#Math\n",
    "from math import exp"
   ]
  },
  {
   "cell_type": "code",
   "execution_count": 2,
   "metadata": {},
   "outputs": [],
   "source": [
    "# # Gets the cursor\n",
    "# con = snowflake.connector.connect(\n",
    "#     user='meagan',\n",
    "#     password='',\n",
    "#     account='hu40871.us-east-1',\n",
    "#     warehouse='ANALYSIS'\n",
    "#     )\n",
    "# cur = con.cursor()\n",
    "\n",
    "# # insert query here\n",
    "# cur.execute('''\n",
    "#     SELECT  * \n",
    "#     FROM    \"WAREHOUSE\".\"GOLD\".\"SUBSCRIPTION_RETENTION\"\n",
    "#            ''')"
   ]
  },
  {
   "cell_type": "markdown",
   "metadata": {},
   "source": [
    "## Acuity"
   ]
  },
  {
   "cell_type": "code",
   "execution_count": 3,
   "metadata": {},
   "outputs": [
    {
     "data": {
      "text/html": [
       "<div>\n",
       "<style scoped>\n",
       "    .dataframe tbody tr th:only-of-type {\n",
       "        vertical-align: middle;\n",
       "    }\n",
       "\n",
       "    .dataframe tbody tr th {\n",
       "        vertical-align: top;\n",
       "    }\n",
       "\n",
       "    .dataframe thead th {\n",
       "        text-align: right;\n",
       "    }\n",
       "</style>\n",
       "<table border=\"1\" class=\"dataframe\">\n",
       "  <thead>\n",
       "    <tr style=\"text-align: right;\">\n",
       "      <th></th>\n",
       "      <th>EVENT_TS</th>\n",
       "      <th>EVENT_TS_UTC</th>\n",
       "      <th>ANONYMOUS_ID</th>\n",
       "      <th>EVENT</th>\n",
       "      <th>APPOINTMENT_BODY_CALENDAR</th>\n",
       "      <th>APPOINTMENT_BODY_FIRST_NAME</th>\n",
       "      <th>APPOINTMENT_BODY_DATETIME_CREATED</th>\n",
       "      <th>APPOINTMENT_BODY_CALENDAR_ID</th>\n",
       "      <th>APPOINTMENT_BODY_CALENDAR_TIMEZONE</th>\n",
       "      <th>EMAIL</th>\n",
       "      <th>APPOINTMENT_BODY_DATE</th>\n",
       "      <th>APPOINTMENT_BODY_DURATION</th>\n",
       "      <th>APPOINTMENT_BODY_TIMEZONE</th>\n",
       "      <th>APPOINTMENT_DATE_TIME</th>\n",
       "      <th>APPOINTMENT_BODY_LAST_NAME</th>\n",
       "      <th>APPOINTMENT_BODY_TYPE</th>\n",
       "      <th>APPOINTMENT_BODY_ID</th>\n",
       "      <th>APPOINTMENT_TYPE_ID</th>\n",
       "      <th>APPOINTMENT_BODY_CANCELED</th>\n",
       "      <th>APPOINTMENT_BODY_NO_SHOW</th>\n",
       "    </tr>\n",
       "  </thead>\n",
       "  <tbody>\n",
       "    <tr>\n",
       "      <th>0</th>\n",
       "      <td>2020-10-25 08:37:35.955</td>\n",
       "      <td>2020-10-25 15:37:35.955</td>\n",
       "      <td>464303198</td>\n",
       "      <td>appointment_scheduled</td>\n",
       "      <td>Dr. Anya Arthen, ND</td>\n",
       "      <td>Ginger</td>\n",
       "      <td>2020-10-25 10:37:32.000</td>\n",
       "      <td>3513713.0</td>\n",
       "      <td>America/New_York</td>\n",
       "      <td>ginger.deshotels@icloud.com</td>\n",
       "      <td>November 4, 2020</td>\n",
       "      <td>20.0</td>\n",
       "      <td>America/Chicago</td>\n",
       "      <td>2020-11-04 12:50:00.000</td>\n",
       "      <td>Deshotels</td>\n",
       "      <td>Hair Consultation</td>\n",
       "      <td>464303198.0</td>\n",
       "      <td>12799707.0</td>\n",
       "      <td>False</td>\n",
       "      <td>NaN</td>\n",
       "    </tr>\n",
       "    <tr>\n",
       "      <th>1</th>\n",
       "      <td>2020-10-06 16:33:10.415</td>\n",
       "      <td>2020-10-06 23:33:10.415</td>\n",
       "      <td>454504090</td>\n",
       "      <td>appointment_scheduled</td>\n",
       "      <td>Dr. Ariana Zastrow, ND</td>\n",
       "      <td>Vivian</td>\n",
       "      <td>2020-10-06 18:33:07.000</td>\n",
       "      <td>3684820.0</td>\n",
       "      <td>America/New_York</td>\n",
       "      <td>vburgess53@icloud.com</td>\n",
       "      <td>October 8, 2020</td>\n",
       "      <td>15.0</td>\n",
       "      <td>America/New_York</td>\n",
       "      <td>2020-10-08 17:30:00.000</td>\n",
       "      <td>Burgess</td>\n",
       "      <td>Follow Up Consultation</td>\n",
       "      <td>454504090.0</td>\n",
       "      <td>16040988.0</td>\n",
       "      <td>False</td>\n",
       "      <td>NaN</td>\n",
       "    </tr>\n",
       "    <tr>\n",
       "      <th>2</th>\n",
       "      <td>2020-12-12 06:29:43.878</td>\n",
       "      <td>2020-12-12 14:29:43.878</td>\n",
       "      <td>489836193</td>\n",
       "      <td>appointment_scheduled</td>\n",
       "      <td>Dr. Katelyn Cloyd, ND</td>\n",
       "      <td>Giovanni</td>\n",
       "      <td>2020-12-12 08:29:41.000</td>\n",
       "      <td>3508236.0</td>\n",
       "      <td>America/New_York</td>\n",
       "      <td>ruciglione@gmail.com</td>\n",
       "      <td>January 7, 2021</td>\n",
       "      <td>20.0</td>\n",
       "      <td>America/New_York</td>\n",
       "      <td>2021-01-07 17:05:00.000</td>\n",
       "      <td>Turi</td>\n",
       "      <td>Hair Consultation</td>\n",
       "      <td>489836193.0</td>\n",
       "      <td>12799707.0</td>\n",
       "      <td>False</td>\n",
       "      <td>NaN</td>\n",
       "    </tr>\n",
       "    <tr>\n",
       "      <th>3</th>\n",
       "      <td>2020-12-05 17:46:52.374</td>\n",
       "      <td>2020-12-06 01:46:52.374</td>\n",
       "      <td>486300624</td>\n",
       "      <td>appointment_scheduled</td>\n",
       "      <td>Dr. Katelyn Cloyd, ND</td>\n",
       "      <td>Nancy</td>\n",
       "      <td>2020-12-05 19:46:49.000</td>\n",
       "      <td>3508236.0</td>\n",
       "      <td>America/New_York</td>\n",
       "      <td>njoymann50@aol.com</td>\n",
       "      <td>December 22, 2020</td>\n",
       "      <td>20.0</td>\n",
       "      <td>America/New_York</td>\n",
       "      <td>2020-12-22 13:00:00.000</td>\n",
       "      <td>Mann</td>\n",
       "      <td>Hair Consultation</td>\n",
       "      <td>486300624.0</td>\n",
       "      <td>12799707.0</td>\n",
       "      <td>False</td>\n",
       "      <td>NaN</td>\n",
       "    </tr>\n",
       "    <tr>\n",
       "      <th>4</th>\n",
       "      <td>2021-01-06 01:34:32.789</td>\n",
       "      <td>2021-01-06 09:34:32.789</td>\n",
       "      <td>502063803</td>\n",
       "      <td>appointment_scheduled</td>\n",
       "      <td>Dr. Anya Arthen, ND</td>\n",
       "      <td>kendra</td>\n",
       "      <td>2021-01-06 03:34:29.000</td>\n",
       "      <td>3513713.0</td>\n",
       "      <td>America/New_York</td>\n",
       "      <td>kendralinde@gmail.com</td>\n",
       "      <td>January 22, 2021</td>\n",
       "      <td>20.0</td>\n",
       "      <td>America/New_York</td>\n",
       "      <td>2021-01-22 13:15:00.000</td>\n",
       "      <td>Linde</td>\n",
       "      <td>Hair Consultation</td>\n",
       "      <td>502063803.0</td>\n",
       "      <td>12047150.0</td>\n",
       "      <td>False</td>\n",
       "      <td>NaN</td>\n",
       "    </tr>\n",
       "  </tbody>\n",
       "</table>\n",
       "</div>"
      ],
      "text/plain": [
       "                  EVENT_TS             EVENT_TS_UTC  ANONYMOUS_ID  \\\n",
       "0  2020-10-25 08:37:35.955  2020-10-25 15:37:35.955     464303198   \n",
       "1  2020-10-06 16:33:10.415  2020-10-06 23:33:10.415     454504090   \n",
       "2  2020-12-12 06:29:43.878  2020-12-12 14:29:43.878     489836193   \n",
       "3  2020-12-05 17:46:52.374  2020-12-06 01:46:52.374     486300624   \n",
       "4  2021-01-06 01:34:32.789  2021-01-06 09:34:32.789     502063803   \n",
       "\n",
       "                   EVENT APPOINTMENT_BODY_CALENDAR  \\\n",
       "0  appointment_scheduled       Dr. Anya Arthen, ND   \n",
       "1  appointment_scheduled   Dr. Ariana Zastrow, ND    \n",
       "2  appointment_scheduled     Dr. Katelyn Cloyd, ND   \n",
       "3  appointment_scheduled     Dr. Katelyn Cloyd, ND   \n",
       "4  appointment_scheduled       Dr. Anya Arthen, ND   \n",
       "\n",
       "  APPOINTMENT_BODY_FIRST_NAME APPOINTMENT_BODY_DATETIME_CREATED  \\\n",
       "0                      Ginger           2020-10-25 10:37:32.000   \n",
       "1                      Vivian           2020-10-06 18:33:07.000   \n",
       "2                    Giovanni           2020-12-12 08:29:41.000   \n",
       "3                       Nancy           2020-12-05 19:46:49.000   \n",
       "4                      kendra           2021-01-06 03:34:29.000   \n",
       "\n",
       "   APPOINTMENT_BODY_CALENDAR_ID APPOINTMENT_BODY_CALENDAR_TIMEZONE  \\\n",
       "0                     3513713.0                   America/New_York   \n",
       "1                     3684820.0                   America/New_York   \n",
       "2                     3508236.0                   America/New_York   \n",
       "3                     3508236.0                   America/New_York   \n",
       "4                     3513713.0                   America/New_York   \n",
       "\n",
       "                         EMAIL APPOINTMENT_BODY_DATE  \\\n",
       "0  ginger.deshotels@icloud.com      November 4, 2020   \n",
       "1        vburgess53@icloud.com       October 8, 2020   \n",
       "2         ruciglione@gmail.com       January 7, 2021   \n",
       "3           njoymann50@aol.com     December 22, 2020   \n",
       "4        kendralinde@gmail.com      January 22, 2021   \n",
       "\n",
       "   APPOINTMENT_BODY_DURATION APPOINTMENT_BODY_TIMEZONE  \\\n",
       "0                       20.0           America/Chicago   \n",
       "1                       15.0          America/New_York   \n",
       "2                       20.0          America/New_York   \n",
       "3                       20.0          America/New_York   \n",
       "4                       20.0          America/New_York   \n",
       "\n",
       "     APPOINTMENT_DATE_TIME APPOINTMENT_BODY_LAST_NAME   APPOINTMENT_BODY_TYPE  \\\n",
       "0  2020-11-04 12:50:00.000                  Deshotels       Hair Consultation   \n",
       "1  2020-10-08 17:30:00.000                    Burgess  Follow Up Consultation   \n",
       "2  2021-01-07 17:05:00.000                       Turi       Hair Consultation   \n",
       "3  2020-12-22 13:00:00.000                       Mann       Hair Consultation   \n",
       "4  2021-01-22 13:15:00.000                      Linde       Hair Consultation   \n",
       "\n",
       "   APPOINTMENT_BODY_ID  APPOINTMENT_TYPE_ID APPOINTMENT_BODY_CANCELED  \\\n",
       "0          464303198.0           12799707.0                     False   \n",
       "1          454504090.0           16040988.0                     False   \n",
       "2          489836193.0           12799707.0                     False   \n",
       "3          486300624.0           12799707.0                     False   \n",
       "4          502063803.0           12047150.0                     False   \n",
       "\n",
       "  APPOINTMENT_BODY_NO_SHOW  \n",
       "0                      NaN  \n",
       "1                      NaN  \n",
       "2                      NaN  \n",
       "3                      NaN  \n",
       "4                      NaN  "
      ]
     },
     "execution_count": 3,
     "metadata": {},
     "output_type": "execute_result"
    }
   ],
   "source": [
    "silver = pd.read_csv('Acuity.csv')\n",
    "silver.head()"
   ]
  },
  {
   "cell_type": "code",
   "execution_count": 4,
   "metadata": {},
   "outputs": [
    {
     "data": {
      "text/plain": [
       "(19861, 20)"
      ]
     },
     "execution_count": 4,
     "metadata": {},
     "output_type": "execute_result"
    }
   ],
   "source": [
    "# Create a copy of the DB\n",
    "silver_acuity = silver.copy()\n",
    "silver_acuity.shape"
   ]
  },
  {
   "cell_type": "code",
   "execution_count": 5,
   "metadata": {},
   "outputs": [
    {
     "data": {
      "text/plain": [
       "EVENT                          0\n",
       "APPOINTMENT_BODY_CALENDAR    278\n",
       "EMAIL                        353\n",
       "APPOINTMENT_BODY_DATE        278\n",
       "APPOINTMENT_BODY_DURATION    278\n",
       "APPOINTMENT_DATE_TIME        278\n",
       "APPOINTMENT_BODY_TYPE        278\n",
       "APPOINTMENT_BODY_CANCELED    278\n",
       "dtype: int64"
      ]
     },
     "execution_count": 5,
     "metadata": {},
     "output_type": "execute_result"
    }
   ],
   "source": [
    "# Change dates to datetime Dtype\n",
    "silver_acuity['APPOINTMENT_BODY_DATE'] = pd.to_datetime(silver_acuity['APPOINTMENT_BODY_DATE'])\n",
    "# silver_acuity.columns\n",
    "\n",
    "# Drop unneeded columns\n",
    "silver_acuity.drop(columns=['EVENT_TS', 'EVENT_TS_UTC', 'ANONYMOUS_ID','APPOINTMENT_BODY_FIRST_NAME',\n",
    "       'APPOINTMENT_BODY_DATETIME_CREATED', 'APPOINTMENT_BODY_CALENDAR_ID','APPOINTMENT_BODY_CALENDAR_TIMEZONE',\\\n",
    "                    'APPOINTMENT_BODY_TIMEZONE', 'APPOINTMENT_BODY_LAST_NAME', 'APPOINTMENT_BODY_ID',\\\n",
    "                    'APPOINTMENT_BODY_NO_SHOW', \\\n",
    "                    'APPOINTMENT_TYPE_ID'], inplace=True)\n",
    "\n",
    "silver_acuity.isnull().sum()\n",
    "# Check for null values\n",
    "# sns.heatmap(silver_acuity.isnull(), cbar=False)"
   ]
  },
  {
   "cell_type": "code",
   "execution_count": 6,
   "metadata": {
    "scrolled": true
   },
   "outputs": [
    {
     "data": {
      "text/plain": [
       "appointment_scheduled    4006\n",
       "Name: EVENT, dtype: int64"
      ]
     },
     "execution_count": 6,
     "metadata": {},
     "output_type": "execute_result"
    }
   ],
   "source": [
    "# drop irrelevant appointments\n",
    "na_dict= {'appointment_canceled' : np.nan,\n",
    "'appointment_changed' : np.nan,\n",
    "'appointment_rescheduled' : np.nan}\n",
    "\n",
    "silver_acuity['EVENT'].replace(na_dict, inplace = True)\n",
    "silver_acuity.dropna(inplace = True)\n",
    "silver_acuity['EVENT'].value_counts()"
   ]
  },
  {
   "cell_type": "code",
   "execution_count": 7,
   "metadata": {},
   "outputs": [
    {
     "data": {
      "text/plain": [
       "Hair Consultation                      3400\n",
       "Hair Mineral Analysis - Acquisition       3\n",
       "Name: APPOINTMENT_BODY_TYPE, dtype: int64"
      ]
     },
     "execution_count": 7,
     "metadata": {},
     "output_type": "execute_result"
    }
   ],
   "source": [
    "# drop irrelevant appointments\n",
    "na_dict= {'Hair Mineral Analysis Appointment':np.nan,\n",
    "          'Follow Up Consultation':np.nan,\n",
    "          'Customer consultation':np.nan,\n",
    "          'Case Study':np.nan}\n",
    "\n",
    "silver_acuity['APPOINTMENT_BODY_TYPE'].replace(na_dict, inplace = True)\n",
    "silver_acuity.dropna(inplace = True)\n",
    "silver_acuity['APPOINTMENT_BODY_TYPE'].value_counts()"
   ]
  },
  {
   "cell_type": "code",
   "execution_count": 8,
   "metadata": {},
   "outputs": [
    {
     "data": {
      "text/plain": [
       "True     3072\n",
       "False     331\n",
       "Name: Complete, dtype: int64"
      ]
     },
     "execution_count": 8,
     "metadata": {},
     "output_type": "execute_result"
    }
   ],
   "source": [
    "#Round to the day\n",
    "silver_acuity['APPOINTMENT_BODY_DATE'] = silver_acuity['APPOINTMENT_BODY_DATE'].dt.round('D')\n",
    "\n",
    "silver_acuity['Today'] = pd.Timestamp('today')\n",
    "silver_acuity['Today'] = silver_acuity['Today'].dt.round('D')\n",
    "\n",
    "silver_acuity['Complete'] = (silver_acuity['Today']>silver_acuity['APPOINTMENT_BODY_DATE'])\n",
    "silver_acuity['Complete'].value_counts()"
   ]
  },
  {
   "cell_type": "code",
   "execution_count": 9,
   "metadata": {
    "scrolled": true
   },
   "outputs": [
    {
     "data": {
      "text/plain": [
       "True    3072\n",
       "Name: Complete, dtype: int64"
      ]
     },
     "execution_count": 9,
     "metadata": {},
     "output_type": "execute_result"
    }
   ],
   "source": [
    "# Remove appointments in the future\n",
    "silver_acuity['Complete'] = silver_acuity['Complete'].astype('str')\n",
    "\n",
    "# drop irrelevant appointments\n",
    "na_dict= {'False' : np.nan}\n",
    "\n",
    "silver_acuity['Complete'].replace(na_dict, inplace = True)\n",
    "silver_acuity.dropna(inplace = True)\n",
    "silver_acuity['Complete'].value_counts()"
   ]
  },
  {
   "cell_type": "code",
   "execution_count": 10,
   "metadata": {},
   "outputs": [
    {
     "data": {
      "image/png": "[encoded data removed]",
      "text/plain": [
       "<Figure size 1440x432 with 1 Axes>"
      ]
     },
     "metadata": {
      "needs_background": "light"
     },
     "output_type": "display_data"
    }
   ],
   "source": [
    "# Group by event, for a visual only \n",
    "chart = silver_acuity.groupby([\"APPOINTMENT_BODY_DATE\"]).agg({'EVENT':'count'})\n",
    "chart.isna().sum()\n",
    "\n",
    "chart.plot(kind='bar',figsize=(20,6))\n",
    "plt.title(\"Appointment Date\", size= 24)\n",
    "plt.show()"
   ]
  },
  {
   "cell_type": "code",
   "execution_count": 11,
   "metadata": {},
   "outputs": [
    {
     "data": {
      "text/plain": [
       "<matplotlib.legend.Legend at 0x7f878eefb290>"
      ]
     },
     "execution_count": 11,
     "metadata": {},
     "output_type": "execute_result"
    },
    {
     "data": {
      "image/png": "[encoded data removed]",
      "text/plain": [
       "<Figure size 432x288 with 1 Axes>"
      ]
     },
     "metadata": {
      "needs_background": "light"
     },
     "output_type": "display_data"
    }
   ],
   "source": [
    "(silver_acuity.groupby([silver_acuity['APPOINTMENT_BODY_DATE'].dt.dayofweek,\\\n",
    "                       silver_acuity['APPOINTMENT_BODY_DATE'].dt.month])\\\n",
    " ['EVENT'].count()).unstack().plot(kind='line')\n",
    "plt.legend(loc='center left', bbox_to_anchor=(1.0, 0.5))"
   ]
  },
  {
   "cell_type": "code",
   "execution_count": 12,
   "metadata": {},
   "outputs": [
    {
     "data": {
      "text/plain": [
       "Timestamp('2020-09-29 00:00:00')"
      ]
     },
     "execution_count": 12,
     "metadata": {},
     "output_type": "execute_result"
    }
   ],
   "source": [
    "min(silver_acuity['APPOINTMENT_BODY_DATE'])"
   ]
  },
  {
   "cell_type": "code",
   "execution_count": 13,
   "metadata": {},
   "outputs": [
    {
     "data": {
      "text/plain": [
       "Timestamp('2021-01-13 00:00:00')"
      ]
     },
     "execution_count": 13,
     "metadata": {},
     "output_type": "execute_result"
    }
   ],
   "source": [
    "max(silver_acuity['APPOINTMENT_BODY_DATE'])"
   ]
  },
  {
   "cell_type": "code",
   "execution_count": 14,
   "metadata": {},
   "outputs": [
    {
     "data": {
      "text/plain": [
       "(2739, 10)"
      ]
     },
     "execution_count": 14,
     "metadata": {},
     "output_type": "execute_result"
    }
   ],
   "source": [
    "# Looking at specific email addresses\n",
    "# silver_acuity.loc[silver_acuity['EMAIL']=='XXXX@yahoo.com']\n",
    "\n",
    "# AGG\n",
    "clean_acuity = silver_acuity.loc[silver_acuity.groupby('EMAIL')['APPOINTMENT_BODY_DATE'].idxmin()]\n",
    "clean_acuity.shape"
   ]
  },
  {
   "cell_type": "code",
   "execution_count": 15,
   "metadata": {},
   "outputs": [
    {
     "data": {
      "text/plain": [
       "Hair Consultation                      2738\n",
       "Hair Mineral Analysis - Acquisition       1\n",
       "Name: APPOINTMENT_BODY_TYPE, dtype: int64"
      ]
     },
     "execution_count": 15,
     "metadata": {},
     "output_type": "execute_result"
    }
   ],
   "source": [
    "clean_acuity['APPOINTMENT_BODY_TYPE'].value_counts()"
   ]
  },
  {
   "cell_type": "code",
   "execution_count": 16,
   "metadata": {},
   "outputs": [
    {
     "name": "stdout",
     "output_type": "stream",
     "text": [
      "unique emails =  2739\n"
     ]
    }
   ],
   "source": [
    "# yyy = gold.shape\n",
    "# print ('shape = ',yyy)\n",
    "\n",
    "smail = clean_acuity['EMAIL'].nunique()\n",
    "print ('unique emails = ',smail)"
   ]
  },
  {
   "cell_type": "markdown",
   "metadata": {},
   "source": [
    "## SUB"
   ]
  },
  {
   "cell_type": "code",
   "execution_count": 17,
   "metadata": {},
   "outputs": [],
   "source": [
    "gold_sub = pd.read_csv('GOLD.csv')\n",
    "# gold_sub.head()"
   ]
  },
  {
   "cell_type": "code",
   "execution_count": 18,
   "metadata": {},
   "outputs": [
    {
     "data": {
      "text/plain": [
       "Index(['SUBSCRIPTION_ID', 'CUSTOMER_ID', 'EMAIL', 'STATUS', 'ITEM_NAME',\n",
       "       'ITEM_GROUP', 'ITEM_SUB_TYPE', 'ITEM_GENDER', 'TOTAL_ITEMS',\n",
       "       'FIRST_ORDER_AT', 'GROSS_ORDER_VALUE', 'TOTAL_ORDERS',\n",
       "       'TOTAL_ORDER_VALUE'],\n",
       "      dtype='object')"
      ]
     },
     "execution_count": 18,
     "metadata": {},
     "output_type": "execute_result"
    }
   ],
   "source": [
    "# Create a copy of the dataframe\n",
    "gold = gold_sub.copy()\n",
    "gold.columns"
   ]
  },
  {
   "cell_type": "code",
   "execution_count": 19,
   "metadata": {},
   "outputs": [
    {
     "name": "stdout",
     "output_type": "stream",
     "text": [
      "<class 'pandas.core.frame.DataFrame'>\n",
      "RangeIndex: 161570 entries, 0 to 161569\n",
      "Data columns (total 13 columns):\n",
      " #   Column             Non-Null Count   Dtype         \n",
      "---  ------             --------------   -----         \n",
      " 0   SUBSCRIPTION_ID    161570 non-null  int64         \n",
      " 1   CUSTOMER_ID        161570 non-null  int64         \n",
      " 2   EMAIL              161570 non-null  object        \n",
      " 3   STATUS             113040 non-null  object        \n",
      " 4   ITEM_NAME          161543 non-null  object        \n",
      " 5   ITEM_GROUP         161543 non-null  object        \n",
      " 6   ITEM_SUB_TYPE      161543 non-null  object        \n",
      " 7   ITEM_GENDER        161543 non-null  object        \n",
      " 8   TOTAL_ITEMS        161543 non-null  float64       \n",
      " 9   FIRST_ORDER_AT     161570 non-null  datetime64[ns]\n",
      " 10  GROSS_ORDER_VALUE  161543 non-null  float64       \n",
      " 11  TOTAL_ORDERS       161517 non-null  float64       \n",
      " 12  TOTAL_ORDER_VALUE  161517 non-null  float64       \n",
      "dtypes: datetime64[ns](1), float64(4), int64(2), object(6)\n",
      "memory usage: 16.0+ MB\n"
     ]
    }
   ],
   "source": [
    "# Change dates to datetime \n",
    "gold['FIRST_ORDER_AT'] = pd.to_datetime(gold['FIRST_ORDER_AT'])\n",
    "gold.info()"
   ]
  },
  {
   "cell_type": "code",
   "execution_count": 20,
   "metadata": {},
   "outputs": [
    {
     "name": "stdout",
     "output_type": "stream",
     "text": [
      "shape =  (161570, 13)\n",
      "unique emails =  42765\n"
     ]
    }
   ],
   "source": [
    "# min(gold['FIRST_ORDER_AT'])\n",
    "# max(gold['FIRST_ORDER_AT'])\n",
    "\n",
    "yyy = gold.shape\n",
    "gemail = gold['EMAIL'].nunique()\n",
    "print ('shape = ',yyy)\n",
    "print ('unique emails = ',gemail)"
   ]
  },
  {
   "cell_type": "code",
   "execution_count": 21,
   "metadata": {},
   "outputs": [
    {
     "data": {
      "text/plain": [
       "Women                                      130814\n",
       "Men                                         26133\n",
       "Men,Women                                    1653\n",
       "Women,Men                                    1635\n",
       "Women,Women                                  1065\n",
       "Men,Men                                        62\n",
       "Women,Women,Women,Women                        44\n",
       "Women,Men,Women                                35\n",
       "Men,Women,Men,Women,Women,Women,Men,Men        28\n",
       "Men,Women,Women                                26\n",
       "Women,Women,Men                                24\n",
       "Women,Men,Women,Women                          20\n",
       "Women,All                                       4\n",
       "Name: ITEM_GENDER, dtype: int64"
      ]
     },
     "execution_count": 21,
     "metadata": {},
     "output_type": "execute_result"
    }
   ],
   "source": [
    "gold['ITEM_GENDER'].value_counts()"
   ]
  },
  {
   "cell_type": "code",
   "execution_count": 22,
   "metadata": {},
   "outputs": [],
   "source": [
    "# clean up work location for 4 main boroughs\n",
    "gold.loc[gold['ITEM_GENDER'] =='Men,Women', 'ITEM_GENDER']= 'Combination'\n",
    "gold.loc[gold['ITEM_GENDER'] =='Women,Men,Women', 'ITEM_GENDER']= 'Combination'\n",
    "gold.loc[gold['ITEM_GENDER'] =='Men,Women,Men,Women,Women,Women,Men,Men', 'ITEM_GENDER']= 'Combination'\n",
    "gold.loc[gold['ITEM_GENDER'] =='Men,Women,Women', 'ITEM_GENDER']= 'Combination'\n",
    "gold.loc[gold['ITEM_GENDER'] =='Women,Women,Men', 'ITEM_GENDER']= 'Combination'\n",
    "gold.loc[gold['ITEM_GENDER'] =='Women,Men,Women,Women', 'ITEM_GENDER']= 'Combination'\n",
    "gold.loc[gold['ITEM_GENDER'] =='Women,Men', 'ITEM_GENDER']= 'Combination'\n",
    "gold.loc[gold['ITEM_GENDER'] =='Women,All', 'ITEM_GENDER']= 'Women'\n",
    "gold.loc[gold['ITEM_GENDER'] =='Women,Women,Women,Women', 'ITEM_GENDER']= 'Women'\n",
    "gold.loc[gold['ITEM_GENDER'] =='Women,Women', 'ITEM_GENDER']= 'Women'\n",
    "gold.loc[gold['ITEM_GENDER'] =='Men,Men', 'ITEM_GENDER']= 'Men'\n"
   ]
  },
  {
   "cell_type": "code",
   "execution_count": 23,
   "metadata": {},
   "outputs": [
    {
     "data": {
      "text/plain": [
       "GrowthPlan                                                                                            90675\n",
       "GrowthPlan 3                                                                                          41532\n",
       "GrowthPlan 2                                                                                          24735\n",
       "Combination                                                                                            3847\n",
       "GrowthPlan 2,GrowthPlan 2                                                                               146\n",
       "GrowthPlan 2,GrowthPlan                                                                                 136\n",
       "GrowthPlan 3,GrowthPlan 2                                                                               106\n",
       "GrowthPlan 2,GrowthPlan 3                                                                                74\n",
       "GrowthPlan,GrowthPlan,GrowthPlan                                                                         57\n",
       "GrowthPlan 3,Non-Sub                                                                                     48\n",
       "Non-Sub,GrowthPlan                                                                                       40\n",
       "Non-Sub,GrowthPlan 3,GrowthPlan 3,GrowthPlan 2,GrowthPlan 3,GrowthPlan 3,GrowthPlan 3,GrowthPlan 2       28\n",
       "GrowthPlan 3,GrowthPlan 2,GrowthPlan 3,GrowthPlan 3                                                      24\n",
       "GrowthPlan 3,GrowthPlan 3,GrowthPlan 2,GrowthPlan 3                                                      20\n",
       "GrowthPlan,GrowthPlan,GrowthPlan 3,GrowthPlan 3                                                          20\n",
       "GrowthPlan 2,Non-Sub                                                                                     14\n",
       "GrowthPlan 2,GrowthPlan,GrowthPlan 3                                                                     12\n",
       "Non-Sub,GrowthPlan 2                                                                                      8\n",
       "GrowthPlan 3,GrowthPlan 3,Non-Sub                                                                         8\n",
       "Non-Sub,GrowthPlan 3,Non-Sub                                                                              5\n",
       "Prepay 6                                                                                                  5\n",
       "GrowthPlan 3,GrowthPlan,GrowthPlan                                                                        3\n",
       "Name: ITEM_SUB_TYPE, dtype: int64"
      ]
     },
     "execution_count": 23,
     "metadata": {},
     "output_type": "execute_result"
    }
   ],
   "source": [
    "# clean up data\n",
    "gold.loc[gold['ITEM_SUB_TYPE'] =='GrowthPlan,GrowthPlan 2', 'ITEM_SUB_TYPE']= 'Combination'\n",
    "gold.loc[gold['ITEM_SUB_TYPE'] =='Non-Sub,GrowthPlan 3', 'ITEM_SUB_TYPE']= 'Combination'\n",
    "gold.loc[gold['ITEM_SUB_TYPE'] =='GrowthPlan,Non-Sub', 'ITEM_SUB_TYPE']= 'Combination'\n",
    "gold.loc[gold['ITEM_SUB_TYPE'] =='GrowthPlan 3,GrowthPlan', 'ITEM_SUB_TYPE']= 'Combination'\n",
    "gold.loc[gold['ITEM_SUB_TYPE'] =='GrowthPlan,GrowthPlan', 'ITEM_SUB_TYPE']= 'Combination'\n",
    "gold.loc[gold['ITEM_SUB_TYPE'] =='GrowthPlan 3,GrowthPlan 3', 'ITEM_SUB_TYPE']= 'Combination'\n",
    "gold.loc[gold['ITEM_SUB_TYPE'] =='GrowthPlan,GrowthPlan 3', 'ITEM_SUB_TYPE']= 'Combination'\n",
    "\n",
    "gold['ITEM_SUB_TYPE'].value_counts()"
   ]
  },
  {
   "cell_type": "code",
   "execution_count": 24,
   "metadata": {},
   "outputs": [
    {
     "data": {
      "text/plain": [
       "(42765, 13)"
      ]
     },
     "execution_count": 24,
     "metadata": {},
     "output_type": "execute_result"
    }
   ],
   "source": [
    "# AGG\n",
    "df = gold.iloc[gold.groupby('EMAIL')['GROSS_ORDER_VALUE'].idxmin()]\n",
    "df.shape"
   ]
  },
  {
   "cell_type": "code",
   "execution_count": 25,
   "metadata": {},
   "outputs": [
    {
     "data": {
      "text/plain": [
       "SUBSCRIPTION_ID      29451\n",
       "CUSTOMER_ID          29451\n",
       "EMAIL                29451\n",
       "STATUS               29451\n",
       "ITEM_NAME            29451\n",
       "ITEM_GROUP           29451\n",
       "ITEM_SUB_TYPE        29451\n",
       "ITEM_GENDER          29451\n",
       "TOTAL_ITEMS          29451\n",
       "FIRST_ORDER_AT       29451\n",
       "GROSS_ORDER_VALUE    29451\n",
       "TOTAL_ORDERS         29448\n",
       "TOTAL_ORDER_VALUE    29448\n",
       "dtype: int64"
      ]
     },
     "execution_count": 25,
     "metadata": {},
     "output_type": "execute_result"
    }
   ],
   "source": [
    "df.loc[df['FIRST_ORDER_AT']>'2020-09-29 00:00:00'].count()"
   ]
  },
  {
   "cell_type": "code",
   "execution_count": 26,
   "metadata": {},
   "outputs": [
    {
     "data": {
      "text/html": [
       "<div>\n",
       "<style scoped>\n",
       "    .dataframe tbody tr th:only-of-type {\n",
       "        vertical-align: middle;\n",
       "    }\n",
       "\n",
       "    .dataframe tbody tr th {\n",
       "        vertical-align: top;\n",
       "    }\n",
       "\n",
       "    .dataframe thead th {\n",
       "        text-align: right;\n",
       "    }\n",
       "</style>\n",
       "<table border=\"1\" class=\"dataframe\">\n",
       "  <thead>\n",
       "    <tr style=\"text-align: right;\">\n",
       "      <th></th>\n",
       "      <th>SUBSCRIPTION_ID</th>\n",
       "      <th>CUSTOMER_ID</th>\n",
       "      <th>EMAIL</th>\n",
       "      <th>STATUS</th>\n",
       "      <th>ITEM_NAME</th>\n",
       "      <th>ITEM_GROUP</th>\n",
       "      <th>ITEM_SUB_TYPE</th>\n",
       "      <th>ITEM_GENDER</th>\n",
       "      <th>TOTAL_ITEMS</th>\n",
       "      <th>FIRST_ORDER_AT</th>\n",
       "      <th>GROSS_ORDER_VALUE</th>\n",
       "      <th>TOTAL_ORDERS</th>\n",
       "      <th>TOTAL_ORDER_VALUE</th>\n",
       "    </tr>\n",
       "  </thead>\n",
       "  <tbody>\n",
       "    <tr>\n",
       "      <th>102415</th>\n",
       "      <td>507892</td>\n",
       "      <td>446224</td>\n",
       "      <td>0127351@gmail.com</td>\n",
       "      <td>active</td>\n",
       "      <td>Nutrafol for Women + Liver Support</td>\n",
       "      <td>G-Plan</td>\n",
       "      <td>GrowthPlan 2</td>\n",
       "      <td>Women</td>\n",
       "      <td>1.0</td>\n",
       "      <td>2020-09-16 07:03:24</td>\n",
       "      <td>89.0</td>\n",
       "      <td>4.0</td>\n",
       "      <td>257.0</td>\n",
       "    </tr>\n",
       "    <tr>\n",
       "      <th>123083</th>\n",
       "      <td>609589</td>\n",
       "      <td>545230</td>\n",
       "      <td>01hookerville@gmail.com</td>\n",
       "      <td>active</td>\n",
       "      <td>Nutrafol for Women's Balance + Hairbiotic + B-...</td>\n",
       "      <td>G-Plan</td>\n",
       "      <td>GrowthPlan 3</td>\n",
       "      <td>Women</td>\n",
       "      <td>1.0</td>\n",
       "      <td>2020-12-17 10:28:50</td>\n",
       "      <td>99.0</td>\n",
       "      <td>1.0</td>\n",
       "      <td>79.2</td>\n",
       "    </tr>\n",
       "    <tr>\n",
       "      <th>95428</th>\n",
       "      <td>553939</td>\n",
       "      <td>488077</td>\n",
       "      <td>03moni91@gmail.com</td>\n",
       "      <td>active</td>\n",
       "      <td>Nutrafol for Women + Hairbiotic + Stress Adapt...</td>\n",
       "      <td>G-Plan</td>\n",
       "      <td>GrowthPlan 3</td>\n",
       "      <td>Women</td>\n",
       "      <td>1.0</td>\n",
       "      <td>2020-10-26 12:44:38</td>\n",
       "      <td>99.0</td>\n",
       "      <td>3.0</td>\n",
       "      <td>297.0</td>\n",
       "    </tr>\n",
       "    <tr>\n",
       "      <th>129516</th>\n",
       "      <td>626944</td>\n",
       "      <td>561745</td>\n",
       "      <td>0512mommy@gmail.com</td>\n",
       "      <td>active</td>\n",
       "      <td>Nutrafol for Women</td>\n",
       "      <td>Core</td>\n",
       "      <td>GrowthPlan</td>\n",
       "      <td>Women</td>\n",
       "      <td>1.0</td>\n",
       "      <td>2020-12-31 09:27:55</td>\n",
       "      <td>79.0</td>\n",
       "      <td>1.0</td>\n",
       "      <td>79.0</td>\n",
       "    </tr>\n",
       "    <tr>\n",
       "      <th>39704</th>\n",
       "      <td>638335</td>\n",
       "      <td>572728</td>\n",
       "      <td>06attisha@gmail.com</td>\n",
       "      <td>active</td>\n",
       "      <td>Nutrafol for Men</td>\n",
       "      <td>Core</td>\n",
       "      <td>GrowthPlan</td>\n",
       "      <td>Men</td>\n",
       "      <td>1.0</td>\n",
       "      <td>2021-01-06 23:27:53</td>\n",
       "      <td>79.0</td>\n",
       "      <td>1.0</td>\n",
       "      <td>79.0</td>\n",
       "    </tr>\n",
       "  </tbody>\n",
       "</table>\n",
       "</div>"
      ],
      "text/plain": [
       "        SUBSCRIPTION_ID  CUSTOMER_ID                    EMAIL  STATUS  \\\n",
       "102415           507892       446224        0127351@gmail.com  active   \n",
       "123083           609589       545230  01hookerville@gmail.com  active   \n",
       "95428            553939       488077       03moni91@gmail.com  active   \n",
       "129516           626944       561745      0512mommy@gmail.com  active   \n",
       "39704            638335       572728      06attisha@gmail.com  active   \n",
       "\n",
       "                                                ITEM_NAME ITEM_GROUP  \\\n",
       "102415                 Nutrafol for Women + Liver Support     G-Plan   \n",
       "123083  Nutrafol for Women's Balance + Hairbiotic + B-...     G-Plan   \n",
       "95428   Nutrafol for Women + Hairbiotic + Stress Adapt...     G-Plan   \n",
       "129516                                 Nutrafol for Women       Core   \n",
       "39704                                    Nutrafol for Men       Core   \n",
       "\n",
       "       ITEM_SUB_TYPE ITEM_GENDER  TOTAL_ITEMS      FIRST_ORDER_AT  \\\n",
       "102415  GrowthPlan 2       Women          1.0 2020-09-16 07:03:24   \n",
       "123083  GrowthPlan 3       Women          1.0 2020-12-17 10:28:50   \n",
       "95428   GrowthPlan 3       Women          1.0 2020-10-26 12:44:38   \n",
       "129516    GrowthPlan       Women          1.0 2020-12-31 09:27:55   \n",
       "39704     GrowthPlan         Men          1.0 2021-01-06 23:27:53   \n",
       "\n",
       "        GROSS_ORDER_VALUE  TOTAL_ORDERS  TOTAL_ORDER_VALUE  \n",
       "102415               89.0           4.0              257.0  \n",
       "123083               99.0           1.0               79.2  \n",
       "95428                99.0           3.0              297.0  \n",
       "129516               79.0           1.0               79.0  \n",
       "39704                79.0           1.0               79.0  "
      ]
     },
     "execution_count": 26,
     "metadata": {},
     "output_type": "execute_result"
    }
   ],
   "source": [
    "df.head()"
   ]
  },
  {
   "cell_type": "code",
   "execution_count": 27,
   "metadata": {},
   "outputs": [
    {
     "name": "stdout",
     "output_type": "stream",
     "text": [
      "91.69468373670057 211.9993005308691 1.0718344440547176 2.5377095951918807\n"
     ]
    }
   ],
   "source": [
    "gross = df['GROSS_ORDER_VALUE'].mean()\n",
    "orderValue = df['TOTAL_ORDER_VALUE'].mean()\n",
    "Items  = df['TOTAL_ITEMS'].mean()\n",
    "orders = df['TOTAL_ORDERS'].mean()\n",
    "\n",
    "print(gross, orderValue, Items, orders)"
   ]
  },
  {
   "cell_type": "code",
   "execution_count": 28,
   "metadata": {},
   "outputs": [
    {
     "data": {
      "text/plain": [
       "Timestamp('2020-08-01 00:09:46')"
      ]
     },
     "execution_count": 28,
     "metadata": {},
     "output_type": "execute_result"
    }
   ],
   "source": [
    "min(df['FIRST_ORDER_AT'])"
   ]
  },
  {
   "cell_type": "markdown",
   "metadata": {},
   "source": [
    "## Merge"
   ]
  },
  {
   "cell_type": "code",
   "execution_count": 29,
   "metadata": {},
   "outputs": [],
   "source": [
    "sub1 = pd.merge(clean_acuity,df,how='left',on='EMAIL')"
   ]
  },
  {
   "cell_type": "code",
   "execution_count": 30,
   "metadata": {},
   "outputs": [
    {
     "data": {
      "text/plain": [
       "Index(['SUBSCRIPTION_ID', 'CUSTOMER_ID', 'EMAIL', 'STATUS', 'ITEM_NAME',\n",
       "       'ITEM_GROUP', 'ITEM_SUB_TYPE', 'ITEM_GENDER', 'TOTAL_ITEMS',\n",
       "       'FIRST_ORDER_AT', 'GROSS_ORDER_VALUE', 'TOTAL_ORDERS',\n",
       "       'TOTAL_ORDER_VALUE'],\n",
       "      dtype='object')"
      ]
     },
     "execution_count": 30,
     "metadata": {},
     "output_type": "execute_result"
    }
   ],
   "source": [
    "gold.columns"
   ]
  },
  {
   "cell_type": "code",
   "execution_count": 31,
   "metadata": {},
   "outputs": [
    {
     "name": "stdout",
     "output_type": "stream",
     "text": [
      "<class 'pandas.core.frame.DataFrame'>\n",
      "Int64Index: 2739 entries, 0 to 2738\n",
      "Data columns (total 11 columns):\n",
      " #   Column                 Non-Null Count  Dtype         \n",
      "---  ------                 --------------  -----         \n",
      " 0   EMAIL                  2739 non-null   object        \n",
      " 1   APPOINTMENT_BODY_DATE  2739 non-null   datetime64[ns]\n",
      " 2   FIRST_ORDER_AT         1415 non-null   datetime64[ns]\n",
      " 3   ITEM_GROUP             1415 non-null   object        \n",
      " 4   ITEM_SUB_TYPE          1415 non-null   object        \n",
      " 5   TOTAL_ITEMS            1415 non-null   float64       \n",
      " 6   TOTAL_ORDERS           1415 non-null   float64       \n",
      " 7   ITEM_NAME              1415 non-null   object        \n",
      " 8   ITEM_GENDER            1415 non-null   object        \n",
      " 9   GROSS_ORDER_VALUE      1415 non-null   float64       \n",
      " 10  TOTAL_ORDER_VALUE      1415 non-null   float64       \n",
      "dtypes: datetime64[ns](2), float64(4), object(5)\n",
      "memory usage: 256.8+ KB\n"
     ]
    }
   ],
   "source": [
    "# Create a copy of the dataframe\n",
    "sub = sub1.copy()\n",
    "\n",
    "sub = sub[[ 'EMAIL','APPOINTMENT_BODY_DATE', 'FIRST_ORDER_AT',\\\n",
    "           'ITEM_GROUP', 'ITEM_SUB_TYPE','TOTAL_ITEMS','TOTAL_ORDERS',\n",
    "           'ITEM_NAME', 'ITEM_GENDER', 'GROSS_ORDER_VALUE','TOTAL_ORDER_VALUE']]\n",
    "sub.info()"
   ]
  },
  {
   "cell_type": "code",
   "execution_count": 32,
   "metadata": {},
   "outputs": [
    {
     "data": {
      "text/plain": [
       "Timestamp('2021-01-12 11:58:22')"
      ]
     },
     "execution_count": 32,
     "metadata": {},
     "output_type": "execute_result"
    }
   ],
   "source": [
    "max(sub['FIRST_ORDER_AT'])\n",
    "\n",
    "# # create start year column to be able to make years_working column\n",
    "# df['start_year'] = df['Agency Start Date'].apply(lambda x: int(x[6:]))\n",
    "# df['years_with_city'] = df[['Fiscal Year']].sub(df['start_year'], axis=0)"
   ]
  },
  {
   "cell_type": "code",
   "execution_count": 33,
   "metadata": {},
   "outputs": [
    {
     "data": {
      "text/html": [
       "<div>\n",
       "<style scoped>\n",
       "    .dataframe tbody tr th:only-of-type {\n",
       "        vertical-align: middle;\n",
       "    }\n",
       "\n",
       "    .dataframe tbody tr th {\n",
       "        vertical-align: top;\n",
       "    }\n",
       "\n",
       "    .dataframe thead th {\n",
       "        text-align: right;\n",
       "    }\n",
       "</style>\n",
       "<table border=\"1\" class=\"dataframe\">\n",
       "  <thead>\n",
       "    <tr style=\"text-align: right;\">\n",
       "      <th></th>\n",
       "      <th>EMAIL</th>\n",
       "      <th>APPOINTMENT_BODY_DATE</th>\n",
       "      <th>FIRST_ORDER_AT</th>\n",
       "      <th>ITEM_GROUP</th>\n",
       "      <th>ITEM_SUB_TYPE</th>\n",
       "      <th>TOTAL_ITEMS</th>\n",
       "      <th>TOTAL_ORDERS</th>\n",
       "      <th>ITEM_NAME</th>\n",
       "      <th>ITEM_GENDER</th>\n",
       "      <th>GROSS_ORDER_VALUE</th>\n",
       "      <th>TOTAL_ORDER_VALUE</th>\n",
       "      <th>TimeDifference</th>\n",
       "    </tr>\n",
       "  </thead>\n",
       "  <tbody>\n",
       "    <tr>\n",
       "      <th>0</th>\n",
       "      <td>101akpatel@gmail.com</td>\n",
       "      <td>2020-12-18</td>\n",
       "      <td>2020-12-05 20:47:46</td>\n",
       "      <td>G-Plan</td>\n",
       "      <td>GrowthPlan 3</td>\n",
       "      <td>1.0</td>\n",
       "      <td>2.0</td>\n",
       "      <td>Nutrafol for Women + Hairbiotic + Stress Adapt...</td>\n",
       "      <td>Women</td>\n",
       "      <td>99.0</td>\n",
       "      <td>198.00</td>\n",
       "      <td>12 days 03:12:14</td>\n",
       "    </tr>\n",
       "    <tr>\n",
       "      <th>1</th>\n",
       "      <td>11consesa@gmail.com</td>\n",
       "      <td>2020-11-17</td>\n",
       "      <td>2020-09-13 19:59:39</td>\n",
       "      <td>G-Plan</td>\n",
       "      <td>GrowthPlan 3</td>\n",
       "      <td>1.0</td>\n",
       "      <td>1.0</td>\n",
       "      <td>Nutrafol for Women's Balance + Hairbiotic + St...</td>\n",
       "      <td>Women</td>\n",
       "      <td>99.0</td>\n",
       "      <td>74.25</td>\n",
       "      <td>64 days 04:00:21</td>\n",
       "    </tr>\n",
       "    <tr>\n",
       "      <th>2</th>\n",
       "      <td>22reverie@gmail.com</td>\n",
       "      <td>2020-11-05</td>\n",
       "      <td>NaT</td>\n",
       "      <td>NaN</td>\n",
       "      <td>NaN</td>\n",
       "      <td>NaN</td>\n",
       "      <td>NaN</td>\n",
       "      <td>NaN</td>\n",
       "      <td>NaN</td>\n",
       "      <td>NaN</td>\n",
       "      <td>NaN</td>\n",
       "      <td>NaT</td>\n",
       "    </tr>\n",
       "    <tr>\n",
       "      <th>3</th>\n",
       "      <td>2reachmari@gmail.com</td>\n",
       "      <td>2021-01-12</td>\n",
       "      <td>NaT</td>\n",
       "      <td>NaN</td>\n",
       "      <td>NaN</td>\n",
       "      <td>NaN</td>\n",
       "      <td>NaN</td>\n",
       "      <td>NaN</td>\n",
       "      <td>NaN</td>\n",
       "      <td>NaN</td>\n",
       "      <td>NaN</td>\n",
       "      <td>NaT</td>\n",
       "    </tr>\n",
       "    <tr>\n",
       "      <th>4</th>\n",
       "      <td>33mhb@comcast.net</td>\n",
       "      <td>2020-12-28</td>\n",
       "      <td>NaT</td>\n",
       "      <td>NaN</td>\n",
       "      <td>NaN</td>\n",
       "      <td>NaN</td>\n",
       "      <td>NaN</td>\n",
       "      <td>NaN</td>\n",
       "      <td>NaN</td>\n",
       "      <td>NaN</td>\n",
       "      <td>NaN</td>\n",
       "      <td>NaT</td>\n",
       "    </tr>\n",
       "  </tbody>\n",
       "</table>\n",
       "</div>"
      ],
      "text/plain": [
       "                  EMAIL APPOINTMENT_BODY_DATE      FIRST_ORDER_AT ITEM_GROUP  \\\n",
       "0  101akpatel@gmail.com            2020-12-18 2020-12-05 20:47:46     G-Plan   \n",
       "1   11consesa@gmail.com            2020-11-17 2020-09-13 19:59:39     G-Plan   \n",
       "2   22reverie@gmail.com            2020-11-05                 NaT        NaN   \n",
       "3  2reachmari@gmail.com            2021-01-12                 NaT        NaN   \n",
       "4     33mhb@comcast.net            2020-12-28                 NaT        NaN   \n",
       "\n",
       "  ITEM_SUB_TYPE  TOTAL_ITEMS  TOTAL_ORDERS  \\\n",
       "0  GrowthPlan 3          1.0           2.0   \n",
       "1  GrowthPlan 3          1.0           1.0   \n",
       "2           NaN          NaN           NaN   \n",
       "3           NaN          NaN           NaN   \n",
       "4           NaN          NaN           NaN   \n",
       "\n",
       "                                           ITEM_NAME ITEM_GENDER  \\\n",
       "0  Nutrafol for Women + Hairbiotic + Stress Adapt...       Women   \n",
       "1  Nutrafol for Women's Balance + Hairbiotic + St...       Women   \n",
       "2                                                NaN         NaN   \n",
       "3                                                NaN         NaN   \n",
       "4                                                NaN         NaN   \n",
       "\n",
       "   GROSS_ORDER_VALUE  TOTAL_ORDER_VALUE   TimeDifference  \n",
       "0               99.0             198.00 12 days 03:12:14  \n",
       "1               99.0              74.25 64 days 04:00:21  \n",
       "2                NaN                NaN              NaT  \n",
       "3                NaN                NaN              NaT  \n",
       "4                NaN                NaN              NaT  "
      ]
     },
     "execution_count": 33,
     "metadata": {},
     "output_type": "execute_result"
    }
   ],
   "source": [
    "sub['TimeDifference'] = \\\n",
    "(((sub['APPOINTMENT_BODY_DATE']))-(sub['FIRST_ORDER_AT']))\n",
    "sub.head()"
   ]
  },
  {
   "cell_type": "code",
   "execution_count": 34,
   "metadata": {},
   "outputs": [
    {
     "data": {
      "text/plain": [
       "G-Plan           846\n",
       "Core             559\n",
       "Core,G-Plan        7\n",
       "G-Plan,G-Plan      1\n",
       "Core,Core          1\n",
       "G-Plan,Core        1\n",
       "Name: ITEM_GROUP, dtype: int64"
      ]
     },
     "execution_count": 34,
     "metadata": {},
     "output_type": "execute_result"
    }
   ],
   "source": [
    "sub['ITEM_GROUP'].value_counts()"
   ]
  },
  {
   "cell_type": "code",
   "execution_count": 35,
   "metadata": {},
   "outputs": [
    {
     "data": {
      "text/plain": [
       "GrowthPlan      559\n",
       "GrowthPlan 3    522\n",
       "GrowthPlan 2    324\n",
       "Combination      10\n",
       "Name: ITEM_SUB_TYPE, dtype: int64"
      ]
     },
     "execution_count": 35,
     "metadata": {},
     "output_type": "execute_result"
    }
   ],
   "source": [
    "sub['ITEM_SUB_TYPE'].value_counts()"
   ]
  },
  {
   "cell_type": "code",
   "execution_count": null,
   "metadata": {},
   "outputs": [],
   "source": []
  },
  {
   "cell_type": "code",
   "execution_count": 36,
   "metadata": {},
   "outputs": [
    {
     "name": "stdout",
     "output_type": "stream",
     "text": [
      "unique emails =  2739\n"
     ]
    }
   ],
   "source": [
    "submail = sub['EMAIL'].nunique()\n",
    "print ('unique emails = ',submail)"
   ]
  },
  {
   "cell_type": "code",
   "execution_count": 37,
   "metadata": {},
   "outputs": [
    {
     "name": "stdout",
     "output_type": "stream",
     "text": [
      "Total Gross Order Value =  91.69468373670057\n",
      "Consult Gross Order Value =  94.2374558303887\n",
      "Total Gross Order Value =  211.9993005308691\n",
      "Consult Gross Order Value =  227.6218021201425\n"
     ]
    }
   ],
   "source": [
    "gross = df['GROSS_ORDER_VALUE'].mean()\n",
    "cgross = sub['GROSS_ORDER_VALUE'].mean()\n",
    "OV = df['TOTAL_ORDER_VALUE'].mean()\n",
    "COV = sub['TOTAL_ORDER_VALUE'].mean()\n",
    "Items  = df['TOTAL_ITEMS'].mean()\n",
    "orders = df['TOTAL_ORDERS'].mean()\n",
    "\n",
    "print('Total Gross Order Value = ',gross)\n",
    "print('Consult Gross Order Value = ',cgross)\n",
    "\n",
    "print('Total Gross Order Value = ',OV)\n",
    "print('Consult Gross Order Value = ',COV)"
   ]
  },
  {
   "cell_type": "code",
   "execution_count": null,
   "metadata": {},
   "outputs": [],
   "source": []
  },
  {
   "cell_type": "code",
   "execution_count": null,
   "metadata": {},
   "outputs": [],
   "source": []
  },
  {
   "cell_type": "code",
   "execution_count": null,
   "metadata": {},
   "outputs": [],
   "source": []
  },
  {
   "cell_type": "code",
   "execution_count": 38,
   "metadata": {},
   "outputs": [],
   "source": [
    "# Export data\n",
    "sub.to_csv('sub.csv')"
   ]
  },
  {
   "cell_type": "code",
   "execution_count": 39,
   "metadata": {},
   "outputs": [
    {
     "data": {
      "text/plain": [
       "(2739, 12)"
      ]
     },
     "execution_count": 39,
     "metadata": {},
     "output_type": "execute_result"
    }
   ],
   "source": [
    "sub.shape"
   ]
  },
  {
   "cell_type": "code",
   "execution_count": null,
   "metadata": {},
   "outputs": [],
   "source": []
  }
 ],
 "metadata": {
  "kernelspec": {
   "display_name": "Python 3",
   "language": "python",
   "name": "python3"
  },
  "language_info": {
   "codemirror_mode": {
    "name": "ipython",
    "version": 3
   },
   "file_extension": ".py",
   "mimetype": "text/x-python",
   "name": "python",
   "nbconvert_exporter": "python",
   "pygments_lexer": "ipython3",
   "version": "3.7.7"
  },
  "toc": {
   "base_numbering": 1,
   "nav_menu": {},
   "number_sections": true,
   "sideBar": true,
   "skip_h1_title": false,
   "title_cell": "Table of Contents",
   "title_sidebar": "Contents",
   "toc_cell": false,
   "toc_position": {
    "height": "calc(100% - 180px)",
    "left": "10px",
    "top": "150px",
    "width": "235.75px"
   },
   "toc_section_display": true,
   "toc_window_display": true
  }
 },
 "nbformat": 4,
 "nbformat_minor": 2
}
