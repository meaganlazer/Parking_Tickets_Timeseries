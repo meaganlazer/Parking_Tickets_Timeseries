{
 "cells": [
  {
   "cell_type": "markdown",
   "metadata": {},
   "source": [
    "# Imports"
   ]
  },
  {
   "cell_type": "code",
   "execution_count": 1,
   "metadata": {},
   "outputs": [],
   "source": [
    "# Import standard libraries\n",
    "import pandas as pd\n",
    "import seaborn as sns\n",
    "import numpy as np\n",
    "import matplotlib.pyplot as plt\n",
    "%matplotlib inline\n",
    "\n",
    "# API\n",
    "import requests\n",
    "import snowflake.connector\n",
    "\n",
    "# Date\n",
    "import datetime as dt\n",
    "import time\n",
    "from datetime import timedelta"
   ]
  },
  {
   "cell_type": "code",
   "execution_count": 2,
   "metadata": {},
   "outputs": [],
   "source": [
    "# # # Gets the cursor\n",
    "# con = snowflake.connector.connect(\n",
    "#     user='meagan',\n",
    "#     password='',\n",
    "#     account='hu40871.us-east-1',\n",
    "#     warehouse='ANALYSIS'\n",
    "#     )\n",
    "\n",
    "# cur = con.cursor()\n",
    "\n",
    "# # insert query here\n",
    "# cur.execute('''\n",
    "#     SELECT  * \n",
    "#     FROM    \"WAREHOUSE\".\"GOLD\".\"SUBSCRIPTION_RETENTION\"\n",
    "#            ''')\n",
    "\n",
    "# df=cur.fetch_pandas_all()\n",
    "# df.head()"
   ]
  },
  {
   "cell_type": "code",
   "execution_count": 3,
   "metadata": {},
   "outputs": [],
   "source": [
    "silver = pd.read_csv('Acuity.csv')\n",
    "gold_sub = pd.read_csv('GOLD.csv')"
   ]
  },
  {
   "cell_type": "markdown",
   "metadata": {},
   "source": [
    "## Acuity"
   ]
  },
  {
   "cell_type": "code",
   "execution_count": 4,
   "metadata": {},
   "outputs": [
    {
     "data": {
      "text/plain": [
       "(23981, 20)"
      ]
     },
     "execution_count": 4,
     "metadata": {},
     "output_type": "execute_result"
    }
   ],
   "source": [
    "# Create a copy of the DB\n",
    "silver_acuity = silver.copy()\n",
    "silver_acuity.shape"
   ]
  },
  {
   "cell_type": "code",
   "execution_count": 5,
   "metadata": {},
   "outputs": [],
   "source": [
    "# Change dates to datetime Dtype\n",
    "silver_acuity['APPOINTMENT_BODY_DATE'] = pd.to_datetime(silver_acuity['APPOINTMENT_BODY_DATE'])\n",
    "\n",
    "# Drop unneeded columns\n",
    "silver_acuity.drop(columns=['EVENT_TS', 'EVENT_TS_UTC', 'ANONYMOUS_ID','APPOINTMENT_BODY_FIRST_NAME',\n",
    "       'APPOINTMENT_BODY_DATETIME_CREATED', 'APPOINTMENT_BODY_CALENDAR_ID','APPOINTMENT_BODY_CALENDAR_TIMEZONE',\\\n",
    "                    'APPOINTMENT_BODY_TIMEZONE', 'APPOINTMENT_BODY_LAST_NAME', 'APPOINTMENT_BODY_ID',\\\n",
    "                    'APPOINTMENT_BODY_NO_SHOW', \\\n",
    "                    'APPOINTMENT_TYPE_ID'], inplace=True)\n",
    "\n",
    "# Check for null values\n",
    "# sns.heatmap(silver_acuity.isnull(), cbar=False)\n",
    "# silver_acuity.isnull().sum()"
   ]
  },
  {
   "cell_type": "code",
   "execution_count": 6,
   "metadata": {},
   "outputs": [
    {
     "data": {
      "text/plain": [
       "(23981, 8)"
      ]
     },
     "execution_count": 6,
     "metadata": {},
     "output_type": "execute_result"
    }
   ],
   "source": [
    "silver_acuity.shape"
   ]
  },
  {
   "cell_type": "code",
   "execution_count": 7,
   "metadata": {},
   "outputs": [
    {
     "data": {
      "text/plain": [
       "Hair Consultation                      19913\n",
       "Hair Mineral Analysis Appointment       2985\n",
       "Follow Up Consultation                   544\n",
       "Customer consultation                    201\n",
       "Case Study                                41\n",
       "Hair Mineral Analysis - Acquisition       19\n",
       "Name: APPOINTMENT_BODY_TYPE, dtype: int64"
      ]
     },
     "execution_count": 7,
     "metadata": {},
     "output_type": "execute_result"
    }
   ],
   "source": [
    "silver_acuity['APPOINTMENT_BODY_TYPE'].value_counts()"
   ]
  },
  {
   "cell_type": "code",
   "execution_count": 8,
   "metadata": {},
   "outputs": [
    {
     "data": {
      "text/plain": [
       "appointment_changed        17811\n",
       "appointment_scheduled       5097\n",
       "appointment_rescheduled      649\n",
       "appointment_canceled         424\n",
       "Name: EVENT, dtype: int64"
      ]
     },
     "execution_count": 8,
     "metadata": {},
     "output_type": "execute_result"
    }
   ],
   "source": [
    "silver_acuity['EVENT'].value_counts()"
   ]
  },
  {
   "cell_type": "code",
   "execution_count": 9,
   "metadata": {
    "scrolled": true
   },
   "outputs": [
    {
     "data": {
      "text/plain": [
       "appointment_scheduled    4982\n",
       "Name: EVENT, dtype: int64"
      ]
     },
     "execution_count": 9,
     "metadata": {},
     "output_type": "execute_result"
    }
   ],
   "source": [
    "# drop irrelevant appointments\n",
    "na_dict= {'appointment_canceled' : np.nan,\n",
    "'appointment_changed' : np.nan,\n",
    "'appointment_rescheduled' : np.nan}\n",
    "\n",
    "silver_acuity['EVENT'].replace(na_dict, inplace = True)\n",
    "silver_acuity.dropna(inplace = True)\n",
    "silver_acuity['EVENT'].value_counts()"
   ]
  },
  {
   "cell_type": "code",
   "execution_count": 10,
   "metadata": {},
   "outputs": [
    {
     "data": {
      "text/plain": [
       "False    4981\n",
       "True        1\n",
       "Name: APPOINTMENT_BODY_CANCELED, dtype: int64"
      ]
     },
     "execution_count": 10,
     "metadata": {},
     "output_type": "execute_result"
    }
   ],
   "source": [
    "# # drop irrelevant appointments\n",
    "# na_dict= {'True' : np.nan}\n",
    "\n",
    "# silver_acuity['APPOINTMENT_BODY_CANCELED'].replace(na_dict, inplace = True)\n",
    "# silver_acuity.dropna(inplace = True)\n",
    "# # silver_acuity['APPOINTMENT_BODY_CANCELED'].value_counts()\n",
    "\n",
    "silver_acuity['APPOINTMENT_BODY_CANCELED'].value_counts()"
   ]
  },
  {
   "cell_type": "code",
   "execution_count": 11,
   "metadata": {},
   "outputs": [
    {
     "data": {
      "text/plain": [
       "Hair Consultation                    4205\n",
       "Hair Mineral Analysis Appointment     596\n",
       "Name: APPOINTMENT_BODY_TYPE, dtype: int64"
      ]
     },
     "execution_count": 11,
     "metadata": {},
     "output_type": "execute_result"
    }
   ],
   "source": [
    "# drop irrelevant appointments\n",
    "na_dict= {'Hair Mineral Analysis - Acquisition':np.nan,\n",
    "          'Follow Up Consultation':np.nan,\n",
    "          'Customer consultation':np.nan,\n",
    "          'Case Study':np.nan}\n",
    "\n",
    "silver_acuity['APPOINTMENT_BODY_TYPE'].replace(na_dict, inplace = True)\n",
    "silver_acuity.dropna(inplace = True)\n",
    "silver_acuity['APPOINTMENT_BODY_TYPE'].value_counts()"
   ]
  },
  {
   "cell_type": "code",
   "execution_count": 12,
   "metadata": {},
   "outputs": [
    {
     "data": {
      "text/plain": [
       "(4801, 8)"
      ]
     },
     "execution_count": 12,
     "metadata": {},
     "output_type": "execute_result"
    }
   ],
   "source": [
    "silver_acuity.shape"
   ]
  },
  {
   "cell_type": "code",
   "execution_count": 13,
   "metadata": {},
   "outputs": [
    {
     "data": {
      "text/plain": [
       "True     4204\n",
       "False     597\n",
       "Name: Complete, dtype: int64"
      ]
     },
     "execution_count": 13,
     "metadata": {},
     "output_type": "execute_result"
    }
   ],
   "source": [
    "#Round to the day\n",
    "silver_acuity['APPOINTMENT_BODY_DATE'] = silver_acuity['APPOINTMENT_BODY_DATE'].dt.round('D')\n",
    "\n",
    "silver_acuity['Today'] = pd.Timestamp('today')\n",
    "silver_acuity['Today'] = silver_acuity['Today'].dt.round('D')\n",
    "\n",
    "silver_acuity['Complete'] = (silver_acuity['Today']>silver_acuity['APPOINTMENT_BODY_DATE'])\n",
    "silver_acuity['Complete'].value_counts()"
   ]
  },
  {
   "cell_type": "code",
   "execution_count": 14,
   "metadata": {
    "scrolled": true
   },
   "outputs": [
    {
     "data": {
      "text/plain": [
       "True    4204\n",
       "Name: Complete, dtype: int64"
      ]
     },
     "execution_count": 14,
     "metadata": {},
     "output_type": "execute_result"
    }
   ],
   "source": [
    "# Remove appointments in the future\n",
    "silver_acuity['Complete'] = silver_acuity['Complete'].astype('str')\n",
    "\n",
    "# drop irrelevant appointments\n",
    "na_dict= {'False' : np.nan}\n",
    "\n",
    "silver_acuity['Complete'].replace(na_dict, inplace = True)\n",
    "silver_acuity.dropna(inplace = True)\n",
    "silver_acuity['Complete'].value_counts()"
   ]
  },
  {
   "cell_type": "code",
   "execution_count": 15,
   "metadata": {},
   "outputs": [
    {
     "data": {
      "image/png": "[encoded data removed]",
      "text/plain": [
       "<Figure size 1440x432 with 1 Axes>"
      ]
     },
     "metadata": {
      "needs_background": "light"
     },
     "output_type": "display_data"
    }
   ],
   "source": [
    "# Group by event, for a visual only \n",
    "chart = silver_acuity.groupby([\"APPOINTMENT_BODY_DATE\"]).agg({'EVENT':'count'})\n",
    "chart.isna().sum()\n",
    "\n",
    "chart.plot(kind='bar',figsize=(20,6))\n",
    "plt.title(\"Appointment Date\", size= 24)\n",
    "plt.show()"
   ]
  },
  {
   "cell_type": "code",
   "execution_count": 16,
   "metadata": {},
   "outputs": [
    {
     "data": {
      "text/plain": [
       "<matplotlib.legend.Legend at 0x7f9b1c5b7610>"
      ]
     },
     "execution_count": 16,
     "metadata": {},
     "output_type": "execute_result"
    },
    {
     "data": {
      "image/png": "[encoded data removed]",
      "text/plain": [
       "<Figure size 432x288 with 1 Axes>"
      ]
     },
     "metadata": {
      "needs_background": "light"
     },
     "output_type": "display_data"
    }
   ],
   "source": [
    "(silver_acuity.groupby([silver_acuity['APPOINTMENT_BODY_DATE'].dt.dayofweek,\\\n",
    "                       silver_acuity['APPOINTMENT_BODY_DATE'].dt.year])\\\n",
    " ['EVENT'].count()).unstack().plot(kind='line')\n",
    "plt.legend(loc='center left', bbox_to_anchor=(1.0, 0.5))"
   ]
  },
  {
   "cell_type": "code",
   "execution_count": 17,
   "metadata": {},
   "outputs": [
    {
     "data": {
      "text/plain": [
       "Timestamp('2020-01-26 00:00:00')"
      ]
     },
     "execution_count": 17,
     "metadata": {},
     "output_type": "execute_result"
    }
   ],
   "source": [
    "min(silver_acuity['APPOINTMENT_BODY_DATE'])"
   ]
  },
  {
   "cell_type": "code",
   "execution_count": 18,
   "metadata": {},
   "outputs": [
    {
     "data": {
      "text/plain": [
       "(3637, 10)"
      ]
     },
     "execution_count": 18,
     "metadata": {},
     "output_type": "execute_result"
    }
   ],
   "source": [
    "# min(silver_acuity['APPOINTMENT_BODY_DATE'])\n",
    "# max(silver_acuity['APPOINTMENT_BODY_DATE'])\n",
    "\n",
    "# Looking at specific email addresses\n",
    "# silver_acuity.loc[silver_acuity['EMAIL']=='XXXX@yahoo.com']\n",
    "\n",
    "# AGG\n",
    "clean_acuity = silver_acuity.loc[silver_acuity.groupby('EMAIL')['APPOINTMENT_BODY_DATE'].idxmin()]\n",
    "clean_acuity.shape"
   ]
  },
  {
   "cell_type": "code",
   "execution_count": 19,
   "metadata": {},
   "outputs": [
    {
     "data": {
      "text/plain": [
       "Hair Consultation                    3277\n",
       "Hair Mineral Analysis Appointment     360\n",
       "Name: APPOINTMENT_BODY_TYPE, dtype: int64"
      ]
     },
     "execution_count": 19,
     "metadata": {},
     "output_type": "execute_result"
    }
   ],
   "source": [
    "clean_acuity['APPOINTMENT_BODY_TYPE'].value_counts()"
   ]
  },
  {
   "cell_type": "code",
   "execution_count": 20,
   "metadata": {
    "scrolled": true
   },
   "outputs": [
    {
     "name": "stdout",
     "output_type": "stream",
     "text": [
      "unique emails =  3637\n"
     ]
    }
   ],
   "source": [
    "#QA instances\n",
    "smail = clean_acuity['EMAIL'].nunique()\n",
    "print ('unique emails = ',smail)"
   ]
  },
  {
   "cell_type": "markdown",
   "metadata": {},
   "source": [
    "## SUB"
   ]
  },
  {
   "cell_type": "code",
   "execution_count": 44,
   "metadata": {},
   "outputs": [
    {
     "data": {
      "text/plain": [
       "Index(['EMAIL', 'ITEM_GENDER', 'ITEM_SUB_TYPE', 'ITEM_PRODUCT_CORE_CATEGORY',\n",
       "       'FIRST_ORDER_AT', 'TOTAL_ORDERS', 'TOTAL_ORDER_VALUE',\n",
       "       'GROSS_ORDER_VALUE'],\n",
       "      dtype='object')"
      ]
     },
     "execution_count": 44,
     "metadata": {},
     "output_type": "execute_result"
    }
   ],
   "source": [
    "# Create a copy of the dataframe\n",
    "gold = gold_sub.copy()\n",
    "\n",
    "# Change dates to datetime \n",
    "gold['FIRST_ORDER_AT'] = pd.to_datetime(gold['FIRST_ORDER_AT'])\n",
    "\n",
    "gold.columns"
   ]
  },
  {
   "cell_type": "code",
   "execution_count": 45,
   "metadata": {},
   "outputs": [
    {
     "name": "stdout",
     "output_type": "stream",
     "text": [
      "<class 'pandas.core.frame.DataFrame'>\n",
      "RangeIndex: 736630 entries, 0 to 736629\n",
      "Data columns (total 8 columns):\n",
      " #   Column                      Non-Null Count   Dtype         \n",
      "---  ------                      --------------   -----         \n",
      " 0   EMAIL                       736630 non-null  object        \n",
      " 1   ITEM_GENDER                 695775 non-null  object        \n",
      " 2   ITEM_SUB_TYPE               695775 non-null  object        \n",
      " 3   ITEM_PRODUCT_CORE_CATEGORY  695650 non-null  object        \n",
      " 4   FIRST_ORDER_AT              736630 non-null  datetime64[ns]\n",
      " 5   TOTAL_ORDERS                736630 non-null  int64         \n",
      " 6   TOTAL_ORDER_VALUE           736630 non-null  float64       \n",
      " 7   GROSS_ORDER_VALUE           695830 non-null  float64       \n",
      "dtypes: datetime64[ns](1), float64(2), int64(1), object(4)\n",
      "memory usage: 45.0+ MB\n"
     ]
    }
   ],
   "source": [
    "gold.info()"
   ]
  },
  {
   "cell_type": "code",
   "execution_count": 46,
   "metadata": {},
   "outputs": [
    {
     "name": "stdout",
     "output_type": "stream",
     "text": [
      "<class 'pandas.core.frame.DataFrame'>\n",
      "Int64Index: 695650 entries, 0 to 736629\n",
      "Data columns (total 8 columns):\n",
      " #   Column                      Non-Null Count   Dtype         \n",
      "---  ------                      --------------   -----         \n",
      " 0   EMAIL                       695650 non-null  object        \n",
      " 1   ITEM_GENDER                 695650 non-null  object        \n",
      " 2   ITEM_SUB_TYPE               695650 non-null  object        \n",
      " 3   ITEM_PRODUCT_CORE_CATEGORY  695650 non-null  object        \n",
      " 4   FIRST_ORDER_AT              695650 non-null  datetime64[ns]\n",
      " 5   TOTAL_ORDERS                695650 non-null  int64         \n",
      " 6   TOTAL_ORDER_VALUE           695650 non-null  float64       \n",
      " 7   GROSS_ORDER_VALUE           695650 non-null  float64       \n",
      "dtypes: datetime64[ns](1), float64(2), int64(1), object(4)\n",
      "memory usage: 47.8+ MB\n"
     ]
    }
   ],
   "source": [
    "gold.dropna(inplace = True)\n",
    "gold.info()"
   ]
  },
  {
   "cell_type": "code",
   "execution_count": 47,
   "metadata": {},
   "outputs": [
    {
     "name": "stdout",
     "output_type": "stream",
     "text": [
      "shape =  (695650, 8)\n",
      "unique emails =  21602\n"
     ]
    }
   ],
   "source": [
    "# min(gold['FIRST_ORDER_AT'])\n",
    "# max(gold['FIRST_ORDER_AT'])\n",
    "\n",
    "yyy = gold.shape\n",
    "gemail = gold['EMAIL'].nunique()\n",
    "print ('shape = ',yyy)\n",
    "print ('unique emails = ',gemail)"
   ]
  },
  {
   "cell_type": "code",
   "execution_count": 82,
   "metadata": {},
   "outputs": [
    {
     "data": {
      "text/html": [
       "<div>\n",
       "<style scoped>\n",
       "    .dataframe tbody tr th:only-of-type {\n",
       "        vertical-align: middle;\n",
       "    }\n",
       "\n",
       "    .dataframe tbody tr th {\n",
       "        vertical-align: top;\n",
       "    }\n",
       "\n",
       "    .dataframe thead th {\n",
       "        text-align: right;\n",
       "    }\n",
       "</style>\n",
       "<table border=\"1\" class=\"dataframe\">\n",
       "  <thead>\n",
       "    <tr style=\"text-align: right;\">\n",
       "      <th></th>\n",
       "      <th>EMAIL</th>\n",
       "      <th>ITEM_GENDER</th>\n",
       "      <th>ITEM_SUB_TYPE</th>\n",
       "      <th>ITEM_PRODUCT_CORE_CATEGORY</th>\n",
       "      <th>FIRST_ORDER_AT</th>\n",
       "      <th>TOTAL_ORDERS</th>\n",
       "      <th>TOTAL_ORDER_VALUE</th>\n",
       "      <th>GROSS_ORDER_VALUE</th>\n",
       "    </tr>\n",
       "  </thead>\n",
       "  <tbody>\n",
       "  </tbody>\n",
       "</table>\n",
       "</div>"
      ],
      "text/plain": [
       "Empty DataFrame\n",
       "Columns: [EMAIL, ITEM_GENDER, ITEM_SUB_TYPE, ITEM_PRODUCT_CORE_CATEGORY, FIRST_ORDER_AT, TOTAL_ORDERS, TOTAL_ORDER_VALUE, GROSS_ORDER_VALUE]\n",
       "Index: []"
      ]
     },
     "execution_count": 82,
     "metadata": {},
     "output_type": "execute_result"
    }
   ],
   "source": [
    "gold.loc[gold['EMAIL']=='101akpatel@gmail.com']"
   ]
  },
  {
   "cell_type": "code",
   "execution_count": 60,
   "metadata": {},
   "outputs": [
    {
     "data": {
      "text/plain": [
       "(21602, 6)"
      ]
     },
     "execution_count": 60,
     "metadata": {},
     "output_type": "execute_result"
    }
   ],
   "source": [
    "# Aggregate\n",
    "# bydate=df.groupby([\"ObservationDate\"]).agg({\"Confirmed\":'sum',\"Recovered\":'sum',\"Deaths\":'sum'})\n",
    "# bydate.head()\n",
    "\n",
    "df = gold.groupby('EMAIL').agg({\"FIRST_ORDER_AT\":'min',\\\n",
    "                                'TOTAL_ORDER_VALUE': 'mean',\\\n",
    "                                'TOTAL_ORDERS': 'mean'\\\n",
    "                                ,'ITEM_GENDER': 'last',\\\n",
    "                                'ITEM_SUB_TYPE': 'last',\\\n",
    "                                'ITEM_PRODUCT_CORE_CATEGORY': 'last'\\\n",
    "                               })\n",
    "df.shape"
   ]
  },
  {
   "cell_type": "code",
   "execution_count": 61,
   "metadata": {},
   "outputs": [
    {
     "data": {
      "text/plain": [
       "<AxesSubplot:ylabel='EMAIL'>"
      ]
     },
     "execution_count": 61,
     "metadata": {},
     "output_type": "execute_result"
    },
    {
     "data": {
      "image/png": "[encoded data removed]",
      "text/plain": [
       "<Figure size 432x288 with 1 Axes>"
      ]
     },
     "metadata": {
      "needs_background": "light"
     },
     "output_type": "display_data"
    }
   ],
   "source": [
    "sns.heatmap(df.isnull(), cbar=False)"
   ]
  },
  {
   "cell_type": "code",
   "execution_count": 62,
   "metadata": {},
   "outputs": [
    {
     "data": {
      "text/plain": [
       "(21602, 6)"
      ]
     },
     "execution_count": 62,
     "metadata": {},
     "output_type": "execute_result"
    }
   ],
   "source": [
    "df.shape"
   ]
  },
  {
   "cell_type": "code",
   "execution_count": 63,
   "metadata": {},
   "outputs": [
    {
     "name": "stdout",
     "output_type": "stream",
     "text": [
      "Subscription Total Order Value =  1251.871685954988\n",
      "Subscription Total Orders =  15.413248773261735\n"
     ]
    }
   ],
   "source": [
    "df_total = df['TOTAL_ORDER_VALUE'].mean()\n",
    "print('Subscription Total Order Value = ',df_total)\n",
    "\n",
    "df_orders = df['TOTAL_ORDERS'].mean()\n",
    "print('Subscription Total Orders = ',df_orders)"
   ]
  },
  {
   "cell_type": "code",
   "execution_count": 64,
   "metadata": {},
   "outputs": [
    {
     "data": {
      "text/html": [
       "<div>\n",
       "<style scoped>\n",
       "    .dataframe tbody tr th:only-of-type {\n",
       "        vertical-align: middle;\n",
       "    }\n",
       "\n",
       "    .dataframe tbody tr th {\n",
       "        vertical-align: top;\n",
       "    }\n",
       "\n",
       "    .dataframe thead th {\n",
       "        text-align: right;\n",
       "    }\n",
       "</style>\n",
       "<table border=\"1\" class=\"dataframe\">\n",
       "  <thead>\n",
       "    <tr style=\"text-align: right;\">\n",
       "      <th></th>\n",
       "      <th>TOTAL_ORDER_VALUE</th>\n",
       "      <th>TOTAL_ORDERS</th>\n",
       "    </tr>\n",
       "  </thead>\n",
       "  <tbody>\n",
       "    <tr>\n",
       "      <th>count</th>\n",
       "      <td>21602.000000</td>\n",
       "      <td>21602.000000</td>\n",
       "    </tr>\n",
       "    <tr>\n",
       "      <th>mean</th>\n",
       "      <td>1251.871686</td>\n",
       "      <td>15.413249</td>\n",
       "    </tr>\n",
       "    <tr>\n",
       "      <th>std</th>\n",
       "      <td>760.112543</td>\n",
       "      <td>9.287685</td>\n",
       "    </tr>\n",
       "    <tr>\n",
       "      <th>min</th>\n",
       "      <td>0.000000</td>\n",
       "      <td>1.000000</td>\n",
       "    </tr>\n",
       "    <tr>\n",
       "      <th>25%</th>\n",
       "      <td>638.000000</td>\n",
       "      <td>8.000000</td>\n",
       "    </tr>\n",
       "    <tr>\n",
       "      <th>50%</th>\n",
       "      <td>1092.000000</td>\n",
       "      <td>13.000000</td>\n",
       "    </tr>\n",
       "    <tr>\n",
       "      <th>75%</th>\n",
       "      <td>1786.000000</td>\n",
       "      <td>22.000000</td>\n",
       "    </tr>\n",
       "    <tr>\n",
       "      <th>max</th>\n",
       "      <td>7847.000000</td>\n",
       "      <td>93.000000</td>\n",
       "    </tr>\n",
       "  </tbody>\n",
       "</table>\n",
       "</div>"
      ],
      "text/plain": [
       "       TOTAL_ORDER_VALUE  TOTAL_ORDERS\n",
       "count       21602.000000  21602.000000\n",
       "mean         1251.871686     15.413249\n",
       "std           760.112543      9.287685\n",
       "min             0.000000      1.000000\n",
       "25%           638.000000      8.000000\n",
       "50%          1092.000000     13.000000\n",
       "75%          1786.000000     22.000000\n",
       "max          7847.000000     93.000000"
      ]
     },
     "execution_count": 64,
     "metadata": {},
     "output_type": "execute_result"
    }
   ],
   "source": [
    "df.dropna().describe()"
   ]
  },
  {
   "cell_type": "code",
   "execution_count": 75,
   "metadata": {},
   "outputs": [
    {
     "data": {
      "text/html": [
       "<div>\n",
       "<style scoped>\n",
       "    .dataframe tbody tr th:only-of-type {\n",
       "        vertical-align: middle;\n",
       "    }\n",
       "\n",
       "    .dataframe tbody tr th {\n",
       "        vertical-align: top;\n",
       "    }\n",
       "\n",
       "    .dataframe thead th {\n",
       "        text-align: right;\n",
       "    }\n",
       "</style>\n",
       "<table border=\"1\" class=\"dataframe\">\n",
       "  <thead>\n",
       "    <tr style=\"text-align: right;\">\n",
       "      <th></th>\n",
       "      <th>FIRST_ORDER_AT</th>\n",
       "      <th>TOTAL_ORDER_VALUE</th>\n",
       "      <th>TOTAL_ORDERS</th>\n",
       "      <th>ITEM_GENDER</th>\n",
       "      <th>ITEM_SUB_TYPE</th>\n",
       "      <th>ITEM_PRODUCT_CORE_CATEGORY</th>\n",
       "    </tr>\n",
       "    <tr>\n",
       "      <th>EMAIL</th>\n",
       "      <th></th>\n",
       "      <th></th>\n",
       "      <th></th>\n",
       "      <th></th>\n",
       "      <th></th>\n",
       "      <th></th>\n",
       "    </tr>\n",
       "  </thead>\n",
       "  <tbody>\n",
       "    <tr>\n",
       "      <th>02rainesj@gmail.com</th>\n",
       "      <td>2018-06-29 07:27:20</td>\n",
       "      <td>1222.0</td>\n",
       "      <td>14</td>\n",
       "      <td>Men</td>\n",
       "      <td>GrowthPlan</td>\n",
       "      <td>Men</td>\n",
       "    </tr>\n",
       "    <tr>\n",
       "      <th>1.amy.l.jones@gmail.com</th>\n",
       "      <td>2018-09-30 13:48:15</td>\n",
       "      <td>561.0</td>\n",
       "      <td>4</td>\n",
       "      <td>Women</td>\n",
       "      <td>GrowthPlan 3</td>\n",
       "      <td>Women</td>\n",
       "    </tr>\n",
       "    <tr>\n",
       "      <th>11513chick@gmail.com</th>\n",
       "      <td>2018-10-08 18:35:39</td>\n",
       "      <td>2020.0</td>\n",
       "      <td>25</td>\n",
       "      <td>Women</td>\n",
       "      <td>GrowthPlan</td>\n",
       "      <td>Women</td>\n",
       "    </tr>\n",
       "    <tr>\n",
       "      <th>11eglende@gmail.com</th>\n",
       "      <td>2018-11-17 03:38:44</td>\n",
       "      <td>638.0</td>\n",
       "      <td>4</td>\n",
       "      <td>Women</td>\n",
       "      <td>GrowthPlan</td>\n",
       "      <td>Women</td>\n",
       "    </tr>\n",
       "    <tr>\n",
       "      <th>11gennaro@gmail.com</th>\n",
       "      <td>2018-07-30 01:40:36</td>\n",
       "      <td>1620.8</td>\n",
       "      <td>20</td>\n",
       "      <td>Men</td>\n",
       "      <td>GrowthPlan</td>\n",
       "      <td>Men</td>\n",
       "    </tr>\n",
       "  </tbody>\n",
       "</table>\n",
       "</div>"
      ],
      "text/plain": [
       "                             FIRST_ORDER_AT  TOTAL_ORDER_VALUE  TOTAL_ORDERS  \\\n",
       "EMAIL                                                                          \n",
       "02rainesj@gmail.com     2018-06-29 07:27:20             1222.0            14   \n",
       "1.amy.l.jones@gmail.com 2018-09-30 13:48:15              561.0             4   \n",
       "11513chick@gmail.com    2018-10-08 18:35:39             2020.0            25   \n",
       "11eglende@gmail.com     2018-11-17 03:38:44              638.0             4   \n",
       "11gennaro@gmail.com     2018-07-30 01:40:36             1620.8            20   \n",
       "\n",
       "                        ITEM_GENDER ITEM_SUB_TYPE ITEM_PRODUCT_CORE_CATEGORY  \n",
       "EMAIL                                                                         \n",
       "02rainesj@gmail.com             Men    GrowthPlan                        Men  \n",
       "1.amy.l.jones@gmail.com       Women  GrowthPlan 3                      Women  \n",
       "11513chick@gmail.com          Women    GrowthPlan                      Women  \n",
       "11eglende@gmail.com           Women    GrowthPlan                      Women  \n",
       "11gennaro@gmail.com             Men    GrowthPlan                        Men  "
      ]
     },
     "execution_count": 75,
     "metadata": {},
     "output_type": "execute_result"
    }
   ],
   "source": [
    "df.head()"
   ]
  },
  {
   "cell_type": "markdown",
   "metadata": {},
   "source": [
    "## Merge"
   ]
  },
  {
   "cell_type": "code",
   "execution_count": 86,
   "metadata": {},
   "outputs": [
    {
     "data": {
      "text/plain": [
       "(695650, 17)"
      ]
     },
     "execution_count": 86,
     "metadata": {},
     "output_type": "execute_result"
    }
   ],
   "source": [
    "sub1 = pd.merge(gold,clean_acuity,how='left',on='EMAIL')\n",
    "sub1.shape"
   ]
  },
  {
   "cell_type": "code",
   "execution_count": 85,
   "metadata": {},
   "outputs": [],
   "source": [
    "# sns.heatmap(sub1.isnull(), cbar=False)"
   ]
  },
  {
   "cell_type": "code",
   "execution_count": 81,
   "metadata": {
    "scrolled": true
   },
   "outputs": [
    {
     "data": {
      "text/html": [
       "<div>\n",
       "<style scoped>\n",
       "    .dataframe tbody tr th:only-of-type {\n",
       "        vertical-align: middle;\n",
       "    }\n",
       "\n",
       "    .dataframe tbody tr th {\n",
       "        vertical-align: top;\n",
       "    }\n",
       "\n",
       "    .dataframe thead th {\n",
       "        text-align: right;\n",
       "    }\n",
       "</style>\n",
       "<table border=\"1\" class=\"dataframe\">\n",
       "  <thead>\n",
       "    <tr style=\"text-align: right;\">\n",
       "      <th></th>\n",
       "      <th>EMAIL</th>\n",
       "      <th>APPOINTMENT_BODY_DATE</th>\n",
       "      <th>FIRST_ORDER_AT</th>\n",
       "      <th>ITEM_PRODUCT_CORE_CATEGORY</th>\n",
       "      <th>ITEM_SUB_TYPE</th>\n",
       "      <th>ITEM_GENDER</th>\n",
       "      <th>TOTAL_ORDERS</th>\n",
       "      <th>TOTAL_ORDER_VALUE</th>\n",
       "    </tr>\n",
       "  </thead>\n",
       "  <tbody>\n",
       "    <tr>\n",
       "      <th>0</th>\n",
       "      <td>101akpatel@gmail.com</td>\n",
       "      <td>2020-12-18</td>\n",
       "      <td>NaT</td>\n",
       "      <td>NaN</td>\n",
       "      <td>NaN</td>\n",
       "      <td>NaN</td>\n",
       "      <td>NaN</td>\n",
       "      <td>NaN</td>\n",
       "    </tr>\n",
       "    <tr>\n",
       "      <th>1</th>\n",
       "      <td>11consesa@gmail.com</td>\n",
       "      <td>2020-11-17</td>\n",
       "      <td>NaT</td>\n",
       "      <td>NaN</td>\n",
       "      <td>NaN</td>\n",
       "      <td>NaN</td>\n",
       "      <td>NaN</td>\n",
       "      <td>NaN</td>\n",
       "    </tr>\n",
       "    <tr>\n",
       "      <th>2</th>\n",
       "      <td>1christinegallegos@gmail.com</td>\n",
       "      <td>2021-01-22</td>\n",
       "      <td>NaT</td>\n",
       "      <td>NaN</td>\n",
       "      <td>NaN</td>\n",
       "      <td>NaN</td>\n",
       "      <td>NaN</td>\n",
       "      <td>NaN</td>\n",
       "    </tr>\n",
       "    <tr>\n",
       "      <th>3</th>\n",
       "      <td>22reverie@gmail.com</td>\n",
       "      <td>2020-11-05</td>\n",
       "      <td>NaT</td>\n",
       "      <td>NaN</td>\n",
       "      <td>NaN</td>\n",
       "      <td>NaN</td>\n",
       "      <td>NaN</td>\n",
       "      <td>NaN</td>\n",
       "    </tr>\n",
       "    <tr>\n",
       "      <th>4</th>\n",
       "      <td>2reachmari@gmail.com</td>\n",
       "      <td>2021-01-12</td>\n",
       "      <td>NaT</td>\n",
       "      <td>NaN</td>\n",
       "      <td>NaN</td>\n",
       "      <td>NaN</td>\n",
       "      <td>NaN</td>\n",
       "      <td>NaN</td>\n",
       "    </tr>\n",
       "  </tbody>\n",
       "</table>\n",
       "</div>"
      ],
      "text/plain": [
       "                          EMAIL APPOINTMENT_BODY_DATE FIRST_ORDER_AT  \\\n",
       "0          101akpatel@gmail.com            2020-12-18            NaT   \n",
       "1           11consesa@gmail.com            2020-11-17            NaT   \n",
       "2  1christinegallegos@gmail.com            2021-01-22            NaT   \n",
       "3           22reverie@gmail.com            2020-11-05            NaT   \n",
       "4          2reachmari@gmail.com            2021-01-12            NaT   \n",
       "\n",
       "  ITEM_PRODUCT_CORE_CATEGORY ITEM_SUB_TYPE ITEM_GENDER  TOTAL_ORDERS  \\\n",
       "0                        NaN           NaN         NaN           NaN   \n",
       "1                        NaN           NaN         NaN           NaN   \n",
       "2                        NaN           NaN         NaN           NaN   \n",
       "3                        NaN           NaN         NaN           NaN   \n",
       "4                        NaN           NaN         NaN           NaN   \n",
       "\n",
       "   TOTAL_ORDER_VALUE  \n",
       "0                NaN  \n",
       "1                NaN  \n",
       "2                NaN  \n",
       "3                NaN  \n",
       "4                NaN  "
      ]
     },
     "execution_count": 81,
     "metadata": {},
     "output_type": "execute_result"
    }
   ],
   "source": [
    "# Create a copy of the dataframe\n",
    "sub = sub1.copy()\n",
    "\n",
    "sub = sub[[ 'EMAIL', 'FIRST_ORDER_AT','APPOINTMENT_BODY_DATE',\\\n",
    "           'ITEM_PRODUCT_CORE_CATEGORY', 'ITEM_SUB_TYPE','ITEM_GENDER',\\\n",
    "           'TOTAL_ORDERS','TOTAL_ORDER_VALUE']]\n",
    "\n",
    "sub.head()"
   ]
  },
  {
   "cell_type": "code",
   "execution_count": 80,
   "metadata": {
    "scrolled": true
   },
   "outputs": [
    {
     "data": {
      "text/plain": [
       "<AxesSubplot:>"
      ]
     },
     "execution_count": 80,
     "metadata": {},
     "output_type": "execute_result"
    },
    {
     "data": {
      "image/png": "[encoded data removed]",
      "text/plain": [
       "<Figure size 432x288 with 1 Axes>"
      ]
     },
     "metadata": {
      "needs_background": "light"
     },
     "output_type": "display_data"
    }
   ],
   "source": []
  },
  {
   "cell_type": "code",
   "execution_count": null,
   "metadata": {},
   "outputs": [],
   "source": [
    "df_total = df['TOTAL_ORDER_VALUE'].mean()\n",
    "sub_total = sub['TOTAL_ORDER_VALUE'].mean()\n",
    "print('Subscription Total Order Value = ',df_total)\n",
    "print('Sub + Consult Total Order Value = ',sub_total)\n",
    "\n",
    "df_orders = df['TOTAL_ORDERS'].mean()\n",
    "sub_total = sub['TOTAL_ORDERS'].mean()\n",
    "print('Subscription Total Orders = ',df_orders)\n",
    "print('Sub + Consult Total Orders = ',sub_total)"
   ]
  },
  {
   "cell_type": "code",
   "execution_count": null,
   "metadata": {
    "scrolled": true
   },
   "outputs": [],
   "source": [
    "sub['FIRST_ORDER_AT']=pd.to_datetime(sub['FIRST_ORDER_AT'])\n",
    "\n",
    "sub['TimeDifference'] = \\\n",
    "(((sub['APPOINTMENT_BODY_DATE']))-(sub['FIRST_ORDER_AT']))\n",
    "\n",
    "submail = sub['EMAIL'].nunique()\n",
    "print ('unique emails = ',submail)"
   ]
  },
  {
   "cell_type": "code",
   "execution_count": null,
   "metadata": {},
   "outputs": [],
   "source": [
    "# clean up item sub\n",
    "# sub.loc[sub['ITEM_SUB_TYPE'] =='GrowthPlan,GrowthPlan 2']= 'Combination'\n",
    "# sub.loc[sub['ITEM_SUB_TYPE'] =='Non-Sub,GrowthPlan 3', 'ITEM_SUB_TYPE']= 'Combination'\n",
    "# sub.loc[sub['ITEM_SUB_TYPE'] =='GrowthPlan,Non-Sub', 'ITEM_SUB_TYPE']= 'Combination'\n",
    "# sub.loc[sub['ITEM_SUB_TYPE'] =='GrowthPlan 3,GrowthPlan', 'ITEM_SUB_TYPE']= 'Combination'\n",
    "# sub.loc[sub['ITEM_SUB_TYPE'] =='GrowthPlan,GrowthPlan', 'ITEM_SUB_TYPE']= 'Combination'\n",
    "# sub.loc[sub['ITEM_SUB_TYPE'] =='GrowthPlan 3,GrowthPlan 3', 'ITEM_SUB_TYPE']= 'Combination'\n",
    "# sub.loc[sub['ITEM_SUB_TYPE'] =='GrowthPlan,GrowthPlan 3', 'ITEM_SUB_TYPE']= 'Combination'\n",
    "# sub.loc[sub['ITEM_SUB_TYPE'] =='GrowthPlan,GrowthPlan,GrowthPlan 3,GrowthPlan 3', 'ITEM_SUB_TYPE']= 'Combination'\n",
    "# sub.loc[sub['ITEM_SUB_TYPE'] =='GrowthPlan 3,GrowthPlan 2,GrowthPlan 3,GrowthPlan 3']= 'Combination'\n",
    "# sub.loc[sub['ITEM_SUB_TYPE'] =='Non-Sub,GrowthPlan 3,Non-Sub', 'ITEM_SUB_TYPE']= 'Combination'\n",
    "# sub.loc[sub['ITEM_SUB_TYPE'] =='GrowthPlan 3,Non-Sub', 'ITEM_SUB_TYPE']= 'Combination'\n",
    "# sub.loc[sub['ITEM_SUB_TYPE'] =='Prepay 6', 'ITEM_SUB_TYPE']= 'Combination'\n",
    "# sub.loc[sub['ITEM_SUB_TYPE'] =='GrowthPlan 3,GrowthPlan', 'ITEM_SUB_TYPE']= 'Combination'\n",
    "# sub.loc[sub['ITEM_SUB_TYPE'] =='GrowthPlan 3,GrowthPlan,GrowthPlan', 'ITEM_SUB_TYPE']= 'Combination'\n",
    "# sub.loc[sub['ITEM_SUB_TYPE'] =='Non-Sub,GrowthPlan 3,GrowthPlan 3,GrowthPlan 2,GrowthPlan 3,GrowthPlan 3,GrowthPlan 3,GrowthPlan 2', 'ITEM_SUB_TYPE']= 'Combination'\n",
    "# sub.loc[sub['ITEM_SUB_TYPE'] =='GrowthPlan 3,GrowthPlan 3,GrowthPlan 2,GrowthPlan 3', 'ITEM_SUB_TYPE']= 'Combination'\n",
    "# sub.loc[sub['ITEM_SUB_TYPE'] =='GrowthPlan 2,GrowthPlan 2', 'ITEM_SUB_TYPE']= 'Combination'\n",
    "# sub.loc[sub['ITEM_SUB_TYPE'] =='GrowthPlan 2,GrowthPlan ', 'ITEM_SUB_TYPE']= 'Combination'\n",
    "# sub.loc[sub['ITEM_SUB_TYPE'] =='GrowthPlan 3,GrowthPlan 2', 'ITEM_SUB_TYPE']= 'Combination'\n",
    "# sub.loc[sub['ITEM_SUB_TYPE'] =='GrowthPlan 2,GrowthPlan 3']= 'Combination'\n",
    "# sub.loc[sub['ITEM_SUB_TYPE'] =='GrowthPlan,GrowthPlan,GrowthPlan', 'ITEM_SUB_TYPE']= 'Combination'\n",
    "# sub.loc[sub['ITEM_SUB_TYPE'] =='GrowthPlan 2,Non-Sub', 'ITEM_SUB_TYPE']= 'Combination'\n",
    "# sub.loc[sub['ITEM_SUB_TYPE'] =='Non-Sub,GrowthPlan']= 'Combination'\n",
    "# sub.loc[sub['ITEM_SUB_TYPE'] =='GrowthPlan 2,GrowthPlan,GrowthPlan 3', 'ITEM_SUB_TYPE']= 'Combination'\n",
    "# sub.loc[sub['ITEM_SUB_TYPE'] =='GrowthPlan 3,GrowthPlan 3,Non-Sub']= 'Combination'\n",
    "# sub.loc[sub['ITEM_SUB_TYPE'] =='Non-Sub,GrowthPlan 2']= 'Combination'\n",
    "sub.loc[sub['ITEM_SUB_TYPE'] =='GrowthPlan,GrowthPlan 3']= 'Combination'\n",
    "\n",
    "sub['ITEM_SUB_TYPE'].value_counts()"
   ]
  },
  {
   "cell_type": "code",
   "execution_count": null,
   "metadata": {},
   "outputs": [],
   "source": [
    "# sub.loc[sub['ITEM_PRODUCT_CORE_CATEGORY'] =='Women,Men']= 'Women'\n",
    "# sub.loc[sub['ITEM_PRODUCT_CORE_CATEGORY'] =='Combination']= 'Balance'\n",
    "# sub.loc[sub['ITEM_PRODUCT_CORE_CATEGORY'] =='Women,Balance']= 'Balance'\n",
    "# sub.loc[sub['ITEM_PRODUCT_CORE_CATEGORY'] =='Men,Men']= 'Men'\n",
    "# sub.loc[sub['ITEM_PRODUCT_CORE_CATEGORY'] =='Balance,Men']= 'Balance'\n",
    "# sub.loc[sub['ITEM_PRODUCT_CORE_CATEGORY'] =='Men,Women,Women']= 'Women'\n",
    "\n",
    "sub['ITEM_PRODUCT_CORE_CATEGORY'].value_counts()"
   ]
  },
  {
   "cell_type": "code",
   "execution_count": null,
   "metadata": {},
   "outputs": [],
   "source": [
    "# # clean up item gender\n",
    "# gold.loc[gold['ITEM_GENDER'] =='Men,Women', 'ITEM_GENDER']= 'Combination'\n",
    "# gold.loc[gold['ITEM_GENDER'] =='Women,Men,Women', 'ITEM_GENDER']= 'Combination'\n",
    "# gold.loc[gold['ITEM_GENDER'] =='Men,Women,Men,Women,Women,Women,Men,Men', 'ITEM_GENDER']= 'Combination'\n",
    "# gold.loc[gold['ITEM_GENDER'] =='Men,Women,Women', 'ITEM_GENDER']= 'Combination'\n",
    "# gold.loc[gold['ITEM_GENDER'] =='Women,Women,Men', 'ITEM_GENDER']= 'Combination'\n",
    "# gold.loc[gold['ITEM_GENDER'] =='Women,Men,Women,Women', 'ITEM_GENDER']= 'Combination'\n",
    "# gold.loc[gold['ITEM_GENDER'] =='Women,Men', 'ITEM_GENDER']= 'Combination'\n",
    "# gold.loc[gold['ITEM_GENDER'] =='Women,All', 'ITEM_GENDER']= 'Women'\n",
    "# gold.loc[gold['ITEM_GENDER'] =='Women,Women,Women,Women', 'ITEM_GENDER']= 'Women'\n",
    "# gold.loc[gold['ITEM_GENDER'] =='Women,Women', 'ITEM_GENDER']= 'Women'\n",
    "# gold.loc[gold['ITEM_GENDER'] =='Men,Men', 'ITEM_GENDER']= 'Men'\n",
    "# gold.loc[gold['ITEM_GENDER'] =='Women,Women,Men,Women,Men,Men,Men,Women', 'ITEM_GENDER']= 'Combination'\n",
    "# gold.loc[gold['ITEM_GENDER'] =='Women,Women,Women,Men']= 'Women'\n",
    "\n",
    "sub['ITEM_GENDER'].value_counts()"
   ]
  },
  {
   "cell_type": "code",
   "execution_count": null,
   "metadata": {},
   "outputs": [],
   "source": [
    "# Export data\n",
    "sub.to_csv('sub.csv')"
   ]
  },
  {
   "cell_type": "code",
   "execution_count": null,
   "metadata": {},
   "outputs": [],
   "source": []
  },
  {
   "cell_type": "code",
   "execution_count": null,
   "metadata": {},
   "outputs": [],
   "source": []
  },
  {
   "cell_type": "code",
   "execution_count": null,
   "metadata": {},
   "outputs": [],
   "source": []
  },
  {
   "cell_type": "code",
   "execution_count": null,
   "metadata": {},
   "outputs": [],
   "source": []
  },
  {
   "cell_type": "code",
   "execution_count": null,
   "metadata": {},
   "outputs": [],
   "source": []
  },
  {
   "cell_type": "code",
   "execution_count": null,
   "metadata": {},
   "outputs": [],
   "source": []
  }
 ],
 "metadata": {
  "kernelspec": {
   "display_name": "Python 3",
   "language": "python",
   "name": "python3"
  },
  "language_info": {
   "codemirror_mode": {
    "name": "ipython",
    "version": 3
   },
   "file_extension": ".py",
   "mimetype": "text/x-python",
   "name": "python",
   "nbconvert_exporter": "python",
   "pygments_lexer": "ipython3",
   "version": "3.7.9"
  },
  "toc": {
   "base_numbering": 1,
   "nav_menu": {},
   "number_sections": true,
   "sideBar": true,
   "skip_h1_title": false,
   "title_cell": "Table of Contents",
   "title_sidebar": "Contents",
   "toc_cell": false,
   "toc_position": {
    "height": "calc(100% - 180px)",
    "left": "10px",
    "top": "150px",
    "width": "235.75px"
   },
   "toc_section_display": true,
   "toc_window_display": true
  }
 },
 "nbformat": 4,
 "nbformat_minor": 2
}
