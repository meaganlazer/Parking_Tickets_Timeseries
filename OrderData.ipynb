{
 "cells": [
  {
   "cell_type": "markdown",
   "metadata": {},
   "source": [
    "# Imports"
   ]
  },
  {
   "cell_type": "code",
   "execution_count": 1,
   "metadata": {},
   "outputs": [],
   "source": [
    "# Import standard libraries\n",
    "import pandas as pd\n",
    "import seaborn as sns\n",
    "import numpy as np\n",
    "import matplotlib.pyplot as plt\n",
    "%matplotlib inline\n",
    "\n",
    "# API\n",
    "import requests\n",
    "import json\n",
    "import os\n",
    "# from sodapy import Socrata\n",
    "\n",
    "# Datetime\n",
    "import datetime as datetime\n",
    "\n",
    "import snowflake.connector\n",
    "# Date\n",
    "import datetime as dt\n",
    "import time\n",
    "from datetime import timedelta\n",
    "\n",
    "#Math\n",
    "from math import exp"
   ]
  },
  {
   "cell_type": "code",
   "execution_count": 2,
   "metadata": {},
   "outputs": [],
   "source": [
    "# # Gets the cursor\n",
    "# con = snowflake.connector.connect(\n",
    "#     user='meagan',\n",
    "#     password='',\n",
    "#     account='hu40871.us-east-1',\n",
    "#     warehouse='ANALYSIS'\n",
    "#     )\n",
    "# cur = con.cursor()\n",
    "\n",
    "# # insert query here\n",
    "# cur.execute('''\n",
    "#     SELECT  * \n",
    "#     FROM    \"WAREHOUSE\".\"GOLD\".\"SUBSCRIPTION_RETENTION\"\n",
    "#            ''')"
   ]
  },
  {
   "cell_type": "code",
   "execution_count": 3,
   "metadata": {},
   "outputs": [],
   "source": [
    "# cur = conn.cursor()\n",
    "# print(conn)\n",
    "\n",
    "# cur.execute(\"SHOW DATABASES\")\n",
    "\n",
    "# for db in cur:\n",
    "#     print(db)\n",
    "\n",
    "# Execute a statement that will generate a result set WAREHOUSE.GOLD.SUBSCRIPTION_RETENTION\n",
    "# sql = \"select * from GOLD.SUBSCRIPTION_RETENTION\"\n",
    "# cur.execute(sql)\n",
    "\n",
    "\n",
    "\n",
    "\n",
    "\n",
    "\n",
    "\n",
    "\n",
    "\n",
    "# reads data into pandas\n",
    "# df = cur.fetch_pandas_all()\n",
    "# df.head()"
   ]
  },
  {
   "cell_type": "markdown",
   "metadata": {},
   "source": [
    "## Acuity"
   ]
  },
  {
   "cell_type": "code",
   "execution_count": 4,
   "metadata": {},
   "outputs": [
    {
     "data": {
      "text/html": [
       "<div>\n",
       "<style scoped>\n",
       "    .dataframe tbody tr th:only-of-type {\n",
       "        vertical-align: middle;\n",
       "    }\n",
       "\n",
       "    .dataframe tbody tr th {\n",
       "        vertical-align: top;\n",
       "    }\n",
       "\n",
       "    .dataframe thead th {\n",
       "        text-align: right;\n",
       "    }\n",
       "</style>\n",
       "<table border=\"1\" class=\"dataframe\">\n",
       "  <thead>\n",
       "    <tr style=\"text-align: right;\">\n",
       "      <th></th>\n",
       "      <th>EVENT_TS</th>\n",
       "      <th>EVENT_TS_UTC</th>\n",
       "      <th>ANONYMOUS_ID</th>\n",
       "      <th>EVENT</th>\n",
       "      <th>APPOINTMENT_BODY_CALENDAR</th>\n",
       "      <th>APPOINTMENT_BODY_FIRST_NAME</th>\n",
       "      <th>APPOINTMENT_BODY_DATETIME_CREATED</th>\n",
       "      <th>APPOINTMENT_BODY_CALENDAR_ID</th>\n",
       "      <th>APPOINTMENT_BODY_CALENDAR_TIMEZONE</th>\n",
       "      <th>EMAIL</th>\n",
       "      <th>APPOINTMENT_BODY_DATE</th>\n",
       "      <th>APPOINTMENT_BODY_DURATION</th>\n",
       "      <th>APPOINTMENT_BODY_TIMEZONE</th>\n",
       "      <th>APPOINTMENT_DATE_TIME</th>\n",
       "      <th>APPOINTMENT_BODY_LAST_NAME</th>\n",
       "      <th>APPOINTMENT_BODY_TYPE</th>\n",
       "      <th>APPOINTMENT_BODY_ID</th>\n",
       "      <th>APPOINTMENT_TYPE_ID</th>\n",
       "      <th>APPOINTMENT_BODY_CANCELED</th>\n",
       "      <th>APPOINTMENT_BODY_NO_SHOW</th>\n",
       "    </tr>\n",
       "  </thead>\n",
       "  <tbody>\n",
       "    <tr>\n",
       "      <th>0</th>\n",
       "      <td>2020-12-23 23:45:03.646</td>\n",
       "      <td>2020-12-24 07:45:03.646</td>\n",
       "      <td>495876669</td>\n",
       "      <td>appointment_scheduled</td>\n",
       "      <td>Dr. Anya Arthen, ND</td>\n",
       "      <td>Hunter</td>\n",
       "      <td>2020-12-24 01:45:00.000</td>\n",
       "      <td>3513713.0</td>\n",
       "      <td>America/New_York</td>\n",
       "      <td>hunterelliott510@gmail.com</td>\n",
       "      <td>December 29, 2020</td>\n",
       "      <td>20.0</td>\n",
       "      <td>America/Los_Angeles</td>\n",
       "      <td>2020-12-29 14:25:00.000</td>\n",
       "      <td>Elliott</td>\n",
       "      <td>Hair Consultation</td>\n",
       "      <td>495876669.0</td>\n",
       "      <td>12047150.0</td>\n",
       "      <td>False</td>\n",
       "      <td>NaN</td>\n",
       "    </tr>\n",
       "    <tr>\n",
       "      <th>1</th>\n",
       "      <td>2021-01-03 00:03:41.860</td>\n",
       "      <td>2021-01-03 08:03:41.860</td>\n",
       "      <td>499867827</td>\n",
       "      <td>appointment_scheduled</td>\n",
       "      <td>Dr. Nicole Klughers, ND</td>\n",
       "      <td>Kathleen</td>\n",
       "      <td>2021-01-03 02:03:40.000</td>\n",
       "      <td>3513704.0</td>\n",
       "      <td>America/New_York</td>\n",
       "      <td>katmc@sbcglobal.net</td>\n",
       "      <td>January 21, 2021</td>\n",
       "      <td>20.0</td>\n",
       "      <td>America/Los_Angeles</td>\n",
       "      <td>2021-01-21 17:00:00.000</td>\n",
       "      <td>McElhinney</td>\n",
       "      <td>Hair Consultation</td>\n",
       "      <td>499867827.0</td>\n",
       "      <td>12799707.0</td>\n",
       "      <td>False</td>\n",
       "      <td>NaN</td>\n",
       "    </tr>\n",
       "    <tr>\n",
       "      <th>2</th>\n",
       "      <td>2020-12-27 21:34:32.762</td>\n",
       "      <td>2020-12-28 05:34:32.762</td>\n",
       "      <td>496859072</td>\n",
       "      <td>appointment_scheduled</td>\n",
       "      <td>Dr. Nadia Musavvir, ND</td>\n",
       "      <td>ashley</td>\n",
       "      <td>2020-12-27 23:34:29.000</td>\n",
       "      <td>3513708.0</td>\n",
       "      <td>America/Chicago</td>\n",
       "      <td>ashleynizzle@yahoo.com</td>\n",
       "      <td>January 6, 2021</td>\n",
       "      <td>20.0</td>\n",
       "      <td>America/Chicago</td>\n",
       "      <td>2021-01-06 12:30:00.000</td>\n",
       "      <td>patkovic</td>\n",
       "      <td>Hair Consultation</td>\n",
       "      <td>496859072.0</td>\n",
       "      <td>12799707.0</td>\n",
       "      <td>False</td>\n",
       "      <td>NaN</td>\n",
       "    </tr>\n",
       "    <tr>\n",
       "      <th>3</th>\n",
       "      <td>2020-11-27 03:05:47.644</td>\n",
       "      <td>2020-11-27 11:05:47.644</td>\n",
       "      <td>481523073</td>\n",
       "      <td>appointment_scheduled</td>\n",
       "      <td>Dr. Ariana Zastrow, ND</td>\n",
       "      <td>Rose</td>\n",
       "      <td>2020-11-27 05:05:44.000</td>\n",
       "      <td>3684820.0</td>\n",
       "      <td>America/New_York</td>\n",
       "      <td>foxbody1986@hotmail.com</td>\n",
       "      <td>December 7, 2020</td>\n",
       "      <td>20.0</td>\n",
       "      <td>America/New_York</td>\n",
       "      <td>2020-12-07 16:55:00.000</td>\n",
       "      <td>DeLaRosa</td>\n",
       "      <td>Hair Consultation</td>\n",
       "      <td>481523073.0</td>\n",
       "      <td>12047150.0</td>\n",
       "      <td>False</td>\n",
       "      <td>NaN</td>\n",
       "    </tr>\n",
       "    <tr>\n",
       "      <th>4</th>\n",
       "      <td>2020-12-08 03:30:31.906</td>\n",
       "      <td>2020-12-08 11:30:31.906</td>\n",
       "      <td>487457386</td>\n",
       "      <td>appointment_scheduled</td>\n",
       "      <td>Dr. Ariana Zastrow, ND</td>\n",
       "      <td>Anita</td>\n",
       "      <td>2020-12-08 05:30:28.000</td>\n",
       "      <td>3684820.0</td>\n",
       "      <td>America/New_York</td>\n",
       "      <td>anbavitz@gmail.com</td>\n",
       "      <td>December 22, 2020</td>\n",
       "      <td>20.0</td>\n",
       "      <td>America/New_York</td>\n",
       "      <td>2020-12-22 12:25:00.000</td>\n",
       "      <td>Bavitz</td>\n",
       "      <td>Hair Consultation</td>\n",
       "      <td>487457386.0</td>\n",
       "      <td>12047150.0</td>\n",
       "      <td>False</td>\n",
       "      <td>NaN</td>\n",
       "    </tr>\n",
       "  </tbody>\n",
       "</table>\n",
       "</div>"
      ],
      "text/plain": [
       "                  EVENT_TS             EVENT_TS_UTC  ANONYMOUS_ID  \\\n",
       "0  2020-12-23 23:45:03.646  2020-12-24 07:45:03.646     495876669   \n",
       "1  2021-01-03 00:03:41.860  2021-01-03 08:03:41.860     499867827   \n",
       "2  2020-12-27 21:34:32.762  2020-12-28 05:34:32.762     496859072   \n",
       "3  2020-11-27 03:05:47.644  2020-11-27 11:05:47.644     481523073   \n",
       "4  2020-12-08 03:30:31.906  2020-12-08 11:30:31.906     487457386   \n",
       "\n",
       "                   EVENT APPOINTMENT_BODY_CALENDAR  \\\n",
       "0  appointment_scheduled       Dr. Anya Arthen, ND   \n",
       "1  appointment_scheduled   Dr. Nicole Klughers, ND   \n",
       "2  appointment_scheduled    Dr. Nadia Musavvir, ND   \n",
       "3  appointment_scheduled   Dr. Ariana Zastrow, ND    \n",
       "4  appointment_scheduled   Dr. Ariana Zastrow, ND    \n",
       "\n",
       "  APPOINTMENT_BODY_FIRST_NAME APPOINTMENT_BODY_DATETIME_CREATED  \\\n",
       "0                      Hunter           2020-12-24 01:45:00.000   \n",
       "1                    Kathleen           2021-01-03 02:03:40.000   \n",
       "2                      ashley           2020-12-27 23:34:29.000   \n",
       "3                        Rose           2020-11-27 05:05:44.000   \n",
       "4                       Anita           2020-12-08 05:30:28.000   \n",
       "\n",
       "   APPOINTMENT_BODY_CALENDAR_ID APPOINTMENT_BODY_CALENDAR_TIMEZONE  \\\n",
       "0                     3513713.0                   America/New_York   \n",
       "1                     3513704.0                   America/New_York   \n",
       "2                     3513708.0                    America/Chicago   \n",
       "3                     3684820.0                   America/New_York   \n",
       "4                     3684820.0                   America/New_York   \n",
       "\n",
       "                        EMAIL APPOINTMENT_BODY_DATE  \\\n",
       "0  hunterelliott510@gmail.com     December 29, 2020   \n",
       "1         katmc@sbcglobal.net      January 21, 2021   \n",
       "2      ashleynizzle@yahoo.com       January 6, 2021   \n",
       "3     foxbody1986@hotmail.com      December 7, 2020   \n",
       "4          anbavitz@gmail.com     December 22, 2020   \n",
       "\n",
       "   APPOINTMENT_BODY_DURATION APPOINTMENT_BODY_TIMEZONE  \\\n",
       "0                       20.0       America/Los_Angeles   \n",
       "1                       20.0       America/Los_Angeles   \n",
       "2                       20.0           America/Chicago   \n",
       "3                       20.0          America/New_York   \n",
       "4                       20.0          America/New_York   \n",
       "\n",
       "     APPOINTMENT_DATE_TIME APPOINTMENT_BODY_LAST_NAME APPOINTMENT_BODY_TYPE  \\\n",
       "0  2020-12-29 14:25:00.000                    Elliott     Hair Consultation   \n",
       "1  2021-01-21 17:00:00.000                 McElhinney     Hair Consultation   \n",
       "2  2021-01-06 12:30:00.000                   patkovic     Hair Consultation   \n",
       "3  2020-12-07 16:55:00.000                   DeLaRosa     Hair Consultation   \n",
       "4  2020-12-22 12:25:00.000                     Bavitz     Hair Consultation   \n",
       "\n",
       "   APPOINTMENT_BODY_ID  APPOINTMENT_TYPE_ID APPOINTMENT_BODY_CANCELED  \\\n",
       "0          495876669.0           12047150.0                     False   \n",
       "1          499867827.0           12799707.0                     False   \n",
       "2          496859072.0           12799707.0                     False   \n",
       "3          481523073.0           12047150.0                     False   \n",
       "4          487457386.0           12047150.0                     False   \n",
       "\n",
       "  APPOINTMENT_BODY_NO_SHOW  \n",
       "0                      NaN  \n",
       "1                      NaN  \n",
       "2                      NaN  \n",
       "3                      NaN  \n",
       "4                      NaN  "
      ]
     },
     "execution_count": 4,
     "metadata": {},
     "output_type": "execute_result"
    }
   ],
   "source": [
    "silver = pd.read_csv('SILVER_FACT.ACUITY_ND_CONSULT_EVENTS.csv')\n",
    "silver.head()"
   ]
  },
  {
   "cell_type": "code",
   "execution_count": 5,
   "metadata": {},
   "outputs": [],
   "source": [
    "# Create a copy of the dataframe to preserve the content of the API export during cleaning\n",
    "silver_acuity = silver.copy()\n",
    "# silver_acuity.info()"
   ]
  },
  {
   "cell_type": "code",
   "execution_count": 6,
   "metadata": {},
   "outputs": [],
   "source": [
    "# Change dates to datetime Dtype\n",
    "silver_acuity['APPOINTMENT_BODY_DATE'] = pd.to_datetime(silver_acuity['APPOINTMENT_BODY_DATE'])\n",
    "# silver_acuity.columns\n",
    "\n",
    "# Drop unneeded columns\n",
    "silver_acuity.drop(columns=['EVENT_TS', 'EVENT_TS_UTC', 'ANONYMOUS_ID','APPOINTMENT_BODY_FIRST_NAME',\n",
    "       'APPOINTMENT_BODY_DATETIME_CREATED', 'APPOINTMENT_BODY_CALENDAR_ID','APPOINTMENT_BODY_CALENDAR_TIMEZONE',\\\n",
    "                    'APPOINTMENT_BODY_TIMEZONE', 'APPOINTMENT_BODY_LAST_NAME', 'APPOINTMENT_BODY_ID',\\\n",
    "                    'APPOINTMENT_BODY_NO_SHOW', \\\n",
    "                    'APPOINTMENT_TYPE_ID'], inplace=True)"
   ]
  },
  {
   "cell_type": "code",
   "execution_count": 7,
   "metadata": {},
   "outputs": [
    {
     "data": {
      "text/plain": [
       "<matplotlib.axes._subplots.AxesSubplot at 0x7fdb1bbd5590>"
      ]
     },
     "execution_count": 7,
     "metadata": {},
     "output_type": "execute_result"
    },
    {
     "data": {
      "image/png": "[encoded data removed]",
      "text/plain": [
       "<Figure size 432x288 with 1 Axes>"
      ]
     },
     "metadata": {
      "needs_background": "light"
     },
     "output_type": "display_data"
    }
   ],
   "source": [
    "# Check for null values\n",
    "sns.heatmap(silver_acuity.isnull(), cbar=False)"
   ]
  },
  {
   "cell_type": "code",
   "execution_count": 8,
   "metadata": {
    "scrolled": true
   },
   "outputs": [
    {
     "data": {
      "text/plain": [
       "appointment_changed        13582\n",
       "appointment_scheduled       3838\n",
       "appointment_rescheduled      516\n",
       "appointment_canceled         321\n",
       "Name: EVENT, dtype: int64"
      ]
     },
     "execution_count": 8,
     "metadata": {},
     "output_type": "execute_result"
    }
   ],
   "source": [
    "silver_acuity['EVENT'].value_counts()"
   ]
  },
  {
   "cell_type": "code",
   "execution_count": 9,
   "metadata": {},
   "outputs": [
    {
     "data": {
      "text/plain": [
       "Hair Consultation                      15039\n",
       "Hair Mineral Analysis Appointment       2319\n",
       "Follow Up Consultation                   479\n",
       "Customer consultation                    111\n",
       "Case Study                                16\n",
       "Hair Mineral Analysis - Acquisition       15\n",
       "Name: APPOINTMENT_BODY_TYPE, dtype: int64"
      ]
     },
     "execution_count": 9,
     "metadata": {},
     "output_type": "execute_result"
    }
   ],
   "source": [
    "silver_acuity['APPOINTMENT_BODY_TYPE'].value_counts()"
   ]
  },
  {
   "cell_type": "code",
   "execution_count": 10,
   "metadata": {},
   "outputs": [
    {
     "data": {
      "text/plain": [
       "appointment_scheduled    3729\n",
       "Name: EVENT, dtype: int64"
      ]
     },
     "execution_count": 10,
     "metadata": {},
     "output_type": "execute_result"
    }
   ],
   "source": [
    "# drop irrelevant appointments\n",
    "na_dict= {'appointment_canceled' : np.nan,\n",
    "'appointment_changed' : np.nan,\n",
    "'appointment_rescheduled' : np.nan}\n",
    "\n",
    "silver_acuity['EVENT'].replace(na_dict, inplace = True)\n",
    "silver_acuity.dropna(inplace = True)\n",
    "silver_acuity['EVENT'].value_counts()"
   ]
  },
  {
   "cell_type": "code",
   "execution_count": 11,
   "metadata": {},
   "outputs": [
    {
     "data": {
      "text/plain": [
       "True     3459\n",
       "False     270\n",
       "Name: Complete, dtype: int64"
      ]
     },
     "execution_count": 11,
     "metadata": {},
     "output_type": "execute_result"
    }
   ],
   "source": [
    "#Round to the day\n",
    "silver_acuity['APPOINTMENT_BODY_DATE'] = silver_acuity['APPOINTMENT_BODY_DATE'].dt.round('D')\n",
    "\n",
    "silver_acuity['Today'] = pd.Timestamp('today')\n",
    "silver_acuity['Today'] = silver_acuity['Today'].dt.round('D')\n",
    "\n",
    "silver_acuity['Complete'] = (silver_acuity['Today']>silver_acuity['APPOINTMENT_BODY_DATE'])\n",
    "silver_acuity['Complete'].value_counts()"
   ]
  },
  {
   "cell_type": "code",
   "execution_count": 12,
   "metadata": {},
   "outputs": [],
   "source": [
    "# Remove appointments in the future\n",
    "silver_acuity['Complete'] = silver_acuity['Complete'].astype('str')\n",
    "# silver_acuity.info()"
   ]
  },
  {
   "cell_type": "code",
   "execution_count": 13,
   "metadata": {
    "scrolled": true
   },
   "outputs": [
    {
     "data": {
      "text/plain": [
       "True    3459\n",
       "Name: Complete, dtype: int64"
      ]
     },
     "execution_count": 13,
     "metadata": {},
     "output_type": "execute_result"
    }
   ],
   "source": [
    "# drop irrelevant appointments\n",
    "na_dict= {'False' : np.nan}\n",
    "\n",
    "silver_acuity['Complete'].replace(na_dict, inplace = True)\n",
    "silver_acuity.dropna(inplace = True)\n",
    "silver_acuity['Complete'].value_counts()"
   ]
  },
  {
   "cell_type": "code",
   "execution_count": 14,
   "metadata": {},
   "outputs": [
    {
     "data": {
      "text/plain": [
       "EVENT    0\n",
       "dtype: int64"
      ]
     },
     "execution_count": 14,
     "metadata": {},
     "output_type": "execute_result"
    }
   ],
   "source": [
    "# Group by email \n",
    "chart = silver_acuity.groupby([\"APPOINTMENT_BODY_DATE\"]).agg({'EVENT':'count'})\n",
    "chart.isna().sum()"
   ]
  },
  {
   "cell_type": "code",
   "execution_count": 15,
   "metadata": {},
   "outputs": [
    {
     "data": {
      "image/png": "[encoded data removed]",
      "text/plain": [
       "<Figure size 1440x432 with 1 Axes>"
      ]
     },
     "metadata": {
      "needs_background": "light"
     },
     "output_type": "display_data"
    }
   ],
   "source": [
    "chart.plot(kind='bar',figsize=(20,6))\n",
    "plt.title(\"Appointment Date\", size= 24)\n",
    "plt.show()"
   ]
  },
  {
   "cell_type": "code",
   "execution_count": 16,
   "metadata": {},
   "outputs": [
    {
     "data": {
      "text/plain": [
       "<matplotlib.legend.Legend at 0x7fdb210cbc10>"
      ]
     },
     "execution_count": 16,
     "metadata": {},
     "output_type": "execute_result"
    },
    {
     "data": {
      "image/png": "[encoded data removed]",
      "text/plain": [
       "<Figure size 432x288 with 1 Axes>"
      ]
     },
     "metadata": {
      "needs_background": "light"
     },
     "output_type": "display_data"
    }
   ],
   "source": [
    "(silver_acuity.groupby([silver_acuity['APPOINTMENT_BODY_DATE'].dt.dayofweek,\\\n",
    "                       silver_acuity['APPOINTMENT_BODY_DATE'].dt.month])\\\n",
    " ['EVENT'].count()).unstack().plot(kind='line')\n",
    "plt.legend(loc='center left', bbox_to_anchor=(1.0, 0.5))"
   ]
  },
  {
   "cell_type": "code",
   "execution_count": 17,
   "metadata": {},
   "outputs": [
    {
     "data": {
      "text/plain": [
       "Timestamp('2020-09-29 00:00:00')"
      ]
     },
     "execution_count": 17,
     "metadata": {},
     "output_type": "execute_result"
    }
   ],
   "source": [
    "min(silver_acuity['APPOINTMENT_BODY_DATE'])"
   ]
  },
  {
   "cell_type": "code",
   "execution_count": 18,
   "metadata": {},
   "outputs": [
    {
     "data": {
      "text/plain": [
       "Timestamp('2021-01-11 00:00:00')"
      ]
     },
     "execution_count": 18,
     "metadata": {},
     "output_type": "execute_result"
    }
   ],
   "source": [
    "max(silver_acuity['APPOINTMENT_BODY_DATE'])"
   ]
  },
  {
   "cell_type": "code",
   "execution_count": 118,
   "metadata": {
    "scrolled": true
   },
   "outputs": [
    {
     "data": {
      "text/plain": [
       "20.0    2934\n",
       "30.0     425\n",
       "15.0     100\n",
       "Name: APPOINTMENT_BODY_DURATION, dtype: int64"
      ]
     },
     "execution_count": 118,
     "metadata": {},
     "output_type": "execute_result"
    }
   ],
   "source": [
    "silver_acuity['APPOINTMENT_BODY_DURATION'].value_counts()"
   ]
  },
  {
   "cell_type": "code",
   "execution_count": 124,
   "metadata": {},
   "outputs": [
    {
     "data": {
      "text/html": [
       "<div>\n",
       "<style scoped>\n",
       "    .dataframe tbody tr th:only-of-type {\n",
       "        vertical-align: middle;\n",
       "    }\n",
       "\n",
       "    .dataframe tbody tr th {\n",
       "        vertical-align: top;\n",
       "    }\n",
       "\n",
       "    .dataframe thead th {\n",
       "        text-align: right;\n",
       "    }\n",
       "</style>\n",
       "<table border=\"1\" class=\"dataframe\">\n",
       "  <thead>\n",
       "    <tr style=\"text-align: right;\">\n",
       "      <th></th>\n",
       "      <th>EVENT</th>\n",
       "      <th>APPOINTMENT_BODY_CALENDAR</th>\n",
       "      <th>EMAIL</th>\n",
       "      <th>APPOINTMENT_BODY_DATE</th>\n",
       "      <th>APPOINTMENT_BODY_DURATION</th>\n",
       "      <th>APPOINTMENT_DATE_TIME</th>\n",
       "      <th>APPOINTMENT_BODY_TYPE</th>\n",
       "      <th>APPOINTMENT_BODY_CANCELED</th>\n",
       "      <th>Today</th>\n",
       "      <th>Complete</th>\n",
       "    </tr>\n",
       "  </thead>\n",
       "  <tbody>\n",
       "    <tr>\n",
       "      <th>97</th>\n",
       "      <td>appointment_scheduled</td>\n",
       "      <td>Dr. Lauren Geyman, ND</td>\n",
       "      <td>crystal.chatraw@yahoo.com</td>\n",
       "      <td>2020-11-09</td>\n",
       "      <td>20.0</td>\n",
       "      <td>2020-11-09 10:40:00.000</td>\n",
       "      <td>Hair Consultation</td>\n",
       "      <td>False</td>\n",
       "      <td>2021-01-12</td>\n",
       "      <td>True</td>\n",
       "    </tr>\n",
       "    <tr>\n",
       "      <th>2139</th>\n",
       "      <td>appointment_scheduled</td>\n",
       "      <td>Dr. Kali Olsen, ND</td>\n",
       "      <td>crystal.chatraw@yahoo.com</td>\n",
       "      <td>2020-10-21</td>\n",
       "      <td>20.0</td>\n",
       "      <td>2020-10-21 10:00:00.000</td>\n",
       "      <td>Hair Consultation</td>\n",
       "      <td>False</td>\n",
       "      <td>2021-01-12</td>\n",
       "      <td>True</td>\n",
       "    </tr>\n",
       "    <tr>\n",
       "      <th>14934</th>\n",
       "      <td>appointment_scheduled</td>\n",
       "      <td>Dr. Lauren Geyman, ND</td>\n",
       "      <td>crystal.chatraw@yahoo.com</td>\n",
       "      <td>2020-11-09</td>\n",
       "      <td>20.0</td>\n",
       "      <td>2020-11-09 16:05:00.000</td>\n",
       "      <td>Hair Consultation</td>\n",
       "      <td>False</td>\n",
       "      <td>2021-01-12</td>\n",
       "      <td>True</td>\n",
       "    </tr>\n",
       "  </tbody>\n",
       "</table>\n",
       "</div>"
      ],
      "text/plain": [
       "                       EVENT APPOINTMENT_BODY_CALENDAR  \\\n",
       "97     appointment_scheduled    Dr. Lauren Geyman, ND    \n",
       "2139   appointment_scheduled        Dr. Kali Olsen, ND   \n",
       "14934  appointment_scheduled    Dr. Lauren Geyman, ND    \n",
       "\n",
       "                           EMAIL APPOINTMENT_BODY_DATE  \\\n",
       "97     crystal.chatraw@yahoo.com            2020-11-09   \n",
       "2139   crystal.chatraw@yahoo.com            2020-10-21   \n",
       "14934  crystal.chatraw@yahoo.com            2020-11-09   \n",
       "\n",
       "       APPOINTMENT_BODY_DURATION    APPOINTMENT_DATE_TIME  \\\n",
       "97                          20.0  2020-11-09 10:40:00.000   \n",
       "2139                        20.0  2020-10-21 10:00:00.000   \n",
       "14934                       20.0  2020-11-09 16:05:00.000   \n",
       "\n",
       "      APPOINTMENT_BODY_TYPE APPOINTMENT_BODY_CANCELED      Today Complete  \n",
       "97        Hair Consultation                     False 2021-01-12     True  \n",
       "2139      Hair Consultation                     False 2021-01-12     True  \n",
       "14934     Hair Consultation                     False 2021-01-12     True  "
      ]
     },
     "execution_count": 124,
     "metadata": {},
     "output_type": "execute_result"
    }
   ],
   "source": [
    "\n",
    "\n",
    "silver_acuity.loc[silver_acuity['EMAIL']=='crystal.chatraw@yahoo.com']"
   ]
  },
  {
   "cell_type": "markdown",
   "metadata": {},
   "source": [
    "## SUB"
   ]
  },
  {
   "cell_type": "code",
   "execution_count": 99,
   "metadata": {},
   "outputs": [
    {
     "data": {
      "text/html": [
       "<div>\n",
       "<style scoped>\n",
       "    .dataframe tbody tr th:only-of-type {\n",
       "        vertical-align: middle;\n",
       "    }\n",
       "\n",
       "    .dataframe tbody tr th {\n",
       "        vertical-align: top;\n",
       "    }\n",
       "\n",
       "    .dataframe thead th {\n",
       "        text-align: right;\n",
       "    }\n",
       "</style>\n",
       "<table border=\"1\" class=\"dataframe\">\n",
       "  <thead>\n",
       "    <tr style=\"text-align: right;\">\n",
       "      <th></th>\n",
       "      <th>SUBSCRIPTION_ID</th>\n",
       "      <th>CUSTOMER_ID</th>\n",
       "      <th>EMAIL</th>\n",
       "      <th>COHORT_PERIOD_KEY</th>\n",
       "      <th>COHORT_START</th>\n",
       "      <th>COHORT_START_PST</th>\n",
       "      <th>PERIOD</th>\n",
       "      <th>PERIOD_START</th>\n",
       "      <th>PERIOD_END</th>\n",
       "      <th>PERIOD_HAS_ORDER</th>\n",
       "      <th>...</th>\n",
       "      <th>ITEM_PRODUCT_ID</th>\n",
       "      <th>ITEM_TARGETED_BOOSTERS</th>\n",
       "      <th>ITEM_BILLING_INTERVAL</th>\n",
       "      <th>ITEM_SHIPPING_INTERVAL</th>\n",
       "      <th>FIRST_ORDER_AT</th>\n",
       "      <th>LAST_QUIZ_TS</th>\n",
       "      <th>QUIZ_TYPE</th>\n",
       "      <th>TOTAL_ORDERS</th>\n",
       "      <th>TOTAL_ORDER_VALUE</th>\n",
       "      <th>QUIZ_TAKEN</th>\n",
       "    </tr>\n",
       "  </thead>\n",
       "  <tbody>\n",
       "    <tr>\n",
       "      <th>0</th>\n",
       "      <td>560406</td>\n",
       "      <td>494151</td>\n",
       "      <td>narine786@gmail.com</td>\n",
       "      <td>2020-11-01-000</td>\n",
       "      <td>2020-11-01</td>\n",
       "      <td>2020-11-01 15:17:12.000</td>\n",
       "      <td>0</td>\n",
       "      <td>2020-11-01</td>\n",
       "      <td>2020-12-01</td>\n",
       "      <td>True</td>\n",
       "      <td>...</td>\n",
       "      <td>45</td>\n",
       "      <td>Core Women, Hairbiotic, Stress Adaptogen</td>\n",
       "      <td>1 month</td>\n",
       "      <td>1 month</td>\n",
       "      <td>2020-11-01 15:17:07.000</td>\n",
       "      <td>2020-11-20 17:31:33.400</td>\n",
       "      <td>current</td>\n",
       "      <td>5.0</td>\n",
       "      <td>455.0</td>\n",
       "      <td>0</td>\n",
       "    </tr>\n",
       "    <tr>\n",
       "      <th>1</th>\n",
       "      <td>560406</td>\n",
       "      <td>494151</td>\n",
       "      <td>narine786@gmail.com</td>\n",
       "      <td>2020-11-01-001</td>\n",
       "      <td>2020-11-01</td>\n",
       "      <td>2020-11-01 15:17:12.000</td>\n",
       "      <td>1</td>\n",
       "      <td>2020-12-01</td>\n",
       "      <td>2020-12-31</td>\n",
       "      <td>True</td>\n",
       "      <td>...</td>\n",
       "      <td>45</td>\n",
       "      <td>Core Women, Hairbiotic, Stress Adaptogen</td>\n",
       "      <td>1 month</td>\n",
       "      <td>1 month</td>\n",
       "      <td>2020-11-01 15:17:07.000</td>\n",
       "      <td>2020-11-20 17:31:33.400</td>\n",
       "      <td>current</td>\n",
       "      <td>5.0</td>\n",
       "      <td>455.0</td>\n",
       "      <td>0</td>\n",
       "    </tr>\n",
       "    <tr>\n",
       "      <th>2</th>\n",
       "      <td>560406</td>\n",
       "      <td>494151</td>\n",
       "      <td>narine786@gmail.com</td>\n",
       "      <td>2020-11-01-002</td>\n",
       "      <td>2020-11-01</td>\n",
       "      <td>2020-11-01 15:17:12.000</td>\n",
       "      <td>2</td>\n",
       "      <td>2020-12-31</td>\n",
       "      <td>2021-01-30</td>\n",
       "      <td>False</td>\n",
       "      <td>...</td>\n",
       "      <td>45</td>\n",
       "      <td>Core Women, Hairbiotic, Stress Adaptogen</td>\n",
       "      <td>1 month</td>\n",
       "      <td>1 month</td>\n",
       "      <td>2020-11-01 15:17:07.000</td>\n",
       "      <td>2020-11-20 17:31:33.400</td>\n",
       "      <td>current</td>\n",
       "      <td>5.0</td>\n",
       "      <td>455.0</td>\n",
       "      <td>0</td>\n",
       "    </tr>\n",
       "    <tr>\n",
       "      <th>3</th>\n",
       "      <td>529729</td>\n",
       "      <td>465433</td>\n",
       "      <td>dmukh74@gmail.com</td>\n",
       "      <td>2020-10-01-000</td>\n",
       "      <td>2020-10-05</td>\n",
       "      <td>2020-10-05 21:20:03.000</td>\n",
       "      <td>0</td>\n",
       "      <td>2020-10-05</td>\n",
       "      <td>2020-11-04</td>\n",
       "      <td>True</td>\n",
       "      <td>...</td>\n",
       "      <td>33</td>\n",
       "      <td>Core Women</td>\n",
       "      <td>1 month</td>\n",
       "      <td>1 month</td>\n",
       "      <td>2020-10-05 21:19:56.000</td>\n",
       "      <td>NaN</td>\n",
       "      <td>NaN</td>\n",
       "      <td>4.0</td>\n",
       "      <td>948.0</td>\n",
       "      <td>0</td>\n",
       "    </tr>\n",
       "    <tr>\n",
       "      <th>4</th>\n",
       "      <td>529729</td>\n",
       "      <td>465433</td>\n",
       "      <td>dmukh74@gmail.com</td>\n",
       "      <td>2020-10-01-001</td>\n",
       "      <td>2020-10-05</td>\n",
       "      <td>2020-10-05 21:20:03.000</td>\n",
       "      <td>1</td>\n",
       "      <td>2020-11-04</td>\n",
       "      <td>2020-12-04</td>\n",
       "      <td>True</td>\n",
       "      <td>...</td>\n",
       "      <td>33</td>\n",
       "      <td>Core Women</td>\n",
       "      <td>1 month</td>\n",
       "      <td>1 month</td>\n",
       "      <td>2020-10-05 21:19:56.000</td>\n",
       "      <td>NaN</td>\n",
       "      <td>NaN</td>\n",
       "      <td>4.0</td>\n",
       "      <td>948.0</td>\n",
       "      <td>0</td>\n",
       "    </tr>\n",
       "  </tbody>\n",
       "</table>\n",
       "<p>5 rows × 48 columns</p>\n",
       "</div>"
      ],
      "text/plain": [
       "   SUBSCRIPTION_ID  CUSTOMER_ID                EMAIL COHORT_PERIOD_KEY  \\\n",
       "0           560406       494151  narine786@gmail.com    2020-11-01-000   \n",
       "1           560406       494151  narine786@gmail.com    2020-11-01-001   \n",
       "2           560406       494151  narine786@gmail.com    2020-11-01-002   \n",
       "3           529729       465433    dmukh74@gmail.com    2020-10-01-000   \n",
       "4           529729       465433    dmukh74@gmail.com    2020-10-01-001   \n",
       "\n",
       "  COHORT_START         COHORT_START_PST  PERIOD PERIOD_START  PERIOD_END  \\\n",
       "0   2020-11-01  2020-11-01 15:17:12.000       0   2020-11-01  2020-12-01   \n",
       "1   2020-11-01  2020-11-01 15:17:12.000       1   2020-12-01  2020-12-31   \n",
       "2   2020-11-01  2020-11-01 15:17:12.000       2   2020-12-31  2021-01-30   \n",
       "3   2020-10-05  2020-10-05 21:20:03.000       0   2020-10-05  2020-11-04   \n",
       "4   2020-10-05  2020-10-05 21:20:03.000       1   2020-11-04  2020-12-04   \n",
       "\n",
       "   PERIOD_HAS_ORDER  ... ITEM_PRODUCT_ID  \\\n",
       "0              True  ...              45   \n",
       "1              True  ...              45   \n",
       "2             False  ...              45   \n",
       "3              True  ...              33   \n",
       "4              True  ...              33   \n",
       "\n",
       "                     ITEM_TARGETED_BOOSTERS  ITEM_BILLING_INTERVAL  \\\n",
       "0  Core Women, Hairbiotic, Stress Adaptogen                1 month   \n",
       "1  Core Women, Hairbiotic, Stress Adaptogen                1 month   \n",
       "2  Core Women, Hairbiotic, Stress Adaptogen                1 month   \n",
       "3                                Core Women                1 month   \n",
       "4                                Core Women                1 month   \n",
       "\n",
       "  ITEM_SHIPPING_INTERVAL           FIRST_ORDER_AT             LAST_QUIZ_TS  \\\n",
       "0                1 month  2020-11-01 15:17:07.000  2020-11-20 17:31:33.400   \n",
       "1                1 month  2020-11-01 15:17:07.000  2020-11-20 17:31:33.400   \n",
       "2                1 month  2020-11-01 15:17:07.000  2020-11-20 17:31:33.400   \n",
       "3                1 month  2020-10-05 21:19:56.000                      NaN   \n",
       "4                1 month  2020-10-05 21:19:56.000                      NaN   \n",
       "\n",
       "  QUIZ_TYPE TOTAL_ORDERS TOTAL_ORDER_VALUE QUIZ_TAKEN  \n",
       "0   current          5.0             455.0          0  \n",
       "1   current          5.0             455.0          0  \n",
       "2   current          5.0             455.0          0  \n",
       "3       NaN          4.0             948.0          0  \n",
       "4       NaN          4.0             948.0          0  \n",
       "\n",
       "[5 rows x 48 columns]"
      ]
     },
     "execution_count": 99,
     "metadata": {},
     "output_type": "execute_result"
    }
   ],
   "source": [
    "gold_sub = pd.read_csv('GOLD.csv')\n",
    "gold_sub.head()"
   ]
  },
  {
   "cell_type": "code",
   "execution_count": 100,
   "metadata": {},
   "outputs": [
    {
     "data": {
      "text/html": [
       "<div>\n",
       "<style scoped>\n",
       "    .dataframe tbody tr th:only-of-type {\n",
       "        vertical-align: middle;\n",
       "    }\n",
       "\n",
       "    .dataframe tbody tr th {\n",
       "        vertical-align: top;\n",
       "    }\n",
       "\n",
       "    .dataframe thead th {\n",
       "        text-align: right;\n",
       "    }\n",
       "</style>\n",
       "<table border=\"1\" class=\"dataframe\">\n",
       "  <thead>\n",
       "    <tr style=\"text-align: right;\">\n",
       "      <th></th>\n",
       "      <th>SUBSCRIPTION_ID</th>\n",
       "      <th>CUSTOMER_ID</th>\n",
       "      <th>EMAIL</th>\n",
       "      <th>COHORT_PERIOD_KEY</th>\n",
       "      <th>COHORT_START</th>\n",
       "      <th>COHORT_START_PST</th>\n",
       "      <th>PERIOD</th>\n",
       "      <th>PERIOD_START</th>\n",
       "      <th>PERIOD_END</th>\n",
       "      <th>PERIOD_HAS_ORDER</th>\n",
       "      <th>...</th>\n",
       "      <th>ITEM_PRODUCT_ID</th>\n",
       "      <th>ITEM_TARGETED_BOOSTERS</th>\n",
       "      <th>ITEM_BILLING_INTERVAL</th>\n",
       "      <th>ITEM_SHIPPING_INTERVAL</th>\n",
       "      <th>FIRST_ORDER_AT</th>\n",
       "      <th>LAST_QUIZ_TS</th>\n",
       "      <th>QUIZ_TYPE</th>\n",
       "      <th>TOTAL_ORDERS</th>\n",
       "      <th>TOTAL_ORDER_VALUE</th>\n",
       "      <th>QUIZ_TAKEN</th>\n",
       "    </tr>\n",
       "  </thead>\n",
       "  <tbody>\n",
       "    <tr>\n",
       "      <th>0</th>\n",
       "      <td>560406</td>\n",
       "      <td>494151</td>\n",
       "      <td>narine786@gmail.com</td>\n",
       "      <td>2020-11-01-000</td>\n",
       "      <td>2020-11-01</td>\n",
       "      <td>2020-11-01 15:17:12.000</td>\n",
       "      <td>0</td>\n",
       "      <td>2020-11-01</td>\n",
       "      <td>2020-12-01</td>\n",
       "      <td>True</td>\n",
       "      <td>...</td>\n",
       "      <td>45</td>\n",
       "      <td>Core Women, Hairbiotic, Stress Adaptogen</td>\n",
       "      <td>1 month</td>\n",
       "      <td>1 month</td>\n",
       "      <td>2020-11-01 15:17:07.000</td>\n",
       "      <td>2020-11-20 17:31:33.400</td>\n",
       "      <td>current</td>\n",
       "      <td>5.0</td>\n",
       "      <td>455.0</td>\n",
       "      <td>0</td>\n",
       "    </tr>\n",
       "    <tr>\n",
       "      <th>1</th>\n",
       "      <td>560406</td>\n",
       "      <td>494151</td>\n",
       "      <td>narine786@gmail.com</td>\n",
       "      <td>2020-11-01-001</td>\n",
       "      <td>2020-11-01</td>\n",
       "      <td>2020-11-01 15:17:12.000</td>\n",
       "      <td>1</td>\n",
       "      <td>2020-12-01</td>\n",
       "      <td>2020-12-31</td>\n",
       "      <td>True</td>\n",
       "      <td>...</td>\n",
       "      <td>45</td>\n",
       "      <td>Core Women, Hairbiotic, Stress Adaptogen</td>\n",
       "      <td>1 month</td>\n",
       "      <td>1 month</td>\n",
       "      <td>2020-11-01 15:17:07.000</td>\n",
       "      <td>2020-11-20 17:31:33.400</td>\n",
       "      <td>current</td>\n",
       "      <td>5.0</td>\n",
       "      <td>455.0</td>\n",
       "      <td>0</td>\n",
       "    </tr>\n",
       "    <tr>\n",
       "      <th>2</th>\n",
       "      <td>560406</td>\n",
       "      <td>494151</td>\n",
       "      <td>narine786@gmail.com</td>\n",
       "      <td>2020-11-01-002</td>\n",
       "      <td>2020-11-01</td>\n",
       "      <td>2020-11-01 15:17:12.000</td>\n",
       "      <td>2</td>\n",
       "      <td>2020-12-31</td>\n",
       "      <td>2021-01-30</td>\n",
       "      <td>False</td>\n",
       "      <td>...</td>\n",
       "      <td>45</td>\n",
       "      <td>Core Women, Hairbiotic, Stress Adaptogen</td>\n",
       "      <td>1 month</td>\n",
       "      <td>1 month</td>\n",
       "      <td>2020-11-01 15:17:07.000</td>\n",
       "      <td>2020-11-20 17:31:33.400</td>\n",
       "      <td>current</td>\n",
       "      <td>5.0</td>\n",
       "      <td>455.0</td>\n",
       "      <td>0</td>\n",
       "    </tr>\n",
       "    <tr>\n",
       "      <th>3</th>\n",
       "      <td>529729</td>\n",
       "      <td>465433</td>\n",
       "      <td>dmukh74@gmail.com</td>\n",
       "      <td>2020-10-01-000</td>\n",
       "      <td>2020-10-05</td>\n",
       "      <td>2020-10-05 21:20:03.000</td>\n",
       "      <td>0</td>\n",
       "      <td>2020-10-05</td>\n",
       "      <td>2020-11-04</td>\n",
       "      <td>True</td>\n",
       "      <td>...</td>\n",
       "      <td>33</td>\n",
       "      <td>Core Women</td>\n",
       "      <td>1 month</td>\n",
       "      <td>1 month</td>\n",
       "      <td>2020-10-05 21:19:56.000</td>\n",
       "      <td>NaN</td>\n",
       "      <td>NaN</td>\n",
       "      <td>4.0</td>\n",
       "      <td>948.0</td>\n",
       "      <td>0</td>\n",
       "    </tr>\n",
       "    <tr>\n",
       "      <th>4</th>\n",
       "      <td>529729</td>\n",
       "      <td>465433</td>\n",
       "      <td>dmukh74@gmail.com</td>\n",
       "      <td>2020-10-01-001</td>\n",
       "      <td>2020-10-05</td>\n",
       "      <td>2020-10-05 21:20:03.000</td>\n",
       "      <td>1</td>\n",
       "      <td>2020-11-04</td>\n",
       "      <td>2020-12-04</td>\n",
       "      <td>True</td>\n",
       "      <td>...</td>\n",
       "      <td>33</td>\n",
       "      <td>Core Women</td>\n",
       "      <td>1 month</td>\n",
       "      <td>1 month</td>\n",
       "      <td>2020-10-05 21:19:56.000</td>\n",
       "      <td>NaN</td>\n",
       "      <td>NaN</td>\n",
       "      <td>4.0</td>\n",
       "      <td>948.0</td>\n",
       "      <td>0</td>\n",
       "    </tr>\n",
       "  </tbody>\n",
       "</table>\n",
       "<p>5 rows × 48 columns</p>\n",
       "</div>"
      ],
      "text/plain": [
       "   SUBSCRIPTION_ID  CUSTOMER_ID                EMAIL COHORT_PERIOD_KEY  \\\n",
       "0           560406       494151  narine786@gmail.com    2020-11-01-000   \n",
       "1           560406       494151  narine786@gmail.com    2020-11-01-001   \n",
       "2           560406       494151  narine786@gmail.com    2020-11-01-002   \n",
       "3           529729       465433    dmukh74@gmail.com    2020-10-01-000   \n",
       "4           529729       465433    dmukh74@gmail.com    2020-10-01-001   \n",
       "\n",
       "  COHORT_START         COHORT_START_PST  PERIOD PERIOD_START  PERIOD_END  \\\n",
       "0   2020-11-01  2020-11-01 15:17:12.000       0   2020-11-01  2020-12-01   \n",
       "1   2020-11-01  2020-11-01 15:17:12.000       1   2020-12-01  2020-12-31   \n",
       "2   2020-11-01  2020-11-01 15:17:12.000       2   2020-12-31  2021-01-30   \n",
       "3   2020-10-05  2020-10-05 21:20:03.000       0   2020-10-05  2020-11-04   \n",
       "4   2020-10-05  2020-10-05 21:20:03.000       1   2020-11-04  2020-12-04   \n",
       "\n",
       "   PERIOD_HAS_ORDER  ... ITEM_PRODUCT_ID  \\\n",
       "0              True  ...              45   \n",
       "1              True  ...              45   \n",
       "2             False  ...              45   \n",
       "3              True  ...              33   \n",
       "4              True  ...              33   \n",
       "\n",
       "                     ITEM_TARGETED_BOOSTERS  ITEM_BILLING_INTERVAL  \\\n",
       "0  Core Women, Hairbiotic, Stress Adaptogen                1 month   \n",
       "1  Core Women, Hairbiotic, Stress Adaptogen                1 month   \n",
       "2  Core Women, Hairbiotic, Stress Adaptogen                1 month   \n",
       "3                                Core Women                1 month   \n",
       "4                                Core Women                1 month   \n",
       "\n",
       "  ITEM_SHIPPING_INTERVAL           FIRST_ORDER_AT             LAST_QUIZ_TS  \\\n",
       "0                1 month  2020-11-01 15:17:07.000  2020-11-20 17:31:33.400   \n",
       "1                1 month  2020-11-01 15:17:07.000  2020-11-20 17:31:33.400   \n",
       "2                1 month  2020-11-01 15:17:07.000  2020-11-20 17:31:33.400   \n",
       "3                1 month  2020-10-05 21:19:56.000                      NaN   \n",
       "4                1 month  2020-10-05 21:19:56.000                      NaN   \n",
       "\n",
       "  QUIZ_TYPE TOTAL_ORDERS TOTAL_ORDER_VALUE QUIZ_TAKEN  \n",
       "0   current          5.0             455.0          0  \n",
       "1   current          5.0             455.0          0  \n",
       "2   current          5.0             455.0          0  \n",
       "3       NaN          4.0             948.0          0  \n",
       "4       NaN          4.0             948.0          0  \n",
       "\n",
       "[5 rows x 48 columns]"
      ]
     },
     "execution_count": 100,
     "metadata": {},
     "output_type": "execute_result"
    }
   ],
   "source": [
    "# Create a copy of the dataframe\n",
    "gold = gold_sub.copy()\n",
    "gold.head()"
   ]
  },
  {
   "cell_type": "code",
   "execution_count": 101,
   "metadata": {},
   "outputs": [],
   "source": [
    "# Drop unneeded columns\n",
    "gold.drop(columns=['SUBSCRIPTION_ID', 'CUSTOMER_ID', 'COHORT_PERIOD_KEY',\n",
    "       'COHORT_START', 'COHORT_START_PST', 'PERIOD', 'PERIOD_START',\n",
    "       'PERIOD_END', 'PERIOD_HAS_ORDER', 'STATUS_CHANGED_AT',\n",
    "       'COUNT_BILLED_IN_PERIOD', 'FIRST_COUPON_CODE', 'CUSTOMER_STORE_CREDIT',\n",
    "       'FIRST_COUPON_TS', 'FIRST_COUPON_DISCOUNT',\n",
    "       'FIRST_COUPON_FINANCE_GROUPING', 'FIRST_COUPON_MARKETING_INITIATIVE',\n",
    "       'FIRST_COUPON_MARKETING_INITIATIVE_CHANNEL',\n",
    "       'FIRST_COUPON_PURCHASE_TYPE', 'ALL_COUPONS',\n",
    "       'PREVIOUS_RETENTION_STATUS', 'CURRENT_RETENTION_STATUS',\n",
    "       'RETENTION_STATUS', 'SUBSCRIPTION_RECONCILE_END', 'CREATED_AT',\n",
    "       'ORDER_TYPE', 'ITEM_SKU', 'ITEM_GROUP',\n",
    "       'TOTAL_ITEMS', 'ITEM_SUB_TYPE', 'ITEM_SKU_TYPE',\n",
    "       'ITEM_PRODUCT_CORE_CATEGORY', 'ITEM_PRODUCT_ID', 'ITEM_BILLING_INTERVAL',\\\n",
    "       'ITEM_SHIPPING_INTERVAL', 'FIRST_MAGENTO_COUPON_DISCOUNT', 'TOTAL_ORDERS', 'TOTAL_ORDER_VALUE'], inplace=True)"
   ]
  },
  {
   "cell_type": "code",
   "execution_count": 102,
   "metadata": {},
   "outputs": [
    {
     "name": "stdout",
     "output_type": "stream",
     "text": [
      "<class 'pandas.core.frame.DataFrame'>\n",
      "RangeIndex: 82335 entries, 0 to 82334\n",
      "Data columns (total 10 columns):\n",
      " #   Column                  Non-Null Count  Dtype         \n",
      "---  ------                  --------------  -----         \n",
      " 0   EMAIL                   82335 non-null  object        \n",
      " 1   STATUS                  54201 non-null  object        \n",
      " 2   ITEM_NAME               80695 non-null  object        \n",
      " 3   ITEM_GENDER             80695 non-null  object        \n",
      " 4   GROSS_ORDER_VALUE       80695 non-null  float64       \n",
      " 5   ITEM_TARGETED_BOOSTERS  80695 non-null  object        \n",
      " 6   FIRST_ORDER_AT          82335 non-null  datetime64[ns]\n",
      " 7   LAST_QUIZ_TS            32873 non-null  datetime64[ns]\n",
      " 8   QUIZ_TYPE               32873 non-null  object        \n",
      " 9   QUIZ_TAKEN              82335 non-null  int64         \n",
      "dtypes: datetime64[ns](2), float64(1), int64(1), object(6)\n",
      "memory usage: 6.3+ MB\n"
     ]
    }
   ],
   "source": [
    "# Change dates to datetime \n",
    "gold['FIRST_ORDER_AT'] = pd.to_datetime(gold['FIRST_ORDER_AT'])\n",
    "gold['LAST_QUIZ_TS'] = pd.to_datetime(gold['LAST_QUIZ_TS'])\n",
    "gold.info()"
   ]
  },
  {
   "cell_type": "code",
   "execution_count": 107,
   "metadata": {},
   "outputs": [
    {
     "data": {
      "text/plain": [
       "Timestamp('2020-09-28 00:43:09')"
      ]
     },
     "execution_count": 107,
     "metadata": {},
     "output_type": "execute_result"
    }
   ],
   "source": []
  },
  {
   "cell_type": "code",
   "execution_count": 105,
   "metadata": {},
   "outputs": [
    {
     "data": {
      "text/plain": [
       "Timestamp('2021-01-05 22:02:31')"
      ]
     },
     "execution_count": 105,
     "metadata": {},
     "output_type": "execute_result"
    }
   ],
   "source": [
    "max(gold['FIRST_ORDER_AT'])"
   ]
  },
  {
   "cell_type": "code",
   "execution_count": 108,
   "metadata": {},
   "outputs": [
    {
     "data": {
      "text/plain": [
       "(27030, 10)"
      ]
     },
     "execution_count": 108,
     "metadata": {},
     "output_type": "execute_result"
    }
   ],
   "source": [
    "# AGG\n",
    "df = gold.loc[gold.groupby('EMAIL')['FIRST_ORDER_AT'].idxmin()]\n",
    "df.shape"
   ]
  },
  {
   "cell_type": "code",
   "execution_count": 109,
   "metadata": {},
   "outputs": [
    {
     "data": {
      "text/plain": [
       "Timestamp('2020-09-28 00:43:09')"
      ]
     },
     "execution_count": 109,
     "metadata": {},
     "output_type": "execute_result"
    }
   ],
   "source": [
    "min(df['FIRST_ORDER_AT'])"
   ]
  },
  {
   "cell_type": "markdown",
   "metadata": {},
   "source": [
    "## Merge"
   ]
  },
  {
   "cell_type": "code",
   "execution_count": 110,
   "metadata": {},
   "outputs": [],
   "source": [
    "sub1 = pd.merge(silver_acuity,df,how='left',on='EMAIL')"
   ]
  },
  {
   "cell_type": "code",
   "execution_count": 111,
   "metadata": {},
   "outputs": [
    {
     "name": "stdout",
     "output_type": "stream",
     "text": [
      "<class 'pandas.core.frame.DataFrame'>\n",
      "Int64Index: 3459 entries, 0 to 3458\n",
      "Data columns (total 7 columns):\n",
      " #   Column                 Non-Null Count  Dtype         \n",
      "---  ------                 --------------  -----         \n",
      " 0   EMAIL                  3459 non-null   object        \n",
      " 1   APPOINTMENT_BODY_DATE  3459 non-null   datetime64[ns]\n",
      " 2   FIRST_ORDER_AT         1220 non-null   datetime64[ns]\n",
      " 3   LAST_QUIZ_TS           695 non-null    datetime64[ns]\n",
      " 4   ITEM_NAME              1218 non-null   object        \n",
      " 5   ITEM_GENDER            1218 non-null   object        \n",
      " 6   GROSS_ORDER_VALUE      1218 non-null   float64       \n",
      "dtypes: datetime64[ns](3), float64(1), object(3)\n",
      "memory usage: 216.2+ KB\n"
     ]
    }
   ],
   "source": [
    "# Create a copy of the dataframe\n",
    "sub = sub1.copy()\n",
    "\n",
    "sub = sub[[ 'EMAIL','APPOINTMENT_BODY_DATE', 'FIRST_ORDER_AT', 'LAST_QUIZ_TS',\\\n",
    "           'ITEM_NAME', 'ITEM_GENDER', 'GROSS_ORDER_VALUE']]\n",
    "sub.info()"
   ]
  },
  {
   "cell_type": "code",
   "execution_count": 113,
   "metadata": {},
   "outputs": [
    {
     "data": {
      "text/plain": [
       "NaT"
      ]
     },
     "execution_count": 113,
     "metadata": {},
     "output_type": "execute_result"
    }
   ],
   "source": [
    "max(sub['FIRST_ORDER_AT'])"
   ]
  },
  {
   "cell_type": "code",
   "execution_count": 93,
   "metadata": {},
   "outputs": [],
   "source": [
    "#Round to the day\n",
    "# sub['APPOINTMENT_BODY_DATE'] = sub['APPOINTMENT_BODY_DATE'].dt.round('D')\n",
    "# sub['FIRST_ORDER_AT'] = sub['FIRST_ORDER_AT'].dt.round('D')\n",
    "# sub['LAST_QUIZ_TS'] = sub['LAST_QUIZ_TS'].dt.round('D')\n",
    "\n",
    "# # create start year column to be able to make years_working column\n",
    "# df['start_year'] = df['Agency Start Date'].apply(lambda x: int(x[6:]))\n",
    "# df['years_with_city'] = df[['Fiscal Year']].sub(df['start_year'], axis=0)\n",
    "\n",
    "# sub.loc[sub['FIRST_ORDER_AT']=='NaT', 'FIRST_ORDER_AT']= np.nan \n",
    "# sub.dropna(inplace = True)\n",
    "# sub.info()"
   ]
  },
  {
   "cell_type": "code",
   "execution_count": 114,
   "metadata": {},
   "outputs": [
    {
     "data": {
      "text/html": [
       "<div>\n",
       "<style scoped>\n",
       "    .dataframe tbody tr th:only-of-type {\n",
       "        vertical-align: middle;\n",
       "    }\n",
       "\n",
       "    .dataframe tbody tr th {\n",
       "        vertical-align: top;\n",
       "    }\n",
       "\n",
       "    .dataframe thead th {\n",
       "        text-align: right;\n",
       "    }\n",
       "</style>\n",
       "<table border=\"1\" class=\"dataframe\">\n",
       "  <thead>\n",
       "    <tr style=\"text-align: right;\">\n",
       "      <th></th>\n",
       "      <th>EMAIL</th>\n",
       "      <th>APPOINTMENT_BODY_DATE</th>\n",
       "      <th>FIRST_ORDER_AT</th>\n",
       "      <th>LAST_QUIZ_TS</th>\n",
       "      <th>ITEM_NAME</th>\n",
       "      <th>ITEM_GENDER</th>\n",
       "      <th>GROSS_ORDER_VALUE</th>\n",
       "      <th>TimeDifference</th>\n",
       "    </tr>\n",
       "  </thead>\n",
       "  <tbody>\n",
       "    <tr>\n",
       "      <th>0</th>\n",
       "      <td>hunterelliott510@gmail.com</td>\n",
       "      <td>2020-12-29</td>\n",
       "      <td>NaT</td>\n",
       "      <td>NaT</td>\n",
       "      <td>NaN</td>\n",
       "      <td>NaN</td>\n",
       "      <td>NaN</td>\n",
       "      <td>NaT</td>\n",
       "    </tr>\n",
       "    <tr>\n",
       "      <th>1</th>\n",
       "      <td>ashleynizzle@yahoo.com</td>\n",
       "      <td>2021-01-06</td>\n",
       "      <td>2020-12-07 18:53:45</td>\n",
       "      <td>NaT</td>\n",
       "      <td>Nutrafol for Women + Hairbiotic + Stress Adapt...</td>\n",
       "      <td>Women</td>\n",
       "      <td>99.0</td>\n",
       "      <td>-30 days +18:53:45</td>\n",
       "    </tr>\n",
       "    <tr>\n",
       "      <th>2</th>\n",
       "      <td>foxbody1986@hotmail.com</td>\n",
       "      <td>2020-12-07</td>\n",
       "      <td>2020-11-30 21:25:18</td>\n",
       "      <td>NaT</td>\n",
       "      <td>Nutrafol for Women's Balance + Hairbiotic + St...</td>\n",
       "      <td>Women</td>\n",
       "      <td>99.0</td>\n",
       "      <td>-7 days +21:25:18</td>\n",
       "    </tr>\n",
       "    <tr>\n",
       "      <th>3</th>\n",
       "      <td>anbavitz@gmail.com</td>\n",
       "      <td>2020-12-22</td>\n",
       "      <td>2020-11-19 16:52:59</td>\n",
       "      <td>NaT</td>\n",
       "      <td>Nutrafol for Women's Balance</td>\n",
       "      <td>Women</td>\n",
       "      <td>79.0</td>\n",
       "      <td>-33 days +16:52:59</td>\n",
       "    </tr>\n",
       "    <tr>\n",
       "      <th>4</th>\n",
       "      <td>jsw107@georgetown.edu</td>\n",
       "      <td>2020-10-30</td>\n",
       "      <td>NaT</td>\n",
       "      <td>NaT</td>\n",
       "      <td>NaN</td>\n",
       "      <td>NaN</td>\n",
       "      <td>NaN</td>\n",
       "      <td>NaT</td>\n",
       "    </tr>\n",
       "  </tbody>\n",
       "</table>\n",
       "</div>"
      ],
      "text/plain": [
       "                        EMAIL APPOINTMENT_BODY_DATE      FIRST_ORDER_AT  \\\n",
       "0  hunterelliott510@gmail.com            2020-12-29                 NaT   \n",
       "1      ashleynizzle@yahoo.com            2021-01-06 2020-12-07 18:53:45   \n",
       "2     foxbody1986@hotmail.com            2020-12-07 2020-11-30 21:25:18   \n",
       "3          anbavitz@gmail.com            2020-12-22 2020-11-19 16:52:59   \n",
       "4       jsw107@georgetown.edu            2020-10-30                 NaT   \n",
       "\n",
       "  LAST_QUIZ_TS                                          ITEM_NAME ITEM_GENDER  \\\n",
       "0          NaT                                                NaN         NaN   \n",
       "1          NaT  Nutrafol for Women + Hairbiotic + Stress Adapt...       Women   \n",
       "2          NaT  Nutrafol for Women's Balance + Hairbiotic + St...       Women   \n",
       "3          NaT                       Nutrafol for Women's Balance       Women   \n",
       "4          NaT                                                NaN         NaN   \n",
       "\n",
       "   GROSS_ORDER_VALUE     TimeDifference  \n",
       "0                NaN                NaT  \n",
       "1               99.0 -30 days +18:53:45  \n",
       "2               99.0  -7 days +21:25:18  \n",
       "3               79.0 -33 days +16:52:59  \n",
       "4                NaN                NaT  "
      ]
     },
     "execution_count": 114,
     "metadata": {},
     "output_type": "execute_result"
    }
   ],
   "source": [
    "sub['TimeDifference'] = \\\n",
    "(((sub['FIRST_ORDER_AT']))-(sub['APPOINTMENT_BODY_DATE']))\n",
    "sub.head()"
   ]
  },
  {
   "cell_type": "code",
   "execution_count": 115,
   "metadata": {},
   "outputs": [
    {
     "name": "stdout",
     "output_type": "stream",
     "text": [
      "<class 'pandas.core.frame.DataFrame'>\n",
      "Int64Index: 3459 entries, 0 to 3458\n",
      "Data columns (total 8 columns):\n",
      " #   Column                 Non-Null Count  Dtype          \n",
      "---  ------                 --------------  -----          \n",
      " 0   EMAIL                  3459 non-null   object         \n",
      " 1   APPOINTMENT_BODY_DATE  3459 non-null   datetime64[ns] \n",
      " 2   FIRST_ORDER_AT         1220 non-null   datetime64[ns] \n",
      " 3   LAST_QUIZ_TS           695 non-null    datetime64[ns] \n",
      " 4   ITEM_NAME              1218 non-null   object         \n",
      " 5   ITEM_GENDER            1218 non-null   object         \n",
      " 6   GROSS_ORDER_VALUE      1218 non-null   float64        \n",
      " 7   TimeDifference         1220 non-null   timedelta64[ns]\n",
      "dtypes: datetime64[ns](3), float64(1), object(3), timedelta64[ns](1)\n",
      "memory usage: 243.2+ KB\n"
     ]
    }
   ],
   "source": [
    "sub.info()"
   ]
  },
  {
   "cell_type": "code",
   "execution_count": null,
   "metadata": {},
   "outputs": [],
   "source": []
  },
  {
   "cell_type": "code",
   "execution_count": null,
   "metadata": {},
   "outputs": [],
   "source": []
  },
  {
   "cell_type": "code",
   "execution_count": null,
   "metadata": {},
   "outputs": [],
   "source": []
  },
  {
   "cell_type": "code",
   "execution_count": null,
   "metadata": {},
   "outputs": [],
   "source": []
  },
  {
   "cell_type": "code",
   "execution_count": null,
   "metadata": {},
   "outputs": [],
   "source": []
  },
  {
   "cell_type": "code",
   "execution_count": 31,
   "metadata": {},
   "outputs": [
    {
     "ename": "NameError",
     "evalue": "name 'stop' is not defined",
     "output_type": "error",
     "traceback": [
      "\u001b[0;31m---------------------------------------------------------------------------\u001b[0m",
      "\u001b[0;31mNameError\u001b[0m                                 Traceback (most recent call last)",
      "\u001b[0;32m<ipython-input-31-4f76a9dad686>\u001b[0m in \u001b[0;36m<module>\u001b[0;34m\u001b[0m\n\u001b[0;32m----> 1\u001b[0;31m \u001b[0mstop\u001b[0m\u001b[0;34m\u001b[0m\u001b[0;34m\u001b[0m\u001b[0m\n\u001b[0m",
      "\u001b[0;31mNameError\u001b[0m: name 'stop' is not defined"
     ]
    }
   ],
   "source": [
    "stop"
   ]
  },
  {
   "cell_type": "code",
   "execution_count": null,
   "metadata": {},
   "outputs": [],
   "source": [
    "# # Group by email \n",
    "# chart = silver_acuity.groupby([\"APPOINTMENT_BODY_DATE\"]).agg({'time difference':'count'})\n",
    "# chart.isna().sum()"
   ]
  },
  {
   "cell_type": "code",
   "execution_count": 117,
   "metadata": {},
   "outputs": [],
   "source": [
    "# Export data\n",
    "sub.to_csv('sub.csv')"
   ]
  },
  {
   "cell_type": "code",
   "execution_count": null,
   "metadata": {},
   "outputs": [],
   "source": []
  }
 ],
 "metadata": {
  "kernelspec": {
   "display_name": "Python 3",
   "language": "python",
   "name": "python3"
  },
  "language_info": {
   "codemirror_mode": {
    "name": "ipython",
    "version": 3
   },
   "file_extension": ".py",
   "mimetype": "text/x-python",
   "name": "python",
   "nbconvert_exporter": "python",
   "pygments_lexer": "ipython3",
   "version": "3.7.7"
  },
  "toc": {
   "base_numbering": 1,
   "nav_menu": {},
   "number_sections": true,
   "sideBar": true,
   "skip_h1_title": false,
   "title_cell": "Table of Contents",
   "title_sidebar": "Contents",
   "toc_cell": false,
   "toc_position": {
    "height": "calc(100% - 180px)",
    "left": "10px",
    "top": "150px",
    "width": "235.75px"
   },
   "toc_section_display": true,
   "toc_window_display": true
  }
 },
 "nbformat": 4,
 "nbformat_minor": 2
}
