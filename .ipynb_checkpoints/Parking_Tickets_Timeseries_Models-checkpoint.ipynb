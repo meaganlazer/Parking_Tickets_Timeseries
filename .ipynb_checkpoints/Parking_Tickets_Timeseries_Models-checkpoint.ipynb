{
 "cells": [
  {
   "cell_type": "markdown",
   "metadata": {},
   "source": [
    "# Imports"
   ]
  },
  {
   "cell_type": "code",
   "execution_count": 1,
   "metadata": {},
   "outputs": [],
   "source": [
    "# Import standard libraries\n",
    "import pandas as pd\n",
    "import seaborn as sns\n",
    "import numpy as np\n",
    "import matplotlib.pyplot as plt\n",
    "%matplotlib inline\n",
    "\n",
    "# Date\n",
    "import datetime as datetime\n",
    "import time\n",
    "from datetime import timedelta\n",
    "\n",
    "#Math\n",
    "from math import exp"
   ]
  },
  {
   "cell_type": "markdown",
   "metadata": {},
   "source": [
    "## Import NYC Parking Violation Data"
   ]
  },
  {
   "cell_type": "code",
   "execution_count": 2,
   "metadata": {
    "scrolled": true
   },
   "outputs": [
    {
     "data": {
      "text/html": [
       "<div>\n",
       "<style scoped>\n",
       "    .dataframe tbody tr th:only-of-type {\n",
       "        vertical-align: middle;\n",
       "    }\n",
       "\n",
       "    .dataframe tbody tr th {\n",
       "        vertical-align: top;\n",
       "    }\n",
       "\n",
       "    .dataframe thead th {\n",
       "        text-align: right;\n",
       "    }\n",
       "</style>\n",
       "<table border=\"1\" class=\"dataframe\">\n",
       "  <thead>\n",
       "    <tr style=\"text-align: right;\">\n",
       "      <th></th>\n",
       "      <th>Unnamed: 0</th>\n",
       "      <th>Plate</th>\n",
       "      <th>time_issued</th>\n",
       "      <th>Fine_Amount</th>\n",
       "      <th>Amount_Due</th>\n",
       "      <th>Payment_Amount</th>\n",
       "      <th>precinct</th>\n",
       "      <th>State</th>\n",
       "      <th>Bronx</th>\n",
       "      <th>Brooklyn</th>\n",
       "      <th>Manhattan</th>\n",
       "      <th>Queens</th>\n",
       "      <th>Staten_Island</th>\n",
       "      <th>weekday_0</th>\n",
       "      <th>weekday_1</th>\n",
       "      <th>weekday_2</th>\n",
       "      <th>weekday_3</th>\n",
       "      <th>weekday_4</th>\n",
       "      <th>weekday_5</th>\n",
       "      <th>weekday_6</th>\n",
       "    </tr>\n",
       "  </thead>\n",
       "  <tbody>\n",
       "    <tr>\n",
       "      <th>0</th>\n",
       "      <td>9668</td>\n",
       "      <td>KYM0585</td>\n",
       "      <td>2019-12-31 10:26:00</td>\n",
       "      <td>45.0</td>\n",
       "      <td>75.0</td>\n",
       "      <td>75.0</td>\n",
       "      <td>63.0</td>\n",
       "      <td>0</td>\n",
       "      <td>0</td>\n",
       "      <td>1</td>\n",
       "      <td>0</td>\n",
       "      <td>0</td>\n",
       "      <td>0</td>\n",
       "      <td>0</td>\n",
       "      <td>1</td>\n",
       "      <td>0</td>\n",
       "      <td>0</td>\n",
       "      <td>0</td>\n",
       "      <td>0</td>\n",
       "      <td>0</td>\n",
       "    </tr>\n",
       "    <tr>\n",
       "      <th>1</th>\n",
       "      <td>9669</td>\n",
       "      <td>3247071</td>\n",
       "      <td>2019-12-31 10:22:00</td>\n",
       "      <td>45.0</td>\n",
       "      <td>55.0</td>\n",
       "      <td>55.0</td>\n",
       "      <td>63.0</td>\n",
       "      <td>0</td>\n",
       "      <td>0</td>\n",
       "      <td>1</td>\n",
       "      <td>0</td>\n",
       "      <td>0</td>\n",
       "      <td>0</td>\n",
       "      <td>0</td>\n",
       "      <td>1</td>\n",
       "      <td>0</td>\n",
       "      <td>0</td>\n",
       "      <td>0</td>\n",
       "      <td>0</td>\n",
       "      <td>0</td>\n",
       "    </tr>\n",
       "    <tr>\n",
       "      <th>2</th>\n",
       "      <td>9670</td>\n",
       "      <td>2FWQ91</td>\n",
       "      <td>2019-12-31 10:15:00</td>\n",
       "      <td>45.0</td>\n",
       "      <td>55.0</td>\n",
       "      <td>55.0</td>\n",
       "      <td>63.0</td>\n",
       "      <td>0</td>\n",
       "      <td>0</td>\n",
       "      <td>1</td>\n",
       "      <td>0</td>\n",
       "      <td>0</td>\n",
       "      <td>0</td>\n",
       "      <td>0</td>\n",
       "      <td>1</td>\n",
       "      <td>0</td>\n",
       "      <td>0</td>\n",
       "      <td>0</td>\n",
       "      <td>0</td>\n",
       "      <td>0</td>\n",
       "    </tr>\n",
       "    <tr>\n",
       "      <th>3</th>\n",
       "      <td>9671</td>\n",
       "      <td>JDP9488</td>\n",
       "      <td>2019-12-31 10:05:00</td>\n",
       "      <td>45.0</td>\n",
       "      <td>75.0</td>\n",
       "      <td>75.0</td>\n",
       "      <td>63.0</td>\n",
       "      <td>1</td>\n",
       "      <td>0</td>\n",
       "      <td>1</td>\n",
       "      <td>0</td>\n",
       "      <td>0</td>\n",
       "      <td>0</td>\n",
       "      <td>0</td>\n",
       "      <td>1</td>\n",
       "      <td>0</td>\n",
       "      <td>0</td>\n",
       "      <td>0</td>\n",
       "      <td>0</td>\n",
       "      <td>0</td>\n",
       "    </tr>\n",
       "    <tr>\n",
       "      <th>4</th>\n",
       "      <td>9672</td>\n",
       "      <td>5TM825</td>\n",
       "      <td>2019-12-31 09:59:00</td>\n",
       "      <td>45.0</td>\n",
       "      <td>75.0</td>\n",
       "      <td>75.0</td>\n",
       "      <td>63.0</td>\n",
       "      <td>0</td>\n",
       "      <td>0</td>\n",
       "      <td>1</td>\n",
       "      <td>0</td>\n",
       "      <td>0</td>\n",
       "      <td>0</td>\n",
       "      <td>0</td>\n",
       "      <td>1</td>\n",
       "      <td>0</td>\n",
       "      <td>0</td>\n",
       "      <td>0</td>\n",
       "      <td>0</td>\n",
       "      <td>0</td>\n",
       "    </tr>\n",
       "  </tbody>\n",
       "</table>\n",
       "</div>"
      ],
      "text/plain": [
       "   Unnamed: 0    Plate          time_issued  Fine_Amount  Amount_Due  \\\n",
       "0        9668  KYM0585  2019-12-31 10:26:00         45.0        75.0   \n",
       "1        9669  3247071  2019-12-31 10:22:00         45.0        55.0   \n",
       "2        9670   2FWQ91  2019-12-31 10:15:00         45.0        55.0   \n",
       "3        9671  JDP9488  2019-12-31 10:05:00         45.0        75.0   \n",
       "4        9672   5TM825  2019-12-31 09:59:00         45.0        75.0   \n",
       "\n",
       "   Payment_Amount  precinct  State  Bronx  Brooklyn  Manhattan  Queens  \\\n",
       "0            75.0      63.0      0      0         1          0       0   \n",
       "1            55.0      63.0      0      0         1          0       0   \n",
       "2            55.0      63.0      0      0         1          0       0   \n",
       "3            75.0      63.0      1      0         1          0       0   \n",
       "4            75.0      63.0      0      0         1          0       0   \n",
       "\n",
       "   Staten_Island  weekday_0  weekday_1  weekday_2  weekday_3  weekday_4  \\\n",
       "0              0          0          1          0          0          0   \n",
       "1              0          0          1          0          0          0   \n",
       "2              0          0          1          0          0          0   \n",
       "3              0          0          1          0          0          0   \n",
       "4              0          0          1          0          0          0   \n",
       "\n",
       "   weekday_5  weekday_6  \n",
       "0          0          0  \n",
       "1          0          0  \n",
       "2          0          0  \n",
       "3          0          0  \n",
       "4          0          0  "
      ]
     },
     "execution_count": 2,
     "metadata": {},
     "output_type": "execute_result"
    }
   ],
   "source": [
    "#Import ticket data, previously cleaned\n",
    "\n",
    "prec_df = pd.read_csv('Tickets_Data.csv')\n",
    "prec_df.head()"
   ]
  },
  {
   "cell_type": "markdown",
   "metadata": {},
   "source": [
    "## Additional Feature Engineering"
   ]
  },
  {
   "cell_type": "code",
   "execution_count": 3,
   "metadata": {},
   "outputs": [
    {
     "name": "stdout",
     "output_type": "stream",
     "text": [
      "<class 'pandas.core.frame.DataFrame'>\n",
      "RangeIndex: 5010716 entries, 0 to 5010715\n",
      "Data columns (total 20 columns):\n",
      " #   Column          Dtype         \n",
      "---  ------          -----         \n",
      " 0   Unnamed: 0      int64         \n",
      " 1   Plate           object        \n",
      " 2   time_issued     datetime64[ns]\n",
      " 3   Fine_Amount     float64       \n",
      " 4   Amount_Due      float64       \n",
      " 5   Payment_Amount  float64       \n",
      " 6   precinct        float64       \n",
      " 7   State           int64         \n",
      " 8   Bronx           int64         \n",
      " 9   Brooklyn        int64         \n",
      " 10  Manhattan       int64         \n",
      " 11  Queens          int64         \n",
      " 12  Staten_Island   int64         \n",
      " 13  weekday_0       int64         \n",
      " 14  weekday_1       int64         \n",
      " 15  weekday_2       int64         \n",
      " 16  weekday_3       int64         \n",
      " 17  weekday_4       int64         \n",
      " 18  weekday_5       int64         \n",
      " 19  weekday_6       int64         \n",
      "dtypes: datetime64[ns](1), float64(4), int64(14), object(1)\n",
      "memory usage: 764.6+ MB\n"
     ]
    }
   ],
   "source": [
    "#Need to convert the datetime column again\n",
    "prec_df['time_issued']=pd.to_datetime(prec_df['time_issued'], errors='coerce')\n",
    "prec_df.info()"
   ]
  },
  {
   "cell_type": "code",
   "execution_count": 4,
   "metadata": {},
   "outputs": [],
   "source": [
    "#Round to the hour\n",
    "prec_df['time_issued'] = prec_df['time_issued'].dt.round('H')"
   ]
  },
  {
   "cell_type": "code",
   "execution_count": 5,
   "metadata": {
    "scrolled": true
   },
   "outputs": [
    {
     "data": {
      "text/plain": [
       "Fine_Amount    0\n",
       "dtype: int64"
      ]
     },
     "execution_count": 5,
     "metadata": {},
     "output_type": "execute_result"
    }
   ],
   "source": [
    "# Group by precinct \n",
    "chart = prec_df.groupby([\"precinct\"]).agg({'Fine_Amount':'count'})\n",
    "chart.isna().sum()"
   ]
  },
  {
   "cell_type": "code",
   "execution_count": 6,
   "metadata": {},
   "outputs": [
    {
     "data": {
      "text/plain": [
       "<matplotlib.axes._subplots.AxesSubplot at 0x114571290>"
      ]
     },
     "execution_count": 6,
     "metadata": {},
     "output_type": "execute_result"
    },
    {
     "data": {
      "image/png": "[encoded data removed]",
      "text/plain": [
       "<Figure size 1440x432 with 1 Axes>"
      ]
     },
     "metadata": {
      "needs_background": "light"
     },
     "output_type": "display_data"
    }
   ],
   "source": [
    "#Look at ticket distrobution across precincts\n",
    "chart.plot(kind='bar',figsize=(20,6))"
   ]
  },
  {
   "cell_type": "code",
   "execution_count": 7,
   "metadata": {},
   "outputs": [
    {
     "data": {
      "text/plain": [
       "<matplotlib.axes._subplots.AxesSubplot at 0x1a1f81afd0>"
      ]
     },
     "execution_count": 7,
     "metadata": {},
     "output_type": "execute_result"
    },
    {
     "data": {
      "image/png": "[encoded data removed]",
      "text/plain": [
       "<Figure size 1440x720 with 2 Axes>"
      ]
     },
     "metadata": {
      "needs_background": "light"
     },
     "output_type": "display_data"
    }
   ],
   "source": [
    "# Create heatmap\n",
    "\n",
    "corrmat = prec_df[['Fine_Amount','Amount_Due',\\\n",
    "              'Bronx', 'Brooklyn', 'Manhattan', 'Queens'\\\n",
    "             ]].corr()\n",
    "fig,ax= plt.subplots()\n",
    "fig.set_size_inches(20,10)\n",
    "sns.heatmap(corrmat,square=True,annot=True)"
   ]
  },
  {
   "cell_type": "code",
   "execution_count": 8,
   "metadata": {},
   "outputs": [
    {
     "data": {
      "text/html": [
       "<div>\n",
       "<style scoped>\n",
       "    .dataframe tbody tr th:only-of-type {\n",
       "        vertical-align: middle;\n",
       "    }\n",
       "\n",
       "    .dataframe tbody tr th {\n",
       "        vertical-align: top;\n",
       "    }\n",
       "\n",
       "    .dataframe thead th {\n",
       "        text-align: right;\n",
       "    }\n",
       "</style>\n",
       "<table border=\"1\" class=\"dataframe\">\n",
       "  <thead>\n",
       "    <tr style=\"text-align: right;\">\n",
       "      <th></th>\n",
       "      <th>Fine_Amount</th>\n",
       "      <th>Amount_Due</th>\n",
       "      <th>Payment_Amount</th>\n",
       "    </tr>\n",
       "    <tr>\n",
       "      <th>Manhattan</th>\n",
       "      <th></th>\n",
       "      <th></th>\n",
       "      <th></th>\n",
       "    </tr>\n",
       "  </thead>\n",
       "  <tbody>\n",
       "    <tr>\n",
       "      <th>0</th>\n",
       "      <td>184311178.0</td>\n",
       "      <td>4.017089e+07</td>\n",
       "      <td>4.017089e+07</td>\n",
       "    </tr>\n",
       "    <tr>\n",
       "      <th>1</th>\n",
       "      <td>51543840.0</td>\n",
       "      <td>8.527051e+06</td>\n",
       "      <td>8.527051e+06</td>\n",
       "    </tr>\n",
       "  </tbody>\n",
       "</table>\n",
       "</div>"
      ],
      "text/plain": [
       "           Fine_Amount    Amount_Due  Payment_Amount\n",
       "Manhattan                                           \n",
       "0          184311178.0  4.017089e+07    4.017089e+07\n",
       "1           51543840.0  8.527051e+06    8.527051e+06"
      ]
     },
     "execution_count": 8,
     "metadata": {},
     "output_type": "execute_result"
    }
   ],
   "source": [
    "borough = prec_df.groupby([\"Manhattan\"]).agg({'Fine_Amount':'sum','Amount_Due':'sum','Payment_Amount':'sum'})\n",
    "borough.head()"
   ]
  },
  {
   "cell_type": "code",
   "execution_count": 9,
   "metadata": {},
   "outputs": [
    {
     "data": {
      "text/plain": [
       "<matplotlib.axes._subplots.AxesSubplot at 0x1a20284690>"
      ]
     },
     "execution_count": 9,
     "metadata": {},
     "output_type": "execute_result"
    },
    {
     "data": {
      "image/png": "[encoded data removed]",
      "text/plain": [
       "<Figure size 1440x720 with 2 Axes>"
      ]
     },
     "metadata": {
      "needs_background": "light"
     },
     "output_type": "display_data"
    }
   ],
   "source": [
    "# Create heatmap\n",
    "\n",
    "corrmat = prec_df[['Fine_Amount',\\\n",
    "              'weekday_0', 'weekday_1', 'weekday_2', 'weekday_3', 'weekday_4'\\\n",
    "             ]].corr()\n",
    "fig,ax= plt.subplots()\n",
    "fig.set_size_inches(20,10)\n",
    "sns.heatmap(corrmat,square=True,annot=True)"
   ]
  },
  {
   "cell_type": "code",
   "execution_count": 10,
   "metadata": {
    "scrolled": false
   },
   "outputs": [
    {
     "name": "stderr",
     "output_type": "stream",
     "text": [
      "findfont: Font family ['calibri'] not found. Falling back to DejaVu Sans.\n",
      "findfont: Font family ['calibri'] not found. Falling back to DejaVu Sans.\n"
     ]
    },
    {
     "data": {
      "image/png": "[encoded data removed]",
      "text/plain": [
       "<Figure size 1440x720 with 1 Axes>"
      ]
     },
     "metadata": {},
     "output_type": "display_data"
    },
    {
     "data": {
      "image/png": "[encoded data removed]",
      "text/plain": [
       "<Figure size 720x72 with 1 Axes>"
      ]
     },
     "metadata": {},
     "output_type": "display_data"
    }
   ],
   "source": [
    "X = prec_df.drop(['Fine_Amount','precinct','weekday_6'],axis=1)\n",
    "y = prec_df['Fine_Amount']\n",
    "\n",
    "sns.set(style=\"whitegrid\", palette=(\"deep\"),font='calibri')\n",
    "sns.set_context(\"poster\")\n",
    "\n",
    "X.corrwith(prec_df['Fine_Amount']).plot.bar(figsize = (20, 10), title =\"Correlation with Fine\", fontsize = 10,\n",
    "rot = 90, grid = True,)\n",
    "\n",
    "sns.palplot(sns.color_palette())"
   ]
  },
  {
   "cell_type": "markdown",
   "metadata": {},
   "source": [
    "## Integrate Geopspatial Data (shp)"
   ]
  },
  {
   "cell_type": "code",
   "execution_count": null,
   "metadata": {},
   "outputs": [],
   "source": [
    "# Mapping\n",
    "import geopandas as gpd\n",
    "import matplotlib.pylab as pylab\n",
    "pylab.rcParams['figure.figsize'] = 8, 6\n",
    "from shapely.geometry import Polygon\n",
    "import contextily as ctx\n",
    "from matplotlib import colors\n",
    "import shapely.geometry as geom\n",
    "from matplotlib.pylab import rcParams\n",
    "from pylab import rcParams\n",
    "# rcParams['figure.figsize'] = 12, 7"
   ]
  },
  {
   "cell_type": "code",
   "execution_count": 11,
   "metadata": {},
   "outputs": [
    {
     "name": "stdout",
     "output_type": "stream",
     "text": [
      "<class 'geopandas.geodataframe.GeoDataFrame'>\n",
      "RangeIndex: 77 entries, 0 to 76\n",
      "Data columns (total 4 columns):\n",
      " #   Column      Non-Null Count  Dtype   \n",
      "---  ------      --------------  -----   \n",
      " 0   precinct    77 non-null     float64 \n",
      " 1   shape_area  77 non-null     float64 \n",
      " 2   shape_leng  77 non-null     float64 \n",
      " 3   geometry    77 non-null     geometry\n",
      "dtypes: float64(3), geometry(1)\n",
      "memory usage: 2.5 KB\n"
     ]
    }
   ],
   "source": [
    "districts = gpd.read_file('Shape_Files/geo_export_49baef8e-ad00-4dbc-869a-5cd2bd3bc4d6.shp')\n",
    "districts.info()"
   ]
  },
  {
   "cell_type": "code",
   "execution_count": 12,
   "metadata": {},
   "outputs": [],
   "source": [
    "map_df = prec_df.copy()"
   ]
  },
  {
   "cell_type": "code",
   "execution_count": 13,
   "metadata": {},
   "outputs": [],
   "source": [
    "map_df = map_df.set_index(map_df['time_issued'])"
   ]
  },
  {
   "cell_type": "code",
   "execution_count": 14,
   "metadata": {},
   "outputs": [
    {
     "data": {
      "text/plain": [
       "Index(['Unnamed: 0', 'Plate', 'time_issued', 'Fine_Amount', 'Amount_Due',\n",
       "       'Payment_Amount', 'precinct', 'State', 'Bronx', 'Brooklyn', 'Manhattan',\n",
       "       'Queens', 'Staten_Island', 'weekday_0', 'weekday_1', 'weekday_2',\n",
       "       'weekday_3', 'weekday_4', 'weekday_5', 'weekday_6'],\n",
       "      dtype='object')"
      ]
     },
     "execution_count": 14,
     "metadata": {},
     "output_type": "execute_result"
    }
   ],
   "source": [
    "map_df.columns"
   ]
  },
  {
   "cell_type": "code",
   "execution_count": 15,
   "metadata": {},
   "outputs": [],
   "source": [
    "map_df.drop(columns =['Unnamed: 0', 'Plate',\n",
    "       'Payment_Amount', 'State', 'Bronx', 'Brooklyn', 'Manhattan',\n",
    "       'Queens', 'Staten_Island'], inplace=True)"
   ]
  },
  {
   "cell_type": "code",
   "execution_count": 16,
   "metadata": {
    "scrolled": true
   },
   "outputs": [
    {
     "name": "stdout",
     "output_type": "stream",
     "text": [
      "<class 'pandas.core.frame.DataFrame'>\n",
      "DatetimeIndex: 5010716 entries, 2019-12-31 10:00:00 to 2017-01-05 12:00:00\n",
      "Data columns (total 11 columns):\n",
      " #   Column       Dtype         \n",
      "---  ------       -----         \n",
      " 0   time_issued  datetime64[ns]\n",
      " 1   Fine_Amount  float64       \n",
      " 2   Amount_Due   float64       \n",
      " 3   precinct     float64       \n",
      " 4   weekday_0    int64         \n",
      " 5   weekday_1    int64         \n",
      " 6   weekday_2    int64         \n",
      " 7   weekday_3    int64         \n",
      " 8   weekday_4    int64         \n",
      " 9   weekday_5    int64         \n",
      " 10  weekday_6    int64         \n",
      "dtypes: datetime64[ns](1), float64(3), int64(7)\n",
      "memory usage: 458.7 MB\n"
     ]
    }
   ],
   "source": [
    "map_df.info()"
   ]
  },
  {
   "cell_type": "code",
   "execution_count": 17,
   "metadata": {},
   "outputs": [
    {
     "data": {
      "text/plain": [
       "(5010716, 11)"
      ]
     },
     "execution_count": 17,
     "metadata": {},
     "output_type": "execute_result"
    }
   ],
   "source": [
    "map_df.shape"
   ]
  },
  {
   "cell_type": "code",
   "execution_count": 18,
   "metadata": {},
   "outputs": [],
   "source": [
    "# precinct_dummies = pd.get_dummies(prec_df['precinct'], prefix='precinct')\n",
    "# prec_df = pd.concat([prec_df, precinct_dummies], axis=1)"
   ]
  },
  {
   "cell_type": "code",
   "execution_count": 19,
   "metadata": {},
   "outputs": [
    {
     "data": {
      "text/plain": [
       "(4947379, 11)"
      ]
     },
     "execution_count": 19,
     "metadata": {},
     "output_type": "execute_result"
    }
   ],
   "source": [
    "# map_df.loc[map_df['time_issued']=2017-11-24, 'time_issued']= np.nan \n",
    "\n",
    "map_df.loc['2017-11-24']=np.nan\n",
    "map_df.loc['2018-11-23']=np.nan\n",
    "map_df.loc['2019-11-29']=np.nan\n",
    "map_df.dropna(inplace = True)\n",
    "map_df.shape"
   ]
  },
  {
   "cell_type": "code",
   "execution_count": 20,
   "metadata": {
    "scrolled": true
   },
   "outputs": [
    {
     "data": {
      "text/html": [
       "<div>\n",
       "<style scoped>\n",
       "    .dataframe tbody tr th:only-of-type {\n",
       "        vertical-align: middle;\n",
       "    }\n",
       "\n",
       "    .dataframe tbody tr th {\n",
       "        vertical-align: top;\n",
       "    }\n",
       "\n",
       "    .dataframe thead th {\n",
       "        text-align: right;\n",
       "    }\n",
       "</style>\n",
       "<table border=\"1\" class=\"dataframe\">\n",
       "  <thead>\n",
       "    <tr style=\"text-align: right;\">\n",
       "      <th></th>\n",
       "      <th>weekday_0</th>\n",
       "      <th>weekday_1</th>\n",
       "      <th>weekday_2</th>\n",
       "      <th>weekday_3</th>\n",
       "      <th>weekday_4</th>\n",
       "      <th>weekday_5</th>\n",
       "      <th>weekday_6</th>\n",
       "    </tr>\n",
       "    <tr>\n",
       "      <th>precinct</th>\n",
       "      <th></th>\n",
       "      <th></th>\n",
       "      <th></th>\n",
       "      <th></th>\n",
       "      <th></th>\n",
       "      <th></th>\n",
       "      <th></th>\n",
       "    </tr>\n",
       "  </thead>\n",
       "  <tbody>\n",
       "    <tr>\n",
       "      <th>1.0</th>\n",
       "      <td>5271.0</td>\n",
       "      <td>6255.0</td>\n",
       "      <td>709.0</td>\n",
       "      <td>6038.0</td>\n",
       "      <td>6519.0</td>\n",
       "      <td>1317.0</td>\n",
       "      <td>16.0</td>\n",
       "    </tr>\n",
       "    <tr>\n",
       "      <th>2.0</th>\n",
       "      <td>22.0</td>\n",
       "      <td>21.0</td>\n",
       "      <td>6.0</td>\n",
       "      <td>16.0</td>\n",
       "      <td>21.0</td>\n",
       "      <td>7.0</td>\n",
       "      <td>0.0</td>\n",
       "    </tr>\n",
       "    <tr>\n",
       "      <th>3.0</th>\n",
       "      <td>12.0</td>\n",
       "      <td>14.0</td>\n",
       "      <td>1.0</td>\n",
       "      <td>8.0</td>\n",
       "      <td>16.0</td>\n",
       "      <td>3.0</td>\n",
       "      <td>0.0</td>\n",
       "    </tr>\n",
       "    <tr>\n",
       "      <th>4.0</th>\n",
       "      <td>16.0</td>\n",
       "      <td>19.0</td>\n",
       "      <td>6.0</td>\n",
       "      <td>11.0</td>\n",
       "      <td>6.0</td>\n",
       "      <td>4.0</td>\n",
       "      <td>0.0</td>\n",
       "    </tr>\n",
       "    <tr>\n",
       "      <th>5.0</th>\n",
       "      <td>2763.0</td>\n",
       "      <td>2276.0</td>\n",
       "      <td>2199.0</td>\n",
       "      <td>3887.0</td>\n",
       "      <td>4407.0</td>\n",
       "      <td>3200.0</td>\n",
       "      <td>9.0</td>\n",
       "    </tr>\n",
       "  </tbody>\n",
       "</table>\n",
       "</div>"
      ],
      "text/plain": [
       "          weekday_0  weekday_1  weekday_2  weekday_3  weekday_4  weekday_5  \\\n",
       "precinct                                                                     \n",
       "1.0          5271.0     6255.0      709.0     6038.0     6519.0     1317.0   \n",
       "2.0            22.0       21.0        6.0       16.0       21.0        7.0   \n",
       "3.0            12.0       14.0        1.0        8.0       16.0        3.0   \n",
       "4.0            16.0       19.0        6.0       11.0        6.0        4.0   \n",
       "5.0          2763.0     2276.0     2199.0     3887.0     4407.0     3200.0   \n",
       "\n",
       "          weekday_6  \n",
       "precinct             \n",
       "1.0            16.0  \n",
       "2.0             0.0  \n",
       "3.0             0.0  \n",
       "4.0             0.0  \n",
       "5.0             9.0  "
      ]
     },
     "execution_count": 20,
     "metadata": {},
     "output_type": "execute_result"
    }
   ],
   "source": [
    "map_df = map_df.groupby([\"precinct\"]).agg({'weekday_0':'sum','weekday_1':'sum','weekday_2':'sum',\\\n",
    "                                           'weekday_3':'sum','weekday_4':'sum','weekday_5':'sum','weekday_6':'sum'})\n",
    "map_df.head()"
   ]
  },
  {
   "cell_type": "code",
   "execution_count": 21,
   "metadata": {},
   "outputs": [
    {
     "data": {
      "text/plain": [
       "(123, 7)"
      ]
     },
     "execution_count": 21,
     "metadata": {},
     "output_type": "execute_result"
    }
   ],
   "source": [
    "map_df2 = map_df.merge(districts, how='left', on='precinct', copy=False)\n",
    "map_df2.head()\n",
    "map_df.shape"
   ]
  },
  {
   "cell_type": "code",
   "execution_count": 22,
   "metadata": {},
   "outputs": [],
   "source": [
    "map_df2.drop(columns =['shape_area', 'shape_leng'], inplace=True)"
   ]
  },
  {
   "cell_type": "code",
   "execution_count": 23,
   "metadata": {},
   "outputs": [
    {
     "name": "stderr",
     "output_type": "stream",
     "text": [
      "/opt/anaconda3/lib/python3.7/site-packages/pyproj/crs/crs.py:53: FutureWarning: '+init=<authority>:<code>' syntax is deprecated. '<authority>:<code>' is the preferred initialization method. When making the change, be mindful of axis order changes: https://pyproj4.github.io/pyproj/stable/gotchas.html#axis-order-changes-in-proj-6\n",
      "  return _prepare_from_string(\" \".join(pjargs))\n"
     ]
    },
    {
     "data": {
      "text/html": [
       "<div>\n",
       "<style scoped>\n",
       "    .dataframe tbody tr th:only-of-type {\n",
       "        vertical-align: middle;\n",
       "    }\n",
       "\n",
       "    .dataframe tbody tr th {\n",
       "        vertical-align: top;\n",
       "    }\n",
       "\n",
       "    .dataframe thead th {\n",
       "        text-align: right;\n",
       "    }\n",
       "</style>\n",
       "<table border=\"1\" class=\"dataframe\">\n",
       "  <thead>\n",
       "    <tr style=\"text-align: right;\">\n",
       "      <th></th>\n",
       "      <th>precinct</th>\n",
       "      <th>weekday_0</th>\n",
       "      <th>weekday_1</th>\n",
       "      <th>weekday_2</th>\n",
       "      <th>weekday_3</th>\n",
       "      <th>weekday_4</th>\n",
       "      <th>weekday_5</th>\n",
       "      <th>weekday_6</th>\n",
       "      <th>geometry</th>\n",
       "    </tr>\n",
       "  </thead>\n",
       "  <tbody>\n",
       "    <tr>\n",
       "      <th>0</th>\n",
       "      <td>1.0</td>\n",
       "      <td>5271.0</td>\n",
       "      <td>6255.0</td>\n",
       "      <td>709.0</td>\n",
       "      <td>6038.0</td>\n",
       "      <td>6519.0</td>\n",
       "      <td>1317.0</td>\n",
       "      <td>16.0</td>\n",
       "      <td>MULTIPOLYGON (((-74.04388 40.69019, -74.04351 ...</td>\n",
       "    </tr>\n",
       "    <tr>\n",
       "      <th>1</th>\n",
       "      <td>2.0</td>\n",
       "      <td>22.0</td>\n",
       "      <td>21.0</td>\n",
       "      <td>6.0</td>\n",
       "      <td>16.0</td>\n",
       "      <td>21.0</td>\n",
       "      <td>7.0</td>\n",
       "      <td>0.0</td>\n",
       "      <td>None</td>\n",
       "    </tr>\n",
       "    <tr>\n",
       "      <th>2</th>\n",
       "      <td>3.0</td>\n",
       "      <td>12.0</td>\n",
       "      <td>14.0</td>\n",
       "      <td>1.0</td>\n",
       "      <td>8.0</td>\n",
       "      <td>16.0</td>\n",
       "      <td>3.0</td>\n",
       "      <td>0.0</td>\n",
       "      <td>None</td>\n",
       "    </tr>\n",
       "    <tr>\n",
       "      <th>3</th>\n",
       "      <td>4.0</td>\n",
       "      <td>16.0</td>\n",
       "      <td>19.0</td>\n",
       "      <td>6.0</td>\n",
       "      <td>11.0</td>\n",
       "      <td>6.0</td>\n",
       "      <td>4.0</td>\n",
       "      <td>0.0</td>\n",
       "      <td>None</td>\n",
       "    </tr>\n",
       "    <tr>\n",
       "      <th>4</th>\n",
       "      <td>5.0</td>\n",
       "      <td>2763.0</td>\n",
       "      <td>2276.0</td>\n",
       "      <td>2199.0</td>\n",
       "      <td>3887.0</td>\n",
       "      <td>4407.0</td>\n",
       "      <td>3200.0</td>\n",
       "      <td>9.0</td>\n",
       "      <td>POLYGON ((-73.98864 40.72293, -73.98869 40.722...</td>\n",
       "    </tr>\n",
       "  </tbody>\n",
       "</table>\n",
       "</div>"
      ],
      "text/plain": [
       "   precinct  weekday_0  weekday_1  weekday_2  weekday_3  weekday_4  weekday_5  \\\n",
       "0       1.0     5271.0     6255.0      709.0     6038.0     6519.0     1317.0   \n",
       "1       2.0       22.0       21.0        6.0       16.0       21.0        7.0   \n",
       "2       3.0       12.0       14.0        1.0        8.0       16.0        3.0   \n",
       "3       4.0       16.0       19.0        6.0       11.0        6.0        4.0   \n",
       "4       5.0     2763.0     2276.0     2199.0     3887.0     4407.0     3200.0   \n",
       "\n",
       "   weekday_6                                           geometry  \n",
       "0       16.0  MULTIPOLYGON (((-74.04388 40.69019, -74.04351 ...  \n",
       "1        0.0                                               None  \n",
       "2        0.0                                               None  \n",
       "3        0.0                                               None  \n",
       "4        9.0  POLYGON ((-73.98864 40.72293, -73.98869 40.722...  "
      ]
     },
     "execution_count": 23,
     "metadata": {},
     "output_type": "execute_result"
    }
   ],
   "source": [
    "# Coordinate reference system based on NYC maps\n",
    "crs = {'init': 'epsg:2263'}\n",
    "\n",
    "map_gdf = gpd.GeoDataFrame(map_df2, crs=crs, geometry=map_df2['geometry'])\n",
    "map_gdf.head()"
   ]
  },
  {
   "cell_type": "code",
   "execution_count": 24,
   "metadata": {},
   "outputs": [
    {
     "data": {
      "text/plain": [
       "count      123.000000\n",
       "mean      7462.691057\n",
       "std       9024.794626\n",
       "min          0.000000\n",
       "25%          8.000000\n",
       "50%       4345.000000\n",
       "75%      13510.000000\n",
       "max      48082.000000\n",
       "Name: weekday_0, dtype: float64"
      ]
     },
     "execution_count": 24,
     "metadata": {},
     "output_type": "execute_result"
    }
   ],
   "source": [
    "map_gdf.weekday_0.describe()"
   ]
  },
  {
   "cell_type": "code",
   "execution_count": 25,
   "metadata": {},
   "outputs": [],
   "source": [
    "from mpl_toolkits.axes_grid1 import make_axes_locatable"
   ]
  },
  {
   "cell_type": "markdown",
   "metadata": {},
   "source": [
    "### Monday"
   ]
  },
  {
   "cell_type": "code",
   "execution_count": 26,
   "metadata": {},
   "outputs": [],
   "source": [
    "vmin, vmax = 0, 25000"
   ]
  },
  {
   "cell_type": "code",
   "execution_count": 27,
   "metadata": {},
   "outputs": [
    {
     "ename": "ImportError",
     "evalue": "The descartes package is required for plotting polygons in geopandas. You can install it using 'conda install -c conda-forge descartes' or 'pip install descartes'.",
     "output_type": "error",
     "traceback": [
      "\u001b[0;31m---------------------------------------------------------------------------\u001b[0m",
      "\u001b[0;31mModuleNotFoundError\u001b[0m                       Traceback (most recent call last)",
      "\u001b[0;32m/opt/anaconda3/lib/python3.7/site-packages/geopandas/plotting.py\u001b[0m in \u001b[0;36mplot_polygon_collection\u001b[0;34m(ax, geoms, values, color, cmap, vmin, vmax, **kwargs)\u001b[0m\n\u001b[1;32m     80\u001b[0m     \u001b[0;32mtry\u001b[0m\u001b[0;34m:\u001b[0m\u001b[0;34m\u001b[0m\u001b[0;34m\u001b[0m\u001b[0m\n\u001b[0;32m---> 81\u001b[0;31m         \u001b[0;32mfrom\u001b[0m \u001b[0mdescartes\u001b[0m\u001b[0;34m.\u001b[0m\u001b[0mpatch\u001b[0m \u001b[0;32mimport\u001b[0m \u001b[0mPolygonPatch\u001b[0m\u001b[0;34m\u001b[0m\u001b[0;34m\u001b[0m\u001b[0m\n\u001b[0m\u001b[1;32m     82\u001b[0m     \u001b[0;32mexcept\u001b[0m \u001b[0mImportError\u001b[0m\u001b[0;34m:\u001b[0m\u001b[0;34m\u001b[0m\u001b[0;34m\u001b[0m\u001b[0m\n",
      "\u001b[0;31mModuleNotFoundError\u001b[0m: No module named 'descartes'",
      "\nDuring handling of the above exception, another exception occurred:\n",
      "\u001b[0;31mImportError\u001b[0m                               Traceback (most recent call last)",
      "\u001b[0;32m<ipython-input-27-68ef50c939d1>\u001b[0m in \u001b[0;36m<module>\u001b[0;34m\u001b[0m\n\u001b[1;32m      1\u001b[0m Monday = map_gdf.plot(column='weekday_0', cmap='GnBu', figsize=(12,12), linewidth=0.8, edgecolor='0.8', \n\u001b[0;32m----> 2\u001b[0;31m                        legend=True, norm=plt.Normalize(vmin=vmin, vmax=vmax))\n\u001b[0m\u001b[1;32m      3\u001b[0m \u001b[0;34m\u001b[0m\u001b[0m\n\u001b[1;32m      4\u001b[0m \u001b[0mMonday\u001b[0m\u001b[0;34m.\u001b[0m\u001b[0maxis\u001b[0m\u001b[0;34m(\u001b[0m\u001b[0;34m'off'\u001b[0m\u001b[0;34m)\u001b[0m\u001b[0;34m\u001b[0m\u001b[0;34m\u001b[0m\u001b[0m\n\u001b[1;32m      5\u001b[0m \u001b[0;34m\u001b[0m\u001b[0m\n",
      "\u001b[0;32m/opt/anaconda3/lib/python3.7/site-packages/geopandas/geodataframe.py\u001b[0m in \u001b[0;36mplot\u001b[0;34m(self, *args, **kwargs)\u001b[0m\n\u001b[1;32m    654\u001b[0m         \u001b[0;32mfrom\u001b[0m \u001b[0mthere\u001b[0m\u001b[0;34m.\u001b[0m\u001b[0;34m\u001b[0m\u001b[0;34m\u001b[0m\u001b[0m\n\u001b[1;32m    655\u001b[0m         \"\"\"\n\u001b[0;32m--> 656\u001b[0;31m         \u001b[0;32mreturn\u001b[0m \u001b[0mplot_dataframe\u001b[0m\u001b[0;34m(\u001b[0m\u001b[0mself\u001b[0m\u001b[0;34m,\u001b[0m \u001b[0;34m*\u001b[0m\u001b[0margs\u001b[0m\u001b[0;34m,\u001b[0m \u001b[0;34m**\u001b[0m\u001b[0mkwargs\u001b[0m\u001b[0;34m)\u001b[0m\u001b[0;34m\u001b[0m\u001b[0;34m\u001b[0m\u001b[0m\n\u001b[0m\u001b[1;32m    657\u001b[0m \u001b[0;34m\u001b[0m\u001b[0m\n\u001b[1;32m    658\u001b[0m     \u001b[0mplot\u001b[0m\u001b[0;34m.\u001b[0m\u001b[0m__doc__\u001b[0m \u001b[0;34m=\u001b[0m \u001b[0mplot_dataframe\u001b[0m\u001b[0;34m.\u001b[0m\u001b[0m__doc__\u001b[0m\u001b[0;34m\u001b[0m\u001b[0;34m\u001b[0m\u001b[0m\n",
      "\u001b[0;32m/opt/anaconda3/lib/python3.7/site-packages/geopandas/plotting.py\u001b[0m in \u001b[0;36mplot_dataframe\u001b[0;34m(df, column, cmap, color, ax, cax, categorical, legend, scheme, k, vmin, vmax, markersize, figsize, legend_kwds, classification_kwds, missing_kwds, **style_kwds)\u001b[0m\n\u001b[1;32m    618\u001b[0m     \u001b[0;32mif\u001b[0m \u001b[0;32mnot\u001b[0m \u001b[0mpolys\u001b[0m\u001b[0;34m.\u001b[0m\u001b[0mempty\u001b[0m\u001b[0;34m:\u001b[0m\u001b[0;34m\u001b[0m\u001b[0;34m\u001b[0m\u001b[0m\n\u001b[1;32m    619\u001b[0m         plot_polygon_collection(\n\u001b[0;32m--> 620\u001b[0;31m             \u001b[0max\u001b[0m\u001b[0;34m,\u001b[0m \u001b[0mpolys\u001b[0m\u001b[0;34m,\u001b[0m \u001b[0msubset\u001b[0m\u001b[0;34m,\u001b[0m \u001b[0mvmin\u001b[0m\u001b[0;34m=\u001b[0m\u001b[0mmn\u001b[0m\u001b[0;34m,\u001b[0m \u001b[0mvmax\u001b[0m\u001b[0;34m=\u001b[0m\u001b[0mmx\u001b[0m\u001b[0;34m,\u001b[0m \u001b[0mcmap\u001b[0m\u001b[0;34m=\u001b[0m\u001b[0mcmap\u001b[0m\u001b[0;34m,\u001b[0m \u001b[0;34m**\u001b[0m\u001b[0mstyle_kwds\u001b[0m\u001b[0;34m\u001b[0m\u001b[0;34m\u001b[0m\u001b[0m\n\u001b[0m\u001b[1;32m    621\u001b[0m         )\n\u001b[1;32m    622\u001b[0m \u001b[0;34m\u001b[0m\u001b[0m\n",
      "\u001b[0;32m/opt/anaconda3/lib/python3.7/site-packages/geopandas/plotting.py\u001b[0m in \u001b[0;36mplot_polygon_collection\u001b[0;34m(ax, geoms, values, color, cmap, vmin, vmax, **kwargs)\u001b[0m\n\u001b[1;32m     82\u001b[0m     \u001b[0;32mexcept\u001b[0m \u001b[0mImportError\u001b[0m\u001b[0;34m:\u001b[0m\u001b[0;34m\u001b[0m\u001b[0;34m\u001b[0m\u001b[0m\n\u001b[1;32m     83\u001b[0m         raise ImportError(\n\u001b[0;32m---> 84\u001b[0;31m             \u001b[0;34m\"The descartes package is required for plotting polygons in geopandas. \"\u001b[0m\u001b[0;34m\u001b[0m\u001b[0;34m\u001b[0m\u001b[0m\n\u001b[0m\u001b[1;32m     85\u001b[0m             \u001b[0;34m\"You can install it using 'conda install -c conda-forge descartes' or \"\u001b[0m\u001b[0;34m\u001b[0m\u001b[0;34m\u001b[0m\u001b[0m\n\u001b[1;32m     86\u001b[0m             \u001b[0;34m\"'pip install descartes'.\"\u001b[0m\u001b[0;34m\u001b[0m\u001b[0;34m\u001b[0m\u001b[0m\n",
      "\u001b[0;31mImportError\u001b[0m: The descartes package is required for plotting polygons in geopandas. You can install it using 'conda install -c conda-forge descartes' or 'pip install descartes'."
     ]
    },
    {
     "name": "stderr",
     "output_type": "stream",
     "text": [
      "findfont: Font family ['calibri'] not found. Falling back to DejaVu Sans.\n"
     ]
    },
    {
     "data": {
      "image/png": "[encoded data removed]",
      "text/plain": [
       "<Figure size 864x864 with 1 Axes>"
      ]
     },
     "metadata": {},
     "output_type": "display_data"
    }
   ],
   "source": [
    "Monday = map_gdf.plot(column='weekday_0', cmap='GnBu', figsize=(12,12), linewidth=0.8, edgecolor='0.8', \n",
    "                       legend=True, norm=plt.Normalize(vmin=vmin, vmax=vmax))\n",
    "\n",
    "Monday.axis('off')\n",
    "\n",
    "plt.suptitle('Ticket Count 2017-2019', fontsize=16)\n",
    "plt.title('Monday', fontsize=12)"
   ]
  },
  {
   "cell_type": "markdown",
   "metadata": {},
   "source": [
    "### Tuesday"
   ]
  },
  {
   "cell_type": "code",
   "execution_count": null,
   "metadata": {},
   "outputs": [],
   "source": [
    "Tuesday = map_gdf.plot(column='weekday_1', cmap='GnBu', figsize=(12,12), linewidth=0.8, edgecolor='0.8', \n",
    "                       legend=True, norm=plt.Normalize(vmin=vmin, vmax=vmax))\n",
    "\n",
    "Tuesday.axis('off')\n",
    "\n",
    "plt.suptitle('Ticket Count 2017-2019', fontsize=16)\n",
    "plt.title('Tuesday', fontsize=12)"
   ]
  },
  {
   "cell_type": "markdown",
   "metadata": {},
   "source": [
    "### Wednesday"
   ]
  },
  {
   "cell_type": "code",
   "execution_count": null,
   "metadata": {},
   "outputs": [],
   "source": [
    "Wednesday = map_gdf.plot(column='weekday_3', cmap='GnBu', figsize=(12,12), linewidth=0.8, edgecolor='0.8', \n",
    "                       legend=True, norm=plt.Normalize(vmin=vmin, vmax=vmax))\n",
    "\n",
    "Wednesday.axis('off')\n",
    "\n",
    "plt.suptitle('Ticket Count 2017-2019', fontsize=16)\n",
    "plt.title('Wednesday', fontsize=12)"
   ]
  },
  {
   "cell_type": "markdown",
   "metadata": {},
   "source": [
    "### Thursday"
   ]
  },
  {
   "cell_type": "code",
   "execution_count": null,
   "metadata": {},
   "outputs": [],
   "source": [
    "Thursday = map_gdf.plot(column='weekday_3', cmap='GnBu', figsize=(12,12), linewidth=0.8, edgecolor='0.8', \n",
    "                       legend=True, norm=plt.Normalize(vmin=vmin, vmax=vmax))\n",
    "\n",
    "Thursday.axis('off')\n",
    "\n",
    "plt.suptitle('Ticket Count 2017-2019', fontsize=16)\n",
    "plt.title('Thursday', fontsize=12)"
   ]
  },
  {
   "cell_type": "markdown",
   "metadata": {},
   "source": [
    "### Friday"
   ]
  },
  {
   "cell_type": "code",
   "execution_count": null,
   "metadata": {},
   "outputs": [],
   "source": [
    "Friday = map_gdf.plot(column='weekday_4', cmap='GnBu', figsize=(12,12), linewidth=0.8, edgecolor='0.8', \n",
    "                       legend=True, norm=plt.Normalize(vmin=vmin, vmax=vmax))\n",
    "\n",
    "Friday.axis('off')\n",
    "\n",
    "plt.suptitle('Ticket Count 2017-2019', fontsize=16)\n",
    "plt.title('Friday', fontsize=12)"
   ]
  },
  {
   "cell_type": "code",
   "execution_count": null,
   "metadata": {},
   "outputs": [],
   "source": [
    "# fig, ax = plt.subplots(figsize=(12,10), subplot_kw=dict(aspect='equal'))    \n",
    "# plt.title('Amount Due by Precinct, 2016-2019')\n",
    "# ax.set_axis_off()\n",
    "# plt.legend(loc='center left', bbox_to_anchor=(1.1, .5), fontsize='xx-small', frameon=False)\n",
    "# map_gdf.plot(column='Amount_Due', edgecolor='black',\\\n",
    "#                 scheme='Quantiles', \\\n",
    "#                 k=5, cmap='GnBu', legend=True, ax=ax)"
   ]
  },
  {
   "cell_type": "markdown",
   "metadata": {},
   "source": [
    "# Timeseries EDA"
   ]
  },
  {
   "cell_type": "code",
   "execution_count": null,
   "metadata": {},
   "outputs": [],
   "source": [
    "# Stats\n",
    "import statsmodels.tsa.stattools as sts\n",
    "from statsmodels.tsa.stattools import adfuller\n",
    "from statsmodels.tsa.arima_model import ARMA, ARIMA\n",
    "from statsmodels.tsa.statespace.sarimax import SARIMAX\n",
    "import statsmodels.formula.api as smf\n",
    "import statsmodels.api as sm\n",
    "import statsmodels.graphics.tsaplots as sgt\n",
    "from statsmodels.tsa.seasonal import seasonal_decompose\n",
    "from statsmodels.tsa.statespace import sarimax\n",
    "from statsmodels.graphics.tsaplots import plot_acf,  plot_pacf\n",
    "from statsmodels.tools.eval_measures import rmse\n",
    "\n",
    "#Scipy\n",
    "from scipy.stats.distributions import chi2\n",
    "from scipy.stats import norm\n",
    "from scipy import stats\n",
    "\n",
    "# Sklearn\n",
    "from sklearn.linear_model import LinearRegression\n",
    "from sklearn.model_selection import train_test_split, GridSearchCV, RandomizedSearchCV, KFold\n",
    "from sklearn.preprocessing import StandardScaler, MinMaxScaler\n",
    "from sklearn.metrics import mean_squared_error, accuracy_score, f1_score, roc_auc_score\n",
    "from sklearn.dummy import DummyClassifier\n",
    "from sklearn.utils import resample"
   ]
  },
  {
   "cell_type": "code",
   "execution_count": null,
   "metadata": {},
   "outputs": [],
   "source": [
    "timeseries_df = prec_df.copy()"
   ]
  },
  {
   "cell_type": "code",
   "execution_count": null,
   "metadata": {},
   "outputs": [],
   "source": [
    "timeseries_df.head()"
   ]
  },
  {
   "cell_type": "code",
   "execution_count": null,
   "metadata": {},
   "outputs": [],
   "source": [
    "timeseries_df.Fine_Amount.plot(figsize = (20,5))\n",
    "plt.title(\"Fine Amount\", size= 24)\n",
    "plt.show()"
   ]
  },
  {
   "cell_type": "code",
   "execution_count": null,
   "metadata": {
    "scrolled": true
   },
   "outputs": [],
   "source": [
    "timeseries_df[(timeseries_df['time_issued'].dt.year == 2019) & (timeseries_df['time_issued'].dt.day)]\\\n",
    ".groupby(['time_issued'])['Fine_Amount'].count().resample('d').sum().plot(kind='line',figsize = (10,5))\n",
    "plt.title(\"2019 Tickets\", size= 24)\n",
    "plt.show()"
   ]
  },
  {
   "cell_type": "code",
   "execution_count": null,
   "metadata": {},
   "outputs": [],
   "source": [
    "timeseries_df[(timeseries_df['time_issued'].dt.year == 2018) & (timeseries_df['time_issued'].dt.day)]\\\n",
    ".groupby(['time_issued'])['Fine_Amount'].count().resample('d').sum().plot(figsize = (10,5))\n",
    "plt.title(\"2018 Tickets\", size= 24)\n",
    "plt.show()"
   ]
  },
  {
   "cell_type": "code",
   "execution_count": null,
   "metadata": {},
   "outputs": [],
   "source": [
    "timeseries_df[(timeseries_df['time_issued'].dt.year == 2017) & (timeseries_df['time_issued'].dt.day)]\\\n",
    ".groupby(['time_issued'])['Fine_Amount'].count().resample('d').sum().plot(figsize = (10,5))\n",
    "plt.title(\"2017 Tickets\", size= 24)\n",
    "plt.show()"
   ]
  },
  {
   "cell_type": "code",
   "execution_count": null,
   "metadata": {},
   "outputs": [],
   "source": [
    "(timeseries_df.groupby([timeseries_df['time_issued'].dt.day,\\\n",
    "                       timeseries_df['time_issued'].dt.year])\\\n",
    " ['Fine_Amount'].count()).unstack().plot(kind='line')\n",
    "plt.legend(loc='center left', bbox_to_anchor=(1.0, 0.5))"
   ]
  },
  {
   "cell_type": "code",
   "execution_count": null,
   "metadata": {},
   "outputs": [],
   "source": [
    "(timeseries_df.groupby([timeseries_df['time_issued'].dt.weekday,\\\n",
    "                       timeseries_df['time_issued'].dt.quarter])\\\n",
    " ['Fine_Amount'].count()).unstack().plot(kind='line')\n",
    "plt.legend(loc='center left', bbox_to_anchor=(1.0, 0.5))"
   ]
  },
  {
   "cell_type": "code",
   "execution_count": null,
   "metadata": {},
   "outputs": [],
   "source": []
  },
  {
   "cell_type": "markdown",
   "metadata": {},
   "source": [
    "## Drop Days"
   ]
  },
  {
   "cell_type": "markdown",
   "metadata": {},
   "source": [
    "### Black Friday\n",
    "Need to remove this anomoly to smooth the data"
   ]
  },
  {
   "cell_type": "code",
   "execution_count": null,
   "metadata": {},
   "outputs": [],
   "source": [
    "timeseries_df = timeseries_df.set_index(timeseries_df['time_issued'])"
   ]
  },
  {
   "cell_type": "code",
   "execution_count": null,
   "metadata": {},
   "outputs": [],
   "source": [
    "#Identify Black Friday\n",
    "BF17 = timeseries_df.loc['2017-11-24']\n",
    "BF18 = timeseries_df.loc['2018-11-23']\n",
    "BF19 = timeseries_df.loc['2019-11-29']"
   ]
  },
  {
   "cell_type": "code",
   "execution_count": null,
   "metadata": {},
   "outputs": [],
   "source": [
    "def form_t(x):\n",
    "        return \"${:.0f}k\".format(x/1000)"
   ]
  },
  {
   "cell_type": "code",
   "execution_count": null,
   "metadata": {},
   "outputs": [],
   "source": [
    "BF17_total = BF17.Fine_Amount.sum(axis=0)\n",
    "BF18_total = BF18.Fine_Amount.sum(axis=0)\n",
    "BF19_total = BF19.Fine_Amount.sum(axis=0)\n",
    "\n",
    "print(\"Summary\")\n",
    "\n",
    "print(\"Black Friday 2017 Total Fines: \",form_t(BF17_total))\n",
    "print(\"Black Friday 2018 Total Fines: \",form_t(BF18_total))\n",
    "print(\"Black Friday 2019 Total Fines: \",form_t(BF19_total))"
   ]
  },
  {
   "cell_type": "markdown",
   "metadata": {},
   "source": [
    "Drop it"
   ]
  },
  {
   "cell_type": "code",
   "execution_count": null,
   "metadata": {},
   "outputs": [],
   "source": [
    "time_df = timeseries_df.copy()"
   ]
  },
  {
   "cell_type": "code",
   "execution_count": null,
   "metadata": {},
   "outputs": [],
   "source": [
    "time_df.shape"
   ]
  },
  {
   "cell_type": "code",
   "execution_count": null,
   "metadata": {},
   "outputs": [],
   "source": [
    "time_df.loc['2017-11-24']=np.nan\n",
    "time_df.loc['2018-11-23']=np.nan\n",
    "time_df.loc['2019-11-29']=np.nan\n",
    "time_df.dropna(inplace = True)"
   ]
  },
  {
   "cell_type": "code",
   "execution_count": null,
   "metadata": {},
   "outputs": [],
   "source": [
    "time_df.shape"
   ]
  },
  {
   "cell_type": "code",
   "execution_count": null,
   "metadata": {
    "scrolled": true
   },
   "outputs": [],
   "source": [
    "(time_df.groupby([time_df['time_issued'].dt.month,\\\n",
    "                       time_df['time_issued'].dt.year])\\\n",
    " ['Fine_Amount'].count()).unstack().plot(kind='line')\n",
    "plt.legend(loc='center left', bbox_to_anchor=(1.0, 0.5))"
   ]
  },
  {
   "cell_type": "code",
   "execution_count": null,
   "metadata": {
    "scrolled": false
   },
   "outputs": [],
   "source": [
    "(time_df.groupby([time_df['time_issued'].dt.day,\\\n",
    "                       time_df['time_issued'].dt.year])\\\n",
    " ['Fine_Amount'].count()).unstack().plot(kind='line', figsize=(8,5))\n",
    "\n",
    "plt.legend(loc='center left', bbox_to_anchor=(1.1, .5), fontsize='xx-small', frameon=False)\n",
    "plt.suptitle('NYC Parking Violations - Street Cleaning', fontsize=16)\n",
    "plt.tick_params(labelsize = 12)\n",
    "plt.xlabel('Day', fontsize=12)\n",
    "plt.ylabel('Total Fine Amount in USD', fontsize=12)"
   ]
  },
  {
   "cell_type": "code",
   "execution_count": null,
   "metadata": {
    "scrolled": true
   },
   "outputs": [],
   "source": [
    "(time_df.groupby([time_df['time_issued'].dt.weekday,\\\n",
    "                       time_df['time_issued'].dt.quarter])\\\n",
    " ['Fine_Amount'].count()).unstack().plot(kind='line', figsize=(8,5))\n",
    "\n",
    "plt.legend(loc='center left', bbox_to_anchor=(1.1, .5), fontsize='xx-small', frameon=False)\n",
    "plt.suptitle('NYC Parking Violations - Street Cleaning', fontsize=16)\n",
    "plt.tick_params(labelsize = 12)\n",
    "plt.xlabel('Day', fontsize=12)\n",
    "plt.ylabel('Total Fine Amount in USD', fontsize=12)"
   ]
  },
  {
   "cell_type": "code",
   "execution_count": null,
   "metadata": {},
   "outputs": [],
   "source": [
    "(time_df.groupby([time_df['time_issued'].dt.quarter,\\\n",
    "                       time_df['time_issued'].dt.year])\\\n",
    " ['Fine_Amount'].count()).unstack().plot(kind='line', figsize=(8,5))\n",
    "\n",
    "plt.legend(loc='center left', bbox_to_anchor=(1.1, .5), fontsize='xx-small', frameon=False)\n",
    "plt.suptitle('NYC Parking Violations - Street Cleaning', fontsize=16)\n",
    "plt.tick_params(labelsize = 12)\n",
    "plt.xlabel('Day', fontsize=12)\n",
    "plt.ylabel('Total Fine Amount in USD', fontsize=12)"
   ]
  },
  {
   "cell_type": "markdown",
   "metadata": {},
   "source": [
    "# Weather Data"
   ]
  },
  {
   "cell_type": "markdown",
   "metadata": {
    "scrolled": true
   },
   "source": [
    "Summary"
   ]
  },
  {
   "cell_type": "code",
   "execution_count": null,
   "metadata": {},
   "outputs": [],
   "source": [
    "time_df.reset_index(drop=True, inplace=True)\n",
    "\n",
    "bysum=time_df.groupby([\"time_issued\"]).agg({'Fine_Amount':'sum','Amount_Due':'sum', 'Payment_Amount':'sum'})\n",
    "bysum.head()\n",
    "\n",
    "def form_m(x):\n",
    "        return \"${:.1f}m\".format(x/1000000)\n",
    "    \n",
    "    \n",
    "fine_total = bysum.Fine_Amount.sum(axis=0)\n",
    "due_total= bysum.Amount_Due.sum(axis=0)\n",
    "payment_total = bysum.Payment_Amount.sum(axis=0)\n",
    "\n",
    "print(\"Summary\")\n",
    "print(\"Total Fines: \",form_m(fine_total))\n",
    "print(\"Total Amount Due: \",form_m(due_total))\n",
    "print(\"Total Payment Amount: \",form_m(payment_total))"
   ]
  },
  {
   "cell_type": "markdown",
   "metadata": {},
   "source": [
    "Date"
   ]
  },
  {
   "cell_type": "code",
   "execution_count": null,
   "metadata": {},
   "outputs": [],
   "source": [
    "# precinct_dummies = pd.get_dummies(time_df['precinct'], prefix='precinct')\n",
    "# time_df = pd.concat([time_df, precinct_dummies], axis=1)\n",
    "# time_df.head()"
   ]
  },
  {
   "cell_type": "code",
   "execution_count": null,
   "metadata": {},
   "outputs": [],
   "source": [
    "bydate=time_df.groupby([\"time_issued\"]).agg({'Fine_Amount':'count',\\\n",
    "                                            'weekday_0':'sum','weekday_1':'sum','weekday_2':'sum',\\\n",
    "                                           'weekday_3':'sum','weekday_4':'sum','weekday_5':'sum','weekday_6':'sum',\\\n",
    "                                            'Manhattan':'sum','Brooklyn':'sum','Bronx':'sum','Queens':'sum'})\n",
    "bydate=bydate.asfreq('B')\n",
    "bydate.head()"
   ]
  },
  {
   "cell_type": "code",
   "execution_count": null,
   "metadata": {},
   "outputs": [],
   "source": [
    "weather_raw_data = pd.read_csv('CLEAN_weather_200416.csv')\n",
    "weather = weather_raw_data.copy()"
   ]
  },
  {
   "cell_type": "code",
   "execution_count": null,
   "metadata": {},
   "outputs": [],
   "source": [
    "weather['time_issued']=pd.to_datetime(weather['time_issued'], yearfirst=True, errors='coerce')"
   ]
  },
  {
   "cell_type": "code",
   "execution_count": null,
   "metadata": {},
   "outputs": [],
   "source": [
    "weather=weather.groupby([\"time_issued\"])\\\n",
    ".agg({'Precipitation':'mean', \\\n",
    "      'Temperature':'mean', 'Wind':'mean'})\n",
    "\n",
    "weather= weather.asfreq('B')\n",
    "weather.head()"
   ]
  },
  {
   "cell_type": "code",
   "execution_count": null,
   "metadata": {},
   "outputs": [],
   "source": [
    "weather_fine = pd.merge(bydate,weather,how='left',on='time_issued')\n",
    "\n",
    "print('weather:',weather.shape)\n",
    "print('   fine:',bydate.shape)\n",
    "print(' weather_fine:',weather_fine.shape)"
   ]
  },
  {
   "cell_type": "code",
   "execution_count": null,
   "metadata": {},
   "outputs": [],
   "source": [
    "weather_fine.isna().sum()"
   ]
  },
  {
   "cell_type": "code",
   "execution_count": null,
   "metadata": {},
   "outputs": [],
   "source": [
    "weather_fine=weather_fine.fillna(method='pad')"
   ]
  },
  {
   "cell_type": "markdown",
   "metadata": {},
   "source": [
    "## Correlation"
   ]
  },
  {
   "cell_type": "code",
   "execution_count": null,
   "metadata": {},
   "outputs": [],
   "source": [
    "# sns.heatmap\n",
    "\n",
    "corrmat = weather_fine[['Fine_Amount',\\\n",
    "              'Precipitation', 'Temperature', 'Wind'\\\n",
    "             ]].corr()\n",
    "fig,ax= plt.subplots()\n",
    "fig.set_size_inches(10,10)\n",
    "sns.heatmap(corrmat,square=True,annot=True)"
   ]
  },
  {
   "cell_type": "code",
   "execution_count": null,
   "metadata": {},
   "outputs": [],
   "source": [
    "X_weather_fine = weather_fine.drop(['Fine_Amount'],axis=1)\n",
    "y_weather_fine = weather_fine['Fine_Amount']\n",
    "\n",
    "sns.set(style=\"whitegrid\", palette=(\"deep\"),font='calibri')\n",
    "sns.set_context(\"poster\")\n",
    "\n",
    "X_weather_fine.corrwith(weather_fine['Fine_Amount']).plot.bar(figsize = (20, 10), title =\"Correlation with Fine\", fontsize = 10,\n",
    "rot = 90, grid = True,)\n",
    "\n",
    "sns.palplot(sns.color_palette())"
   ]
  },
  {
   "cell_type": "code",
   "execution_count": null,
   "metadata": {},
   "outputs": [],
   "source": [
    "weather_fine.Fine_Amount.plot()\n",
    "weather_fine.Temperature.plot()"
   ]
  },
  {
   "cell_type": "code",
   "execution_count": null,
   "metadata": {},
   "outputs": [],
   "source": []
  },
  {
   "cell_type": "code",
   "execution_count": null,
   "metadata": {},
   "outputs": [],
   "source": []
  },
  {
   "cell_type": "code",
   "execution_count": null,
   "metadata": {},
   "outputs": [],
   "source": []
  },
  {
   "cell_type": "code",
   "execution_count": null,
   "metadata": {},
   "outputs": [],
   "source": []
  },
  {
   "cell_type": "code",
   "execution_count": null,
   "metadata": {},
   "outputs": [],
   "source": []
  },
  {
   "cell_type": "code",
   "execution_count": null,
   "metadata": {},
   "outputs": [],
   "source": []
  },
  {
   "cell_type": "markdown",
   "metadata": {},
   "source": [
    "# Models"
   ]
  },
  {
   "cell_type": "markdown",
   "metadata": {},
   "source": [
    "## Train Test Split"
   ]
  },
  {
   "cell_type": "code",
   "execution_count": null,
   "metadata": {},
   "outputs": [],
   "source": [
    "weather_fine.Fine_Amount.plot(figsize = (20,5))\n",
    "plt.title(\"Fine Amount\", size= 24)\n",
    "plt.show()"
   ]
  },
  {
   "cell_type": "code",
   "execution_count": null,
   "metadata": {},
   "outputs": [],
   "source": [
    "weather_fine.head(5)"
   ]
  },
  {
   "cell_type": "code",
   "execution_count": null,
   "metadata": {},
   "outputs": [],
   "source": [
    "size = int(len(weather_fine)*0.8)"
   ]
  },
  {
   "cell_type": "code",
   "execution_count": null,
   "metadata": {},
   "outputs": [],
   "source": [
    "df_train, df_test = weather_fine.iloc[:size], weather_fine.iloc[size:]"
   ]
  },
  {
   "cell_type": "code",
   "execution_count": null,
   "metadata": {},
   "outputs": [],
   "source": [
    "zero_dict = {np.nan: 0}\n",
    "weather_fine.replace(zero_dict, inplace = True)\n",
    "weather_fine.dropna(inplace = True)\n",
    "\n",
    "weather_fine.info()"
   ]
  },
  {
   "cell_type": "code",
   "execution_count": null,
   "metadata": {},
   "outputs": [],
   "source": [
    "weather_fine.columns"
   ]
  },
  {
   "cell_type": "markdown",
   "metadata": {},
   "source": [
    "### Dickey-Fuller Test"
   ]
  },
  {
   "cell_type": "code",
   "execution_count": null,
   "metadata": {},
   "outputs": [],
   "source": [
    "def test_stationarity(timeseries, window):\n",
    "    \n",
    "#Determine rolling statistics\n",
    "    rolmean = timeseries.rolling(window=window).mean()\n",
    "    rolstd = timeseries.rolling(window=window).std()\n",
    "\n",
    "    #Plot rolling statistics:\n",
    "    fig = plt.figure(figsize=(10, 5),)\n",
    "    orig = plt.plot(timeseries.iloc[window:], color='lightgrey',label='Original')\n",
    "    mean = plt.plot(rolmean, color='red', label='Rolling Mean')\n",
    "    std = plt.plot(rolstd, color='black', label = 'Rolling Std')\n",
    "    plt.legend(loc=1, fontsize='x-small', )\n",
    "    plt.xticks(rotation=90)\n",
    "    plt.legend(loc='center left', bbox_to_anchor=(1.1,.5), fontsize='xx-small', frameon=False)\n",
    "    plt.suptitle('Rolling Mean & Standard Deviation', fontsize=16)\n",
    "    plt.tick_params(labelsize = 12)\n",
    "    plt.xlabel('Day', fontsize=12)\n",
    "    plt.ylabel('Total Fine Amount in USD', fontsize=12)\n",
    "    plt.show()\n",
    "\n",
    "# Perform Dickey-Fuller test:\n",
    "    print ('Results of Dickey-Fuller Test:')\n",
    "    dftest = adfuller(timeseries, autolag='AIC')\n",
    "    dfoutput = pd.Series(dftest[0:4], index=['Test Statistic','p-value','#Lags Used','Number of Observations Used'])\n",
    "    for key,value in dftest[4].items():\n",
    "        dfoutput['Critical Value (%s)'%key] = value\n",
    "    print (dfoutput)\n",
    "\n",
    "letslook = weather_fine.groupby('time_issued')['Fine_Amount'].count()\n",
    "test_stationarity(letslook, 24)"
   ]
  },
  {
   "cell_type": "code",
   "execution_count": null,
   "metadata": {
    "scrolled": true
   },
   "outputs": [],
   "source": [
    "sts.adfuller(df_train.Fine_Amount) # dickey-fuller test to check for staionarity "
   ]
  },
  {
   "cell_type": "code",
   "execution_count": null,
   "metadata": {},
   "outputs": [],
   "source": [
    "log_series = df_train.Fine_Amount.apply(lambda x: np.log(x))  \n",
    "sts.adfuller(log_series)"
   ]
  },
  {
   "cell_type": "code",
   "execution_count": null,
   "metadata": {},
   "outputs": [],
   "source": [
    "decomposition = seasonal_decompose(df_train.Fine_Amount, freq=12)  \n",
    "fig = plt.figure()  \n",
    "fig = decomposition.plot()  \n",
    "fig.set_size_inches(15, 8)"
   ]
  },
  {
   "cell_type": "code",
   "execution_count": null,
   "metadata": {},
   "outputs": [],
   "source": [
    "decomposition = seasonal_decompose(log_series, freq=12)  \n",
    "fig = plt.figure()  \n",
    "fig = decomposition.plot()  \n",
    "fig.set_size_inches(15, 8)"
   ]
  },
  {
   "cell_type": "markdown",
   "metadata": {},
   "source": [
    "### AR Model"
   ]
  },
  {
   "cell_type": "code",
   "execution_count": null,
   "metadata": {},
   "outputs": [],
   "source": [
    "model_ar=ARIMA(df_train[\"Fine_Amount\"],(5,1,0))\n",
    "model_ar_fit=model_ar.fit()"
   ]
  },
  {
   "cell_type": "code",
   "execution_count": null,
   "metadata": {},
   "outputs": [],
   "source": [
    "# prediction_ar= model_ar_fit.forecast(len(df_test))[0]\n",
    "# y_pred[\"AR Model Prediction\"]=list(np.exp(prediction_ar))\n",
    "# y_pred"
   ]
  },
  {
   "cell_type": "code",
   "execution_count": null,
   "metadata": {},
   "outputs": [],
   "source": [
    "# plt.figure(figsize=(10,5))\n",
    "# plt.plot(df_train.index,df_train[\"Fine_Amount\"],label=\"Train Set\")\n",
    "# plt.plot(df_test.index,df_test[\"Fine_Amount\"],label=\"Test Set\")\n",
    "# plt.plot(y_pred[\"AR Model Prediction\"],label=\"AR Model Prediction set\")\n",
    "# plt.legend()\n",
    "# plt.xlabel(\"Date\")\n",
    "# plt.ylabel('Confirmed Cases')\n",
    "# plt.title('AR Model: Confirmed')\n",
    "# plt.xticks(rotation=90)"
   ]
  },
  {
   "cell_type": "code",
   "execution_count": null,
   "metadata": {
    "scrolled": true
   },
   "outputs": [],
   "source": [
    "# AR_model_new_prediction_death=[]\n",
    "# for i in range(1,18):\n",
    "#     AR_model_new_prediction_d.append(np.exp(results_ar_death.forecast(len(df_test)+i)[0][-1]))\n",
    "# model_predictions[\"AR Model Prediction_death\"]=AR_model_new_prediction_death"
   ]
  },
  {
   "cell_type": "code",
   "execution_count": null,
   "metadata": {},
   "outputs": [],
   "source": [
    "# model_predictions=pd.DataFrame(zip(new_date),columns=[\"Dates\"])"
   ]
  },
  {
   "cell_type": "code",
   "execution_count": null,
   "metadata": {},
   "outputs": [],
   "source": [
    "# new_date=[]\n",
    "# AR_model_new_prediction=[]\n",
    "# for i in range(1,18):\n",
    "#     new_date.append(bydate.index[-1]+timedelta(days=i))\n",
    "#     AR_model_new_prediction.append(np.exp(model_ar_fit.forecast(len(df_test)+i)[0][-1]))"
   ]
  },
  {
   "cell_type": "code",
   "execution_count": null,
   "metadata": {},
   "outputs": [],
   "source": [
    "# model_predictions[\"AR Model Prediction\"]=AR_model_new_prediction"
   ]
  },
  {
   "cell_type": "code",
   "execution_count": null,
   "metadata": {},
   "outputs": [],
   "source": [
    "# model_predictions"
   ]
  },
  {
   "cell_type": "markdown",
   "metadata": {},
   "source": [
    "### MA Model"
   ]
  },
  {
   "cell_type": "code",
   "execution_count": null,
   "metadata": {},
   "outputs": [],
   "source": [
    "# model_ma=ARIMA(df_train[\"Fine_Amount\"],(0,1,5))\n",
    "# model_ma_fit=model_ma.fit()"
   ]
  },
  {
   "cell_type": "code",
   "execution_count": null,
   "metadata": {},
   "outputs": [],
   "source": [
    "# prediction_ma= model_ma_fit.forecast(len(df_test))[0]\n",
    "# y_pred[\"MA Model Prediction\"]=list(np.exp(prediction_ma))"
   ]
  },
  {
   "cell_type": "code",
   "execution_count": null,
   "metadata": {},
   "outputs": [],
   "source": [
    "# plt.figure(figsize=(10,5))\n",
    "# plt.plot(df_train.index,df_train.Fine_Amount,label=\"Train Set\")\n",
    "# plt.plot(df_test.index,df_test.Fine_Amount,label=\"Test Set\")\n",
    "# plt.plot(y_pred[\"MA Model Prediction\"],label=\"MA Prediction Set\")\n",
    "# plt.legend()\n",
    "# plt.xlabel(\"Date\")\n",
    "# plt.ylabel('Confirmed Cases')\n",
    "# plt.xticks(rotation=90)"
   ]
  },
  {
   "cell_type": "code",
   "execution_count": null,
   "metadata": {},
   "outputs": [],
   "source": [
    "# MA_model_new_prediction=[]\n",
    "# for i in range(1,18):\n",
    "#     MA_model_new_prediction.append(np.exp(model_ma_fit.forecast(len(df_test)+i)[0][-1]))\n",
    "# model_predictions[\"MA Model Prediction\"]=MA_model_new_prediction"
   ]
  },
  {
   "cell_type": "markdown",
   "metadata": {},
   "source": [
    "### SARIMA"
   ]
  },
  {
   "cell_type": "code",
   "execution_count": null,
   "metadata": {},
   "outputs": [],
   "source": [
    "from pmdarima import auto_arima  "
   ]
  },
  {
   "cell_type": "code",
   "execution_count": null,
   "metadata": {},
   "outputs": [],
   "source": [
    "auto_arima(weather_fine['Fine_Amount'],seasonal=True,m=12).summary()\n",
    "\n",
    "# SARIMAX(2, 0, 3)x(1, 0, [], 12)"
   ]
  },
  {
   "cell_type": "code",
   "execution_count": null,
   "metadata": {
    "scrolled": true
   },
   "outputs": [],
   "source": [
    "model = SARIMAX(df_train['Fine_Amount'],order=(2,0,3),seasonal_order=(1,0,1,12))\n",
    "results = model.fit()\n",
    "results.summary()"
   ]
  },
  {
   "cell_type": "code",
   "execution_count": null,
   "metadata": {},
   "outputs": [],
   "source": [
    "start=len(df_train)\n",
    "end=len(df_train)+len(df_test)-1\n",
    "predictions = results.predict(start=start, end=end, dynamic=False, typ='levels').rename('SARIMA(0,1,0)(2,0,0,12) Predictions')"
   ]
  },
  {
   "cell_type": "code",
   "execution_count": null,
   "metadata": {},
   "outputs": [],
   "source": [
    "title='NYC Parking Tickets'\n",
    "ylabel='Fine Amount'\n",
    "xlabel=''\n",
    "\n",
    "ax.legend(loc='center left', bbox_to_anchor=(1.1, .5), fontsize='xx-small', frameon=False)\n",
    "\n",
    "ax = df_test['Fine_Amount'].plot(legend=True,figsize=(12,6),title=title)\n",
    "predictions.plot(legend=True)\n",
    "ax.autoscale(axis='x',tight=True)\n",
    "ax.set(xlabel=xlabel, ylabel=ylabel);"
   ]
  },
  {
   "cell_type": "code",
   "execution_count": null,
   "metadata": {},
   "outputs": [],
   "source": [
    "error1 = mean_squared_error(df_test['Fine_Amount'], predictions)\n",
    "error2 = rmse(df_test['Fine_Amount'], predictions)\n",
    "print(f'SARIMA(0,1,0)(2,0,0,12) MSE Error: {error1:11.10}')\n",
    "print(f'SARIMA(0,1,0)(2,0,0,12) RMSE Error: {error2:11.10}')"
   ]
  },
  {
   "cell_type": "code",
   "execution_count": null,
   "metadata": {},
   "outputs": [],
   "source": [
    "model = SARIMAX(df_test['Fine_Amount'],order=(3,1,3),seasonal_order=(1,0,1,12))\n",
    "results = model.fit()\n",
    "fcast = results.predict(len(df_test),len(df_test)+11,typ='levels').rename('SARIMA(3,1,3)(1,0,1,12) Forecast')\n",
    "# (3,1,3),seasonal_order=(1,0,1,12))"
   ]
  },
  {
   "cell_type": "code",
   "execution_count": null,
   "metadata": {},
   "outputs": [],
   "source": [
    "title='Fine Amount'\n",
    "\n",
    "\n",
    "ax = df_test['Fine_Amount'].plot(legend=True,figsize=(12,6),title=title)\n",
    "fcast.plot(legend=True)\n",
    "plt.legend(loc='center left', bbox_to_anchor=(1.1, .5), fontsize='xx-small', frameon=False)\n",
    "ax.autoscale(axis='x',tight=True)\n",
    "ax.set(xlabel=xlabel, ylabel=ylabel);\n",
    "\n",
    "plt.tick_params(labelsize = 12)\n",
    "plt.xlabel('Day', fontsize=12)\n",
    "plt.ylabel('Total Fine Amount in USD', fontsize=12)"
   ]
  },
  {
   "cell_type": "code",
   "execution_count": null,
   "metadata": {},
   "outputs": [],
   "source": []
  },
  {
   "cell_type": "code",
   "execution_count": null,
   "metadata": {},
   "outputs": [],
   "source": []
  },
  {
   "cell_type": "code",
   "execution_count": null,
   "metadata": {},
   "outputs": [],
   "source": []
  },
  {
   "cell_type": "code",
   "execution_count": null,
   "metadata": {},
   "outputs": [],
   "source": []
  },
  {
   "cell_type": "code",
   "execution_count": null,
   "metadata": {},
   "outputs": [],
   "source": []
  },
  {
   "cell_type": "code",
   "execution_count": null,
   "metadata": {},
   "outputs": [],
   "source": []
  },
  {
   "cell_type": "markdown",
   "metadata": {},
   "source": [
    "### XGBoost"
   ]
  },
  {
   "cell_type": "code",
   "execution_count": null,
   "metadata": {},
   "outputs": [],
   "source": [
    "#XGBoost\n",
    "import xgboost as xgb\n",
    "from xgboost import XGBClassifier"
   ]
  },
  {
   "cell_type": "code",
   "execution_count": null,
   "metadata": {},
   "outputs": [],
   "source": [
    "xgb_df = weather_fine.copy()"
   ]
  },
  {
   "cell_type": "code",
   "execution_count": null,
   "metadata": {},
   "outputs": [],
   "source": [
    "xgb_df.columns"
   ]
  },
  {
   "cell_type": "code",
   "execution_count": null,
   "metadata": {},
   "outputs": [],
   "source": [
    "X = xgb_df.drop(['Fine_Amount'],axis=1)\n",
    "y = xgb_df['Fine_Amount']\n",
    "feature_cols = X.columns"
   ]
  },
  {
   "cell_type": "code",
   "execution_count": null,
   "metadata": {},
   "outputs": [],
   "source": [
    "X.corrwith(xgb_df['Fine_Amount']).plot.bar(\n",
    "        figsize = (20, 10), title = \"Correlation with Fine\", fontsize = 20,\n",
    "        rot = 90, grid = True)"
   ]
  },
  {
   "cell_type": "code",
   "execution_count": null,
   "metadata": {},
   "outputs": [],
   "source": [
    "X_train, X_test, y_train, y_test = train_test_split(X, y, test_size=0.25, random_state=23)"
   ]
  },
  {
   "cell_type": "code",
   "execution_count": null,
   "metadata": {},
   "outputs": [],
   "source": [
    "training = pd.concat([X_train,y_train], axis =1)"
   ]
  },
  {
   "cell_type": "code",
   "execution_count": null,
   "metadata": {},
   "outputs": [],
   "source": []
  },
  {
   "cell_type": "code",
   "execution_count": null,
   "metadata": {},
   "outputs": [],
   "source": [
    "# # UPSAMPLING\n",
    "\n",
    "# nprecinct_114 = training[training['precinct_114.0']==0]\n",
    "# precinct_114 = training[training['precinct_114.0']>=1]"
   ]
  },
  {
   "cell_type": "code",
   "execution_count": null,
   "metadata": {},
   "outputs": [],
   "source": [
    "# upsampled = resample(precinct_114,\n",
    "#                           replace=True, # sample with replacement\n",
    "#                           n_samples=len(nprecinct_114), # match number in majority class\n",
    "#                           random_state=23) # reproducible results\n",
    "\n",
    "# upsampled = pd.concat([nprecinct_114, upsampled])\n",
    "# upsampled['precinct.114'].value_counts()"
   ]
  },
  {
   "cell_type": "code",
   "execution_count": null,
   "metadata": {},
   "outputs": [],
   "source": [
    "# X_train = upsampled.drop('nprecinct_114', axis = 1)\n",
    "# y_train = upsampled['nprecinct_114']\n",
    "# feature_cols = X_train.columns\n",
    "# Line\n",
    "\n",
    "# # upsampled"
   ]
  },
  {
   "cell_type": "code",
   "execution_count": null,
   "metadata": {
    "scrolled": false
   },
   "outputs": [],
   "source": [
    "X_train.columns"
   ]
  },
  {
   "cell_type": "code",
   "execution_count": null,
   "metadata": {},
   "outputs": [],
   "source": [
    "xgb.XGBClassifier()\n",
    "xg_clf = xgb.XGBClassifier(objective ='reg:logistic', \n",
    "                           colsample_bytree = 0.3, \n",
    "                           subsample = 0.5,\n",
    "                           learning_rate = 0.3,\n",
    "                           max_depth = 3, \n",
    "                           alpha = 1, \n",
    "                           n_estimators = 1000)\n",
    "xg_clf.fit(X_train,y_train)\n",
    "preds = xg_clf.predict(X_test)\n",
    "\n",
    "test_f1 = f1_score(y_test, preds,average='weighted')\n",
    "test_acc = accuracy_score(y_test, preds)\n",
    "\n",
    "print(\"Accuracy: %f\" % (test_acc))\n",
    "print(\"F1: %f\" % (test_f1))"
   ]
  },
  {
   "cell_type": "markdown",
   "metadata": {},
   "source": [
    "DO NOT DELETE!! Uncomment for future use"
   ]
  },
  {
   "cell_type": "code",
   "execution_count": null,
   "metadata": {},
   "outputs": [],
   "source": [
    "# precinct_dummies = pd.get_dummies(time_df['precinct'], prefix='precinct')\n",
    "# time_df = pd.concat([prec_df, precinct_dummies], axis=1)\n",
    "# #Line\n",
    "# size = int(len(time_df)*0.8)\n",
    "# time_df_train, time_df_test = time_df.iloc[:size], time_df.iloc[size:]\n",
    "# y_pred = time_df_test.copy()\n",
    "# #Line\n",
    "\n",
    "# log_series=np.log(df_train[\"Fine_Amount\"])\n",
    "# #Line\n",
    "\n",
    "# xgb_df = time_df.copy()\n",
    "# #Line\n",
    "\n",
    "# xgb_df.columns\n",
    "# #Line\n",
    "\n",
    "# xgb_df.drop(['Unnamed: 0', 'Plate', 'time_issued', 'Amount_Due',\n",
    "#        'Payment_Amount', 'Bronx', 'Brooklyn', 'Manhattan',\n",
    "#        'Queens', 'Staten_Island', 'weekday_2'\\\n",
    "#     ], axis=1, inplace=True)\n",
    "# #Line\n",
    "\n",
    "# X = xgb_df.drop(['state_0'],axis=1)\n",
    "# y = xgb_df['state_0']\n",
    "\n",
    "# X.corrwith(xgb_df3['state_0']).plot.bar(\n",
    "#         figsize = (20, 10), title = \"Correlation with Precinct93\", fontsize = 20,\n",
    "#         rot = 90, grid = True)\n",
    "# #Line\n",
    "\n",
    "# X = xgb_df.drop('precinct', axis = 1)\n",
    "# y = xgb_df['precinct']\n",
    "# feature_cols = X.columns\n",
    "# #Line\n",
    "\n",
    "# X_train, X_test, y_train, y_test = train_test_split(X, y, test_size=0.25, random_state=23)\n",
    "# #Line\n",
    "\n",
    "# training = pd.concat([X_train,y_train], axis =1)\n",
    "# #Line\n",
    "\n",
    "# # UPSAMPLING\n",
    "\n",
    "# # nweekday_2 = training[training['weekday_2']==0]\n",
    "# # weekday_2 = training[training['weekday_2']==1]\n",
    "# #Line\n",
    "# # from sklearn.dummy import DummyClassifier\n",
    "# # from sklearn.metrics import accuracy_score, f1_score\n",
    "# # from sklearn.utils import resample\n",
    "\n",
    "# # upsampled = resample(nweekday_2,\n",
    "# #                           replace=True, # sample with replacement\n",
    "# #                           n_samples=len(nweekday_2), # match number in majority class\n",
    "# #                           random_state=23) # reproducible results\n",
    "\n",
    "# # upsampled = pd.concat([nweekday_2, upsampled])\n",
    "# # upsampled['weekday_2'].value_counts()\n",
    "# #Line\n",
    "\n",
    "# # X_train = upsampled.drop('nweekday_2', axis = 1)\n",
    "# # y_train = upsampled['nweekday_2']\n",
    "# # feature_cols = X_train.columns\n",
    "# #Line\n",
    "\n",
    "# # upsampled\n",
    "# #Line\n",
    "\n",
    "# X_train.columns\n",
    "# #Line\n",
    "\n",
    "# from xgboost import XGBClassifier\n",
    "# from sklearn.metrics import f1_score\n",
    "# import xgboost as xgb\n",
    "# from sklearn.metrics import mean_squared_error, accuracy_score, f1_score, roc_auc_score\n",
    "# #Line\n",
    "\n",
    "# # xgb.XGBClassifier()\n",
    "# # xg_clf = xgb.XGBClassifier(objective ='binary:logistic', \n",
    "# #                            colsample_bytree = 0.3, \n",
    "# #                            subsample = 0.5,\n",
    "# #                            learning_rate = 0.1,\n",
    "# #                            max_depth = 4, \n",
    "# #                            alpha = 1, \n",
    "# #                            n_estimators = 1000)\n",
    "# # xg_clf.fit(X_train,y_train)\n",
    "# # preds = xg_clf.predict(X_test)\n",
    "\n",
    "# # test_f1 = f1_score(y_test, preds)\n",
    "# # test_acc = accuracy_score(y_test, preds)\n",
    "\n",
    "# # print(\"Accuracy: %f\" % (test_acc))\n",
    "# # print(\"F1: %f\" % (test_f1))\n",
    "# #Line"
   ]
  }
 ],
 "metadata": {
  "kernelspec": {
   "display_name": "Python 3",
   "language": "python",
   "name": "python3"
  },
  "language_info": {
   "codemirror_mode": {
    "name": "ipython",
    "version": 3
   },
   "file_extension": ".py",
   "mimetype": "text/x-python",
   "name": "python",
   "nbconvert_exporter": "python",
   "pygments_lexer": "ipython3",
   "version": "3.7.7"
  },
  "toc": {
   "base_numbering": 1,
   "nav_menu": {},
   "number_sections": true,
   "sideBar": true,
   "skip_h1_title": false,
   "title_cell": "Table of Contents",
   "title_sidebar": "Contents",
   "toc_cell": false,
   "toc_position": {
    "height": "calc(100% - 180px)",
    "left": "10px",
    "top": "150px",
    "width": "235.762px"
   },
   "toc_section_display": true,
   "toc_window_display": true
  }
 },
 "nbformat": 4,
 "nbformat_minor": 2
}
