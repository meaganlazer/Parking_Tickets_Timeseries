{
 "cells": [
  {
   "cell_type": "markdown",
   "metadata": {},
   "source": [
    "# Imports"
   ]
  },
  {
   "cell_type": "code",
   "execution_count": 1,
   "metadata": {},
   "outputs": [],
   "source": [
    "# import libraries\n",
    "import pandas as pd\n",
    "pd.options.mode.chained_assignment = None\n",
    "\n",
    "import seaborn as sns\n",
    "sns.set\n",
    "import numpy as np\n",
    "import matplotlib.pyplot as plt\n",
    "%matplotlib inline\n",
    "\n",
    "# Date\n",
    "import datetime as datetime\n",
    "\n",
    "# QQ Plot\n",
    "import scipy.stats\n",
    "import pylab"
   ]
  },
  {
   "cell_type": "markdown",
   "metadata": {},
   "source": [
    "## Import NOAA Data"
   ]
  },
  {
   "cell_type": "code",
   "execution_count": 2,
   "metadata": {},
   "outputs": [
    {
     "name": "stderr",
     "output_type": "stream",
     "text": [
      "/usr/local/Cellar/jupyterlab/2.1.2/libexec/lib/python3.8/site-packages/IPython/core/interactiveshell.py:3062: DtypeWarning: Columns (19,25,26,27,28,30,31,33,42,43,48,53,69,71,75,76,88,89,117) have mixed types.Specify dtype option on import or set low_memory=False.\n",
      "  has_raised = await self.run_ast_nodes(code_ast.body, cell_name,\n"
     ]
    }
   ],
   "source": [
    "results_raw_data = pd.read_csv('Weather_Data.csv')"
   ]
  },
  {
   "cell_type": "code",
   "execution_count": 3,
   "metadata": {},
   "outputs": [
    {
     "data": {
      "text/html": [
       "<div>\n",
       "<style scoped>\n",
       "    .dataframe tbody tr th:only-of-type {\n",
       "        vertical-align: middle;\n",
       "    }\n",
       "\n",
       "    .dataframe tbody tr th {\n",
       "        vertical-align: top;\n",
       "    }\n",
       "\n",
       "    .dataframe thead th {\n",
       "        text-align: right;\n",
       "    }\n",
       "</style>\n",
       "<table border=\"1\" class=\"dataframe\">\n",
       "  <thead>\n",
       "    <tr style=\"text-align: right;\">\n",
       "      <th></th>\n",
       "      <th>STATION</th>\n",
       "      <th>DATE</th>\n",
       "      <th>REPORT_TYPE</th>\n",
       "      <th>SOURCE</th>\n",
       "      <th>AWND</th>\n",
       "      <th>BackupDirection</th>\n",
       "      <th>BackupDistance</th>\n",
       "      <th>BackupDistanceUnit</th>\n",
       "      <th>BackupElements</th>\n",
       "      <th>BackupElevation</th>\n",
       "      <th>...</th>\n",
       "      <th>ShortDurationPrecipitationValue060</th>\n",
       "      <th>ShortDurationPrecipitationValue080</th>\n",
       "      <th>ShortDurationPrecipitationValue100</th>\n",
       "      <th>ShortDurationPrecipitationValue120</th>\n",
       "      <th>ShortDurationPrecipitationValue150</th>\n",
       "      <th>ShortDurationPrecipitationValue180</th>\n",
       "      <th>Sunrise</th>\n",
       "      <th>Sunset</th>\n",
       "      <th>TStorms</th>\n",
       "      <th>WindEquipmentChangeDate</th>\n",
       "    </tr>\n",
       "  </thead>\n",
       "  <tbody>\n",
       "    <tr>\n",
       "      <th>0</th>\n",
       "      <td>72505394728</td>\n",
       "      <td>2017-01-01T00:51:00</td>\n",
       "      <td>FM-15</td>\n",
       "      <td>7</td>\n",
       "      <td>NaN</td>\n",
       "      <td>NaN</td>\n",
       "      <td>NaN</td>\n",
       "      <td>NaN</td>\n",
       "      <td>NaN</td>\n",
       "      <td>NaN</td>\n",
       "      <td>...</td>\n",
       "      <td>NaN</td>\n",
       "      <td>NaN</td>\n",
       "      <td>NaN</td>\n",
       "      <td>NaN</td>\n",
       "      <td>NaN</td>\n",
       "      <td>NaN</td>\n",
       "      <td>NaN</td>\n",
       "      <td>NaN</td>\n",
       "      <td>NaN</td>\n",
       "      <td>NaN</td>\n",
       "    </tr>\n",
       "    <tr>\n",
       "      <th>1</th>\n",
       "      <td>72505394728</td>\n",
       "      <td>2017-01-01T01:51:00</td>\n",
       "      <td>FM-15</td>\n",
       "      <td>7</td>\n",
       "      <td>NaN</td>\n",
       "      <td>NaN</td>\n",
       "      <td>NaN</td>\n",
       "      <td>NaN</td>\n",
       "      <td>NaN</td>\n",
       "      <td>NaN</td>\n",
       "      <td>...</td>\n",
       "      <td>NaN</td>\n",
       "      <td>NaN</td>\n",
       "      <td>NaN</td>\n",
       "      <td>NaN</td>\n",
       "      <td>NaN</td>\n",
       "      <td>NaN</td>\n",
       "      <td>NaN</td>\n",
       "      <td>NaN</td>\n",
       "      <td>NaN</td>\n",
       "      <td>NaN</td>\n",
       "    </tr>\n",
       "    <tr>\n",
       "      <th>2</th>\n",
       "      <td>72505394728</td>\n",
       "      <td>2017-01-01T02:51:00</td>\n",
       "      <td>FM-15</td>\n",
       "      <td>6</td>\n",
       "      <td>NaN</td>\n",
       "      <td>NaN</td>\n",
       "      <td>NaN</td>\n",
       "      <td>NaN</td>\n",
       "      <td>NaN</td>\n",
       "      <td>NaN</td>\n",
       "      <td>...</td>\n",
       "      <td>NaN</td>\n",
       "      <td>NaN</td>\n",
       "      <td>NaN</td>\n",
       "      <td>NaN</td>\n",
       "      <td>NaN</td>\n",
       "      <td>NaN</td>\n",
       "      <td>NaN</td>\n",
       "      <td>NaN</td>\n",
       "      <td>NaN</td>\n",
       "      <td>NaN</td>\n",
       "    </tr>\n",
       "    <tr>\n",
       "      <th>3</th>\n",
       "      <td>72505394728</td>\n",
       "      <td>2017-01-01T03:51:00</td>\n",
       "      <td>FM-15</td>\n",
       "      <td>7</td>\n",
       "      <td>NaN</td>\n",
       "      <td>NaN</td>\n",
       "      <td>NaN</td>\n",
       "      <td>NaN</td>\n",
       "      <td>NaN</td>\n",
       "      <td>NaN</td>\n",
       "      <td>...</td>\n",
       "      <td>NaN</td>\n",
       "      <td>NaN</td>\n",
       "      <td>NaN</td>\n",
       "      <td>NaN</td>\n",
       "      <td>NaN</td>\n",
       "      <td>NaN</td>\n",
       "      <td>NaN</td>\n",
       "      <td>NaN</td>\n",
       "      <td>NaN</td>\n",
       "      <td>NaN</td>\n",
       "    </tr>\n",
       "    <tr>\n",
       "      <th>4</th>\n",
       "      <td>72505394728</td>\n",
       "      <td>2017-01-01T04:51:00</td>\n",
       "      <td>FM-15</td>\n",
       "      <td>7</td>\n",
       "      <td>NaN</td>\n",
       "      <td>NaN</td>\n",
       "      <td>NaN</td>\n",
       "      <td>NaN</td>\n",
       "      <td>NaN</td>\n",
       "      <td>NaN</td>\n",
       "      <td>...</td>\n",
       "      <td>NaN</td>\n",
       "      <td>NaN</td>\n",
       "      <td>NaN</td>\n",
       "      <td>NaN</td>\n",
       "      <td>NaN</td>\n",
       "      <td>NaN</td>\n",
       "      <td>NaN</td>\n",
       "      <td>NaN</td>\n",
       "      <td>NaN</td>\n",
       "      <td>NaN</td>\n",
       "    </tr>\n",
       "  </tbody>\n",
       "</table>\n",
       "<p>5 rows × 124 columns</p>\n",
       "</div>"
      ],
      "text/plain": [
       "       STATION                 DATE REPORT_TYPE  SOURCE  AWND  \\\n",
       "0  72505394728  2017-01-01T00:51:00       FM-15       7   NaN   \n",
       "1  72505394728  2017-01-01T01:51:00       FM-15       7   NaN   \n",
       "2  72505394728  2017-01-01T02:51:00       FM-15       6   NaN   \n",
       "3  72505394728  2017-01-01T03:51:00       FM-15       7   NaN   \n",
       "4  72505394728  2017-01-01T04:51:00       FM-15       7   NaN   \n",
       "\n",
       "   BackupDirection  BackupDistance  BackupDistanceUnit  BackupElements  \\\n",
       "0              NaN             NaN                 NaN             NaN   \n",
       "1              NaN             NaN                 NaN             NaN   \n",
       "2              NaN             NaN                 NaN             NaN   \n",
       "3              NaN             NaN                 NaN             NaN   \n",
       "4              NaN             NaN                 NaN             NaN   \n",
       "\n",
       "   BackupElevation  ...  ShortDurationPrecipitationValue060  \\\n",
       "0              NaN  ...                                 NaN   \n",
       "1              NaN  ...                                 NaN   \n",
       "2              NaN  ...                                 NaN   \n",
       "3              NaN  ...                                 NaN   \n",
       "4              NaN  ...                                 NaN   \n",
       "\n",
       "   ShortDurationPrecipitationValue080  ShortDurationPrecipitationValue100  \\\n",
       "0                                 NaN                                 NaN   \n",
       "1                                 NaN                                 NaN   \n",
       "2                                 NaN                                 NaN   \n",
       "3                                 NaN                                 NaN   \n",
       "4                                 NaN                                 NaN   \n",
       "\n",
       "   ShortDurationPrecipitationValue120  ShortDurationPrecipitationValue150  \\\n",
       "0                                 NaN                                 NaN   \n",
       "1                                 NaN                                 NaN   \n",
       "2                                 NaN                                 NaN   \n",
       "3                                 NaN                                 NaN   \n",
       "4                                 NaN                                 NaN   \n",
       "\n",
       "   ShortDurationPrecipitationValue180  Sunrise  Sunset  TStorms  \\\n",
       "0                                 NaN      NaN     NaN      NaN   \n",
       "1                                 NaN      NaN     NaN      NaN   \n",
       "2                                 NaN      NaN     NaN      NaN   \n",
       "3                                 NaN      NaN     NaN      NaN   \n",
       "4                                 NaN      NaN     NaN      NaN   \n",
       "\n",
       "  WindEquipmentChangeDate  \n",
       "0                     NaN  \n",
       "1                     NaN  \n",
       "2                     NaN  \n",
       "3                     NaN  \n",
       "4                     NaN  \n",
       "\n",
       "[5 rows x 124 columns]"
      ]
     },
     "execution_count": 3,
     "metadata": {},
     "output_type": "execute_result"
    }
   ],
   "source": [
    "results_df = results_raw_data.copy()\n",
    "results_df.head()"
   ]
  },
  {
   "cell_type": "code",
   "execution_count": 4,
   "metadata": {},
   "outputs": [
    {
     "name": "stdout",
     "output_type": "stream",
     "text": [
      "STATION\n",
      "DATE\n",
      "REPORT_TYPE\n",
      "SOURCE\n",
      "AWND\n",
      "BackupDirection\n",
      "BackupDistance\n",
      "BackupDistanceUnit\n",
      "BackupElements\n",
      "BackupElevation\n",
      "BackupElevationUnit\n",
      "BackupEquipment\n",
      "BackupLatitude\n",
      "BackupLongitude\n",
      "BackupName\n",
      "CDSD\n",
      "CLDD\n",
      "DSNW\n",
      "DailyAverageDewPointTemperature\n",
      "DailyAverageDryBulbTemperature\n",
      "DailyAverageRelativeHumidity\n",
      "DailyAverageSeaLevelPressure\n",
      "DailyAverageStationPressure\n",
      "DailyAverageWetBulbTemperature\n",
      "DailyAverageWindSpeed\n",
      "DailyCoolingDegreeDays\n",
      "DailyDepartureFromNormalAverageTemperature\n",
      "DailyHeatingDegreeDays\n",
      "DailyMaximumDryBulbTemperature\n",
      "DailyMinimumDryBulbTemperature\n",
      "DailyPeakWindDirection\n",
      "DailyPeakWindSpeed\n",
      "DailyPrecipitation\n",
      "DailySnowDepth\n",
      "DailySnowfall\n",
      "DailySustainedWindDirection\n",
      "DailySustainedWindSpeed\n",
      "DailyWeather\n",
      "HDSD\n",
      "HTDD\n",
      "HeavyFog\n",
      "HourlyAltimeterSetting\n",
      "HourlyDewPointTemperature\n",
      "HourlyDryBulbTemperature\n",
      "HourlyPrecipitation\n",
      "HourlyPresentWeatherType\n",
      "HourlyPressureChange\n",
      "HourlyPressureTendency\n",
      "HourlyRelativeHumidity\n",
      "HourlySeaLevelPressure\n",
      "HourlySkyConditions\n",
      "HourlyStationPressure\n",
      "HourlyVisibility\n",
      "HourlyWetBulbTemperature\n",
      "HourlyWindDirection\n",
      "HourlyWindGustSpeed\n",
      "HourlyWindSpeed\n",
      "MonthlyAverageRH\n",
      "MonthlyDaysWithGT001Precip\n",
      "MonthlyDaysWithGT010Precip\n",
      "MonthlyDaysWithGT32Temp\n",
      "MonthlyDaysWithGT90Temp\n",
      "MonthlyDaysWithLT0Temp\n",
      "MonthlyDaysWithLT32Temp\n",
      "MonthlyDepartureFromNormalAverageTemperature\n",
      "MonthlyDepartureFromNormalCoolingDegreeDays\n",
      "MonthlyDepartureFromNormalHeatingDegreeDays\n",
      "MonthlyDepartureFromNormalMaximumTemperature\n",
      "MonthlyDepartureFromNormalMinimumTemperature\n",
      "MonthlyDepartureFromNormalPrecipitation\n",
      "MonthlyDewpointTemperature\n",
      "MonthlyGreatestPrecip\n",
      "MonthlyGreatestPrecipDate\n",
      "MonthlyGreatestSnowDepth\n",
      "MonthlyGreatestSnowDepthDate\n",
      "MonthlyGreatestSnowfall\n",
      "MonthlyGreatestSnowfallDate\n",
      "MonthlyMaxSeaLevelPressureValue\n",
      "MonthlyMaxSeaLevelPressureValueDate\n",
      "MonthlyMaxSeaLevelPressureValueTime\n",
      "MonthlyMaximumTemperature\n",
      "MonthlyMeanTemperature\n",
      "MonthlyMinSeaLevelPressureValue\n",
      "MonthlyMinSeaLevelPressureValueDate\n",
      "MonthlyMinSeaLevelPressureValueTime\n",
      "MonthlyMinimumTemperature\n",
      "MonthlySeaLevelPressure\n",
      "MonthlyStationPressure\n",
      "MonthlyTotalLiquidPrecipitation\n",
      "MonthlyTotalSnowfall\n",
      "MonthlyWetBulb\n",
      "NormalsCoolingDegreeDay\n",
      "NormalsHeatingDegreeDay\n",
      "REM\n",
      "REPORT_TYPE.1\n",
      "SOURCE.1\n",
      "ShortDurationEndDate005\n",
      "ShortDurationEndDate010\n",
      "ShortDurationEndDate015\n",
      "ShortDurationEndDate020\n",
      "ShortDurationEndDate030\n",
      "ShortDurationEndDate045\n",
      "ShortDurationEndDate060\n",
      "ShortDurationEndDate080\n",
      "ShortDurationEndDate100\n",
      "ShortDurationEndDate120\n",
      "ShortDurationEndDate150\n",
      "ShortDurationEndDate180\n",
      "ShortDurationPrecipitationValue005\n",
      "ShortDurationPrecipitationValue010\n",
      "ShortDurationPrecipitationValue015\n",
      "ShortDurationPrecipitationValue020\n",
      "ShortDurationPrecipitationValue030\n",
      "ShortDurationPrecipitationValue045\n",
      "ShortDurationPrecipitationValue060\n",
      "ShortDurationPrecipitationValue080\n",
      "ShortDurationPrecipitationValue100\n",
      "ShortDurationPrecipitationValue120\n",
      "ShortDurationPrecipitationValue150\n",
      "ShortDurationPrecipitationValue180\n",
      "Sunrise\n",
      "Sunset\n",
      "TStorms\n",
      "WindEquipmentChangeDate\n"
     ]
    }
   ],
   "source": [
    "for col in results_df.columns: \n",
    "    print(col)"
   ]
  },
  {
   "cell_type": "code",
   "execution_count": 5,
   "metadata": {},
   "outputs": [],
   "source": [
    "weather_df=results_df.copy()"
   ]
  },
  {
   "cell_type": "code",
   "execution_count": 6,
   "metadata": {
    "scrolled": true
   },
   "outputs": [
    {
     "name": "stdout",
     "output_type": "stream",
     "text": [
      "<class 'pandas.core.frame.DataFrame'>\n",
      "RangeIndex: 36033 entries, 0 to 36032\n",
      "Data columns (total 11 columns):\n",
      " #   Column                                      Non-Null Count  Dtype  \n",
      "---  ------                                      --------------  -----  \n",
      " 0   DATE                                        36033 non-null  object \n",
      " 1   HourlyPrecipitation                         30097 non-null  object \n",
      " 2   HourlyWetBulbTemperature                    34520 non-null  object \n",
      " 3   HourlyDryBulbTemperature                    34804 non-null  object \n",
      " 4   HourlyWindSpeed                             28188 non-null  float64\n",
      " 5   DailyAverageDryBulbTemperature              1095 non-null   object \n",
      " 6   DailyAverageRelativeHumidity                1030 non-null   float64\n",
      " 7   DailyAverageWetBulbTemperature              1029 non-null   float64\n",
      " 8   DailyAverageWindSpeed                       942 non-null    float64\n",
      " 9   DailyDepartureFromNormalAverageTemperature  1095 non-null   object \n",
      " 10  DailyPrecipitation                          1095 non-null   object \n",
      "dtypes: float64(4), object(7)\n",
      "memory usage: 3.0+ MB\n"
     ]
    }
   ],
   "source": [
    "#Opting for wetbuld temperature\n",
    "\n",
    "weather_df = results_df[['DATE','HourlyPrecipitation',\\\n",
    "                          'HourlyWetBulbTemperature',\\\n",
    "                         'HourlyDryBulbTemperature',\\\n",
    "                          'HourlyWindSpeed',\\\n",
    "                         'DailyAverageDryBulbTemperature','DailyAverageRelativeHumidity',\\\n",
    "                         'DailyAverageWetBulbTemperature','DailyAverageWindSpeed',\\\n",
    "                         'DailyDepartureFromNormalAverageTemperature','DailyPrecipitation'\\\n",
    "                        ]]\n",
    "\n",
    "\n",
    "weather_df.info()"
   ]
  },
  {
   "cell_type": "code",
   "execution_count": 7,
   "metadata": {},
   "outputs": [
    {
     "data": {
      "text/html": [
       "<div>\n",
       "<style scoped>\n",
       "    .dataframe tbody tr th:only-of-type {\n",
       "        vertical-align: middle;\n",
       "    }\n",
       "\n",
       "    .dataframe tbody tr th {\n",
       "        vertical-align: top;\n",
       "    }\n",
       "\n",
       "    .dataframe thead th {\n",
       "        text-align: right;\n",
       "    }\n",
       "</style>\n",
       "<table border=\"1\" class=\"dataframe\">\n",
       "  <thead>\n",
       "    <tr style=\"text-align: right;\">\n",
       "      <th></th>\n",
       "      <th>DATE</th>\n",
       "      <th>HourlyPrecipitation</th>\n",
       "      <th>HourlyWetBulbTemperature</th>\n",
       "      <th>HourlyDryBulbTemperature</th>\n",
       "      <th>HourlyWindSpeed</th>\n",
       "      <th>DailyAverageDryBulbTemperature</th>\n",
       "      <th>DailyAverageRelativeHumidity</th>\n",
       "      <th>DailyAverageWetBulbTemperature</th>\n",
       "      <th>DailyAverageWindSpeed</th>\n",
       "      <th>DailyDepartureFromNormalAverageTemperature</th>\n",
       "      <th>DailyPrecipitation</th>\n",
       "    </tr>\n",
       "  </thead>\n",
       "  <tbody>\n",
       "    <tr>\n",
       "      <th>0</th>\n",
       "      <td>2017-01-01</td>\n",
       "      <td>0.00</td>\n",
       "      <td>37</td>\n",
       "      <td>44</td>\n",
       "      <td>3.0</td>\n",
       "      <td>NaN</td>\n",
       "      <td>NaN</td>\n",
       "      <td>NaN</td>\n",
       "      <td>NaN</td>\n",
       "      <td>NaN</td>\n",
       "      <td>NaN</td>\n",
       "    </tr>\n",
       "    <tr>\n",
       "      <th>1</th>\n",
       "      <td>2017-01-01</td>\n",
       "      <td>T</td>\n",
       "      <td>37</td>\n",
       "      <td>44</td>\n",
       "      <td>5.0</td>\n",
       "      <td>NaN</td>\n",
       "      <td>NaN</td>\n",
       "      <td>NaN</td>\n",
       "      <td>NaN</td>\n",
       "      <td>NaN</td>\n",
       "      <td>NaN</td>\n",
       "    </tr>\n",
       "    <tr>\n",
       "      <th>2</th>\n",
       "      <td>2017-01-01</td>\n",
       "      <td>0.00</td>\n",
       "      <td>37</td>\n",
       "      <td>45</td>\n",
       "      <td>NaN</td>\n",
       "      <td>NaN</td>\n",
       "      <td>NaN</td>\n",
       "      <td>NaN</td>\n",
       "      <td>NaN</td>\n",
       "      <td>NaN</td>\n",
       "      <td>NaN</td>\n",
       "    </tr>\n",
       "    <tr>\n",
       "      <th>3</th>\n",
       "      <td>2017-01-01</td>\n",
       "      <td>0.00</td>\n",
       "      <td>37</td>\n",
       "      <td>44</td>\n",
       "      <td>10.0</td>\n",
       "      <td>NaN</td>\n",
       "      <td>NaN</td>\n",
       "      <td>NaN</td>\n",
       "      <td>NaN</td>\n",
       "      <td>NaN</td>\n",
       "      <td>NaN</td>\n",
       "    </tr>\n",
       "    <tr>\n",
       "      <th>4</th>\n",
       "      <td>2017-01-01</td>\n",
       "      <td>0.00</td>\n",
       "      <td>37</td>\n",
       "      <td>45</td>\n",
       "      <td>7.0</td>\n",
       "      <td>NaN</td>\n",
       "      <td>NaN</td>\n",
       "      <td>NaN</td>\n",
       "      <td>NaN</td>\n",
       "      <td>NaN</td>\n",
       "      <td>NaN</td>\n",
       "    </tr>\n",
       "  </tbody>\n",
       "</table>\n",
       "</div>"
      ],
      "text/plain": [
       "        DATE HourlyPrecipitation HourlyWetBulbTemperature  \\\n",
       "0 2017-01-01                0.00                       37   \n",
       "1 2017-01-01                   T                       37   \n",
       "2 2017-01-01                0.00                       37   \n",
       "3 2017-01-01                0.00                       37   \n",
       "4 2017-01-01                0.00                       37   \n",
       "\n",
       "  HourlyDryBulbTemperature  HourlyWindSpeed DailyAverageDryBulbTemperature  \\\n",
       "0                       44              3.0                            NaN   \n",
       "1                       44              5.0                            NaN   \n",
       "2                       45              NaN                            NaN   \n",
       "3                       44             10.0                            NaN   \n",
       "4                       45              7.0                            NaN   \n",
       "\n",
       "   DailyAverageRelativeHumidity  DailyAverageWetBulbTemperature  \\\n",
       "0                           NaN                             NaN   \n",
       "1                           NaN                             NaN   \n",
       "2                           NaN                             NaN   \n",
       "3                           NaN                             NaN   \n",
       "4                           NaN                             NaN   \n",
       "\n",
       "   DailyAverageWindSpeed DailyDepartureFromNormalAverageTemperature  \\\n",
       "0                    NaN                                        NaN   \n",
       "1                    NaN                                        NaN   \n",
       "2                    NaN                                        NaN   \n",
       "3                    NaN                                        NaN   \n",
       "4                    NaN                                        NaN   \n",
       "\n",
       "  DailyPrecipitation  \n",
       "0                NaN  \n",
       "1                NaN  \n",
       "2                NaN  \n",
       "3                NaN  \n",
       "4                NaN  "
      ]
     },
     "execution_count": 7,
     "metadata": {},
     "output_type": "execute_result"
    }
   ],
   "source": [
    "weather_df['DATE']=pd.to_datetime\\\n",
    "(weather_df['DATE'], yearfirst=True, errors='coerce').dt.round('D')\n",
    "weather_df.head()"
   ]
  },
  {
   "cell_type": "code",
   "execution_count": 8,
   "metadata": {},
   "outputs": [],
   "source": [
    "# weather_df['DATE'] = weather_df['DATE'].\\\n",
    "# apply(lambda x: x.strftime('%Y-%m-%d')if not pd.isnull(x) else '')"
   ]
  },
  {
   "cell_type": "code",
   "execution_count": 9,
   "metadata": {},
   "outputs": [],
   "source": [
    "# # DATE\n",
    "# weather_df['DATE']=pd.to_datetime(weather_df['DATE'], yearfirst=True, errors='coerce')\n",
    "# weather_df.head()"
   ]
  },
  {
   "cell_type": "code",
   "execution_count": 10,
   "metadata": {},
   "outputs": [
    {
     "data": {
      "text/plain": [
       "count                   36033\n",
       "unique                   1096\n",
       "top       2018-02-11 00:00:00\n",
       "freq                       97\n",
       "first     2017-01-01 00:00:00\n",
       "last      2020-01-01 00:00:00\n",
       "Name: DATE, dtype: object"
      ]
     },
     "execution_count": 10,
     "metadata": {},
     "output_type": "execute_result"
    }
   ],
   "source": [
    "weather_df.DATE.describe()"
   ]
  },
  {
   "cell_type": "code",
   "execution_count": 11,
   "metadata": {},
   "outputs": [],
   "source": [
    "weather_df.rename(columns={'DATE':'time_issued'}, inplace=True)"
   ]
  },
  {
   "cell_type": "code",
   "execution_count": 12,
   "metadata": {},
   "outputs": [],
   "source": [
    "# Precipitation\n",
    "\n",
    "weather_df['HourlyPrecipitation']=weather_df['HourlyPrecipitation'].replace('s','', regex=True)\n",
    "weather_df['HourlyPrecipitation']=weather_df['HourlyPrecipitation'].replace('T',0, regex=True)\n",
    "weather_df['HourlyPrecipitation'] = weather_df['HourlyPrecipitation'].astype(float)\n",
    "#\n",
    "weather_df['DailyPrecipitation']=weather_df['DailyPrecipitation'].replace('s','', regex=True)\n",
    "weather_df['DailyPrecipitation']=weather_df['DailyPrecipitation'].replace('T',0, regex=True)\n",
    "weather_df['DailyPrecipitation'] = weather_df['DailyPrecipitation'].astype(float)\n",
    "# \n",
    "# weather_df['DailyAverageRelativeHumidity'] = weather_df['DailyAverageRelativeHumidity'].astype(float)"
   ]
  },
  {
   "cell_type": "code",
   "execution_count": 13,
   "metadata": {},
   "outputs": [
    {
     "name": "stderr",
     "output_type": "stream",
     "text": [
      "/usr/local/Cellar/jupyterlab/2.1.2/libexec/lib/python3.8/site-packages/pandas/core/ops/array_ops.py:253: FutureWarning: elementwise comparison failed; returning scalar instead, but in the future will perform elementwise comparison\n",
      "  res_values = method(rvalues)\n"
     ]
    }
   ],
   "source": [
    "# Temperature\n",
    "\n",
    "weather_df.loc[weather_df['HourlyWetBulbTemperature']=='*', 'HourlyWetBulbTemperature']= np.nan\n",
    "weather_df['HourlyWetBulbTemperature'] = weather_df['HourlyWetBulbTemperature'].astype(float)\n",
    "\n",
    "# HourlyDryBulbTemperature\n",
    "weather_df.loc[weather_df['HourlyDryBulbTemperature']=='*', 'HourlyDryBulbTemperature']= np.nan\n",
    "weather_df['HourlyDryBulbTemperature']=weather_df['HourlyDryBulbTemperature'].replace('s','', regex=True)\n",
    "weather_df['HourlyDryBulbTemperature'] = weather_df['HourlyDryBulbTemperature'].astype(float)\n",
    "\n",
    "\n",
    "weather_df.loc[weather_df['DailyAverageDryBulbTemperature']=='*', 'DailyAverageDryBulbTemperature']= np.nan\n",
    "weather_df['DailyAverageDryBulbTemperature']=weather_df['DailyAverageDryBulbTemperature'].replace('s','', regex=True)\n",
    "weather_df['DailyAverageDryBulbTemperature'] = weather_df['DailyAverageDryBulbTemperature'].astype(float)\n",
    "\n",
    "\n",
    "weather_df.loc[weather_df['DailyAverageWetBulbTemperature']=='*', 'DailyAverageWetBulbTemperature']= np.nan\n",
    "weather_df['DailyAverageWetBulbTemperature'] = weather_df['DailyAverageWetBulbTemperature'].astype(float)\n",
    "\n",
    "\n",
    "weather_df.loc[weather_df['DailyDepartureFromNormalAverageTemperature']=='*', 'DailyDepartureFromNormalAverageTemperature']= np.nan\n",
    "weather_df['DailyDepartureFromNormalAverageTemperature']=weather_df['DailyDepartureFromNormalAverageTemperature'].replace('s','', regex=True)\n",
    "weather_df['DailyDepartureFromNormalAverageTemperature'] = weather_df['DailyDepartureFromNormalAverageTemperature'].astype(float)\n"
   ]
  },
  {
   "cell_type": "code",
   "execution_count": 14,
   "metadata": {},
   "outputs": [],
   "source": [
    "# Wind Speed\n",
    "weather_df['HourlyWindSpeed'] = weather_df['HourlyWindSpeed'].astype(float)\n",
    "\n",
    "weather_df['DailyAverageWindSpeed'] = weather_df['DailyAverageWindSpeed'].astype(float)\n"
   ]
  },
  {
   "cell_type": "code",
   "execution_count": 15,
   "metadata": {
    "scrolled": true
   },
   "outputs": [
    {
     "name": "stdout",
     "output_type": "stream",
     "text": [
      "<class 'pandas.core.frame.DataFrame'>\n",
      "RangeIndex: 36033 entries, 0 to 36032\n",
      "Data columns (total 11 columns):\n",
      " #   Column                                      Non-Null Count  Dtype         \n",
      "---  ------                                      --------------  -----         \n",
      " 0   time_issued                                 36033 non-null  datetime64[ns]\n",
      " 1   HourlyPrecipitation                         30097 non-null  float64       \n",
      " 2   HourlyWetBulbTemperature                    34514 non-null  float64       \n",
      " 3   HourlyDryBulbTemperature                    34798 non-null  float64       \n",
      " 4   HourlyWindSpeed                             28188 non-null  float64       \n",
      " 5   DailyAverageDryBulbTemperature              1095 non-null   float64       \n",
      " 6   DailyAverageRelativeHumidity                1030 non-null   float64       \n",
      " 7   DailyAverageWetBulbTemperature              1029 non-null   float64       \n",
      " 8   DailyAverageWindSpeed                       942 non-null    float64       \n",
      " 9   DailyDepartureFromNormalAverageTemperature  1095 non-null   float64       \n",
      " 10  DailyPrecipitation                          1095 non-null   float64       \n",
      "dtypes: datetime64[ns](1), float64(10)\n",
      "memory usage: 3.0 MB\n"
     ]
    }
   ],
   "source": [
    "weather_df.info()"
   ]
  },
  {
   "cell_type": "markdown",
   "metadata": {},
   "source": [
    "## Clean Data"
   ]
  },
  {
   "cell_type": "markdown",
   "metadata": {},
   "source": [
    "## EDA"
   ]
  },
  {
   "cell_type": "code",
   "execution_count": 16,
   "metadata": {
    "scrolled": true
   },
   "outputs": [
    {
     "data": {
      "text/html": [
       "<div>\n",
       "<style scoped>\n",
       "    .dataframe tbody tr th:only-of-type {\n",
       "        vertical-align: middle;\n",
       "    }\n",
       "\n",
       "    .dataframe tbody tr th {\n",
       "        vertical-align: top;\n",
       "    }\n",
       "\n",
       "    .dataframe thead th {\n",
       "        text-align: right;\n",
       "    }\n",
       "</style>\n",
       "<table border=\"1\" class=\"dataframe\">\n",
       "  <thead>\n",
       "    <tr style=\"text-align: right;\">\n",
       "      <th></th>\n",
       "      <th>HourlyPrecipitation</th>\n",
       "      <th>HourlyWetBulbTemperature</th>\n",
       "      <th>HourlyDryBulbTemperature</th>\n",
       "      <th>HourlyWindSpeed</th>\n",
       "      <th>DailyAverageDryBulbTemperature</th>\n",
       "      <th>DailyAverageRelativeHumidity</th>\n",
       "      <th>DailyAverageWetBulbTemperature</th>\n",
       "      <th>DailyAverageWindSpeed</th>\n",
       "      <th>DailyDepartureFromNormalAverageTemperature</th>\n",
       "      <th>DailyPrecipitation</th>\n",
       "    </tr>\n",
       "  </thead>\n",
       "  <tbody>\n",
       "    <tr>\n",
       "      <th>count</th>\n",
       "      <td>30097.000000</td>\n",
       "      <td>34514.000000</td>\n",
       "      <td>34798.000000</td>\n",
       "      <td>28188.000000</td>\n",
       "      <td>1095.000000</td>\n",
       "      <td>1030.000000</td>\n",
       "      <td>1029.000000</td>\n",
       "      <td>942.000000</td>\n",
       "      <td>1095.000000</td>\n",
       "      <td>1095.000000</td>\n",
       "    </tr>\n",
       "    <tr>\n",
       "      <th>mean</th>\n",
       "      <td>0.012213</td>\n",
       "      <td>50.432984</td>\n",
       "      <td>55.580206</td>\n",
       "      <td>4.928054</td>\n",
       "      <td>56.282192</td>\n",
       "      <td>63.515534</td>\n",
       "      <td>50.276968</td>\n",
       "      <td>4.849045</td>\n",
       "      <td>1.256712</td>\n",
       "      <td>0.149425</td>\n",
       "    </tr>\n",
       "    <tr>\n",
       "      <th>std</th>\n",
       "      <td>0.053741</td>\n",
       "      <td>15.997332</td>\n",
       "      <td>17.009880</td>\n",
       "      <td>13.804323</td>\n",
       "      <td>17.311582</td>\n",
       "      <td>15.845502</td>\n",
       "      <td>16.179563</td>\n",
       "      <td>2.395615</td>\n",
       "      <td>7.664360</td>\n",
       "      <td>0.359759</td>\n",
       "    </tr>\n",
       "    <tr>\n",
       "      <th>min</th>\n",
       "      <td>0.000000</td>\n",
       "      <td>0.000000</td>\n",
       "      <td>2.000000</td>\n",
       "      <td>0.000000</td>\n",
       "      <td>9.000000</td>\n",
       "      <td>21.000000</td>\n",
       "      <td>6.000000</td>\n",
       "      <td>0.000000</td>\n",
       "      <td>-24.100000</td>\n",
       "      <td>0.000000</td>\n",
       "    </tr>\n",
       "    <tr>\n",
       "      <th>25%</th>\n",
       "      <td>0.000000</td>\n",
       "      <td>37.000000</td>\n",
       "      <td>42.000000</td>\n",
       "      <td>3.000000</td>\n",
       "      <td>42.000000</td>\n",
       "      <td>52.000000</td>\n",
       "      <td>37.000000</td>\n",
       "      <td>3.100000</td>\n",
       "      <td>-3.700000</td>\n",
       "      <td>0.000000</td>\n",
       "    </tr>\n",
       "    <tr>\n",
       "      <th>50%</th>\n",
       "      <td>0.000000</td>\n",
       "      <td>52.000000</td>\n",
       "      <td>56.000000</td>\n",
       "      <td>5.000000</td>\n",
       "      <td>57.000000</td>\n",
       "      <td>62.000000</td>\n",
       "      <td>52.000000</td>\n",
       "      <td>4.400000</td>\n",
       "      <td>1.000000</td>\n",
       "      <td>0.000000</td>\n",
       "    </tr>\n",
       "    <tr>\n",
       "      <th>75%</th>\n",
       "      <td>0.000000</td>\n",
       "      <td>65.000000</td>\n",
       "      <td>70.000000</td>\n",
       "      <td>7.000000</td>\n",
       "      <td>72.000000</td>\n",
       "      <td>76.000000</td>\n",
       "      <td>65.000000</td>\n",
       "      <td>6.175000</td>\n",
       "      <td>5.800000</td>\n",
       "      <td>0.080000</td>\n",
       "    </tr>\n",
       "    <tr>\n",
       "      <th>max</th>\n",
       "      <td>1.690000</td>\n",
       "      <td>81.000000</td>\n",
       "      <td>95.000000</td>\n",
       "      <td>2237.000000</td>\n",
       "      <td>89.000000</td>\n",
       "      <td>98.000000</td>\n",
       "      <td>77.000000</td>\n",
       "      <td>18.300000</td>\n",
       "      <td>30.700000</td>\n",
       "      <td>3.030000</td>\n",
       "    </tr>\n",
       "  </tbody>\n",
       "</table>\n",
       "</div>"
      ],
      "text/plain": [
       "       HourlyPrecipitation  HourlyWetBulbTemperature  \\\n",
       "count         30097.000000              34514.000000   \n",
       "mean              0.012213                 50.432984   \n",
       "std               0.053741                 15.997332   \n",
       "min               0.000000                  0.000000   \n",
       "25%               0.000000                 37.000000   \n",
       "50%               0.000000                 52.000000   \n",
       "75%               0.000000                 65.000000   \n",
       "max               1.690000                 81.000000   \n",
       "\n",
       "       HourlyDryBulbTemperature  HourlyWindSpeed  \\\n",
       "count              34798.000000     28188.000000   \n",
       "mean                  55.580206         4.928054   \n",
       "std                   17.009880        13.804323   \n",
       "min                    2.000000         0.000000   \n",
       "25%                   42.000000         3.000000   \n",
       "50%                   56.000000         5.000000   \n",
       "75%                   70.000000         7.000000   \n",
       "max                   95.000000      2237.000000   \n",
       "\n",
       "       DailyAverageDryBulbTemperature  DailyAverageRelativeHumidity  \\\n",
       "count                     1095.000000                   1030.000000   \n",
       "mean                        56.282192                     63.515534   \n",
       "std                         17.311582                     15.845502   \n",
       "min                          9.000000                     21.000000   \n",
       "25%                         42.000000                     52.000000   \n",
       "50%                         57.000000                     62.000000   \n",
       "75%                         72.000000                     76.000000   \n",
       "max                         89.000000                     98.000000   \n",
       "\n",
       "       DailyAverageWetBulbTemperature  DailyAverageWindSpeed  \\\n",
       "count                     1029.000000             942.000000   \n",
       "mean                        50.276968               4.849045   \n",
       "std                         16.179563               2.395615   \n",
       "min                          6.000000               0.000000   \n",
       "25%                         37.000000               3.100000   \n",
       "50%                         52.000000               4.400000   \n",
       "75%                         65.000000               6.175000   \n",
       "max                         77.000000              18.300000   \n",
       "\n",
       "       DailyDepartureFromNormalAverageTemperature  DailyPrecipitation  \n",
       "count                                 1095.000000         1095.000000  \n",
       "mean                                     1.256712            0.149425  \n",
       "std                                      7.664360            0.359759  \n",
       "min                                    -24.100000            0.000000  \n",
       "25%                                     -3.700000            0.000000  \n",
       "50%                                      1.000000            0.000000  \n",
       "75%                                      5.800000            0.080000  \n",
       "max                                     30.700000            3.030000  "
      ]
     },
     "execution_count": 16,
     "metadata": {},
     "output_type": "execute_result"
    }
   ],
   "source": [
    "weather_df.describe()"
   ]
  },
  {
   "cell_type": "code",
   "execution_count": 17,
   "metadata": {},
   "outputs": [
    {
     "data": {
      "text/plain": [
       "time_issued                                       0\n",
       "HourlyPrecipitation                            5936\n",
       "HourlyWetBulbTemperature                       1519\n",
       "HourlyDryBulbTemperature                       1235\n",
       "HourlyWindSpeed                                7845\n",
       "DailyAverageDryBulbTemperature                34938\n",
       "DailyAverageRelativeHumidity                  35003\n",
       "DailyAverageWetBulbTemperature                35004\n",
       "DailyAverageWindSpeed                         35091\n",
       "DailyDepartureFromNormalAverageTemperature    34938\n",
       "DailyPrecipitation                            34938\n",
       "dtype: int64"
      ]
     },
     "execution_count": 17,
     "metadata": {},
     "output_type": "execute_result"
    }
   ],
   "source": [
    "weather_df.isna().sum()"
   ]
  },
  {
   "cell_type": "code",
   "execution_count": 18,
   "metadata": {},
   "outputs": [
    {
     "data": {
      "text/plain": [
       "<matplotlib.axes._subplots.AxesSubplot at 0x115a2a820>"
      ]
     },
     "execution_count": 18,
     "metadata": {},
     "output_type": "execute_result"
    },
    {
     "data": {
      "image/png": "[encoded data removed]",
      "text/plain": [
       "<Figure size 1440x360 with 1 Axes>"
      ]
     },
     "metadata": {
      "needs_background": "light"
     },
     "output_type": "display_data"
    }
   ],
   "source": [
    "weather_df.HourlyPrecipitation.plot(title='Hourly Precipitation',figsize=(20,5))"
   ]
  },
  {
   "cell_type": "code",
   "execution_count": 19,
   "metadata": {},
   "outputs": [
    {
     "data": {
      "text/plain": [
       "Text(0.5, 1.0, 'Hourly Temperature')"
      ]
     },
     "execution_count": 19,
     "metadata": {},
     "output_type": "execute_result"
    },
    {
     "data": {
      "image/png": "[encoded data removed]",
      "text/plain": [
       "<Figure size 1440x360 with 1 Axes>"
      ]
     },
     "metadata": {
      "needs_background": "light"
     },
     "output_type": "display_data"
    }
   ],
   "source": [
    "weather_df.HourlyWetBulbTemperature.plot(title='wet',figsize=(20,5))\n",
    "weather_df.HourlyWetBulbTemperature.plot(title='dry',figsize=(20,5))\n",
    "plt.title('Hourly Temperature')"
   ]
  },
  {
   "cell_type": "markdown",
   "metadata": {},
   "source": [
    "### QQ Plot"
   ]
  },
  {
   "cell_type": "code",
   "execution_count": 20,
   "metadata": {},
   "outputs": [
    {
     "data": {
      "image/png": "[encoded data removed]",
      "text/plain": [
       "<Figure size 432x288 with 1 Axes>"
      ]
     },
     "metadata": {
      "needs_background": "light"
     },
     "output_type": "display_data"
    }
   ],
   "source": [
    "scipy.stats.probplot(weather_df.HourlyWetBulbTemperature, plot=pylab)\n",
    "pylab.show()"
   ]
  },
  {
   "cell_type": "code",
   "execution_count": 21,
   "metadata": {},
   "outputs": [
    {
     "data": {
      "image/png": "[encoded data removed]",
      "text/plain": [
       "<Figure size 432x288 with 1 Axes>"
      ]
     },
     "metadata": {
      "needs_background": "light"
     },
     "output_type": "display_data"
    }
   ],
   "source": [
    "scipy.stats.probplot(weather_df.HourlyPrecipitation, plot=pylab)\n",
    "pylab.show()"
   ]
  },
  {
   "cell_type": "code",
   "execution_count": 22,
   "metadata": {},
   "outputs": [
    {
     "data": {
      "text/html": [
       "<div>\n",
       "<style scoped>\n",
       "    .dataframe tbody tr th:only-of-type {\n",
       "        vertical-align: middle;\n",
       "    }\n",
       "\n",
       "    .dataframe tbody tr th {\n",
       "        vertical-align: top;\n",
       "    }\n",
       "\n",
       "    .dataframe thead th {\n",
       "        text-align: right;\n",
       "    }\n",
       "</style>\n",
       "<table border=\"1\" class=\"dataframe\">\n",
       "  <thead>\n",
       "    <tr style=\"text-align: right;\">\n",
       "      <th></th>\n",
       "      <th>time_issued</th>\n",
       "      <th>HourlyPrecipitation</th>\n",
       "      <th>HourlyWetBulbTemperature</th>\n",
       "      <th>HourlyDryBulbTemperature</th>\n",
       "      <th>HourlyWindSpeed</th>\n",
       "      <th>DailyAverageDryBulbTemperature</th>\n",
       "      <th>DailyAverageRelativeHumidity</th>\n",
       "      <th>DailyAverageWetBulbTemperature</th>\n",
       "      <th>DailyAverageWindSpeed</th>\n",
       "      <th>DailyDepartureFromNormalAverageTemperature</th>\n",
       "      <th>DailyPrecipitation</th>\n",
       "    </tr>\n",
       "  </thead>\n",
       "  <tbody>\n",
       "    <tr>\n",
       "      <th>0</th>\n",
       "      <td>2017-01-01</td>\n",
       "      <td>0.0</td>\n",
       "      <td>37.0</td>\n",
       "      <td>44.0</td>\n",
       "      <td>3.0</td>\n",
       "      <td>NaN</td>\n",
       "      <td>NaN</td>\n",
       "      <td>NaN</td>\n",
       "      <td>NaN</td>\n",
       "      <td>NaN</td>\n",
       "      <td>NaN</td>\n",
       "    </tr>\n",
       "    <tr>\n",
       "      <th>1</th>\n",
       "      <td>2017-01-01</td>\n",
       "      <td>0.0</td>\n",
       "      <td>37.0</td>\n",
       "      <td>44.0</td>\n",
       "      <td>5.0</td>\n",
       "      <td>NaN</td>\n",
       "      <td>NaN</td>\n",
       "      <td>NaN</td>\n",
       "      <td>NaN</td>\n",
       "      <td>NaN</td>\n",
       "      <td>NaN</td>\n",
       "    </tr>\n",
       "    <tr>\n",
       "      <th>2</th>\n",
       "      <td>2017-01-01</td>\n",
       "      <td>0.0</td>\n",
       "      <td>37.0</td>\n",
       "      <td>45.0</td>\n",
       "      <td>NaN</td>\n",
       "      <td>NaN</td>\n",
       "      <td>NaN</td>\n",
       "      <td>NaN</td>\n",
       "      <td>NaN</td>\n",
       "      <td>NaN</td>\n",
       "      <td>NaN</td>\n",
       "    </tr>\n",
       "    <tr>\n",
       "      <th>3</th>\n",
       "      <td>2017-01-01</td>\n",
       "      <td>0.0</td>\n",
       "      <td>37.0</td>\n",
       "      <td>44.0</td>\n",
       "      <td>10.0</td>\n",
       "      <td>NaN</td>\n",
       "      <td>NaN</td>\n",
       "      <td>NaN</td>\n",
       "      <td>NaN</td>\n",
       "      <td>NaN</td>\n",
       "      <td>NaN</td>\n",
       "    </tr>\n",
       "    <tr>\n",
       "      <th>4</th>\n",
       "      <td>2017-01-01</td>\n",
       "      <td>0.0</td>\n",
       "      <td>37.0</td>\n",
       "      <td>45.0</td>\n",
       "      <td>7.0</td>\n",
       "      <td>NaN</td>\n",
       "      <td>NaN</td>\n",
       "      <td>NaN</td>\n",
       "      <td>NaN</td>\n",
       "      <td>NaN</td>\n",
       "      <td>NaN</td>\n",
       "    </tr>\n",
       "  </tbody>\n",
       "</table>\n",
       "</div>"
      ],
      "text/plain": [
       "  time_issued  HourlyPrecipitation  HourlyWetBulbTemperature  \\\n",
       "0  2017-01-01                  0.0                      37.0   \n",
       "1  2017-01-01                  0.0                      37.0   \n",
       "2  2017-01-01                  0.0                      37.0   \n",
       "3  2017-01-01                  0.0                      37.0   \n",
       "4  2017-01-01                  0.0                      37.0   \n",
       "\n",
       "   HourlyDryBulbTemperature  HourlyWindSpeed  DailyAverageDryBulbTemperature  \\\n",
       "0                      44.0              3.0                             NaN   \n",
       "1                      44.0              5.0                             NaN   \n",
       "2                      45.0              NaN                             NaN   \n",
       "3                      44.0             10.0                             NaN   \n",
       "4                      45.0              7.0                             NaN   \n",
       "\n",
       "   DailyAverageRelativeHumidity  DailyAverageWetBulbTemperature  \\\n",
       "0                           NaN                             NaN   \n",
       "1                           NaN                             NaN   \n",
       "2                           NaN                             NaN   \n",
       "3                           NaN                             NaN   \n",
       "4                           NaN                             NaN   \n",
       "\n",
       "   DailyAverageWindSpeed  DailyDepartureFromNormalAverageTemperature  \\\n",
       "0                    NaN                                         NaN   \n",
       "1                    NaN                                         NaN   \n",
       "2                    NaN                                         NaN   \n",
       "3                    NaN                                         NaN   \n",
       "4                    NaN                                         NaN   \n",
       "\n",
       "   DailyPrecipitation  \n",
       "0                 NaN  \n",
       "1                 NaN  \n",
       "2                 NaN  \n",
       "3                 NaN  \n",
       "4                 NaN  "
      ]
     },
     "execution_count": 22,
     "metadata": {},
     "output_type": "execute_result"
    }
   ],
   "source": [
    "weather_df.head()"
   ]
  },
  {
   "cell_type": "code",
   "execution_count": 23,
   "metadata": {
    "scrolled": true
   },
   "outputs": [
    {
     "name": "stdout",
     "output_type": "stream",
     "text": [
      "<class 'pandas.core.frame.DataFrame'>\n",
      "RangeIndex: 36033 entries, 0 to 36032\n",
      "Data columns (total 11 columns):\n",
      " #   Column                                      Non-Null Count  Dtype         \n",
      "---  ------                                      --------------  -----         \n",
      " 0   time_issued                                 36033 non-null  datetime64[ns]\n",
      " 1   HourlyPrecipitation                         30097 non-null  float64       \n",
      " 2   HourlyWetBulbTemperature                    34514 non-null  float64       \n",
      " 3   HourlyDryBulbTemperature                    34798 non-null  float64       \n",
      " 4   HourlyWindSpeed                             28188 non-null  float64       \n",
      " 5   DailyAverageDryBulbTemperature              1095 non-null   float64       \n",
      " 6   DailyAverageRelativeHumidity                1030 non-null   float64       \n",
      " 7   DailyAverageWetBulbTemperature              1029 non-null   float64       \n",
      " 8   DailyAverageWindSpeed                       942 non-null    float64       \n",
      " 9   DailyDepartureFromNormalAverageTemperature  1095 non-null   float64       \n",
      " 10  DailyPrecipitation                          1095 non-null   float64       \n",
      "dtypes: datetime64[ns](1), float64(10)\n",
      "memory usage: 3.0 MB\n"
     ]
    }
   ],
   "source": [
    "weather_df.info()"
   ]
  },
  {
   "cell_type": "markdown",
   "metadata": {},
   "source": [
    "### Time Prep"
   ]
  },
  {
   "cell_type": "code",
   "execution_count": 24,
   "metadata": {},
   "outputs": [
    {
     "data": {
      "text/html": [
       "<div>\n",
       "<style scoped>\n",
       "    .dataframe tbody tr th:only-of-type {\n",
       "        vertical-align: middle;\n",
       "    }\n",
       "\n",
       "    .dataframe tbody tr th {\n",
       "        vertical-align: top;\n",
       "    }\n",
       "\n",
       "    .dataframe thead th {\n",
       "        text-align: right;\n",
       "    }\n",
       "</style>\n",
       "<table border=\"1\" class=\"dataframe\">\n",
       "  <thead>\n",
       "    <tr style=\"text-align: right;\">\n",
       "      <th></th>\n",
       "      <th>HourlyPrecipitation</th>\n",
       "      <th>HourlyWetBulbTemperature</th>\n",
       "      <th>HourlyWindSpeed</th>\n",
       "    </tr>\n",
       "    <tr>\n",
       "      <th>time_issued</th>\n",
       "      <th></th>\n",
       "      <th></th>\n",
       "      <th></th>\n",
       "    </tr>\n",
       "  </thead>\n",
       "  <tbody>\n",
       "    <tr>\n",
       "      <th>2017-01-02</th>\n",
       "      <td>0.001667</td>\n",
       "      <td>34.625000</td>\n",
       "      <td>5.956522</td>\n",
       "    </tr>\n",
       "    <tr>\n",
       "      <th>2017-01-03</th>\n",
       "      <td>0.013333</td>\n",
       "      <td>38.923077</td>\n",
       "      <td>11.410256</td>\n",
       "    </tr>\n",
       "    <tr>\n",
       "      <th>2017-01-04</th>\n",
       "      <td>0.025135</td>\n",
       "      <td>41.947368</td>\n",
       "      <td>8.245283</td>\n",
       "    </tr>\n",
       "    <tr>\n",
       "      <th>2017-01-05</th>\n",
       "      <td>0.000000</td>\n",
       "      <td>30.080000</td>\n",
       "      <td>10.052632</td>\n",
       "    </tr>\n",
       "    <tr>\n",
       "      <th>2017-01-06</th>\n",
       "      <td>0.003714</td>\n",
       "      <td>26.000000</td>\n",
       "      <td>4.696970</td>\n",
       "    </tr>\n",
       "  </tbody>\n",
       "</table>\n",
       "</div>"
      ],
      "text/plain": [
       "             HourlyPrecipitation  HourlyWetBulbTemperature  HourlyWindSpeed\n",
       "time_issued                                                                \n",
       "2017-01-02              0.001667                 34.625000         5.956522\n",
       "2017-01-03              0.013333                 38.923077        11.410256\n",
       "2017-01-04              0.025135                 41.947368         8.245283\n",
       "2017-01-05              0.000000                 30.080000        10.052632\n",
       "2017-01-06              0.003714                 26.000000         4.696970"
      ]
     },
     "execution_count": 24,
     "metadata": {},
     "output_type": "execute_result"
    }
   ],
   "source": [
    "weather=weather_df.groupby([\"time_issued\"])\\\n",
    ".agg({'HourlyPrecipitation':'mean', \\\n",
    "      'HourlyWetBulbTemperature':'mean', 'HourlyWindSpeed':'mean'})\n",
    "\n",
    "weather= weather.asfreq('B')\n",
    "weather.head()"
   ]
  },
  {
   "cell_type": "code",
   "execution_count": 25,
   "metadata": {},
   "outputs": [],
   "source": [
    "# Rename columns\n",
    "\n",
    "weather.rename(columns={'HourlyPrecipitation':'Precipitation', \\\n",
    "                           'HourlyWetBulbTemperature':'Temperature', \\\n",
    "                           'HourlyWindSpeed':'Wind'}, inplace=True)"
   ]
  },
  {
   "cell_type": "code",
   "execution_count": 26,
   "metadata": {},
   "outputs": [],
   "source": [
    "weather.to_csv('Weather_Data_Clean.csv')"
   ]
  },
  {
   "cell_type": "markdown",
   "metadata": {},
   "source": [
    "### DO NOT DELETE - Optional Code"
   ]
  },
  {
   "cell_type": "code",
   "execution_count": 27,
   "metadata": {},
   "outputs": [],
   "source": [
    "# #Opting for wetbuld temperature\n",
    "\n",
    "# hour_weather_df = weather_df[['DATE','HourlyPrecipitation',\\\n",
    "#                           'HourlyVisibility','HourlyWetBulbTemperature',\\\n",
    "#                           'HourlyWindSpeed',\\\n",
    "#                         ]]\n",
    "\n",
    "# day_weather_df = weather_df[['DATE',\\\n",
    "#                          'DailyAverageDryBulbTemperature','DailyAverageRelativeHumidity',\\\n",
    "#                          'DailyAverageWetBulbTemperature','DailyAverageWindSpeed',\\\n",
    "#                          'DailyDepartureFromNormalAverageTemperature','DailyPrecipitation'\\\n",
    "#                         ]]\n",
    "# day_weather_df.head()"
   ]
  },
  {
   "cell_type": "code",
   "execution_count": 28,
   "metadata": {},
   "outputs": [],
   "source": [
    "# min(weather_df['DATE'])\n",
    "# max(weather_df['DATE'])"
   ]
  }
 ],
 "metadata": {
  "kernelspec": {
   "display_name": "Python 3",
   "language": "python",
   "name": "python3"
  },
  "language_info": {
   "codemirror_mode": {
    "name": "ipython",
    "version": 3
   },
   "file_extension": ".py",
   "mimetype": "text/x-python",
   "name": "python",
   "nbconvert_exporter": "python",
   "pygments_lexer": "ipython3",
   "version": "3.7.9"
  },
  "toc": {
   "base_numbering": 1,
   "nav_menu": {},
   "number_sections": true,
   "sideBar": true,
   "skip_h1_title": false,
   "title_cell": "Table of Contents",
   "title_sidebar": "Contents",
   "toc_cell": false,
   "toc_position": {
    "height": "calc(100% - 180px)",
    "left": "10px",
    "top": "150px",
    "width": "235.764px"
   },
   "toc_section_display": true,
   "toc_window_display": false
  }
 },
 "nbformat": 4,
 "nbformat_minor": 2
}
